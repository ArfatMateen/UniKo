{
 "cells": [
  {
   "cell_type": "code",
   "execution_count": 2,
   "id": "073f7fa4",
   "metadata": {},
   "outputs": [],
   "source": [
    "from pyspark.sql import SparkSession"
   ]
  },
  {
   "cell_type": "code",
   "execution_count": 1,
   "id": "f053f5e4",
   "metadata": {},
   "outputs": [],
   "source": [
    "from pyspark.sql.functions import hour, count, col, expr"
   ]
  },
  {
   "cell_type": "code",
   "execution_count": null,
   "id": "31e54669",
   "metadata": {},
   "outputs": [],
   "source": []
  },
  {
   "cell_type": "code",
   "execution_count": 3,
   "id": "b5d33778",
   "metadata": {},
   "outputs": [
    {
     "name": "stderr",
     "output_type": "stream",
     "text": [
      "WARNING: An illegal reflective access operation has occurred\n",
      "WARNING: Illegal reflective access by org.apache.spark.unsafe.Platform (file:/usr/local/spark-3.1.2-bin-hadoop3.2/jars/spark-unsafe_2.12-3.1.2.jar) to constructor java.nio.DirectByteBuffer(long,int)\n",
      "WARNING: Please consider reporting this to the maintainers of org.apache.spark.unsafe.Platform\n",
      "WARNING: Use --illegal-access=warn to enable warnings of further illegal reflective access operations\n",
      "WARNING: All illegal access operations will be denied in a future release\n",
      "21/07/31 18:27:14 WARN NativeCodeLoader: Unable to load native-hadoop library for your platform... using builtin-java classes where applicable\n",
      "Using Spark's default log4j profile: org/apache/spark/log4j-defaults.properties\n",
      "Setting default log level to \"WARN\".\n",
      "To adjust logging level use sc.setLogLevel(newLevel). For SparkR, use setLogLevel(newLevel).\n"
     ]
    }
   ],
   "source": [
    "spark = SparkSession.builder.appName('Spark_Queries').getOrCreate()"
   ]
  },
  {
   "cell_type": "code",
   "execution_count": 4,
   "id": "f1f432d2",
   "metadata": {},
   "outputs": [],
   "source": [
    "df = spark.read.options(inferSchema='True', header='True').csv(\"retail_data.csv\")"
   ]
  },
  {
   "cell_type": "code",
   "execution_count": 5,
   "id": "c5ffe31d",
   "metadata": {},
   "outputs": [
    {
     "name": "stdout",
     "output_type": "stream",
     "text": [
      "+---------+---------+--------------------+--------+-------------------+---------+----------+--------------+\n",
      "|InvoiceNo|StockCode|         Description|Quantity|        InvoiceDate|UnitPrice|CustomerID|       Country|\n",
      "+---------+---------+--------------------+--------+-------------------+---------+----------+--------------+\n",
      "|   536365|   85123A|WHITE HANGING HEA...|       6|2010-12-01 08:26:00|     2.55|   17850.0|United Kingdom|\n",
      "|   536365|    71053| WHITE METAL LANTERN|       6|2010-12-01 08:26:00|     3.39|   17850.0|United Kingdom|\n",
      "|   536365|   84406B|CREAM CUPID HEART...|       8|2010-12-01 08:26:00|     2.75|   17850.0|United Kingdom|\n",
      "|   536365|   84029G|KNITTED UNION FLA...|       6|2010-12-01 08:26:00|     3.39|   17850.0|United Kingdom|\n",
      "|   536365|   84029E|RED WOOLLY HOTTIE...|       6|2010-12-01 08:26:00|     3.39|   17850.0|United Kingdom|\n",
      "|   536365|    22752|SET 7 BABUSHKA NE...|       2|2010-12-01 08:26:00|     7.65|   17850.0|United Kingdom|\n",
      "|   536365|    21730|GLASS STAR FROSTE...|       6|2010-12-01 08:26:00|     4.25|   17850.0|United Kingdom|\n",
      "|   536366|    22633|HAND WARMER UNION...|       6|2010-12-01 08:28:00|     1.85|   17850.0|United Kingdom|\n",
      "|   536366|    22632|HAND WARMER RED P...|       6|2010-12-01 08:28:00|     1.85|   17850.0|United Kingdom|\n",
      "|   536367|    84879|ASSORTED COLOUR B...|      32|2010-12-01 08:34:00|     1.69|   13047.0|United Kingdom|\n",
      "|   536367|    22745|POPPY'S PLAYHOUSE...|       6|2010-12-01 08:34:00|      2.1|   13047.0|United Kingdom|\n",
      "|   536367|    22748|POPPY'S PLAYHOUSE...|       6|2010-12-01 08:34:00|      2.1|   13047.0|United Kingdom|\n",
      "|   536367|    22749|FELTCRAFT PRINCES...|       8|2010-12-01 08:34:00|     3.75|   13047.0|United Kingdom|\n",
      "|   536367|    22310|IVORY KNITTED MUG...|       6|2010-12-01 08:34:00|     1.65|   13047.0|United Kingdom|\n",
      "|   536367|    84969|BOX OF 6 ASSORTED...|       6|2010-12-01 08:34:00|     4.25|   13047.0|United Kingdom|\n",
      "|   536367|    22623|BOX OF VINTAGE JI...|       3|2010-12-01 08:34:00|     4.95|   13047.0|United Kingdom|\n",
      "|   536367|    22622|BOX OF VINTAGE AL...|       2|2010-12-01 08:34:00|     9.95|   13047.0|United Kingdom|\n",
      "|   536367|    21754|HOME BUILDING BLO...|       3|2010-12-01 08:34:00|     5.95|   13047.0|United Kingdom|\n",
      "|   536367|    21755|LOVE BUILDING BLO...|       3|2010-12-01 08:34:00|     5.95|   13047.0|United Kingdom|\n",
      "|   536367|    21777|RECIPE BOX WITH M...|       4|2010-12-01 08:34:00|     7.95|   13047.0|United Kingdom|\n",
      "+---------+---------+--------------------+--------+-------------------+---------+----------+--------------+\n",
      "only showing top 20 rows\n",
      "\n"
     ]
    }
   ],
   "source": [
    "df.show()"
   ]
  },
  {
   "cell_type": "code",
   "execution_count": 6,
   "id": "60da18a0",
   "metadata": {},
   "outputs": [],
   "source": [
    "df.createTempView(\"orders\")"
   ]
  },
  {
   "cell_type": "code",
   "execution_count": 7,
   "id": "7fb72680",
   "metadata": {},
   "outputs": [
    {
     "name": "stderr",
     "output_type": "stream",
     "text": [
      "                                                                                \r"
     ]
    },
    {
     "name": "stdout",
     "output_type": "stream",
     "text": [
      "+----+----------+\n",
      "|Hour|OrderCount|\n",
      "+----+----------+\n",
      "|  12|       421|\n",
      "|  13|       268|\n",
      "|  16|       160|\n",
      "|  15|       189|\n",
      "|   9|       151|\n",
      "|  17|       647|\n",
      "|   8|        46|\n",
      "|  10|       121|\n",
      "|  11|       370|\n",
      "|  14|       735|\n",
      "+----+----------+\n",
      "\n"
     ]
    }
   ],
   "source": [
    "spark.sql('SELECT HOUR(InvoiceDate) as Hour, COUNT(*) as OrderCount FROM orders GROUP BY HOUR(InvoiceDate)').show()"
   ]
  },
  {
   "cell_type": "code",
   "execution_count": 8,
   "id": "9d6be3c2",
   "metadata": {},
   "outputs": [
    {
     "name": "stdout",
     "output_type": "stream",
     "text": [
      "+--------------+---------+----------------------+\n",
      "|       Country|StockCode|ProductBoughtFrequency|\n",
      "+--------------+---------+----------------------+\n",
      "|United Kingdom|    21125|                     1|\n",
      "|United Kingdom|    21794|                     1|\n",
      "|United Kingdom|    21662|                     2|\n",
      "|          EIRE|   85136C|                     1|\n",
      "|United Kingdom|   84032A|                     3|\n",
      "|United Kingdom|   84086C|                     2|\n",
      "|United Kingdom|   90214H|                     2|\n",
      "|United Kingdom|    22753|                     1|\n",
      "|United Kingdom|    21557|                     2|\n",
      "|United Kingdom|    21743|                     4|\n",
      "|United Kingdom|    22488|                     1|\n",
      "|United Kingdom|    22956|                     3|\n",
      "|        Norway|    22531|                     1|\n",
      "|United Kingdom|    22728|                     3|\n",
      "|United Kingdom|    82551|                     2|\n",
      "|United Kingdom|    22581|                     2|\n",
      "|United Kingdom|    21671|                     1|\n",
      "|United Kingdom|   90177E|                     1|\n",
      "|United Kingdom|   84926A|                     1|\n",
      "|United Kingdom|    20726|                     2|\n",
      "+--------------+---------+----------------------+\n",
      "only showing top 20 rows\n",
      "\n"
     ]
    }
   ],
   "source": [
    "spark.sql('SELECT Country, StockCode, COUNT(StockCode) as ProductBoughtFrequency FROM orders GROUP BY Country, StockCode').show()"
   ]
  },
  {
   "cell_type": "code",
   "execution_count": 9,
   "id": "3aee2e49",
   "metadata": {},
   "outputs": [
    {
     "name": "stdout",
     "output_type": "stream",
     "text": [
      "+----+----------+\n",
      "|Hour|OrderCount|\n",
      "+----+----------+\n",
      "|  12|       421|\n",
      "|  13|       268|\n",
      "|  16|       160|\n",
      "|  15|       189|\n",
      "|   9|       151|\n",
      "|  17|       647|\n",
      "|   8|        46|\n",
      "|  10|       121|\n",
      "|  11|       370|\n",
      "|  14|       735|\n",
      "+----+----------+\n",
      "\n"
     ]
    }
   ],
   "source": [
    "df.groupBy(hour(\"InvoiceDate\").alias(\"Hour\")).agg(count(\"*\").alias(\"OrderCount\")).show(30)"
   ]
  },
  {
   "cell_type": "code",
   "execution_count": 10,
   "id": "49e636d2",
   "metadata": {},
   "outputs": [
    {
     "name": "stdout",
     "output_type": "stream",
     "text": [
      "+--------------+---------+----------------------+\n",
      "|       Country|StockCode|ProductBoughtFrequency|\n",
      "+--------------+---------+----------------------+\n",
      "|United Kingdom|    21125|                     1|\n",
      "|United Kingdom|    21794|                     1|\n",
      "|United Kingdom|    21662|                     2|\n",
      "|          EIRE|   85136C|                     1|\n",
      "|United Kingdom|   84032A|                     3|\n",
      "|United Kingdom|   84086C|                     2|\n",
      "|United Kingdom|   90214H|                     2|\n",
      "|United Kingdom|    22753|                     1|\n",
      "|United Kingdom|    21557|                     2|\n",
      "|United Kingdom|    21743|                     4|\n",
      "|United Kingdom|    22488|                     1|\n",
      "|United Kingdom|    22956|                     3|\n",
      "|        Norway|    22531|                     1|\n",
      "|United Kingdom|    22728|                     3|\n",
      "|United Kingdom|    82551|                     2|\n",
      "|United Kingdom|    22581|                     2|\n",
      "|United Kingdom|    21671|                     1|\n",
      "|United Kingdom|   90177E|                     1|\n",
      "|United Kingdom|   84926A|                     1|\n",
      "|United Kingdom|    20726|                     2|\n",
      "+--------------+---------+----------------------+\n",
      "only showing top 20 rows\n",
      "\n"
     ]
    }
   ],
   "source": [
    "df.groupBy(\"Country\", \"StockCode\").agg(count(\"*\").alias(\"ProductBoughtFrequency\")).show()"
   ]
  },
  {
   "cell_type": "code",
   "execution_count": 11,
   "id": "1ae82030",
   "metadata": {},
   "outputs": [
    {
     "name": "stdout",
     "output_type": "stream",
     "text": [
      "+---------+---------+--------------------+--------+-------------------+---------+----------+--------------+\n",
      "|InvoiceNo|StockCode|         Description|Quantity|        InvoiceDate|UnitPrice|CustomerID|       Country|\n",
      "+---------+---------+--------------------+--------+-------------------+---------+----------+--------------+\n",
      "|   536365|   85123A|WHITE HANGING HEA...|       6|2010-12-01 08:26:00|     2.55|   17850.0|United Kingdom|\n",
      "|   536365|    71053| WHITE METAL LANTERN|       6|2010-12-01 08:26:00|     3.39|   17850.0|United Kingdom|\n",
      "|   536365|   84406B|CREAM CUPID HEART...|       8|2010-12-01 08:26:00|     2.75|   17850.0|United Kingdom|\n",
      "|   536365|   84029G|KNITTED UNION FLA...|       6|2010-12-01 08:26:00|     3.39|   17850.0|United Kingdom|\n",
      "|   536365|   84029E|RED WOOLLY HOTTIE...|       6|2010-12-01 08:26:00|     3.39|   17850.0|United Kingdom|\n",
      "|   536365|    22752|SET 7 BABUSHKA NE...|       2|2010-12-01 08:26:00|     7.65|   17850.0|United Kingdom|\n",
      "|   536365|    21730|GLASS STAR FROSTE...|       6|2010-12-01 08:26:00|     4.25|   17850.0|United Kingdom|\n",
      "|   536366|    22633|HAND WARMER UNION...|       6|2010-12-01 08:28:00|     1.85|   17850.0|United Kingdom|\n",
      "|   536366|    22632|HAND WARMER RED P...|       6|2010-12-01 08:28:00|     1.85|   17850.0|United Kingdom|\n",
      "|   536367|    84879|ASSORTED COLOUR B...|      32|2010-12-01 08:34:00|     1.69|   13047.0|United Kingdom|\n",
      "|   536367|    22745|POPPY'S PLAYHOUSE...|       6|2010-12-01 08:34:00|      2.1|   13047.0|United Kingdom|\n",
      "|   536367|    22748|POPPY'S PLAYHOUSE...|       6|2010-12-01 08:34:00|      2.1|   13047.0|United Kingdom|\n",
      "|   536367|    22749|FELTCRAFT PRINCES...|       8|2010-12-01 08:34:00|     3.75|   13047.0|United Kingdom|\n",
      "|   536367|    22310|IVORY KNITTED MUG...|       6|2010-12-01 08:34:00|     1.65|   13047.0|United Kingdom|\n",
      "|   536367|    84969|BOX OF 6 ASSORTED...|       6|2010-12-01 08:34:00|     4.25|   13047.0|United Kingdom|\n",
      "|   536367|    22623|BOX OF VINTAGE JI...|       3|2010-12-01 08:34:00|     4.95|   13047.0|United Kingdom|\n",
      "|   536367|    22622|BOX OF VINTAGE AL...|       2|2010-12-01 08:34:00|     9.95|   13047.0|United Kingdom|\n",
      "|   536367|    21754|HOME BUILDING BLO...|       3|2010-12-01 08:34:00|     5.95|   13047.0|United Kingdom|\n",
      "|   536367|    21755|LOVE BUILDING BLO...|       3|2010-12-01 08:34:00|     5.95|   13047.0|United Kingdom|\n",
      "|   536367|    21777|RECIPE BOX WITH M...|       4|2010-12-01 08:34:00|     7.95|   13047.0|United Kingdom|\n",
      "+---------+---------+--------------------+--------+-------------------+---------+----------+--------------+\n",
      "only showing top 20 rows\n",
      "\n"
     ]
    }
   ],
   "source": [
    "df.where(expr(\"Country LIKE 'United %'\")).show()"
   ]
  },
  {
   "cell_type": "code",
   "execution_count": null,
   "id": "b34ae422",
   "metadata": {},
   "outputs": [],
   "source": []
  }
 ],
 "metadata": {
  "kernelspec": {
   "display_name": "Python 3 (ipykernel)",
   "language": "python",
   "name": "python3"
  },
  "language_info": {
   "codemirror_mode": {
    "name": "ipython",
    "version": 3
   },
   "file_extension": ".py",
   "mimetype": "text/x-python",
   "name": "python",
   "nbconvert_exporter": "python",
   "pygments_lexer": "ipython3",
   "version": "3.9.5"
  }
 },
 "nbformat": 4,
 "nbformat_minor": 5
}
