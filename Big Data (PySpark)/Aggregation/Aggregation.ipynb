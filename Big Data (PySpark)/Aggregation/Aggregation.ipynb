{
 "cells": [
  {
   "cell_type": "code",
   "execution_count": 1,
   "id": "2d38a279",
   "metadata": {},
   "outputs": [],
   "source": [
    "from pyspark.sql import SparkSession\n",
    "from pyspark.sql.functions import expr"
   ]
  },
  {
   "cell_type": "code",
   "execution_count": 4,
   "id": "e99b6e4d",
   "metadata": {},
   "outputs": [],
   "source": [
    "spark = SparkSession.builder.appName(\"aggregation_demo\").getOrCreate()"
   ]
  },
  {
   "cell_type": "code",
   "execution_count": 3,
   "id": "deaf892b",
   "metadata": {},
   "outputs": [
    {
     "data": {
      "text/html": [
       "\n",
       "            <div>\n",
       "                <p><b>SparkSession - in-memory</b></p>\n",
       "                \n",
       "        <div>\n",
       "            <p><b>SparkContext</b></p>\n",
       "\n",
       "            <p><a href=\"http://e8bcb3d56f73:4040\">Spark UI</a></p>\n",
       "\n",
       "            <dl>\n",
       "              <dt>Version</dt>\n",
       "                <dd><code>v3.1.2</code></dd>\n",
       "              <dt>Master</dt>\n",
       "                <dd><code>local[*]</code></dd>\n",
       "              <dt>AppName</dt>\n",
       "                <dd><code>aggregation_demo</code></dd>\n",
       "            </dl>\n",
       "        </div>\n",
       "        \n",
       "            </div>\n",
       "        "
      ],
      "text/plain": [
       "<pyspark.sql.session.SparkSession at 0x7f0993728040>"
      ]
     },
     "execution_count": 3,
     "metadata": {},
     "output_type": "execute_result"
    }
   ],
   "source": [
    "spark"
   ]
  },
  {
   "cell_type": "code",
   "execution_count": 5,
   "id": "3b86132a",
   "metadata": {},
   "outputs": [],
   "source": [
    "employees = spark.read.csv(\"employee_data.csv\", inferSchema=True, header=True)"
   ]
  },
  {
   "cell_type": "code",
   "execution_count": 11,
   "id": "7421bc2c",
   "metadata": {},
   "outputs": [
    {
     "name": "stdout",
     "output_type": "stream",
     "text": [
      "+---+----------+----------+------+------+----------+\n",
      "| id|first_name| last_name|gender|salary|department|\n",
      "+---+----------+----------+------+------+----------+\n",
      "|  1|    Merell|   Ruilton|  Male|   500|   Finance|\n",
      "|  2|    Waring|     Dibbs|Female|   600| Marketing|\n",
      "|  3|    Dewitt|    Steart|Female|   700|        IT|\n",
      "|  4|   Thadeus|Winchcombe|  Male|   700|        HR|\n",
      "|  5|      Ford|  Thorrold|  Male|   500|     Sales|\n",
      "|  6|    Verile|   Edgeler|Female|   600|   Finance|\n",
      "|  7|  Ezechiel|    Siggin|Female|   500| Marketing|\n",
      "|  8|    Flossy| Stroobant|Female|   600|        IT|\n",
      "|  9|  Kristian|    Osborn|  Male|   700|        HR|\n",
      "| 10|    Tessie|    Sisley|  Male|   800|     Sales|\n",
      "| 11|  Prentiss|   Biswell|Female|   500|   Finance|\n",
      "| 12|     Elise|  Timbrell|  Male|   600| Marketing|\n",
      "| 13|    Frieda|  Butchard|Female|   700|        IT|\n",
      "| 14|   Reinold| McSperrin|Female|   600|        HR|\n",
      "| 15|    Powell|    Mundee|  Male|   500|     Sales|\n",
      "+---+----------+----------+------+------+----------+\n",
      "\n"
     ]
    }
   ],
   "source": [
    "employees.show()"
   ]
  },
  {
   "cell_type": "markdown",
   "id": "578d83d9",
   "metadata": {},
   "source": [
    "## ========== GroupBy =========="
   ]
  },
  {
   "cell_type": "markdown",
   "id": "3fd200e9",
   "metadata": {},
   "source": [
    "### Total salary"
   ]
  },
  {
   "cell_type": "code",
   "execution_count": 7,
   "id": "02b78a03",
   "metadata": {
    "scrolled": true
   },
   "outputs": [
    {
     "name": "stdout",
     "output_type": "stream",
     "text": [
      "+-----------+\n",
      "|sum(salary)|\n",
      "+-----------+\n",
      "|       9100|\n",
      "+-----------+\n",
      "\n"
     ]
    }
   ],
   "source": [
    "# The given statement is equivalent to: employees.groupBy().agg({\"salary\": \"sum\"}).show()\n",
    "employees.agg({\"salary\": \"sum\"}).show()"
   ]
  },
  {
   "cell_type": "markdown",
   "id": "2ce0efcf",
   "metadata": {},
   "source": [
    "### Salaries by gender"
   ]
  },
  {
   "cell_type": "code",
   "execution_count": 13,
   "id": "48bf662d",
   "metadata": {},
   "outputs": [
    {
     "name": "stdout",
     "output_type": "stream",
     "text": [
      "+------+-----------+\n",
      "|gender|sum(salary)|\n",
      "+------+-----------+\n",
      "|Female|       4800|\n",
      "|  Male|       4300|\n",
      "+------+-----------+\n",
      "\n"
     ]
    }
   ],
   "source": [
    "employees.groupBy(\"gender\").agg({\"salary\": \"sum\"}).show()"
   ]
  },
  {
   "cell_type": "markdown",
   "id": "7078ec07",
   "metadata": {},
   "source": [
    "### Salaries by department"
   ]
  },
  {
   "cell_type": "code",
   "execution_count": 20,
   "id": "93062bca",
   "metadata": {},
   "outputs": [
    {
     "name": "stdout",
     "output_type": "stream",
     "text": [
      "+----------+-----------+\n",
      "|department|sum(salary)|\n",
      "+----------+-----------+\n",
      "|   Finance|       1600|\n",
      "|        HR|       2000|\n",
      "|        IT|       2000|\n",
      "| Marketing|       1700|\n",
      "|     Sales|       1800|\n",
      "+----------+-----------+\n",
      "\n"
     ]
    }
   ],
   "source": [
    "employees.groupBy(\"department\").agg({\"salary\": \"sum\"}).sort(\"department\").show()"
   ]
  },
  {
   "cell_type": "markdown",
   "id": "09e257a2",
   "metadata": {},
   "source": [
    "### Salaries of each department by gender"
   ]
  },
  {
   "cell_type": "code",
   "execution_count": 15,
   "id": "124a4b68",
   "metadata": {},
   "outputs": [
    {
     "name": "stderr",
     "output_type": "stream",
     "text": [
      "[Stage 57:=================================>                   (127 + 23) / 200]\r"
     ]
    },
    {
     "name": "stdout",
     "output_type": "stream",
     "text": [
      "+----------+------+-----------+\n",
      "|department|gender|sum(salary)|\n",
      "+----------+------+-----------+\n",
      "|   Finance|Female|       1100|\n",
      "|   Finance|  Male|        500|\n",
      "|        HR|Female|        600|\n",
      "|        HR|  Male|       1400|\n",
      "|        IT|Female|       2000|\n",
      "| Marketing|Female|       1100|\n",
      "| Marketing|  Male|        600|\n",
      "|     Sales|  Male|       1800|\n",
      "+----------+------+-----------+\n",
      "\n"
     ]
    },
    {
     "name": "stderr",
     "output_type": "stream",
     "text": [
      "\r",
      "[Stage 57:============================================>        (168 + 18) / 200]\r",
      "\r",
      "                                                                                \r"
     ]
    }
   ],
   "source": [
    "employees.groupBy(\"department\", \"gender\").agg({\"salary\": \"sum\"}).sort(\"department\", \"gender\").show()"
   ]
  },
  {
   "cell_type": "markdown",
   "id": "10321b11",
   "metadata": {},
   "source": [
    "## ========== RollUp =========="
   ]
  },
  {
   "cell_type": "markdown",
   "id": "a1fb8b11",
   "metadata": {},
   "source": [
    "### Total salary & salaries by gender"
   ]
  },
  {
   "cell_type": "code",
   "execution_count": 19,
   "id": "5eb2b8e8",
   "metadata": {},
   "outputs": [
    {
     "name": "stdout",
     "output_type": "stream",
     "text": [
      "+------+-----------+\n",
      "|gender|sum(salary)|\n",
      "+------+-----------+\n",
      "|  null|       9100|\n",
      "|Female|       4800|\n",
      "|  Male|       4300|\n",
      "+------+-----------+\n",
      "\n"
     ]
    }
   ],
   "source": [
    "employees.rollup(\"gender\").sum(\"salary\").sort(\"gender\").show()"
   ]
  },
  {
   "cell_type": "markdown",
   "id": "4c667d10",
   "metadata": {},
   "source": [
    "### Total salary & salaries by department"
   ]
  },
  {
   "cell_type": "code",
   "execution_count": 22,
   "id": "dea2e20e",
   "metadata": {},
   "outputs": [
    {
     "name": "stdout",
     "output_type": "stream",
     "text": [
      "+----------+-----------+\n",
      "|department|sum(salary)|\n",
      "+----------+-----------+\n",
      "|      null|       9100|\n",
      "|   Finance|       1600|\n",
      "|        HR|       2000|\n",
      "|        IT|       2000|\n",
      "| Marketing|       1700|\n",
      "|     Sales|       1800|\n",
      "+----------+-----------+\n",
      "\n"
     ]
    }
   ],
   "source": [
    "employees.rollup(\"department\").sum(\"salary\").sort(\"department\").show()"
   ]
  },
  {
   "cell_type": "markdown",
   "id": "65575a17",
   "metadata": {},
   "source": [
    "### Total salary & salaries by department & salaries of each department by gender"
   ]
  },
  {
   "cell_type": "code",
   "execution_count": 18,
   "id": "6330fe84",
   "metadata": {},
   "outputs": [
    {
     "name": "stdout",
     "output_type": "stream",
     "text": [
      "+----------+------+-----------+\n",
      "|department|gender|sum(salary)|\n",
      "+----------+------+-----------+\n",
      "|      null|  null|       9100|\n",
      "|   Finance|  null|       1600|\n",
      "|   Finance|Female|       1100|\n",
      "|   Finance|  Male|        500|\n",
      "|        HR|  null|       2000|\n",
      "|        HR|Female|        600|\n",
      "|        HR|  Male|       1400|\n",
      "|        IT|  null|       2000|\n",
      "|        IT|Female|       2000|\n",
      "| Marketing|  null|       1700|\n",
      "| Marketing|Female|       1100|\n",
      "| Marketing|  Male|        600|\n",
      "|     Sales|  null|       1800|\n",
      "|     Sales|  Male|       1800|\n",
      "+----------+------+-----------+\n",
      "\n"
     ]
    },
    {
     "name": "stderr",
     "output_type": "stream",
     "text": [
      "\r",
      "[Stage 63:==================================================>  (189 + 11) / 200]\r",
      "\r",
      "                                                                                \r"
     ]
    }
   ],
   "source": [
    "employees.rollup(\"department\", \"gender\").sum(\"salary\").sort(\"department\", \"gender\").show()"
   ]
  },
  {
   "cell_type": "markdown",
   "id": "26aeeca2",
   "metadata": {},
   "source": [
    "## -------------------- RollUp Pivot --------------------"
   ]
  },
  {
   "cell_type": "code",
   "execution_count": 42,
   "id": "8a71ffbd",
   "metadata": {},
   "outputs": [
    {
     "name": "stdout",
     "output_type": "stream",
     "text": [
      "+----------+----+------+----+\n",
      "|department|null|Female|Male|\n",
      "+----------+----+------+----+\n",
      "|      null|9100|  null|null|\n",
      "|   Finance|1600|  1100| 500|\n",
      "|        HR|2000|   600|1400|\n",
      "|        IT|2000|  2000|null|\n",
      "| Marketing|1700|  1100| 600|\n",
      "|     Sales|1800|  null|1800|\n",
      "+----------+----+------+----+\n",
      "\n"
     ]
    }
   ],
   "source": [
    "employees.rollup(\"department\", \"gender\").sum(\"salary\").groupBy(\"department\").pivot(\"gender\")\\\n",
    ".sum(\"sum(salary)\").sort(\"department\").show()"
   ]
  },
  {
   "cell_type": "markdown",
   "id": "26e92c2a",
   "metadata": {},
   "source": [
    "## ========== Cube =========="
   ]
  },
  {
   "cell_type": "markdown",
   "id": "8733e109",
   "metadata": {},
   "source": [
    "### Total salary & salaries by gender & salaries by department & salaries of each department by gender"
   ]
  },
  {
   "cell_type": "code",
   "execution_count": 17,
   "id": "4a643bf3",
   "metadata": {},
   "outputs": [
    {
     "name": "stdout",
     "output_type": "stream",
     "text": [
      "+----------+------+-----------+\n",
      "|department|gender|sum(salary)|\n",
      "+----------+------+-----------+\n",
      "|      null|  null|       9100|\n",
      "|      null|Female|       4800|\n",
      "|      null|  Male|       4300|\n",
      "|   Finance|  null|       1600|\n",
      "|   Finance|Female|       1100|\n",
      "|   Finance|  Male|        500|\n",
      "|        HR|  null|       2000|\n",
      "|        HR|Female|        600|\n",
      "|        HR|  Male|       1400|\n",
      "|        IT|  null|       2000|\n",
      "|        IT|Female|       2000|\n",
      "| Marketing|  null|       1700|\n",
      "| Marketing|Female|       1100|\n",
      "| Marketing|  Male|        600|\n",
      "|     Sales|  null|       1800|\n",
      "|     Sales|  Male|       1800|\n",
      "+----------+------+-----------+\n",
      "\n"
     ]
    }
   ],
   "source": [
    "employees.cube(\"department\", \"gender\").sum(\"salary\").sort(\"department\", \"gender\").show()"
   ]
  },
  {
   "cell_type": "markdown",
   "id": "a10613d3",
   "metadata": {},
   "source": [
    "## -------------------- Cube Pivot --------------------"
   ]
  },
  {
   "cell_type": "code",
   "execution_count": 38,
   "id": "26bb9055",
   "metadata": {},
   "outputs": [
    {
     "name": "stdout",
     "output_type": "stream",
     "text": [
      "+----------+-------------------+------+----+\n",
      "|department|All Gender Combined|Female|Male|\n",
      "+----------+-------------------+------+----+\n",
      "|       All|               9100|  4800|4300|\n",
      "|   Finance|               1600|  1100| 500|\n",
      "|        HR|               2000|   600|1400|\n",
      "|        IT|               2000|  2000|   0|\n",
      "| Marketing|               1700|  1100| 600|\n",
      "|     Sales|               1800|     0|1800|\n",
      "+----------+-------------------+------+----+\n",
      "\n"
     ]
    }
   ],
   "source": [
    "employees.cube(\"department\", \"gender\").sum(\"salary\").groupBy(\"department\").pivot(\"gender\")\\\n",
    ".sum(\"sum(salary)\").sort(\"department\").withColumnRenamed(\"null\", \"All Gender Combined\").fillna(\"All\").fillna(0).show()"
   ]
  },
  {
   "cell_type": "markdown",
   "id": "0b2af59e",
   "metadata": {},
   "source": [
    "## ========== Pivot =========="
   ]
  },
  {
   "cell_type": "code",
   "execution_count": 28,
   "id": "58834abb",
   "metadata": {},
   "outputs": [
    {
     "name": "stdout",
     "output_type": "stream",
     "text": [
      "+----------+------+----+\n",
      "|department|Female|Male|\n",
      "+----------+------+----+\n",
      "|   Finance|  1100| 500|\n",
      "|        HR|   600|1400|\n",
      "|        IT|  2000|null|\n",
      "| Marketing|  1100| 600|\n",
      "|     Sales|  null|1800|\n",
      "+----------+------+----+\n",
      "\n"
     ]
    }
   ],
   "source": [
    "employees.groupBy(\"department\").pivot(\"gender\").agg({\"salary\": \"sum\"}).sort(\"department\").show()"
   ]
  },
  {
   "cell_type": "code",
   "execution_count": null,
   "id": "0a6cdd8f",
   "metadata": {},
   "outputs": [],
   "source": []
  }
 ],
 "metadata": {
  "kernelspec": {
   "display_name": "Python 3 (ipykernel)",
   "language": "python",
   "name": "python3"
  },
  "language_info": {
   "codemirror_mode": {
    "name": "ipython",
    "version": 3
   },
   "file_extension": ".py",
   "mimetype": "text/x-python",
   "name": "python",
   "nbconvert_exporter": "python",
   "pygments_lexer": "ipython3",
   "version": "3.9.5"
  }
 },
 "nbformat": 4,
 "nbformat_minor": 5
}
