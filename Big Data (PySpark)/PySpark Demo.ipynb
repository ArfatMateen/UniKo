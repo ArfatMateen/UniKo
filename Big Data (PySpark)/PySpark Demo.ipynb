{
 "cells": [
  {
   "cell_type": "code",
   "execution_count": 39,
   "id": "3a599bad",
   "metadata": {},
   "outputs": [],
   "source": [
    "from pyspark.sql import SparkSession\n",
    "from pyspark.sql.functions import aggregate, mean, col, locate, lit, expr, struct, min, sum\n",
    "import pandas as pd"
   ]
  },
  {
   "cell_type": "code",
   "execution_count": 3,
   "id": "98eb2c91",
   "metadata": {},
   "outputs": [],
   "source": [
    "spark = SparkSession.builder.appName(\"PySparkDemo\").getOrCreate()\n",
    "spark.sparkContext.setLogLevel(\"WARN\")"
   ]
  },
  {
   "cell_type": "code",
   "execution_count": 4,
   "id": "03c974f9",
   "metadata": {},
   "outputs": [
    {
     "data": {
      "text/html": [
       "\n",
       "            <div>\n",
       "                <p><b>SparkSession - in-memory</b></p>\n",
       "                \n",
       "        <div>\n",
       "            <p><b>SparkContext</b></p>\n",
       "\n",
       "            <p><a href=\"http://e8bcb3d56f73:4040\">Spark UI</a></p>\n",
       "\n",
       "            <dl>\n",
       "              <dt>Version</dt>\n",
       "                <dd><code>v3.1.2</code></dd>\n",
       "              <dt>Master</dt>\n",
       "                <dd><code>local[*]</code></dd>\n",
       "              <dt>AppName</dt>\n",
       "                <dd><code>PySparkDemo</code></dd>\n",
       "            </dl>\n",
       "        </div>\n",
       "        \n",
       "            </div>\n",
       "        "
      ],
      "text/plain": [
       "<pyspark.sql.session.SparkSession at 0x7f27b120c040>"
      ]
     },
     "execution_count": 4,
     "metadata": {},
     "output_type": "execute_result"
    }
   ],
   "source": [
    "spark"
   ]
  },
  {
   "cell_type": "code",
   "execution_count": 5,
   "id": "5c0bac29",
   "metadata": {},
   "outputs": [],
   "source": [
    "# Read CSV file and load data into a DataFrame\n",
    "df = spark.read.csv('2015-summary.csv', header=True, inferSchema=True)"
   ]
  },
  {
   "cell_type": "code",
   "execution_count": 6,
   "id": "5a93683a",
   "metadata": {},
   "outputs": [
    {
     "name": "stdout",
     "output_type": "stream",
     "text": [
      "root\n",
      " |-- DEST_COUNTRY_NAME: string (nullable = true)\n",
      " |-- ORIGIN_COUNTRY_NAME: string (nullable = true)\n",
      " |-- count: integer (nullable = true)\n",
      "\n"
     ]
    }
   ],
   "source": [
    "df.printSchema()"
   ]
  },
  {
   "cell_type": "code",
   "execution_count": 7,
   "id": "ee3ab56d",
   "metadata": {
    "scrolled": true
   },
   "outputs": [
    {
     "name": "stdout",
     "output_type": "stream",
     "text": [
      "+--------------------+-------------------+-----+\n",
      "|   DEST_COUNTRY_NAME|ORIGIN_COUNTRY_NAME|count|\n",
      "+--------------------+-------------------+-----+\n",
      "|       United States|            Romania|   15|\n",
      "|       United States|            Croatia|    1|\n",
      "|       United States|            Ireland|  344|\n",
      "|               Egypt|      United States|   15|\n",
      "|       United States|              India|   62|\n",
      "|       United States|          Singapore|    1|\n",
      "|       United States|            Grenada|   62|\n",
      "|          Costa Rica|      United States|  588|\n",
      "|             Senegal|      United States|   40|\n",
      "|             Moldova|      United States|    1|\n",
      "|       United States|       Sint Maarten|  325|\n",
      "|       United States|   Marshall Islands|   39|\n",
      "|              Guyana|      United States|   64|\n",
      "|               Malta|      United States|    1|\n",
      "|            Anguilla|      United States|   41|\n",
      "|             Bolivia|      United States|   30|\n",
      "|       United States|           Paraguay|    6|\n",
      "|             Algeria|      United States|    4|\n",
      "|Turks and Caicos ...|      United States|  230|\n",
      "|       United States|          Gibraltar|    1|\n",
      "+--------------------+-------------------+-----+\n",
      "only showing top 20 rows\n",
      "\n"
     ]
    }
   ],
   "source": [
    "df.show()"
   ]
  },
  {
   "cell_type": "code",
   "execution_count": 45,
   "id": "bc6a6bc3",
   "metadata": {
    "scrolled": true
   },
   "outputs": [
    {
     "name": "stdout",
     "output_type": "stream",
     "text": [
      "+--------------------+-----+\n",
      "|   DEST_COUNTRY_NAME|Total|\n",
      "+--------------------+-----+\n",
      "|            Anguilla|   41|\n",
      "|              Russia|  176|\n",
      "|            Paraguay|   60|\n",
      "|             Senegal|   40|\n",
      "|              Sweden|  118|\n",
      "|            Kiribati|   26|\n",
      "|              Guyana|   64|\n",
      "|         Philippines|  134|\n",
      "|            Djibouti|    1|\n",
      "|            Malaysia|    2|\n",
      "|           Singapore|    3|\n",
      "|                Fiji|   24|\n",
      "|              Turkey|  138|\n",
      "|                Iraq|    1|\n",
      "|             Germany| 1468|\n",
      "|              Jordan|   44|\n",
      "|               Palau|   30|\n",
      "|Turks and Caicos ...|  230|\n",
      "|              France|  935|\n",
      "|              Greece|   30|\n",
      "+--------------------+-----+\n",
      "only showing top 20 rows\n",
      "\n"
     ]
    }
   ],
   "source": [
    "df.groupBy(\"DEST_COUNTRY_NAME\").agg(sum(\"count\").alias(\"Total\")).show()"
   ]
  },
  {
   "cell_type": "code",
   "execution_count": 91,
   "id": "2b130987",
   "metadata": {
    "collapsed": true
   },
   "outputs": [
    {
     "name": "stdout",
     "output_type": "stream",
     "text": [
      "+---------------------------------+\n",
      "|locate(i, ORIGIN_COUNTRY_NAME, 1)|\n",
      "+---------------------------------+\n",
      "|                                6|\n",
      "|                                6|\n",
      "|                                0|\n",
      "|                                3|\n",
      "|                                4|\n",
      "|                                2|\n",
      "|                                0|\n",
      "|                                3|\n",
      "|                                3|\n",
      "|                                3|\n",
      "|                                2|\n",
      "|                                0|\n",
      "|                                3|\n",
      "|                                3|\n",
      "|                                3|\n",
      "|                                3|\n",
      "|                                0|\n",
      "|                                3|\n",
      "|                                3|\n",
      "|                                2|\n",
      "+---------------------------------+\n",
      "only showing top 20 rows\n",
      "\n"
     ]
    }
   ],
   "source": [
    "df.selectExpr(\"locate('i', ORIGIN_COUNTRY_NAME, 1)\").show()"
   ]
  },
  {
   "cell_type": "code",
   "execution_count": 94,
   "id": "2adeec0c",
   "metadata": {
    "collapsed": true
   },
   "outputs": [
    {
     "name": "stdout",
     "output_type": "stream",
     "text": [
      "+---------------------------------+\n",
      "|locate(i, ORIGIN_COUNTRY_NAME, 1)|\n",
      "+---------------------------------+\n",
      "|                                6|\n",
      "|                                6|\n",
      "|                                0|\n",
      "|                                3|\n",
      "|                                4|\n",
      "|                                2|\n",
      "|                                0|\n",
      "|                                3|\n",
      "|                                3|\n",
      "|                                3|\n",
      "|                                2|\n",
      "|                                0|\n",
      "|                                3|\n",
      "|                                3|\n",
      "|                                3|\n",
      "|                                3|\n",
      "|                                0|\n",
      "|                                3|\n",
      "|                                3|\n",
      "|                                2|\n",
      "+---------------------------------+\n",
      "only showing top 20 rows\n",
      "\n"
     ]
    }
   ],
   "source": [
    "df.select(expr(\"locate('i', ORIGIN_COUNTRY_NAME, 1)\")).show()"
   ]
  },
  {
   "cell_type": "code",
   "execution_count": 6,
   "id": "23d6f034",
   "metadata": {},
   "outputs": [],
   "source": [
    "dfr = spark.createDataFrame([(1, [20.0, 4.0, 2.0, 6.0, 10.0])], (\"id\", \"values\"))"
   ]
  },
  {
   "cell_type": "code",
   "execution_count": 7,
   "id": "e509947a",
   "metadata": {},
   "outputs": [],
   "source": [
    "def merge(acc, x):\n",
    "    count = acc.count + 1\n",
    "    sum = acc.sum + x\n",
    "    return struct(count.alias(\"count\"), sum.alias(\"sum\"))"
   ]
  },
  {
   "cell_type": "code",
   "execution_count": 12,
   "id": "4af9c1cf",
   "metadata": {},
   "outputs": [
    {
     "name": "stdout",
     "output_type": "stream",
     "text": [
      "+----+\n",
      "|mean|\n",
      "+----+\n",
      "| 8.4|\n",
      "+----+\n",
      "\n"
     ]
    }
   ],
   "source": [
    "dfr.select(\n",
    "    aggregate(\n",
    "        \"values\",\n",
    "        struct(lit(0).alias(\"count\"), lit(0.0).alias(\"sum\")),\n",
    "        merge,\n",
    "        lambda acc: acc.sum / acc.count,\n",
    "    ).alias(\"mean\")\n",
    ").show()"
   ]
  },
  {
   "cell_type": "code",
   "execution_count": 32,
   "id": "ca265fa4",
   "metadata": {},
   "outputs": [
    {
     "name": "stdout",
     "output_type": "stream",
     "text": [
      "+----------+\n",
      "|min(count)|\n",
      "+----------+\n",
      "|         1|\n",
      "+----------+\n",
      "\n"
     ]
    }
   ],
   "source": [
    "df.groupBy().agg({\"count\": \"min\"}).show()"
   ]
  },
  {
   "cell_type": "code",
   "execution_count": 33,
   "id": "0feab0dd",
   "metadata": {},
   "outputs": [],
   "source": [
    "dfx = spark.createDataFrame([([1, 2, 3],), ([4, 5],)], ['x'])"
   ]
  },
  {
   "cell_type": "code",
   "execution_count": 34,
   "id": "7244ac4d",
   "metadata": {},
   "outputs": [
    {
     "name": "stdout",
     "output_type": "stream",
     "text": [
      "+---------+\n",
      "|        x|\n",
      "+---------+\n",
      "|[1, 2, 3]|\n",
      "|   [4, 5]|\n",
      "+---------+\n",
      "\n"
     ]
    }
   ],
   "source": [
    "dfx.show()"
   ]
  },
  {
   "cell_type": "code",
   "execution_count": 61,
   "id": "eff9b543",
   "metadata": {},
   "outputs": [
    {
     "name": "stdout",
     "output_type": "stream",
     "text": [
      "+------+\n",
      "| count|\n",
      "+------+\n",
      "|453316|\n",
      "+------+\n",
      "\n"
     ]
    }
   ],
   "source": [
    "df.selectExpr(\"sum(count) as count\").show()"
   ]
  },
  {
   "cell_type": "code",
   "execution_count": 62,
   "id": "b9cd9d30",
   "metadata": {},
   "outputs": [
    {
     "name": "stdout",
     "output_type": "stream",
     "text": [
      "+-----+\n",
      "|count|\n",
      "+-----+\n",
      "|  256|\n",
      "+-----+\n",
      "\n"
     ]
    }
   ],
   "source": [
    "df.groupBy().count().show()"
   ]
  },
  {
   "cell_type": "code",
   "execution_count": 59,
   "id": "3f25313f",
   "metadata": {},
   "outputs": [],
   "source": [
    "def func1(x):\n",
    "    journey = f'{x.ORIGIN_COUNTRY_NAME} --> {x.DEST_COUNTRY_NAME}'\n",
    "    return (journey)\n",
    "\n",
    "rdd2 = df.rdd.map(func1)"
   ]
  },
  {
   "cell_type": "code",
   "execution_count": 60,
   "id": "1d9d288d",
   "metadata": {},
   "outputs": [
    {
     "data": {
      "text/plain": [
       "['Romania --> United States',\n",
       " 'Croatia --> United States',\n",
       " 'Ireland --> United States',\n",
       " 'United States --> Egypt',\n",
       " 'India --> United States']"
      ]
     },
     "execution_count": 60,
     "metadata": {},
     "output_type": "execute_result"
    }
   ],
   "source": [
    "rdd2.take(5)"
   ]
  },
  {
   "cell_type": "code",
   "execution_count": 63,
   "id": "d9dbcc7b",
   "metadata": {},
   "outputs": [
    {
     "name": "stdout",
     "output_type": "stream",
     "text": [
      "root\n",
      " |-- Product: string (nullable = true)\n",
      " |-- Amount: long (nullable = true)\n",
      " |-- Country: string (nullable = true)\n",
      "\n",
      "+-------+------+-------+\n",
      "|Product|Amount|Country|\n",
      "+-------+------+-------+\n",
      "|Banana |1000  |USA    |\n",
      "|Carrots|1500  |USA    |\n",
      "|Beans  |1600  |USA    |\n",
      "|Orange |2000  |USA    |\n",
      "|Orange |2000  |USA    |\n",
      "|Banana |400   |China  |\n",
      "|Carrots|1200  |China  |\n",
      "|Beans  |1500  |China  |\n",
      "|Orange |4000  |China  |\n",
      "|Banana |2000  |Canada |\n",
      "|Carrots|2000  |Canada |\n",
      "|Beans  |2000  |Mexico |\n",
      "+-------+------+-------+\n",
      "\n"
     ]
    }
   ],
   "source": [
    "data = [(\"Banana\",1000,\"USA\"), (\"Carrots\",1500,\"USA\"), (\"Beans\",1600,\"USA\"), \\\n",
    "      (\"Orange\",2000,\"USA\"),(\"Orange\",2000,\"USA\"),(\"Banana\",400,\"China\"), \\\n",
    "      (\"Carrots\",1200,\"China\"),(\"Beans\",1500,\"China\"),(\"Orange\",4000,\"China\"), \\\n",
    "      (\"Banana\",2000,\"Canada\"),(\"Carrots\",2000,\"Canada\"),(\"Beans\",2000,\"Mexico\")]\n",
    "\n",
    "columns= [\"Product\",\"Amount\",\"Country\"]\n",
    "df = spark.createDataFrame(data = data, schema = columns)\n",
    "df.printSchema()\n",
    "df.show(truncate=False)"
   ]
  },
  {
   "cell_type": "code",
   "execution_count": 65,
   "id": "ec482ee4",
   "metadata": {},
   "outputs": [
    {
     "name": "stderr",
     "output_type": "stream",
     "text": [
      "                                                                                \r"
     ]
    },
    {
     "name": "stdout",
     "output_type": "stream",
     "text": [
      "root\n",
      " |-- Product: string (nullable = true)\n",
      " |-- Canada: long (nullable = true)\n",
      " |-- China: long (nullable = true)\n",
      " |-- Mexico: long (nullable = true)\n",
      " |-- USA: long (nullable = true)\n",
      "\n"
     ]
    },
    {
     "name": "stderr",
     "output_type": "stream",
     "text": [
      "                                                                                \r"
     ]
    },
    {
     "name": "stdout",
     "output_type": "stream",
     "text": [
      "+-------+------+-----+------+----+\n",
      "|Product|Canada|China|Mexico|USA |\n",
      "+-------+------+-----+------+----+\n",
      "|Orange |null  |4000 |null  |4000|\n",
      "|Beans  |null  |1500 |2000  |1600|\n",
      "|Banana |2000  |400  |null  |1000|\n",
      "|Carrots|2000  |1200 |null  |1500|\n",
      "+-------+------+-----+------+----+\n",
      "\n"
     ]
    }
   ],
   "source": [
    "pivotDF = df.groupBy(\"Product\").pivot(\"Country\").sum(\"Amount\")\n",
    "pivotDF.printSchema()\n",
    "pivotDF.show(truncate=False)"
   ]
  },
  {
   "cell_type": "code",
   "execution_count": 69,
   "id": "24693f58",
   "metadata": {},
   "outputs": [
    {
     "name": "stdout",
     "output_type": "stream",
     "text": [
      "root\n",
      " |-- Country: string (nullable = true)\n",
      " |-- Banana: long (nullable = true)\n",
      " |-- Beans: long (nullable = true)\n",
      " |-- Carrots: long (nullable = true)\n",
      " |-- Orange: long (nullable = true)\n",
      "\n"
     ]
    },
    {
     "name": "stderr",
     "output_type": "stream",
     "text": [
      "\r",
      "[Stage 123:===================================>                (137 + 17) / 200]\r",
      "\r",
      "                                                                                \r"
     ]
    },
    {
     "name": "stdout",
     "output_type": "stream",
     "text": [
      "+-------+------+-----+-------+------+\n",
      "|Country|Banana|Beans|Carrots|Orange|\n",
      "+-------+------+-----+-------+------+\n",
      "|China  |400   |1500 |1200   |4000  |\n",
      "|USA    |1000  |1600 |1500   |4000  |\n",
      "|Mexico |null  |2000 |null   |null  |\n",
      "|Canada |2000  |null |2000   |null  |\n",
      "+-------+------+-----+-------+------+\n",
      "\n"
     ]
    }
   ],
   "source": [
    "pivotDF = df.groupBy(\"Country\").pivot(\"Product\").sum(\"Amount\")\n",
    "pivotDF.printSchema()\n",
    "pivotDF.show(truncate=False)"
   ]
  },
  {
   "cell_type": "code",
   "execution_count": null,
   "id": "22e832af",
   "metadata": {},
   "outputs": [],
   "source": []
  }
 ],
 "metadata": {
  "kernelspec": {
   "display_name": "Python 3 (ipykernel)",
   "language": "python",
   "name": "python3"
  },
  "language_info": {
   "codemirror_mode": {
    "name": "ipython",
    "version": 3
   },
   "file_extension": ".py",
   "mimetype": "text/x-python",
   "name": "python",
   "nbconvert_exporter": "python",
   "pygments_lexer": "ipython3",
   "version": "3.9.5"
  }
 },
 "nbformat": 4,
 "nbformat_minor": 5
}
