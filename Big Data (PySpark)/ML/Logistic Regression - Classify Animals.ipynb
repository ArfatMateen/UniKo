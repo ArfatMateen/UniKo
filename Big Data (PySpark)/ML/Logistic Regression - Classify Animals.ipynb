{
 "cells": [
  {
   "cell_type": "code",
   "execution_count": 3,
   "id": "5b132802",
   "metadata": {},
   "outputs": [],
   "source": [
    "from pyspark.sql import SparkSession\n",
    "from pyspark.sql.functions import expr\n",
    "from pyspark.ml.feature import RFormula\n",
    "from pyspark.ml.classification import LogisticRegression"
   ]
  },
  {
   "cell_type": "code",
   "execution_count": 4,
   "id": "56244a41",
   "metadata": {},
   "outputs": [
    {
     "name": "stderr",
     "output_type": "stream",
     "text": [
      "WARNING: An illegal reflective access operation has occurred\n",
      "WARNING: Illegal reflective access by org.apache.spark.unsafe.Platform (file:/usr/local/spark-3.1.2-bin-hadoop3.2/jars/spark-unsafe_2.12-3.1.2.jar) to constructor java.nio.DirectByteBuffer(long,int)\n",
      "WARNING: Please consider reporting this to the maintainers of org.apache.spark.unsafe.Platform\n",
      "WARNING: Use --illegal-access=warn to enable warnings of further illegal reflective access operations\n",
      "WARNING: All illegal access operations will be denied in a future release\n",
      "21/08/01 14:36:12 WARN NativeCodeLoader: Unable to load native-hadoop library for your platform... using builtin-java classes where applicable\n",
      "Using Spark's default log4j profile: org/apache/spark/log4j-defaults.properties\n",
      "Setting default log level to \"WARN\".\n",
      "To adjust logging level use sc.setLogLevel(newLevel). For SparkR, use setLogLevel(newLevel).\n",
      "21/08/01 14:36:13 WARN Utils: Service 'SparkUI' could not bind on port 4040. Attempting port 4041.\n"
     ]
    }
   ],
   "source": [
    "spark = SparkSession.builder.appName(\"LR_Solution\").getOrCreate()"
   ]
  },
  {
   "cell_type": "code",
   "execution_count": 5,
   "id": "9485325b",
   "metadata": {},
   "outputs": [
    {
     "data": {
      "text/html": [
       "\n",
       "            <div>\n",
       "                <p><b>SparkSession - in-memory</b></p>\n",
       "                \n",
       "        <div>\n",
       "            <p><b>SparkContext</b></p>\n",
       "\n",
       "            <p><a href=\"http://e8bcb3d56f73:4041\">Spark UI</a></p>\n",
       "\n",
       "            <dl>\n",
       "              <dt>Version</dt>\n",
       "                <dd><code>v3.1.2</code></dd>\n",
       "              <dt>Master</dt>\n",
       "                <dd><code>local[*]</code></dd>\n",
       "              <dt>AppName</dt>\n",
       "                <dd><code>LR_Solution</code></dd>\n",
       "            </dl>\n",
       "        </div>\n",
       "        \n",
       "            </div>\n",
       "        "
      ],
      "text/plain": [
       "<pyspark.sql.session.SparkSession at 0x7fa4b12c3a30>"
      ]
     },
     "execution_count": 5,
     "metadata": {},
     "output_type": "execute_result"
    }
   ],
   "source": [
    "spark"
   ]
  },
  {
   "cell_type": "code",
   "execution_count": 6,
   "id": "f54b270b",
   "metadata": {},
   "outputs": [],
   "source": [
    "zoo_df = spark.read.csv(\"zoo.csv\", inferSchema=True, header=True)"
   ]
  },
  {
   "cell_type": "code",
   "execution_count": 7,
   "id": "135d5d35",
   "metadata": {},
   "outputs": [
    {
     "name": "stdout",
     "output_type": "stream",
     "text": [
      "+----------+----+--------+----+----+--------+-------+--------+-------+--------+--------+--------+----+----+----+--------+-------+----+\n",
      "|AnimalName|Hair|Feathers|Eggs|Milk|Airborne|Aquatic|Predator|Toothed|Backbone|Breathes|Venomous|Fins|Legs|Tail|Domestic|Catsize|Type|\n",
      "+----------+----+--------+----+----+--------+-------+--------+-------+--------+--------+--------+----+----+----+--------+-------+----+\n",
      "|  aardvark|   1|       0|   0|   1|       0|      0|       1|      1|       1|       1|       0|   0|   4|   0|       0|      1|   1|\n",
      "|  antelope|   1|       0|   0|   1|       0|      0|       0|      1|       1|       1|       0|   0|   4|   1|       0|      1|   1|\n",
      "|      bass|   0|       0|   1|   0|       0|      1|       1|      1|       1|       0|       0|   1|   0|   1|       0|      0|   4|\n",
      "|      bear|   1|       0|   0|   1|       0|      0|       1|      1|       1|       1|       0|   0|   4|   0|       0|      1|   1|\n",
      "|      boar|   1|       0|   0|   1|       0|      0|       1|      1|       1|       1|       0|   0|   4|   1|       0|      1|   1|\n",
      "+----------+----+--------+----+----+--------+-------+--------+-------+--------+--------+--------+----+----+----+--------+-------+----+\n",
      "only showing top 5 rows\n",
      "\n"
     ]
    }
   ],
   "source": [
    "zoo_df.show(5)"
   ]
  },
  {
   "cell_type": "code",
   "execution_count": 8,
   "id": "f0b12386",
   "metadata": {},
   "outputs": [],
   "source": [
    "zoo_df = zoo_df.withColumn(\"IsMamal\", expr(\"CASE WHEN Type = 1 THEN 1 ELSE 0 END\"))"
   ]
  },
  {
   "cell_type": "code",
   "execution_count": 9,
   "id": "2a01de8b",
   "metadata": {},
   "outputs": [
    {
     "name": "stdout",
     "output_type": "stream",
     "text": [
      "+----------+----+--------+----+----+--------+-------+--------+-------+--------+--------+--------+----+----+----+--------+-------+----+-------+\n",
      "|AnimalName|Hair|Feathers|Eggs|Milk|Airborne|Aquatic|Predator|Toothed|Backbone|Breathes|Venomous|Fins|Legs|Tail|Domestic|Catsize|Type|IsMamal|\n",
      "+----------+----+--------+----+----+--------+-------+--------+-------+--------+--------+--------+----+----+----+--------+-------+----+-------+\n",
      "|  aardvark|   1|       0|   0|   1|       0|      0|       1|      1|       1|       1|       0|   0|   4|   0|       0|      1|   1|      1|\n",
      "|  antelope|   1|       0|   0|   1|       0|      0|       0|      1|       1|       1|       0|   0|   4|   1|       0|      1|   1|      1|\n",
      "|      bass|   0|       0|   1|   0|       0|      1|       1|      1|       1|       0|       0|   1|   0|   1|       0|      0|   4|      0|\n",
      "|      bear|   1|       0|   0|   1|       0|      0|       1|      1|       1|       1|       0|   0|   4|   0|       0|      1|   1|      1|\n",
      "|      boar|   1|       0|   0|   1|       0|      0|       1|      1|       1|       1|       0|   0|   4|   1|       0|      1|   1|      1|\n",
      "+----------+----+--------+----+----+--------+-------+--------+-------+--------+--------+--------+----+----+----+--------+-------+----+-------+\n",
      "only showing top 5 rows\n",
      "\n"
     ]
    }
   ],
   "source": [
    "zoo_df.show(5)"
   ]
  },
  {
   "cell_type": "code",
   "execution_count": 30,
   "id": "d7c867e1",
   "metadata": {},
   "outputs": [],
   "source": [
    "features_vector = RFormula(formula=\"IsMamal ~ Hair + Feathers + Eggs + Milk + Airborne + Aquatic + Predator + Toothed + Backbone + Breathes + Venomous + Fins + Legs + Tail + Domestic + Catsize\")\n",
    "# features_vector = RFormula(formula=\"IsMamal ~ .)"
   ]
  },
  {
   "cell_type": "code",
   "execution_count": 31,
   "id": "61620f9b",
   "metadata": {},
   "outputs": [],
   "source": [
    "preprocessed_data = features_vector.fit(zoo_df).transform(zoo_df)"
   ]
  },
  {
   "cell_type": "code",
   "execution_count": 32,
   "id": "4747e053",
   "metadata": {},
   "outputs": [
    {
     "name": "stdout",
     "output_type": "stream",
     "text": [
      "+----------------------------------------------------------------------------------------------+-----+\n",
      "|features                                                                                      |label|\n",
      "+----------------------------------------------------------------------------------------------+-----+\n",
      "|(116,[1,99,102,105,106,107,108,111,114,115],[1.0,1.0,1.0,1.0,1.0,1.0,1.0,4.0,1.0,1.0])        |1.0  |\n",
      "|(116,[2,99,102,106,107,108,111,112,114,115],[1.0,1.0,1.0,1.0,1.0,1.0,4.0,1.0,1.0,1.0])        |1.0  |\n",
      "|(116,[3,101,104,105,106,107,110,112,115],[1.0,1.0,1.0,1.0,1.0,1.0,1.0,1.0,4.0])               |0.0  |\n",
      "|(116,[4,99,102,105,106,107,108,111,114,115],[1.0,1.0,1.0,1.0,1.0,1.0,1.0,4.0,1.0,1.0])        |1.0  |\n",
      "|(116,[5,99,102,105,106,107,108,111,112,114,115],[1.0,1.0,1.0,1.0,1.0,1.0,1.0,4.0,1.0,1.0,1.0])|1.0  |\n",
      "+----------------------------------------------------------------------------------------------+-----+\n",
      "only showing top 5 rows\n",
      "\n"
     ]
    }
   ],
   "source": [
    "preprocessed_data.select(\"features\", \"label\").show(5, truncate=False)"
   ]
  },
  {
   "cell_type": "code",
   "execution_count": 33,
   "id": "24e29e5a",
   "metadata": {},
   "outputs": [],
   "source": [
    "train_data, test_data = preprocessed_data.randomSplit([0.7, 0.3])"
   ]
  },
  {
   "cell_type": "code",
   "execution_count": 34,
   "id": "6578cedc",
   "metadata": {},
   "outputs": [],
   "source": [
    "lr = LogisticRegression(labelCol=\"label\", featuresCol=\"features\")"
   ]
  },
  {
   "cell_type": "code",
   "execution_count": 35,
   "id": "2821153b",
   "metadata": {},
   "outputs": [],
   "source": [
    "fitted_lr = lr.fit(train_data)"
   ]
  },
  {
   "cell_type": "code",
   "execution_count": 36,
   "id": "f84f06fa",
   "metadata": {},
   "outputs": [],
   "source": [
    "result = fitted_lr.transform(preprocessed_data)"
   ]
  },
  {
   "cell_type": "code",
   "execution_count": 37,
   "id": "d568221a",
   "metadata": {},
   "outputs": [
    {
     "name": "stdout",
     "output_type": "stream",
     "text": [
      "+----------+-----+----------+\n",
      "|AnimalName|label|prediction|\n",
      "+----------+-----+----------+\n",
      "|      clam|  0.0|       0.0|\n",
      "|  crayfish|  0.0|       0.0|\n",
      "|      goat|  1.0|       1.0|\n",
      "|   hamster|  1.0|       1.0|\n",
      "+----------+-----+----------+\n",
      "\n"
     ]
    }
   ],
   "source": [
    "result.select(\"AnimalName\", \"label\", \"prediction\").filter(\"AnimalName IN ('goat', 'hamster', 'clam', 'crayfish')\").show(100)"
   ]
  },
  {
   "cell_type": "code",
   "execution_count": 41,
   "id": "f2b5ce10",
   "metadata": {},
   "outputs": [
    {
     "name": "stdout",
     "output_type": "stream",
     "text": [
      "True Postive: 41\n",
      "False Postive: 0\n",
      "\n",
      "True Negative: 60\n",
      "False Negative: 0\n"
     ]
    }
   ],
   "source": [
    "truePositive = result.filter(\"prediction = 1.0 AND label = 1.0\").count()\n",
    "print(\"True Postive: \" + str(truePositive))\n",
    "\n",
    "falsePositive = result.filter(\"prediction = 1.0 AND label = 0.0\").count()\n",
    "print(\"False Postive: \" + str(falsePositive))\n",
    "\n",
    "print(\"\")\n",
    "\n",
    "trueNegative = result.filter(\"prediction = 0.0 AND label = 0.0\").count()\n",
    "print(\"True Negative: \" + str(trueNegative))\n",
    "\n",
    "falseNegative = result.filter(\"prediction = 0.0 AND label = 1.0\").count()\n",
    "print(\"False Negative: \" + str(falseNegative))"
   ]
  },
  {
   "cell_type": "code",
   "execution_count": 42,
   "id": "ef45161c",
   "metadata": {},
   "outputs": [],
   "source": [
    "# from pyspark.ml.linalg import Vectors\n",
    "# from pyspark.ml.feature import VectorAssembler\n",
    "\n",
    "# dataset = spark.createDataFrame(\n",
    "#     [(0, 18, 1.0, Vectors.dense([0.0, 10.0, 0.5]), 1.0)],\n",
    "#     [\"id\", \"hour\", \"mobile\", \"userFeatures\", \"clicked\"])\n",
    "\n",
    "# assembler = VectorAssembler(\n",
    "#     inputCols=[\"hour\", \"mobile\", \"userFeatures\"],\n",
    "#     outputCol=\"features\")\n",
    "\n",
    "# output = assembler.transform(dataset)\n",
    "# print(\"Assembled columns 'hour', 'mobile', 'userFeatures' to vector column 'features'\")\n",
    "# output.select(\"features\", \"clicked\").show(truncate=False)"
   ]
  },
  {
   "cell_type": "code",
   "execution_count": null,
   "id": "1cbeba76",
   "metadata": {},
   "outputs": [],
   "source": []
  }
 ],
 "metadata": {
  "kernelspec": {
   "display_name": "Python 3 (ipykernel)",
   "language": "python",
   "name": "python3"
  },
  "language_info": {
   "codemirror_mode": {
    "name": "ipython",
    "version": 3
   },
   "file_extension": ".py",
   "mimetype": "text/x-python",
   "name": "python",
   "nbconvert_exporter": "python",
   "pygments_lexer": "ipython3",
   "version": "3.9.5"
  }
 },
 "nbformat": 4,
 "nbformat_minor": 5
}
