{
 "cells": [
  {
   "cell_type": "code",
   "execution_count": 1,
   "id": "fcf7c296",
   "metadata": {},
   "outputs": [],
   "source": [
    "from pyspark.sql import SparkSession"
   ]
  },
  {
   "cell_type": "code",
   "execution_count": 2,
   "id": "073d83b9",
   "metadata": {},
   "outputs": [
    {
     "name": "stderr",
     "output_type": "stream",
     "text": [
      "WARNING: An illegal reflective access operation has occurred\n",
      "WARNING: Illegal reflective access by org.apache.spark.unsafe.Platform (file:/usr/local/spark-3.1.2-bin-hadoop3.2/jars/spark-unsafe_2.12-3.1.2.jar) to constructor java.nio.DirectByteBuffer(long,int)\n",
      "WARNING: Please consider reporting this to the maintainers of org.apache.spark.unsafe.Platform\n",
      "WARNING: Use --illegal-access=warn to enable warnings of further illegal reflective access operations\n",
      "WARNING: All illegal access operations will be denied in a future release\n",
      "21/08/02 08:24:11 WARN NativeCodeLoader: Unable to load native-hadoop library for your platform... using builtin-java classes where applicable\n",
      "Using Spark's default log4j profile: org/apache/spark/log4j-defaults.properties\n",
      "Setting default log level to \"WARN\".\n",
      "To adjust logging level use sc.setLogLevel(newLevel). For SparkR, use setLogLevel(newLevel).\n"
     ]
    }
   ],
   "source": [
    "spark = SparkSession.builder.appName(\"NB_Solution\").getOrCreate()"
   ]
  },
  {
   "cell_type": "code",
   "execution_count": 3,
   "id": "42af4906",
   "metadata": {},
   "outputs": [
    {
     "data": {
      "text/html": [
       "\n",
       "            <div>\n",
       "                <p><b>SparkSession - in-memory</b></p>\n",
       "                \n",
       "        <div>\n",
       "            <p><b>SparkContext</b></p>\n",
       "\n",
       "            <p><a href=\"http://e8bcb3d56f73:4040\">Spark UI</a></p>\n",
       "\n",
       "            <dl>\n",
       "              <dt>Version</dt>\n",
       "                <dd><code>v3.1.2</code></dd>\n",
       "              <dt>Master</dt>\n",
       "                <dd><code>local[*]</code></dd>\n",
       "              <dt>AppName</dt>\n",
       "                <dd><code>NB_Solution</code></dd>\n",
       "            </dl>\n",
       "        </div>\n",
       "        \n",
       "            </div>\n",
       "        "
      ],
      "text/plain": [
       "<pyspark.sql.session.SparkSession at 0x7f78f436ab80>"
      ]
     },
     "execution_count": 3,
     "metadata": {},
     "output_type": "execute_result"
    }
   ],
   "source": [
    "spark"
   ]
  },
  {
   "cell_type": "code",
   "execution_count": 4,
   "id": "2e9b11a1",
   "metadata": {},
   "outputs": [],
   "source": [
    "df = spark.read.csv(\"naive.csv\", inferSchema=True, header=True)"
   ]
  },
  {
   "cell_type": "code",
   "execution_count": 5,
   "id": "f616bb5c",
   "metadata": {},
   "outputs": [
    {
     "name": "stdout",
     "output_type": "stream",
     "text": [
      "root\n",
      " |-- Age: integer (nullable = true)\n",
      " |-- Salary: integer (nullable = true)\n",
      " |-- Purchased: integer (nullable = true)\n",
      "\n"
     ]
    }
   ],
   "source": [
    "df.printSchema()"
   ]
  },
  {
   "cell_type": "code",
   "execution_count": 6,
   "id": "ac1c103b",
   "metadata": {},
   "outputs": [
    {
     "name": "stdout",
     "output_type": "stream",
     "text": [
      "+---+------+---------+\n",
      "|Age|Salary|Purchased|\n",
      "+---+------+---------+\n",
      "| 59| 88000|        1|\n",
      "| 35| 61000|        0|\n",
      "| 37| 70000|        1|\n",
      "| 52| 21000|        1|\n",
      "| 48|141000|        0|\n",
      "| 37| 93000|        1|\n",
      "| 37| 62000|        0|\n",
      "| 48|138000|        1|\n",
      "| 41| 79000|        0|\n",
      "| 37| 78000|        1|\n",
      "| 39|134000|        1|\n",
      "| 49| 89000|        1|\n",
      "| 55| 39000|        1|\n",
      "| 37| 77000|        0|\n",
      "| 35| 57000|        0|\n",
      "| 36| 63000|        0|\n",
      "| 42| 73000|        1|\n",
      "+---+------+---------+\n",
      "\n"
     ]
    }
   ],
   "source": [
    "df.show()"
   ]
  },
  {
   "cell_type": "code",
   "execution_count": 7,
   "id": "b765ce65",
   "metadata": {},
   "outputs": [
    {
     "name": "stdout",
     "output_type": "stream",
     "text": [
      "17\n"
     ]
    }
   ],
   "source": [
    "total_data_size = df.count()\n",
    "print(total_data_size)"
   ]
  },
  {
   "cell_type": "code",
   "execution_count": 20,
   "id": "f3ca4750",
   "metadata": {},
   "outputs": [],
   "source": [
    "yes_df = df.filter(\"Play = 'YES'\")\n",
    "no_df = df.filter(\"Play = 'NO'\")"
   ]
  },
  {
   "cell_type": "code",
   "execution_count": 23,
   "id": "d2e6dd0c",
   "metadata": {},
   "outputs": [],
   "source": [
    "yes_size = yes_df.count()\n",
    "no_size = no_df.count()"
   ]
  },
  {
   "cell_type": "code",
   "execution_count": 24,
   "id": "e3d21a94",
   "metadata": {},
   "outputs": [],
   "source": [
    "prob_yes = yes_size / total_data_size\n",
    "prob_no = no_size / total_data_size"
   ]
  },
  {
   "cell_type": "code",
   "execution_count": 25,
   "id": "4b1d5e27",
   "metadata": {},
   "outputs": [
    {
     "name": "stdout",
     "output_type": "stream",
     "text": [
      "0.6428571428571429\n",
      "0.35714285714285715\n"
     ]
    }
   ],
   "source": [
    "print(prob_yes)\n",
    "print(prob_no)"
   ]
  },
  {
   "cell_type": "code",
   "execution_count": 28,
   "id": "8ec7caa1",
   "metadata": {},
   "outputs": [],
   "source": [
    "prob_rainy_given_yes = yes_df.filter(\"Outlook = 'rainy'\").count() / yes_size\n",
    "prob_rainy_given_no = no_df.filter(\"Outlook = 'rainy'\").count() / no_size"
   ]
  },
  {
   "cell_type": "code",
   "execution_count": 29,
   "id": "95aedfe9",
   "metadata": {},
   "outputs": [
    {
     "name": "stdout",
     "output_type": "stream",
     "text": [
      "0.3333333333333333\n",
      "0.4\n"
     ]
    }
   ],
   "source": [
    "print(prob_rainy_given_yes)\n",
    "print(prob_rainy_given_no)"
   ]
  },
  {
   "cell_type": "code",
   "execution_count": 30,
   "id": "4bb179cc",
   "metadata": {},
   "outputs": [],
   "source": [
    "prob_hot_given_yes = yes_df.filter(\"Temperature = 'hot'\").count() / yes_size\n",
    "prob_hot_given_no = no_df.filter(\"Temperature = 'hot'\").count() / no_size"
   ]
  },
  {
   "cell_type": "code",
   "execution_count": 31,
   "id": "6bc4ca63",
   "metadata": {},
   "outputs": [
    {
     "name": "stdout",
     "output_type": "stream",
     "text": [
      "0.2222222222222222\n",
      "0.4\n"
     ]
    }
   ],
   "source": [
    "print(prob_hot_given_yes)\n",
    "print(prob_hot_given_no)"
   ]
  },
  {
   "cell_type": "code",
   "execution_count": 32,
   "id": "01f3d028",
   "metadata": {},
   "outputs": [],
   "source": [
    "prob_normal_given_yes = yes_df.filter(\"Humidity = 'normal'\").count() / yes_size\n",
    "prob_normal_given_no = no_df.filter(\"Humidity = 'normal'\").count() / no_size"
   ]
  },
  {
   "cell_type": "code",
   "execution_count": 33,
   "id": "12a219ca",
   "metadata": {},
   "outputs": [
    {
     "name": "stdout",
     "output_type": "stream",
     "text": [
      "0.6666666666666666\n",
      "0.2\n"
     ]
    }
   ],
   "source": [
    "print(prob_normal_given_yes)\n",
    "print(prob_normal_given_no)"
   ]
  },
  {
   "cell_type": "code",
   "execution_count": 37,
   "id": "78691c67",
   "metadata": {},
   "outputs": [],
   "source": [
    "prob_not_windy_given_yes = yes_df.filter(\"Windy = False\").count() / yes_size\n",
    "prob_not_windy_given_no = no_df.filter(\"Windy = False\").count() / no_size"
   ]
  },
  {
   "cell_type": "code",
   "execution_count": 38,
   "id": "d630c08c",
   "metadata": {},
   "outputs": [
    {
     "name": "stdout",
     "output_type": "stream",
     "text": [
      "0.6666666666666666\n",
      "0.4\n"
     ]
    }
   ],
   "source": [
    "print(prob_not_windy_given_yes)\n",
    "print(prob_not_windy_given_no)"
   ]
  },
  {
   "cell_type": "code",
   "execution_count": 40,
   "id": "1d85d937",
   "metadata": {},
   "outputs": [],
   "source": [
    "likelihood_yes = prob_yes * prob_rainy_given_yes * prob_hot_given_yes * prob_normal_given_yes * prob_not_windy_given_yes\n",
    "likelihood_no = prob_no * prob_rainy_given_no * prob_hot_given_no * prob_normal_given_no * prob_not_windy_given_no"
   ]
  },
  {
   "cell_type": "code",
   "execution_count": 42,
   "id": "450e72d6",
   "metadata": {},
   "outputs": [
    {
     "name": "stdout",
     "output_type": "stream",
     "text": [
      "0.0212\n",
      "0.0046\n"
     ]
    }
   ],
   "source": [
    "print(round(likelihood_yes, 4))\n",
    "print(round(likelihood_no, 4))"
   ]
  },
  {
   "cell_type": "code",
   "execution_count": null,
   "id": "d2ec0590",
   "metadata": {},
   "outputs": [],
   "source": []
  }
 ],
 "metadata": {
  "kernelspec": {
   "display_name": "Python 3 (ipykernel)",
   "language": "python",
   "name": "python3"
  },
  "language_info": {
   "codemirror_mode": {
    "name": "ipython",
    "version": 3
   },
   "file_extension": ".py",
   "mimetype": "text/x-python",
   "name": "python",
   "nbconvert_exporter": "python",
   "pygments_lexer": "ipython3",
   "version": "3.9.5"
  }
 },
 "nbformat": 4,
 "nbformat_minor": 5
}
