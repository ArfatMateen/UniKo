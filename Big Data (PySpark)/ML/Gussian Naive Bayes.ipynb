{
 "cells": [
  {
   "cell_type": "code",
   "execution_count": 1,
   "id": "0c425d89",
   "metadata": {},
   "outputs": [],
   "source": [
    "from pyspark.sql import SparkSession\n",
    "import math"
   ]
  },
  {
   "cell_type": "code",
   "execution_count": 2,
   "id": "2e94e42b",
   "metadata": {},
   "outputs": [],
   "source": [
    "from pyspark.sql.functions import variance, stddev_samp"
   ]
  },
  {
   "cell_type": "code",
   "execution_count": 3,
   "id": "9980c7e5",
   "metadata": {},
   "outputs": [
    {
     "name": "stderr",
     "output_type": "stream",
     "text": [
      "WARNING: An illegal reflective access operation has occurred\n",
      "WARNING: Illegal reflective access by org.apache.spark.unsafe.Platform (file:/usr/local/spark-3.1.2-bin-hadoop3.2/jars/spark-unsafe_2.12-3.1.2.jar) to constructor java.nio.DirectByteBuffer(long,int)\n",
      "WARNING: Please consider reporting this to the maintainers of org.apache.spark.unsafe.Platform\n",
      "WARNING: Use --illegal-access=warn to enable warnings of further illegal reflective access operations\n",
      "WARNING: All illegal access operations will be denied in a future release\n",
      "21/08/02 10:31:44 WARN NativeCodeLoader: Unable to load native-hadoop library for your platform... using builtin-java classes where applicable\n",
      "Using Spark's default log4j profile: org/apache/spark/log4j-defaults.properties\n",
      "Setting default log level to \"WARN\".\n",
      "To adjust logging level use sc.setLogLevel(newLevel). For SparkR, use setLogLevel(newLevel).\n"
     ]
    }
   ],
   "source": [
    "spark = SparkSession.builder.appName(\"GNB_Solution\").getOrCreate()\n",
    "spark.sparkContext.setLogLevel(\"ERROR\")"
   ]
  },
  {
   "cell_type": "code",
   "execution_count": 4,
   "id": "b35fb113",
   "metadata": {},
   "outputs": [
    {
     "data": {
      "text/html": [
       "\n",
       "            <div>\n",
       "                <p><b>SparkSession - in-memory</b></p>\n",
       "                \n",
       "        <div>\n",
       "            <p><b>SparkContext</b></p>\n",
       "\n",
       "            <p><a href=\"http://e8bcb3d56f73:4040\">Spark UI</a></p>\n",
       "\n",
       "            <dl>\n",
       "              <dt>Version</dt>\n",
       "                <dd><code>v3.1.2</code></dd>\n",
       "              <dt>Master</dt>\n",
       "                <dd><code>local[*]</code></dd>\n",
       "              <dt>AppName</dt>\n",
       "                <dd><code>GNB_Solution</code></dd>\n",
       "            </dl>\n",
       "        </div>\n",
       "        \n",
       "            </div>\n",
       "        "
      ],
      "text/plain": [
       "<pyspark.sql.session.SparkSession at 0x7f75f2f2f550>"
      ]
     },
     "execution_count": 4,
     "metadata": {},
     "output_type": "execute_result"
    }
   ],
   "source": [
    "spark"
   ]
  },
  {
   "cell_type": "code",
   "execution_count": 5,
   "id": "e17dc59b",
   "metadata": {},
   "outputs": [],
   "source": [
    "dataSet = spark.read.csv(\"naive.csv\", inferSchema=True, header=True)"
   ]
  },
  {
   "cell_type": "code",
   "execution_count": 6,
   "id": "bb6fc011",
   "metadata": {},
   "outputs": [
    {
     "name": "stdout",
     "output_type": "stream",
     "text": [
      "+---+------+---------+\n",
      "|Age|Salary|Purchased|\n",
      "+---+------+---------+\n",
      "| 59| 88000|        1|\n",
      "| 35| 61000|        0|\n",
      "| 37| 70000|        1|\n",
      "| 52| 21000|        1|\n",
      "| 48|141000|        0|\n",
      "| 37| 93000|        1|\n",
      "| 37| 62000|        0|\n",
      "| 48|138000|        1|\n",
      "| 41| 79000|        0|\n",
      "| 37| 78000|        1|\n",
      "| 39|134000|        1|\n",
      "| 49| 89000|        1|\n",
      "| 55| 39000|        1|\n",
      "| 37| 77000|        0|\n",
      "| 35| 57000|        0|\n",
      "| 36| 63000|        0|\n",
      "| 42| 73000|        1|\n",
      "+---+------+---------+\n",
      "\n"
     ]
    }
   ],
   "source": [
    "dataSet.show()"
   ]
  },
  {
   "cell_type": "code",
   "execution_count": 40,
   "id": "02eec135",
   "metadata": {},
   "outputs": [
    {
     "name": "stdout",
     "output_type": "stream",
     "text": [
      "+---------+-----------------+\n",
      "|Purchased|      avg(Salary)|\n",
      "+---------+-----------------+\n",
      "|        1|          82300.0|\n",
      "|        0|77142.85714285714|\n",
      "+---------+-----------------+\n",
      "\n"
     ]
    }
   ],
   "source": [
    "means_Salary = dataSet.groupBy(\"Purchased\").mean(\"Salary\")\n",
    "means_Salary.show()"
   ]
  },
  {
   "cell_type": "code",
   "execution_count": 38,
   "id": "e43e1b84",
   "metadata": {},
   "outputs": [
    {
     "name": "stdout",
     "output_type": "stream",
     "text": [
      "+---------+-----------------+\n",
      "|Purchased|         avg(Age)|\n",
      "+---------+-----------------+\n",
      "|        1|             45.5|\n",
      "|        0|38.42857142857143|\n",
      "+---------+-----------------+\n",
      "\n"
     ]
    }
   ],
   "source": [
    "means_age = dataSet.groupBy(\"Purchased\").mean(\"Age\")\n",
    "means_age.show()"
   ]
  },
  {
   "cell_type": "code",
   "execution_count": 39,
   "id": "c0c94a2a",
   "metadata": {},
   "outputs": [
    {
     "name": "stdout",
     "output_type": "stream",
     "text": [
      "+---------+-------------------+\n",
      "|Purchased|stddev_samp(Salary)|\n",
      "+---------+-------------------+\n",
      "|        1| 36295.239969511764|\n",
      "|        0|  29373.61952176687|\n",
      "+---------+-------------------+\n",
      "\n"
     ]
    }
   ],
   "source": [
    "stdv_Salary = dataSet.groupBy(\"Purchased\").agg(stddev_samp(\"Salary\"))\n",
    "stdv_Salary.show()"
   ]
  },
  {
   "cell_type": "code",
   "execution_count": 26,
   "id": "ed4d0503",
   "metadata": {},
   "outputs": [
    {
     "name": "stdout",
     "output_type": "stream",
     "text": [
      "+---------+-----------------+\n",
      "|Purchased| stddev_samp(Age)|\n",
      "+---------+-----------------+\n",
      "|        1|8.195527235429498|\n",
      "|        0| 4.68533680244878|\n",
      "+---------+-----------------+\n",
      "\n"
     ]
    }
   ],
   "source": [
    "stdv_age = dataSet.groupBy(\"Purchased\").agg(stddev_samp(\"Age\"))\n",
    "stdv_age.show()"
   ]
  },
  {
   "cell_type": "code",
   "execution_count": 27,
   "id": "94b9da75",
   "metadata": {},
   "outputs": [
    {
     "name": "stdout",
     "output_type": "stream",
     "text": [
      "+---------+--------------------+\n",
      "|Purchased|    var_samp(Salary)|\n",
      "+---------+--------------------+\n",
      "|        1|1.3173444444444444E9|\n",
      "|        0| 8.628095238095237E8|\n",
      "+---------+--------------------+\n",
      "\n"
     ]
    }
   ],
   "source": [
    "variances_salary = dataSet.groupBy(\"Purchased\").agg(variance(\"Salary\"))\n",
    "variances_salary.show()"
   ]
  },
  {
   "cell_type": "code",
   "execution_count": 28,
   "id": "94e32c7d",
   "metadata": {},
   "outputs": [
    {
     "name": "stdout",
     "output_type": "stream",
     "text": [
      "+---------+--------------------+\n",
      "|Purchased|    var_samp(Salary)|\n",
      "+---------+--------------------+\n",
      "|        1|1.3173444444444444E9|\n",
      "|        0| 8.628095238095237E8|\n",
      "+---------+--------------------+\n",
      "\n"
     ]
    }
   ],
   "source": [
    "variances_age = dataSet.groupBy(\"Purchased\").agg(variance(\"Salary\"))\n",
    "variances_age.show()"
   ]
  },
  {
   "cell_type": "code",
   "execution_count": 30,
   "id": "aea577a3",
   "metadata": {},
   "outputs": [
    {
     "name": "stdout",
     "output_type": "stream",
     "text": [
      "+---+------+---------+\n",
      "|Age|Salary|Purchased|\n",
      "+---+------+---------+\n",
      "| 59| 88000|        1|\n",
      "| 37| 70000|        1|\n",
      "| 52| 21000|        1|\n",
      "| 37| 93000|        1|\n",
      "| 48|138000|        1|\n",
      "| 37| 78000|        1|\n",
      "| 39|134000|        1|\n",
      "| 49| 89000|        1|\n",
      "| 55| 39000|        1|\n",
      "| 42| 73000|        1|\n",
      "+---+------+---------+\n",
      "\n"
     ]
    }
   ],
   "source": [
    "dataset_yes = dataSet.filter(\"Purchased = True\")\n",
    "dataset_yes.show()"
   ]
  },
  {
   "cell_type": "code",
   "execution_count": 31,
   "id": "af4845f5",
   "metadata": {},
   "outputs": [
    {
     "name": "stdout",
     "output_type": "stream",
     "text": [
      "+---+------+---------+\n",
      "|Age|Salary|Purchased|\n",
      "+---+------+---------+\n",
      "| 35| 61000|        0|\n",
      "| 48|141000|        0|\n",
      "| 37| 62000|        0|\n",
      "| 41| 79000|        0|\n",
      "| 37| 77000|        0|\n",
      "| 35| 57000|        0|\n",
      "| 36| 63000|        0|\n",
      "+---+------+---------+\n",
      "\n"
     ]
    }
   ],
   "source": [
    "dataset_no = dataSet.filter(\"Purchased = False\")\n",
    "dataset_no.show()"
   ]
  },
  {
   "cell_type": "code",
   "execution_count": 32,
   "id": "0e79d3d2",
   "metadata": {},
   "outputs": [],
   "source": [
    "n_total = dataSet.count()"
   ]
  },
  {
   "cell_type": "code",
   "execution_count": 33,
   "id": "2a830018",
   "metadata": {},
   "outputs": [],
   "source": [
    "n_yes = dataset_yes.count()"
   ]
  },
  {
   "cell_type": "code",
   "execution_count": 34,
   "id": "41240bf6",
   "metadata": {},
   "outputs": [],
   "source": [
    "n_no = dataset_no.count()"
   ]
  },
  {
   "cell_type": "code",
   "execution_count": 35,
   "id": "44cf7f09",
   "metadata": {},
   "outputs": [],
   "source": [
    "p_yes = n_yes / n_total"
   ]
  },
  {
   "cell_type": "code",
   "execution_count": 36,
   "id": "05469ed8",
   "metadata": {},
   "outputs": [],
   "source": [
    "p_no = n_no / n_total"
   ]
  },
  {
   "cell_type": "code",
   "execution_count": 37,
   "id": "8d11abaf",
   "metadata": {},
   "outputs": [
    {
     "name": "stdout",
     "output_type": "stream",
     "text": [
      "0.5882352941176471\n",
      "0.4117647058823529\n"
     ]
    }
   ],
   "source": [
    "print(p_yes)\n",
    "print(p_no)"
   ]
  },
  {
   "cell_type": "code",
   "execution_count": 17,
   "id": "58312a83",
   "metadata": {},
   "outputs": [
    {
     "name": "stderr",
     "output_type": "stream",
     "text": [
      "                                                                                \r"
     ]
    },
    {
     "data": {
      "text/plain": [
       "[Row(PassExam='No', avg(Score)=29.8),\n",
       " Row(PassExam='Yes', avg(Score)=76.16666666666667)]"
      ]
     },
     "execution_count": 17,
     "metadata": {},
     "output_type": "execute_result"
    }
   ],
   "source": [
    "dataSet.groupBy(\"PassExam\").mean(\"Score\").collect()"
   ]
  },
  {
   "cell_type": "code",
   "execution_count": 18,
   "id": "114d79b0",
   "metadata": {},
   "outputs": [
    {
     "name": "stderr",
     "output_type": "stream",
     "text": [
      "\r",
      "[Stage 32:============================================>        (169 + 18) / 200]\r",
      "\r",
      "                                                                                \r"
     ]
    }
   ],
   "source": [
    "mean_n = dataSet.groupBy(\"PassExam\").mean(\"Score\").collect()[0][1]"
   ]
  },
  {
   "cell_type": "code",
   "execution_count": 19,
   "id": "f8d41dbc",
   "metadata": {},
   "outputs": [],
   "source": [
    "mean_y = dataSet.groupBy(\"PassExam\").mean(\"Score\").collect()[1][1]"
   ]
  },
  {
   "cell_type": "code",
   "execution_count": 20,
   "id": "c4babe4e",
   "metadata": {},
   "outputs": [
    {
     "name": "stdout",
     "output_type": "stream",
     "text": [
      "29.8\n",
      "76.16666666666667\n"
     ]
    }
   ],
   "source": [
    "print(mean_n)\n",
    "print(mean_y)"
   ]
  },
  {
   "cell_type": "code",
   "execution_count": 21,
   "id": "6f150b20",
   "metadata": {},
   "outputs": [],
   "source": [
    "variance_n = dataSet.groupBy(\"PassExam\").agg(variance(\"Score\")).collect()[0][1]"
   ]
  },
  {
   "cell_type": "code",
   "execution_count": 22,
   "id": "0376832a",
   "metadata": {},
   "outputs": [],
   "source": [
    "variance_y = dataSet.groupBy(\"PassExam\").agg(variance(\"Score\")).collect()[1][1]"
   ]
  },
  {
   "cell_type": "code",
   "execution_count": 23,
   "id": "85d6abe0",
   "metadata": {},
   "outputs": [
    {
     "name": "stdout",
     "output_type": "stream",
     "text": [
      "131.70000000000002\n",
      "267.76666666666665\n"
     ]
    }
   ],
   "source": [
    "print(variance_n)\n",
    "print(variance_y)"
   ]
  },
  {
   "cell_type": "code",
   "execution_count": 31,
   "id": "9debe281",
   "metadata": {},
   "outputs": [],
   "source": [
    "final_p_y = ((1 / math.sqrt(2 * math.pi * variance_y)) * math.exp((-0.5 * ((61 - mean_y) ** 2) / variance_y)))"
   ]
  },
  {
   "cell_type": "code",
   "execution_count": 32,
   "id": "b9ba57b1",
   "metadata": {},
   "outputs": [],
   "source": [
    "final_p_n = ((1 / math.sqrt(2 * math.pi * variance_n)) * math.exp((-0.5 * ((61 - mean_n) ** 2) / variance_n)))"
   ]
  },
  {
   "cell_type": "markdown",
   "id": "efb6243d",
   "metadata": {},
   "source": [
    "### P(61|Yes)"
   ]
  },
  {
   "cell_type": "code",
   "execution_count": 33,
   "id": "306f2f70",
   "metadata": {},
   "outputs": [
    {
     "name": "stdout",
     "output_type": "stream",
     "text": [
      "0.01586679399696767\n"
     ]
    }
   ],
   "source": [
    "print(final_p_y)"
   ]
  },
  {
   "cell_type": "markdown",
   "id": "8e965347",
   "metadata": {},
   "source": [
    "## P(61|No)"
   ]
  },
  {
   "cell_type": "code",
   "execution_count": 34,
   "id": "2fb3b1f5",
   "metadata": {},
   "outputs": [
    {
     "name": "stdout",
     "output_type": "stream",
     "text": [
      "0.0008631916482906215\n"
     ]
    }
   ],
   "source": [
    "print(final_p_n)"
   ]
  },
  {
   "cell_type": "markdown",
   "id": "0e59f58f",
   "metadata": {},
   "source": [
    "### Likelihood P(Yes|61) & P(NO|61)"
   ]
  },
  {
   "cell_type": "code",
   "execution_count": 35,
   "id": "017a187f",
   "metadata": {},
   "outputs": [],
   "source": [
    "likelihood_y = p_yes * final_p_y\n",
    "likelihood_n = p_no * final_p_n"
   ]
  },
  {
   "cell_type": "code",
   "execution_count": 36,
   "id": "81b11512",
   "metadata": {},
   "outputs": [
    {
     "name": "stdout",
     "output_type": "stream",
     "text": [
      "Likelihood Yes: 0.00865461490743691\n",
      "Likelihood NO: 0.00039235984013210066\n"
     ]
    }
   ],
   "source": [
    "print(f'Likelihood Yes: {likelihood_y}')\n",
    "print(f'Likelihood NO: {likelihood_n}')"
   ]
  },
  {
   "cell_type": "code",
   "execution_count": 37,
   "id": "1df6ed29",
   "metadata": {},
   "outputs": [
    {
     "name": "stdout",
     "output_type": "stream",
     "text": [
      "Yes\n"
     ]
    }
   ],
   "source": [
    "print(\"Yes\" if likelihood_y > likelihood_n else \"No\")"
   ]
  },
  {
   "cell_type": "code",
   "execution_count": null,
   "id": "e63a64fb",
   "metadata": {},
   "outputs": [],
   "source": []
  }
 ],
 "metadata": {
  "kernelspec": {
   "display_name": "Python 3 (ipykernel)",
   "language": "python",
   "name": "python3"
  },
  "language_info": {
   "codemirror_mode": {
    "name": "ipython",
    "version": 3
   },
   "file_extension": ".py",
   "mimetype": "text/x-python",
   "name": "python",
   "nbconvert_exporter": "python",
   "pygments_lexer": "ipython3",
   "version": "3.9.5"
  }
 },
 "nbformat": 4,
 "nbformat_minor": 5
}
