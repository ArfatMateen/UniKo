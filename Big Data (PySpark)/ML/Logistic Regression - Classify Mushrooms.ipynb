{
 "cells": [
  {
   "cell_type": "code",
   "execution_count": 2,
   "metadata": {},
   "outputs": [],
   "source": [
    "from pyspark.sql import SparkSession\n",
    "from pyspark.sql.functions import expr\n",
    "from pyspark.ml.feature import RFormula\n",
    "from pyspark.ml.classification import LogisticRegression"
   ]
  },
  {
   "cell_type": "code",
   "execution_count": 3,
   "metadata": {},
   "outputs": [
    {
     "name": "stderr",
     "output_type": "stream",
     "text": [
      "WARNING: An illegal reflective access operation has occurred\n",
      "WARNING: Illegal reflective access by org.apache.spark.unsafe.Platform (file:/usr/local/spark-3.1.2-bin-hadoop3.2/jars/spark-unsafe_2.12-3.1.2.jar) to constructor java.nio.DirectByteBuffer(long,int)\n",
      "WARNING: Please consider reporting this to the maintainers of org.apache.spark.unsafe.Platform\n",
      "WARNING: Use --illegal-access=warn to enable warnings of further illegal reflective access operations\n",
      "WARNING: All illegal access operations will be denied in a future release\n",
      "21/08/01 14:46:13 WARN NativeCodeLoader: Unable to load native-hadoop library for your platform... using builtin-java classes where applicable\n",
      "Using Spark's default log4j profile: org/apache/spark/log4j-defaults.properties\n",
      "Setting default log level to \"WARN\".\n",
      "To adjust logging level use sc.setLogLevel(newLevel). For SparkR, use setLogLevel(newLevel).\n",
      "21/08/01 14:46:14 WARN Utils: Service 'SparkUI' could not bind on port 4040. Attempting port 4041.\n",
      "21/08/01 14:46:14 WARN Utils: Service 'SparkUI' could not bind on port 4041. Attempting port 4042.\n"
     ]
    }
   ],
   "source": [
    "spark = SparkSession.builder.appName('LR_Solution').getOrCreate()"
   ]
  },
  {
   "cell_type": "code",
   "execution_count": 4,
   "metadata": {},
   "outputs": [
    {
     "data": {
      "text/html": [
       "\n",
       "            <div>\n",
       "                <p><b>SparkSession - in-memory</b></p>\n",
       "                \n",
       "        <div>\n",
       "            <p><b>SparkContext</b></p>\n",
       "\n",
       "            <p><a href=\"http://e8bcb3d56f73:4042\">Spark UI</a></p>\n",
       "\n",
       "            <dl>\n",
       "              <dt>Version</dt>\n",
       "                <dd><code>v3.1.2</code></dd>\n",
       "              <dt>Master</dt>\n",
       "                <dd><code>local[*]</code></dd>\n",
       "              <dt>AppName</dt>\n",
       "                <dd><code>LR_Solution</code></dd>\n",
       "            </dl>\n",
       "        </div>\n",
       "        \n",
       "            </div>\n",
       "        "
      ],
      "text/plain": [
       "<pyspark.sql.session.SparkSession at 0x7f3bddcd5b20>"
      ]
     },
     "execution_count": 4,
     "metadata": {},
     "output_type": "execute_result"
    }
   ],
   "source": [
    "spark"
   ]
  },
  {
   "cell_type": "code",
   "execution_count": 14,
   "metadata": {},
   "outputs": [],
   "source": [
    "mushroom_data = spark.read.csv(\"mushrooms.csv\", inferSchema=True, header=True)"
   ]
  },
  {
   "cell_type": "code",
   "execution_count": 15,
   "metadata": {},
   "outputs": [
    {
     "name": "stdout",
     "output_type": "stream",
     "text": [
      "+------+--------+----------+--------+-------+------+--------------+-----------+--------+---------+----------+---------+---------------------+---------------------+-------------------+-------------------+--------+---------+----------+--------+---------------+----------+-------+\n",
      "|   Lab|CapShape|CapSurface|CapColor|Bruises|  Odor|GillAttachment|GillSpacing|GillSize|GillColor|StalkShape|StalkRoot|StalkSurfaceAboveRing|StalkSurfaceBelowRing|StalkColorAboveRing|StalkColorBelowRing|VeilType|VeilColor|RingNumber|RingType|SporePrintColor|Population|Habitat|\n",
      "+------+--------+----------+--------+-------+------+--------------+-----------+--------+---------+----------+---------+---------------------+---------------------+-------------------+-------------------+--------+---------+----------+--------+---------------+----------+-------+\n",
      "|EDIBLE|  CONVEX|    SMOOTH|   WHITE|BRUISES|ALMOND|          FREE|    CROWDED|  NARROW|    WHITE|  TAPERING|  BULBOUS|               SMOOTH|               SMOOTH|              WHITE|              WHITE| PARTIAL|    WHITE|       ONE| PENDANT|         PURPLE|   SEVERAL|  WOODS|\n",
      "|EDIBLE|  CONVEX|    SMOOTH|   WHITE|BRUISES|ALMOND|          FREE|    CROWDED|  NARROW|    WHITE|  TAPERING|  BULBOUS|               SMOOTH|               SMOOTH|              WHITE|              WHITE| PARTIAL|    WHITE|       ONE| PENDANT|          BROWN|   SEVERAL|  WOODS|\n",
      "|EDIBLE|  CONVEX|    SMOOTH|   WHITE|BRUISES|ALMOND|          FREE|    CROWDED|  NARROW|     PINK|  TAPERING|  BULBOUS|               SMOOTH|               SMOOTH|              WHITE|              WHITE| PARTIAL|    WHITE|       ONE| PENDANT|         PURPLE|   SEVERAL|  WOODS|\n",
      "|EDIBLE|  CONVEX|    SMOOTH|   WHITE|BRUISES|ALMOND|          FREE|    CROWDED|  NARROW|     PINK|  TAPERING|  BULBOUS|               SMOOTH|               SMOOTH|              WHITE|              WHITE| PARTIAL|    WHITE|       ONE| PENDANT|          BROWN|   SEVERAL|  WOODS|\n",
      "|EDIBLE|  CONVEX|    SMOOTH|   WHITE|BRUISES|ALMOND|          FREE|    CROWDED|  NARROW|    BROWN|  TAPERING|  BULBOUS|               SMOOTH|               SMOOTH|              WHITE|              WHITE| PARTIAL|    WHITE|       ONE| PENDANT|         PURPLE|   SEVERAL|  WOODS|\n",
      "+------+--------+----------+--------+-------+------+--------------+-----------+--------+---------+----------+---------+---------------------+---------------------+-------------------+-------------------+--------+---------+----------+--------+---------------+----------+-------+\n",
      "only showing top 5 rows\n",
      "\n"
     ]
    }
   ],
   "source": [
    "mushroom_data.show(5)"
   ]
  },
  {
   "cell_type": "code",
   "execution_count": 18,
   "metadata": {},
   "outputs": [],
   "source": [
    "mushroom_data = mushroom_data.drop(\"VeilType\")"
   ]
  },
  {
   "cell_type": "code",
   "execution_count": 19,
   "metadata": {},
   "outputs": [],
   "source": [
    "features_vector = RFormula(formula= \"Lab ~ .\")"
   ]
  },
  {
   "cell_type": "code",
   "execution_count": 20,
   "metadata": {},
   "outputs": [],
   "source": [
    "preprocessed_data = features_vector.fit(mushroom_data).transform(mushroom_data)"
   ]
  },
  {
   "cell_type": "code",
   "execution_count": 21,
   "metadata": {
    "collapsed": true
   },
   "outputs": [
    {
     "name": "stderr",
     "output_type": "stream",
     "text": [
      "21/08/01 14:50:32 WARN package: Truncated the string representation of a plan since it was too large. This behavior can be adjusted by setting 'spark.sql.debug.maxToStringFields'.\n"
     ]
    },
    {
     "name": "stdout",
     "output_type": "stream",
     "text": [
      "+------------------------------------------------------------------------------------------------------------------------------------+-----+\n",
      "|features                                                                                                                            |label|\n",
      "+------------------------------------------------------------------------------------------------------------------------------------+-----+\n",
      "|(95,[0,6,12,22,26,31,40,41,45,48,51,59,67,70,72,83,84,89],[1.0,1.0,1.0,1.0,1.0,1.0,1.0,1.0,1.0,1.0,1.0,1.0,1.0,1.0,1.0,1.0,1.0,1.0])|0.0  |\n",
      "|(95,[0,6,12,22,26,31,40,41,45,48,51,59,67,70,72,77,84,89],[1.0,1.0,1.0,1.0,1.0,1.0,1.0,1.0,1.0,1.0,1.0,1.0,1.0,1.0,1.0,1.0,1.0,1.0])|0.0  |\n",
      "|(95,[0,6,12,22,26,30,40,41,45,48,51,59,67,70,72,83,84,89],[1.0,1.0,1.0,1.0,1.0,1.0,1.0,1.0,1.0,1.0,1.0,1.0,1.0,1.0,1.0,1.0,1.0,1.0])|0.0  |\n",
      "|(95,[0,6,12,22,26,30,40,41,45,48,51,59,67,70,72,77,84,89],[1.0,1.0,1.0,1.0,1.0,1.0,1.0,1.0,1.0,1.0,1.0,1.0,1.0,1.0,1.0,1.0,1.0,1.0])|0.0  |\n",
      "|(95,[0,6,12,22,26,32,40,41,45,48,51,59,67,70,72,83,84,89],[1.0,1.0,1.0,1.0,1.0,1.0,1.0,1.0,1.0,1.0,1.0,1.0,1.0,1.0,1.0,1.0,1.0,1.0])|0.0  |\n",
      "+------------------------------------------------------------------------------------------------------------------------------------+-----+\n",
      "only showing top 5 rows\n",
      "\n"
     ]
    }
   ],
   "source": [
    "preprocessed_data.select(\"features\", \"label\").show(5, truncate=False)"
   ]
  },
  {
   "cell_type": "code",
   "execution_count": 23,
   "metadata": {},
   "outputs": [],
   "source": [
    "train_data, test_data = preprocessed_data.randomSplit([0.7, 0.3])"
   ]
  },
  {
   "cell_type": "code",
   "execution_count": 24,
   "metadata": {},
   "outputs": [],
   "source": [
    "lr = LogisticRegression(labelCol=\"label\", featuresCol=\"features\")"
   ]
  },
  {
   "cell_type": "code",
   "execution_count": 26,
   "metadata": {},
   "outputs": [
    {
     "name": "stderr",
     "output_type": "stream",
     "text": [
      "21/08/01 14:51:34 WARN BLAS: Failed to load implementation from: com.github.fommil.netlib.NativeSystemBLAS\n",
      "21/08/01 14:51:34 WARN BLAS: Failed to load implementation from: com.github.fommil.netlib.NativeRefBLAS\n",
      "                                                                                \r"
     ]
    }
   ],
   "source": [
    "fitted_lr = lr.fit(train_data)"
   ]
  },
  {
   "cell_type": "code",
   "execution_count": 32,
   "metadata": {},
   "outputs": [],
   "source": [
    "result = fitted_lr.transform(preprocessed_data)"
   ]
  },
  {
   "cell_type": "code",
   "execution_count": 28,
   "metadata": {
    "collapsed": true
   },
   "outputs": [
    {
     "name": "stdout",
     "output_type": "stream",
     "text": [
      "+------+--------+----------+--------+-------+----+--------------+-----------+--------+---------+----------+---------+---------------------+---------------------+-------------------+-------------------+---------+----------+--------+---------------+----------+-------+--------------------+-----+--------------------+--------------------+----------+\n",
      "|   Lab|CapShape|CapSurface|CapColor|Bruises|Odor|GillAttachment|GillSpacing|GillSize|GillColor|StalkShape|StalkRoot|StalkSurfaceAboveRing|StalkSurfaceBelowRing|StalkColorAboveRing|StalkColorBelowRing|VeilColor|RingNumber|RingType|SporePrintColor|Population|Habitat|            features|label|       rawPrediction|         probability|prediction|\n",
      "+------+--------+----------+--------+-------+----+--------------+-----------+--------+---------+----------+---------+---------------------+---------------------+-------------------+-------------------+---------+----------+--------+---------------+----------+-------+--------------------+-----+--------------------+--------------------+----------+\n",
      "|EDIBLE|    BELL|   FIBROUS|    GRAY|     NO|NONE|          FREE|    CROWDED|   BROAD|     GRAY| ENLARGING|        ?|               SMOOTH|               SMOOTH|              WHITE|              WHITE|    WHITE|       TWO| PENDANT|          WHITE|  NUMEROUS|GRASSES|(95,[3,7,9,17,18,...|  0.0|[49.6987430123670...|           [1.0,0.0]|       0.0|\n",
      "|EDIBLE|    BELL|   FIBROUS|    GRAY|     NO|NONE|          FREE|    CROWDED|   BROAD|     PINK| ENLARGING|        ?|                SILKY|               SMOOTH|              WHITE|              WHITE|    WHITE|       TWO| PENDANT|          WHITE|  NUMEROUS|GRASSES|(95,[3,7,9,17,18,...|  0.0|[35.5410120365127...|[0.99999999999999...|       0.0|\n",
      "|EDIBLE|    BELL|   FIBROUS|    GRAY|     NO|NONE|          FREE|    CROWDED|   BROAD|     PINK| ENLARGING|        ?|                SILKY|               SMOOTH|              WHITE|              WHITE|    WHITE|       TWO| PENDANT|          WHITE| SCATTERED|GRASSES|(95,[3,7,9,17,18,...|  0.0|[31.9894528219029...|[0.99999999999998...|       0.0|\n",
      "|EDIBLE|    BELL|   FIBROUS|    GRAY|     NO|NONE|          FREE|    CROWDED|   BROAD|     PINK| ENLARGING|        ?|               SMOOTH|               SMOOTH|              WHITE|              WHITE|    WHITE|       TWO| PENDANT|          WHITE|  NUMEROUS|GRASSES|(95,[3,7,9,17,18,...|  0.0|[49.2384683030002...|           [1.0,0.0]|       0.0|\n",
      "|EDIBLE|    BELL|   FIBROUS|    GRAY|     NO|NONE|          FREE|    CROWDED|   BROAD|    WHITE| ENLARGING|        ?|               SMOOTH|                SILKY|              WHITE|              WHITE|    WHITE|       TWO| PENDANT|          WHITE|  NUMEROUS|GRASSES|(95,[3,7,9,17,18,...|  0.0|[40.7837252016355...|           [1.0,0.0]|       0.0|\n",
      "+------+--------+----------+--------+-------+----+--------------+-----------+--------+---------+----------+---------+---------------------+---------------------+-------------------+-------------------+---------+----------+--------+---------------+----------+-------+--------------------+-----+--------------------+--------------------+----------+\n",
      "only showing top 5 rows\n",
      "\n"
     ]
    }
   ],
   "source": [
    "result.show(5)"
   ]
  },
  {
   "cell_type": "code",
   "execution_count": 33,
   "metadata": {},
   "outputs": [
    {
     "name": "stdout",
     "output_type": "stream",
     "text": [
      "True Postive: 3928\n",
      "False Postive: 0\n",
      "\n",
      "True Negative: 4488\n",
      "False Negative: 0\n"
     ]
    }
   ],
   "source": [
    "result = result.select(\"Lab\", \"prediction\")\n",
    "\n",
    "truePositive = result.filter(\"prediction = 1.0 AND label = 1.0\").count()\n",
    "print(\"True Postive: \" + str(truePositive))\n",
    "\n",
    "falsePositive = result.filter(\"prediction = 1.0 AND label = 0.0\").count()\n",
    "print(\"False Postive: \" + str(falsePositive))\n",
    "\n",
    "print(\"\")\n",
    "\n",
    "trueNegative = result.filter(\"prediction = 0.0 AND label = 0.0\").count()\n",
    "print(\"True Negative: \" + str(trueNegative))\n",
    "\n",
    "falseNegative = result.filter(\"prediction = 0.0 AND label = 1.0\").count()\n",
    "print(\"False Negative: \" + str(falseNegative))"
   ]
  },
  {
   "cell_type": "code",
   "execution_count": 23,
   "metadata": {},
   "outputs": [],
   "source": [
    "spark.stop()"
   ]
  }
 ],
 "metadata": {
  "kernelspec": {
   "display_name": "Python 3 (ipykernel)",
   "language": "python",
   "name": "python3"
  },
  "language_info": {
   "codemirror_mode": {
    "name": "ipython",
    "version": 3
   },
   "file_extension": ".py",
   "mimetype": "text/x-python",
   "name": "python",
   "nbconvert_exporter": "python",
   "pygments_lexer": "ipython3",
   "version": "3.9.5"
  }
 },
 "nbformat": 4,
 "nbformat_minor": 4
}
