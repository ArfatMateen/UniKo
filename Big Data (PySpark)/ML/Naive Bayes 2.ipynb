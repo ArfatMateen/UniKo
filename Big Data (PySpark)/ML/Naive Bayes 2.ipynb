{
 "cells": [
  {
   "cell_type": "code",
   "execution_count": 3,
   "id": "b89d590f",
   "metadata": {},
   "outputs": [],
   "source": [
    "from pyspark.sql import SparkSession"
   ]
  },
  {
   "cell_type": "code",
   "execution_count": 4,
   "id": "6b04a144",
   "metadata": {},
   "outputs": [
    {
     "name": "stderr",
     "output_type": "stream",
     "text": [
      "WARNING: An illegal reflective access operation has occurred\n",
      "WARNING: Illegal reflective access by org.apache.spark.unsafe.Platform (file:/usr/local/spark-3.1.2-bin-hadoop3.2/jars/spark-unsafe_2.12-3.1.2.jar) to constructor java.nio.DirectByteBuffer(long,int)\n",
      "WARNING: Please consider reporting this to the maintainers of org.apache.spark.unsafe.Platform\n",
      "WARNING: Use --illegal-access=warn to enable warnings of further illegal reflective access operations\n",
      "WARNING: All illegal access operations will be denied in a future release\n",
      "21/08/01 09:34:56 WARN NativeCodeLoader: Unable to load native-hadoop library for your platform... using builtin-java classes where applicable\n",
      "Using Spark's default log4j profile: org/apache/spark/log4j-defaults.properties\n",
      "Setting default log level to \"WARN\".\n",
      "To adjust logging level use sc.setLogLevel(newLevel). For SparkR, use setLogLevel(newLevel).\n",
      "21/08/01 09:34:57 WARN Utils: Service 'SparkUI' could not bind on port 4040. Attempting port 4041.\n"
     ]
    }
   ],
   "source": [
    "spark = SparkSession.builder.appName(\"NB_Solution\").getOrCreate()"
   ]
  },
  {
   "cell_type": "code",
   "execution_count": 5,
   "id": "1683eccd",
   "metadata": {},
   "outputs": [
    {
     "data": {
      "text/html": [
       "\n",
       "            <div>\n",
       "                <p><b>SparkSession - in-memory</b></p>\n",
       "                \n",
       "        <div>\n",
       "            <p><b>SparkContext</b></p>\n",
       "\n",
       "            <p><a href=\"http://e8bcb3d56f73:4041\">Spark UI</a></p>\n",
       "\n",
       "            <dl>\n",
       "              <dt>Version</dt>\n",
       "                <dd><code>v3.1.2</code></dd>\n",
       "              <dt>Master</dt>\n",
       "                <dd><code>local[*]</code></dd>\n",
       "              <dt>AppName</dt>\n",
       "                <dd><code>NB_Solution</code></dd>\n",
       "            </dl>\n",
       "        </div>\n",
       "        \n",
       "            </div>\n",
       "        "
      ],
      "text/plain": [
       "<pyspark.sql.session.SparkSession at 0x7fdf002fe280>"
      ]
     },
     "execution_count": 5,
     "metadata": {},
     "output_type": "execute_result"
    }
   ],
   "source": [
    "spark"
   ]
  },
  {
   "cell_type": "code",
   "execution_count": 6,
   "id": "9e70767e",
   "metadata": {},
   "outputs": [],
   "source": [
    "df = spark.read.csv(\"fruit_dataset.csv\", inferSchema=True, header=True)"
   ]
  },
  {
   "cell_type": "code",
   "execution_count": 7,
   "id": "e9d376cd",
   "metadata": {},
   "outputs": [
    {
     "name": "stdout",
     "output_type": "stream",
     "text": [
      "+---------+------+------+\n",
      "|PulpColor| Taste|Edible|\n",
      "+---------+------+------+\n",
      "|      red|  sour|   yes|\n",
      "|      red|  sour|    no|\n",
      "|      red|bitter|    no|\n",
      "|   yellow| sweet|   yes|\n",
      "|   yellow|bitter|    no|\n",
      "|    green|  sour|   yes|\n",
      "|    green| sweet|   yes|\n",
      "|    green|bitter|    no|\n",
      "+---------+------+------+\n",
      "\n"
     ]
    }
   ],
   "source": [
    "df.show()"
   ]
  },
  {
   "cell_type": "code",
   "execution_count": 18,
   "id": "8af3a97f",
   "metadata": {},
   "outputs": [
    {
     "name": "stdout",
     "output_type": "stream",
     "text": [
      "8\n"
     ]
    }
   ],
   "source": [
    "total_data_size = df.count()\n",
    "print(total_data_size)"
   ]
  },
  {
   "cell_type": "code",
   "execution_count": 9,
   "id": "7a5acba0",
   "metadata": {},
   "outputs": [],
   "source": [
    "yes_df = df.filter(\"Edible = 'yes'\")\n",
    "no_df = df.filter(\"Edible = 'no'\")"
   ]
  },
  {
   "cell_type": "code",
   "execution_count": 16,
   "id": "c8a94967",
   "metadata": {},
   "outputs": [
    {
     "name": "stdout",
     "output_type": "stream",
     "text": [
      "+---------+-----+------+\n",
      "|PulpColor|Taste|Edible|\n",
      "+---------+-----+------+\n",
      "|      red| sour|   yes|\n",
      "|   yellow|sweet|   yes|\n",
      "|    green| sour|   yes|\n",
      "|    green|sweet|   yes|\n",
      "+---------+-----+------+\n",
      "\n",
      "+---------+------+------+\n",
      "|PulpColor| Taste|Edible|\n",
      "+---------+------+------+\n",
      "|      red|  sour|    no|\n",
      "|      red|bitter|    no|\n",
      "|   yellow|bitter|    no|\n",
      "|    green|bitter|    no|\n",
      "+---------+------+------+\n",
      "\n"
     ]
    }
   ],
   "source": [
    "yes_df.show()\n",
    "no_df.show()"
   ]
  },
  {
   "cell_type": "code",
   "execution_count": 23,
   "id": "fccd7957",
   "metadata": {},
   "outputs": [],
   "source": [
    "yes_size = yes_df.count()\n",
    "no_size = no_df.count()"
   ]
  },
  {
   "cell_type": "code",
   "execution_count": 24,
   "id": "812e3cd6",
   "metadata": {},
   "outputs": [
    {
     "name": "stdout",
     "output_type": "stream",
     "text": [
      "4\n",
      "4\n"
     ]
    }
   ],
   "source": [
    "print(yes_size)\n",
    "print(no_size)"
   ]
  },
  {
   "cell_type": "code",
   "execution_count": 21,
   "id": "f0cf45b0",
   "metadata": {},
   "outputs": [],
   "source": [
    "yes_yellow_size = yes_df.filter(\"PulpColor = 'yellow'\").count()\n",
    "yes_sour_size = yes_df.filter(\"Taste = 'sour'\").count()"
   ]
  },
  {
   "cell_type": "code",
   "execution_count": 22,
   "id": "72f83483",
   "metadata": {},
   "outputs": [
    {
     "name": "stdout",
     "output_type": "stream",
     "text": [
      "1\n",
      "2\n"
     ]
    }
   ],
   "source": [
    "print(yes_yellow_size)\n",
    "print(yes_sour_size)"
   ]
  },
  {
   "cell_type": "code",
   "execution_count": 26,
   "id": "dca06951",
   "metadata": {},
   "outputs": [],
   "source": [
    "no_yellow_size = no_df.filter(\"PulpColor = 'yellow'\").count()\n",
    "no_sour_size = no_df.filter(\"Taste = 'sour'\").count()"
   ]
  },
  {
   "cell_type": "code",
   "execution_count": 27,
   "id": "fa9c2796",
   "metadata": {},
   "outputs": [
    {
     "name": "stdout",
     "output_type": "stream",
     "text": [
      "1\n",
      "1\n"
     ]
    }
   ],
   "source": [
    "print(no_yellow_size)\n",
    "print(no_sour_size)"
   ]
  },
  {
   "cell_type": "code",
   "execution_count": 28,
   "id": "bef8eb69",
   "metadata": {},
   "outputs": [],
   "source": [
    "likelihood_yes = (yes_size / total_data_size) * (yes_yellow_size / yes_size) * (yes_sour_size / yes_size)"
   ]
  },
  {
   "cell_type": "code",
   "execution_count": 29,
   "id": "4e26ecac",
   "metadata": {},
   "outputs": [],
   "source": [
    "likelihood_no = (no_size / total_data_size) * (no_yellow_size / no_size) * (no_sour_size / no_size)"
   ]
  },
  {
   "cell_type": "code",
   "execution_count": 30,
   "id": "5d0c608f",
   "metadata": {},
   "outputs": [
    {
     "name": "stdout",
     "output_type": "stream",
     "text": [
      "0.0625\n",
      "0.03125\n"
     ]
    }
   ],
   "source": [
    "print(likelihood_yes)\n",
    "print(likelihood_no)"
   ]
  },
  {
   "cell_type": "code",
   "execution_count": 31,
   "id": "912d9fe1",
   "metadata": {},
   "outputs": [
    {
     "name": "stdout",
     "output_type": "stream",
     "text": [
      "Yes\n"
     ]
    }
   ],
   "source": [
    "if likelihood_yes > likelihood_no:\n",
    "    print(\"Yes\")\n",
    "else:\n",
    "    print(\"No\")"
   ]
  },
  {
   "cell_type": "code",
   "execution_count": null,
   "id": "8ec4b1ee",
   "metadata": {},
   "outputs": [],
   "source": []
  }
 ],
 "metadata": {
  "kernelspec": {
   "display_name": "Python 3 (ipykernel)",
   "language": "python",
   "name": "python3"
  },
  "language_info": {
   "codemirror_mode": {
    "name": "ipython",
    "version": 3
   },
   "file_extension": ".py",
   "mimetype": "text/x-python",
   "name": "python",
   "nbconvert_exporter": "python",
   "pygments_lexer": "ipython3",
   "version": "3.9.5"
  }
 },
 "nbformat": 4,
 "nbformat_minor": 5
}
