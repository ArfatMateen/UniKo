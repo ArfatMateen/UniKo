{
 "cells": [
  {
   "cell_type": "code",
   "execution_count": 1,
   "id": "d75e185f",
   "metadata": {},
   "outputs": [],
   "source": [
    "import numpy as np\n",
    "import networkx as nx\n",
    "import matplotlib.pyplot as plt"
   ]
  },
  {
   "cell_type": "markdown",
   "id": "5b0a8344",
   "metadata": {},
   "source": [
    "![title](eccentricity_graph.png)"
   ]
  },
  {
   "cell_type": "code",
   "execution_count": 2,
   "id": "c854edb3",
   "metadata": {},
   "outputs": [],
   "source": [
    "graph = nx.Graph()\n",
    "\n",
    "# graph.add_nodes_from([\"a\", \"b\", \"c\", \"d\", \"e\", \"f\", \"g\", \"h\", \"i\", \"j\", \"k\", \"l\"])\n",
    "# graph.add_edges_from([(\"a\", \"b\"), (\"a\", \"e\"),\n",
    "#                       (\"b\", \"c\"), (\"b\", \"g\"),\n",
    "#                       (\"c\", \"d\"), (\"c\", \"g\"),\n",
    "#                       (\"d\", \"h\"), \n",
    "#                       (\"e\", \"f\"), (\"e\", \"g\"), (\"e\", \"i\"), \n",
    "#                       (\"g\", \"h\"), (\"g\", \"j\"), \n",
    "#                       (\"h\", \"k\"), (\"h\", \"l\"), \n",
    "#                       (\"i\", \"j\"), \n",
    "#                       (\"j\", \"k\")])"
   ]
  },
  {
   "cell_type": "code",
   "execution_count": 3,
   "id": "8d22d555",
   "metadata": {},
   "outputs": [],
   "source": [
    "# print(nx.to_numpy_matrix(graph, [\"a\", \"b\", \"c\", \"d\", \"e\", \"f\", \"g\", \"h\", \"i\", \"j\", \"k\", \"l\"]))"
   ]
  },
  {
   "cell_type": "code",
   "execution_count": 4,
   "id": "0004a948",
   "metadata": {},
   "outputs": [],
   "source": [
    "adj_mat = np.matrix([\n",
    "    [0, 1, 0, 0, 1, 0, 0, 0, 0, 0, 0, 0], \n",
    "    [1, 0, 1, 1, 1, 0, 1, 0, 0, 0, 0, 0], \n",
    "    [0, 1, 0, 1, 0, 0, 1, 0, 0, 0, 0, 0], \n",
    "    [0, 1, 1, 0, 0, 0, 1, 1, 0, 0, 0, 0], \n",
    "    [1, 1, 0, 0, 0, 1, 1, 0, 1, 0, 0, 0], \n",
    "    [0, 0, 0, 0, 1, 0, 1, 0, 0, 0, 0, 0], \n",
    "    [0, 1, 1, 1, 1, 1, 0, 1, 0, 1, 0, 0], \n",
    "    [0, 0, 0, 1, 0, 0, 1, 0, 0, 0, 0, 1], \n",
    "    [0, 0, 0, 0, 1, 0, 0, 0, 0, 1, 0, 0], \n",
    "    [0, 0, 0, 0, 0, 0, 1, 0, 1, 0, 0, 0], \n",
    "    [0, 0, 0, 0, 0, 0, 0, 0, 0, 0, 0, 1], \n",
    "    [0, 0, 0, 0, 0, 0, 0, 1, 0, 0, 1, 0]\n",
    "])"
   ]
  },
  {
   "cell_type": "code",
   "execution_count": 5,
   "id": "879d1c18",
   "metadata": {},
   "outputs": [],
   "source": [
    "labels = { 0 : \"a\", 1: \"b\", 2 : \"c\", 3: \"d\", 4 : \"e\", 5: \"f\", 6 : \"g\", 7: \"h\", 8 : \"i\", 9 : \"j\", 10 : \"k\", 11 : \"l\" }"
   ]
  },
  {
   "cell_type": "code",
   "execution_count": 6,
   "id": "0a98f636",
   "metadata": {},
   "outputs": [],
   "source": [
    "graph = nx.from_numpy_matrix(adj_mat, create_using=nx.Graph)"
   ]
  },
  {
   "cell_type": "code",
   "execution_count": 7,
   "id": "3b57c70a",
   "metadata": {},
   "outputs": [],
   "source": [
    "graph = nx.relabel_nodes(graph, labels)"
   ]
  },
  {
   "cell_type": "code",
   "execution_count": 8,
   "id": "838d2ba9",
   "metadata": {},
   "outputs": [
    {
     "data": {
      "image/png": "[encoded data removed]",
      "text/plain": [
       "<Figure size 432x288 with 1 Axes>"
      ]
     },
     "metadata": {},
     "output_type": "display_data"
    }
   ],
   "source": [
    "nx.draw(graph, with_labels = True)\n",
    "plt.show()"
   ]
  },
  {
   "cell_type": "markdown",
   "id": "eb912922",
   "metadata": {},
   "source": [
    "### Eccentricity of all nodes"
   ]
  },
  {
   "cell_type": "code",
   "execution_count": 9,
   "id": "9675b941",
   "metadata": {},
   "outputs": [],
   "source": [
    "shortest_path_length = dict(nx.shortest_path_length(graph))"
   ]
  },
  {
   "cell_type": "code",
   "execution_count": 10,
   "id": "ee2f1402",
   "metadata": {},
   "outputs": [
    {
     "name": "stdout",
     "output_type": "stream",
     "text": [
      "a 5\n",
      "b 4\n",
      "c 4\n",
      "d 3\n",
      "e 4\n",
      "f 4\n",
      "g 3\n",
      "h 3\n",
      "i 5\n",
      "j 4\n",
      "k 5\n",
      "l 4\n"
     ]
    }
   ],
   "source": [
    "all_path_lengths = {}\n",
    "\n",
    "for s in graph.nodes:\n",
    "    path_lengths = []\n",
    "    for t in graph.nodes:\n",
    "        if nx.has_path(graph, source=s, target=t):\n",
    "            path_lengths.append(shortest_path_length[s][t])\n",
    "        else:\n",
    "            path_lengths.append(0)\n",
    "            \n",
    "    all_path_lengths[s] = path_lengths\n",
    "\n",
    "\n",
    "eccentricity_of_nodes = []\n",
    "for key in sorted(all_path_lengths):\n",
    "    print(key, np.max(all_path_lengths[key]))\n",
    "    eccentricity_of_nodes.append(np.max(all_path_lengths[key]))"
   ]
  },
  {
   "cell_type": "markdown",
   "id": "d6dbebf1",
   "metadata": {},
   "source": [
    "### Radius of graph"
   ]
  },
  {
   "cell_type": "code",
   "execution_count": 11,
   "id": "1b0ab0ed",
   "metadata": {},
   "outputs": [
    {
     "name": "stdout",
     "output_type": "stream",
     "text": [
      "3\n"
     ]
    }
   ],
   "source": [
    "print(np.min(eccentricity_of_nodes))"
   ]
  },
  {
   "cell_type": "markdown",
   "id": "0655cbaf",
   "metadata": {},
   "source": [
    "### Diameter of graph "
   ]
  },
  {
   "cell_type": "code",
   "execution_count": 12,
   "id": "34c13d97",
   "metadata": {},
   "outputs": [
    {
     "name": "stdout",
     "output_type": "stream",
     "text": [
      "5\n"
     ]
    }
   ],
   "source": [
    "print(np.max(eccentricity_of_nodes))"
   ]
  },
  {
   "cell_type": "code",
   "execution_count": null,
   "id": "4868b34c",
   "metadata": {},
   "outputs": [],
   "source": []
  }
 ],
 "metadata": {
  "kernelspec": {
   "display_name": "Python 3 (ipykernel)",
   "language": "python",
   "name": "python3"
  },
  "language_info": {
   "codemirror_mode": {
    "name": "ipython",
    "version": 3
   },
   "file_extension": ".py",
   "mimetype": "text/x-python",
   "name": "python",
   "nbconvert_exporter": "python",
   "pygments_lexer": "ipython3",
   "version": "3.9.5"
  }
 },
 "nbformat": 4,
 "nbformat_minor": 5
}
