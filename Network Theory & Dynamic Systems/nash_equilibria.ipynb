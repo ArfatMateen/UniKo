{
 "cells": [
  {
   "cell_type": "code",
   "execution_count": 2,
   "id": "57302706",
   "metadata": {},
   "outputs": [],
   "source": [
    "import nashpy as nash\n",
    "import numpy as np"
   ]
  },
  {
   "cell_type": "code",
   "execution_count": 19,
   "id": "b5b99dac",
   "metadata": {},
   "outputs": [],
   "source": [
    "A = np.array([[3,1],[2,3]]) # A is the row player\n",
    "B = np.array([[1,2],[4,1]]) # B is the column player\n",
    "# A = np.array([[0, -1, 1], [1, 0, -1], [-1, 1, 0]])\n",
    "# B = - A"
   ]
  },
  {
   "cell_type": "code",
   "execution_count": 20,
   "id": "c0189615",
   "metadata": {},
   "outputs": [
    {
     "data": {
      "text/plain": [
       "Bi matrix game with payoff matrices:\n",
       "\n",
       "Row player:\n",
       "[[3 1]\n",
       " [2 3]]\n",
       "\n",
       "Column player:\n",
       "[[1 2]\n",
       " [4 1]]"
      ]
     },
     "execution_count": 20,
     "metadata": {},
     "output_type": "execute_result"
    }
   ],
   "source": [
    "game1 = nash.Game(A,B)\n",
    "game1"
   ]
  },
  {
   "cell_type": "code",
   "execution_count": 21,
   "id": "0bfdac76",
   "metadata": {},
   "outputs": [
    {
     "name": "stdout",
     "output_type": "stream",
     "text": [
      "(array([0.75, 0.25]), array([0.66666667, 0.33333333]))\n"
     ]
    }
   ],
   "source": [
    "equilibria = game1.support_enumeration()\n",
    "for eq in equilibria:\n",
    "    print(eq)"
   ]
  },
  {
   "cell_type": "code",
   "execution_count": null,
   "id": "21841423",
   "metadata": {},
   "outputs": [],
   "source": []
  }
 ],
 "metadata": {
  "kernelspec": {
   "display_name": "Python 3 (ipykernel)",
   "language": "python",
   "name": "python3"
  },
  "language_info": {
   "codemirror_mode": {
    "name": "ipython",
    "version": 3
   },
   "file_extension": ".py",
   "mimetype": "text/x-python",
   "name": "python",
   "nbconvert_exporter": "python",
   "pygments_lexer": "ipython3",
   "version": "3.9.5"
  }
 },
 "nbformat": 4,
 "nbformat_minor": 5
}
