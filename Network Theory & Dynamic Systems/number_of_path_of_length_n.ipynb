{
 "cells": [
  {
   "cell_type": "code",
   "execution_count": 1,
   "id": "656c7d50",
   "metadata": {},
   "outputs": [],
   "source": [
    "import numpy as np"
   ]
  },
  {
   "cell_type": "markdown",
   "id": "3422015a",
   "metadata": {},
   "source": [
    "![title](distance_and_length_graph.png)"
   ]
  },
  {
   "cell_type": "code",
   "execution_count": 8,
   "id": "a0dd8188",
   "metadata": {},
   "outputs": [],
   "source": [
    "# Adjacency matrix w.r.t out degree\n",
    "\n",
    "# adj_mat = [\n",
    "# #    0  1  2  3  4  5  6  7  8  9  10 11\n",
    "# #    a  b  c  d  e  f  g  h  i  j  k  l\n",
    "#     [0, 0, 0, 0, 0, 0, 0, 0, 0, 0, 0, 0], # 0 a\n",
    "#     [1, 0, 0, 0, 0, 0, 0, 0, 0, 0, 0, 0], # 1 b\n",
    "#     [0, 1, 0, 0, 0, 0, 1, 0, 0, 0, 0, 0], # 2 c\n",
    "#     [0, 0, 1, 0, 0, 0, 0, 1, 0, 0, 0, 0], # 3 d\n",
    "#     [1, 0, 0, 0, 0, 0, 0, 0, 1, 0, 0, 0], # 4 e\n",
    "#     [0, 0, 0, 0, 1, 0, 0, 0, 0, 0, 0, 0], # 5 f\n",
    "#     [0, 1, 0, 0, 1, 0, 0, 0, 0, 0, 0, 0], # 6 g\n",
    "#     [0, 0, 0, 0, 0, 0, 1, 0, 0, 0, 0, 1], # 7 h\n",
    "#     [0, 0, 0, 0, 0, 0, 0, 0, 0, 1, 0, 0], # 8 i\n",
    "#     [0, 0, 0, 0, 0, 0, 1, 0, 0, 0, 0, 0], # 9 j\n",
    "#     [0, 0, 0, 0, 0, 0, 0, 1, 0, 1, 0, 0], # 10 k\n",
    "#     [0, 0, 0, 0, 0, 0, 0, 1, 0, 0, 0, 0]  # 11 l\n",
    "# ]\n",
    "\n",
    "adj_mat = [\n",
    "    [0, 1, 0, 0, 1, 0, 0, 0, 0, 0, 0, 0], \n",
    "    [0, 0, 0, 0, 0, 0, 1, 0, 0, 0, 0, 0], \n",
    "    [0, 1, 0, 1, 0, 0, 0, 0, 0, 0, 0, 0], \n",
    "    [0, 1, 0, 0, 0, 0, 0, 1, 0, 0, 0, 0], \n",
    "    [0, 0, 0, 0, 0, 0, 1, 0, 1, 0, 0, 0], \n",
    "    [0, 0, 0, 0, 0, 0, 0, 0, 0, 0, 0, 0], \n",
    "    [0, 0, 0, 0, 0, 1, 0, 0, 0, 0, 1, 1], \n",
    "    [0, 0, 0, 1, 0, 0, 0, 0, 0, 0, 0, 0], \n",
    "    [0, 0, 0, 0, 0, 0, 0, 0, 0, 1, 0, 0], \n",
    "    [0, 0, 0, 0, 0, 0, 0, 0, 0, 0, 1, 0], \n",
    "    [0, 0, 0, 0, 0, 0, 1, 1, 0, 0, 0, 0], \n",
    "    [0, 0, 0, 0, 0, 0, 0, 1, 0, 0, 0, 0]\n",
    "]"
   ]
  },
  {
   "cell_type": "code",
   "execution_count": 9,
   "id": "8c52cbad",
   "metadata": {},
   "outputs": [
    {
     "name": "stdout",
     "output_type": "stream",
     "text": [
      "{'a': 0, 'b': 1, 'c': 2, 'd': 3, 'e': 4, 'f': 5, 'g': 6, 'h': 7, 'i': 8, 'j': 9, 'k': 10, 'l': 11}\n",
      "12\n"
     ]
    }
   ],
   "source": [
    "title = {}\n",
    "\n",
    "for i in range(97,109):\n",
    "    char = chr(i)\n",
    "    title[char] = i-97\n",
    "\n",
    "\n",
    "print(title)\n",
    "print(len(title))"
   ]
  },
  {
   "cell_type": "code",
   "execution_count": 22,
   "id": "aea862bd",
   "metadata": {},
   "outputs": [],
   "source": [
    "# Path length\n",
    "n = 6\n",
    "\n",
    "matrix = np.matmul(adj_mat, adj_mat)\n",
    "\n",
    "for i in range(n - 2):\n",
    "    matrix = np.matmul(matrix, adj_mat)"
   ]
  },
  {
   "cell_type": "code",
   "execution_count": 23,
   "id": "60f5e891",
   "metadata": {},
   "outputs": [
    {
     "name": "stdout",
     "output_type": "stream",
     "text": [
      "Number of path of length 6 between \"a\" and \"h\" is: 8\n"
     ]
    }
   ],
   "source": [
    "# matrix[row][column]\n",
    "# for example matrix[d][g] == matrix[3][6]\n",
    "source_node = \"a\"\n",
    "target_node = \"h\"\n",
    "\n",
    "print(f'Number of path of length {n} between \"{source_node}\" and \"{target_node}\" is: {matrix[title[source_node]][title[target_node]]}')"
   ]
  },
  {
   "cell_type": "code",
   "execution_count": null,
   "id": "1d4b09ff",
   "metadata": {},
   "outputs": [],
   "source": []
  }
 ],
 "metadata": {
  "kernelspec": {
   "display_name": "Python 3 (ipykernel)",
   "language": "python",
   "name": "python3"
  },
  "language_info": {
   "codemirror_mode": {
    "name": "ipython",
    "version": 3
   },
   "file_extension": ".py",
   "mimetype": "text/x-python",
   "name": "python",
   "nbconvert_exporter": "python",
   "pygments_lexer": "ipython3",
   "version": "3.9.5"
  }
 },
 "nbformat": 4,
 "nbformat_minor": 5
}
