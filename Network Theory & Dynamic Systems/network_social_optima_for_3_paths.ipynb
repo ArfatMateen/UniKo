{
 "cells": [
  {
   "cell_type": "code",
   "execution_count": null,
   "id": "453d7388",
   "metadata": {},
   "outputs": [],
   "source": []
  },
  {
   "cell_type": "markdown",
   "id": "04dc8368",
   "metadata": {},
   "source": [
    "![title](network_social_optima_3_paths.png)"
   ]
  },
  {
   "cell_type": "code",
   "execution_count": 1,
   "id": "ce969140",
   "metadata": {},
   "outputs": [
    {
     "name": "stdout",
     "output_type": "stream",
     "text": [
      "ABCF Drivers:  250\n",
      "ABEF Drivers:  750\n",
      "ADEF Drivers:  0\n",
      "\n",
      "ABCF Duration:  35.0\n",
      "ABEF Duration:  27.5\n",
      "ADEF Duration:  37.5\n",
      "\n",
      "Shortest Time:  29375.0\n"
     ]
    }
   ],
   "source": [
    "total_drivers = 1000\n",
    "ABCF_drivers = 0\n",
    "ABEF_drivers = 0\n",
    "ADEF_drivers = 0\n",
    "\n",
    "ABCF_final_drivers = 0\n",
    "ABEF_final_drivers = 0\n",
    "ADEF_final_drivers = 0\n",
    "\n",
    "ABCF_duration = 0\n",
    "ABEF_duration = 0\n",
    "ADEF_duration = 0\n",
    "\n",
    "ABCF_final_duration = 0\n",
    "ABEF_final_duration = 0\n",
    "ADEF_final_duration = 0\n",
    "\n",
    "shortest_time = 99999999\n",
    "new_time = 0\n",
    "\n",
    "for i in range(total_drivers + 1):\n",
    "    for j in range(total_drivers + 1 - i):\n",
    "        ABCF_drivers = i\n",
    "        ABEF_drivers = j\n",
    "        ADEF_drivers = total_drivers - i - j\n",
    "        \n",
    "        AB = (ABCF_drivers + ABEF_drivers) / 100\n",
    "        BC = 20\n",
    "        CF = 5\n",
    "        BE = 10\n",
    "        EF = (ABEF_drivers + ADEF_drivers) / 100\n",
    "        AD = 10\n",
    "        DE = 20\n",
    "        \n",
    "        ABCF_duration = AB + BC + CF\n",
    "        ABEF_duration = AB + BE + EF\n",
    "        ADEF_duration = AD + DE + EF\n",
    "        new_time = (ABCF_duration * ABCF_drivers) + (ABEF_duration * ABEF_drivers) + (ADEF_duration * ADEF_drivers)\n",
    "        \n",
    "        if(new_time < shortest_time):\n",
    "            ABCF_final_drivers = ABCF_drivers\n",
    "            ABEF_final_drivers = ABEF_drivers\n",
    "            ADEF_final_drivers = ADEF_drivers\n",
    "            \n",
    "            ABCF_final_duration = ABCF_duration\n",
    "            ABEF_final_duration = ABEF_duration\n",
    "            ADEF_final_duration = ADEF_duration\n",
    "            \n",
    "            shortest_time = new_time\n",
    "            \n",
    "            \n",
    "print('ABCF Drivers: ', ABCF_final_drivers)\n",
    "print('ABEF Drivers: ', ABEF_final_drivers)\n",
    "print('ADEF Drivers: ', ADEF_final_drivers)\n",
    "print('')\n",
    "print('ABCF Duration: ', ABCF_final_duration)\n",
    "print('ABEF Duration: ', ABEF_final_duration)\n",
    "print('ADEF Duration: ', ADEF_final_duration)\n",
    "print('')\n",
    "print('Shortest Time: ', shortest_time)"
   ]
  },
  {
   "cell_type": "code",
   "execution_count": null,
   "id": "93eaed81",
   "metadata": {},
   "outputs": [],
   "source": []
  }
 ],
 "metadata": {
  "kernelspec": {
   "display_name": "Python 3 (ipykernel)",
   "language": "python",
   "name": "python3"
  },
  "language_info": {
   "codemirror_mode": {
    "name": "ipython",
    "version": 3
   },
   "file_extension": ".py",
   "mimetype": "text/x-python",
   "name": "python",
   "nbconvert_exporter": "python",
   "pygments_lexer": "ipython3",
   "version": "3.9.5"
  }
 },
 "nbformat": 4,
 "nbformat_minor": 5
}
