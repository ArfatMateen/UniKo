{
 "cells": [
  {
   "cell_type": "code",
   "execution_count": 1,
   "id": "a5768fad",
   "metadata": {},
   "outputs": [],
   "source": [
    "import numpy as np\n",
    "import math"
   ]
  },
  {
   "cell_type": "markdown",
   "id": "57069d57",
   "metadata": {},
   "source": [
    "![title](eigen_vector_graph.png)"
   ]
  },
  {
   "cell_type": "code",
   "execution_count": 2,
   "id": "56a67c63",
   "metadata": {},
   "outputs": [],
   "source": [
    "# Assignment 2 Question 2 EigenVector Centrality\n",
    "# Using the power iteration approach for the Eigenvector centrality wrt. incoming edges, \n",
    "# determine the vector x⃗ 1 (using the alphabetical ordering of the vertices; round each entry to two decimal places):\n",
    "\n",
    "# Adjacency matrix of above graph (variant 1) w.r.t outgoing edges\n",
    "adj_mat = np.array([\n",
    "    [0, 1, 0, 0, 1, 0, 0, 0, 0, 0, 0, 0],\n",
    "    [0, 0, 0, 0, 0, 0, 1, 0, 0, 0, 0, 0],\n",
    "    [0, 1, 0, 1, 0, 0, 1, 0, 0, 0, 0, 0],\n",
    "    [0, 1, 0, 0, 0, 0, 0, 1, 0, 0, 0, 0],\n",
    "    [0, 1, 0, 0, 0, 0, 1, 0, 1, 0, 0, 0],\n",
    "    [0, 0, 0, 0, 1, 0, 0, 0, 0, 0, 0, 0],\n",
    "    [0, 0, 0, 1, 0, 1, 0, 0, 0, 1, 1, 0],\n",
    "    [0, 0, 0, 1, 0, 0, 1, 0, 0, 0, 0, 1],\n",
    "    [0, 0, 0, 0, 0, 0, 0, 0, 0, 1, 0, 0],\n",
    "    [0, 0, 0, 0, 1, 0, 0, 0, 0, 0, 1, 0],\n",
    "    [0, 0, 0, 0, 0, 0, 1, 1, 1, 0, 0, 0],\n",
    "    [0, 0, 0, 0, 0, 0, 0, 0, 0, 0, 0, 0]\n",
    "])\n",
    "\n",
    "# Adjacency matrix of variant 2 w.r.t outgoing edges\n",
    "# adj_mat = np.array([\n",
    "#  [0, 0, 0, 0, 0, 0, 0, 0, 0, 0, 0, 0],\n",
    "#  [1, 0, 0, 0, 0, 0, 0, 0, 0, 0, 0, 0],\n",
    "#  [0, 1, 0, 0, 0, 0, 1, 0, 0, 0, 0, 0],\n",
    "#  [0, 0, 1, 0, 0, 0, 0, 1, 0, 0, 0, 0],\n",
    "#  [1, 0, 0, 0, 0, 0, 0, 0, 1, 0, 0, 0],\n",
    "#  [1, 1, 0, 0, 1, 0, 1, 0, 0, 0, 0, 0],\n",
    "#  [0, 1, 0, 1, 1, 0, 0, 0, 0, 0, 0, 0],\n",
    "#  [0, 0, 0, 0, 0, 0, 1, 0, 0, 0, 0, 1],\n",
    "#  [0, 0, 0, 0, 0, 0, 0, 0, 0, 1, 0, 0],\n",
    "#  [0, 0, 0, 0, 1, 0, 1, 0, 0, 0, 0, 0],\n",
    "#  [0, 0, 0, 0, 0, 0, 1, 1, 0, 1, 0, 1],\n",
    "#  [0, 0, 0, 0, 0, 0, 0, 1, 0, 1, 0, 0]\n",
    "# ])"
   ]
  },
  {
   "cell_type": "code",
   "execution_count": 3,
   "id": "beaa2971",
   "metadata": {},
   "outputs": [],
   "source": [
    "# Transpose the above matix to generate Adjacency matrix w.r.t incomming edges\n",
    "adj_mat_transpose = adj_mat.transpose() "
   ]
  },
  {
   "cell_type": "code",
   "execution_count": 4,
   "id": "891d02fc",
   "metadata": {},
   "outputs": [],
   "source": [
    "one_vec = np.ones((12,1)).reshape(12)"
   ]
  },
  {
   "cell_type": "code",
   "execution_count": 5,
   "id": "8fb5679e",
   "metadata": {},
   "outputs": [],
   "source": [
    "# Calculate inDegree centrality vector\n",
    "in_deg_vec = np.matmul(adj_mat_transpose, one_vec)"
   ]
  },
  {
   "cell_type": "code",
   "execution_count": 6,
   "id": "b19a59e7",
   "metadata": {},
   "outputs": [],
   "source": [
    "in_deg_sqr_list = [n ** 2 for n in in_deg_vec]\n",
    "in_deg_sum_sqr_root = math.sqrt(sum(in_deg_sqr_list))\n",
    "x1 = [round(x / in_deg_sum_sqr_root, 2) for x in in_deg_vec]"
   ]
  },
  {
   "cell_type": "code",
   "execution_count": 7,
   "id": "aabbcb98",
   "metadata": {},
   "outputs": [
    {
     "name": "stdout",
     "output_type": "stream",
     "text": [
      "[0.0, 0.46, 0.0, 0.34, 0.34, 0.11, 0.57, 0.23, 0.23, 0.23, 0.23, 0.11]\n"
     ]
    }
   ],
   "source": [
    "print(x1)"
   ]
  },
  {
   "cell_type": "code",
   "execution_count": 8,
   "id": "c701de56",
   "metadata": {},
   "outputs": [],
   "source": [
    "x1_in_deg_vec = np.matmul(adj_mat_transpose, x1)"
   ]
  },
  {
   "cell_type": "code",
   "execution_count": 9,
   "id": "ffda8cec",
   "metadata": {},
   "outputs": [],
   "source": [
    "x1_in_deg_sqr_list = [n ** 2 for n in x1_in_deg_vec]\n",
    "x1_in_deg_sum_sqr_root = math.sqrt(sum(x1_in_deg_sqr_list))\n",
    "x2 = [round(x / x1_in_deg_sum_sqr_root, 2) for x in x1_in_deg_vec]"
   ]
  },
  {
   "cell_type": "code",
   "execution_count": 10,
   "id": "6cf68ff9",
   "metadata": {},
   "outputs": [
    {
     "name": "stdout",
     "output_type": "stream",
     "text": [
      "[0.0, 0.3, 0.0, 0.35, 0.15, 0.25, 0.56, 0.25, 0.25, 0.35, 0.35, 0.1]\n"
     ]
    }
   ],
   "source": [
    "print(x2)"
   ]
  },
  {
   "cell_type": "code",
   "execution_count": null,
   "id": "ab851a65",
   "metadata": {},
   "outputs": [],
   "source": []
  }
 ],
 "metadata": {
  "kernelspec": {
   "display_name": "Python 3 (ipykernel)",
   "language": "python",
   "name": "python3"
  },
  "language_info": {
   "codemirror_mode": {
    "name": "ipython",
    "version": 3
   },
   "file_extension": ".py",
   "mimetype": "text/x-python",
   "name": "python",
   "nbconvert_exporter": "python",
   "pygments_lexer": "ipython3",
   "version": "3.9.5"
  }
 },
 "nbformat": 4,
 "nbformat_minor": 5
}
