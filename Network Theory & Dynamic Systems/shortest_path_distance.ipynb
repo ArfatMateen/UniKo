{
 "cells": [
  {
   "cell_type": "code",
   "execution_count": 1,
   "id": "9f19529f",
   "metadata": {},
   "outputs": [],
   "source": [
    "import numpy as np\n",
    "import networkx as nx\n",
    "import matplotlib.pyplot as plt"
   ]
  },
  {
   "cell_type": "markdown",
   "id": "84b1d817",
   "metadata": {},
   "source": [
    "![title](distance_and_length_graph.png)"
   ]
  },
  {
   "cell_type": "code",
   "execution_count": 2,
   "id": "7cc93d6f",
   "metadata": {},
   "outputs": [],
   "source": [
    "graph = nx.Graph()\n",
    "\n",
    "graph.add_nodes_from([\"a\", \"b\", \"c\", \"d\", \"e\", \"f\", \"g\", \"h\", \"i\", \"j\", \"k\", \"l\"])\n",
    "graph.add_edges_from([(\"b\", \"a\"), \n",
    "                      (\"c\", \"b\"), (\"c\", \"g\"), \n",
    "                      (\"d\", \"c\"), (\"d\", \"h\"),\n",
    "                      (\"e\", \"a\"), (\"e\", \"i\"), \n",
    "                      (\"f\", \"e\"), \n",
    "                      (\"g\", \"b\"),(\"g\", \"e\"),\n",
    "                      (\"h\", \"g\"), (\"h\", \"l\"), \n",
    "                      (\"i\", \"j\"), \n",
    "                      (\"j\", \"g\"), \n",
    "                      (\"k\", \"h\"), (\"k\", \"j\"), \n",
    "                      (\"l\", \"h\")])"
   ]
  },
  {
   "cell_type": "code",
   "execution_count": 3,
   "id": "98fa072d",
   "metadata": {
    "scrolled": true
   },
   "outputs": [
    {
     "name": "stdout",
     "output_type": "stream",
     "text": [
      "[[0. 0. 0. 0. 0. 0. 0. 0. 0. 0. 0. 0.]\n",
      " [1. 0. 0. 0. 0. 0. 0. 0. 0. 0. 0. 0.]\n",
      " [0. 1. 0. 0. 0. 0. 1. 0. 0. 0. 0. 0.]\n",
      " [0. 0. 1. 0. 0. 0. 0. 1. 0. 0. 0. 0.]\n",
      " [1. 0. 0. 0. 0. 0. 0. 0. 1. 0. 0. 0.]\n",
      " [0. 0. 0. 0. 1. 0. 0. 0. 0. 0. 0. 0.]\n",
      " [0. 1. 0. 0. 1. 0. 0. 0. 0. 0. 0. 0.]\n",
      " [0. 0. 0. 0. 0. 0. 1. 0. 0. 0. 0. 1.]\n",
      " [0. 0. 0. 0. 0. 0. 0. 0. 0. 1. 0. 0.]\n",
      " [0. 0. 0. 0. 0. 0. 1. 0. 0. 0. 0. 0.]\n",
      " [0. 0. 0. 0. 0. 0. 0. 1. 0. 1. 0. 0.]\n",
      " [0. 0. 0. 0. 0. 0. 0. 1. 0. 0. 0. 0.]]\n"
     ]
    }
   ],
   "source": [
    "print(nx.to_numpy_matrix(graph, [\"a\", \"b\", \"c\", \"d\", \"e\", \"f\", \"g\", \"h\", \"i\", \"j\", \"k\", \"l\"]))"
   ]
  },
  {
   "cell_type": "code",
   "execution_count": 3,
   "id": "7686f8be",
   "metadata": {},
   "outputs": [],
   "source": [
    "adj_mat = np.matrix([\n",
    "    [0, 1, 0, 0, 1, 1, 0, 0, 0, 0, 0, 0], \n",
    "    [1, 0, 1, 0, 0, 0, 0, 0, 0, 0, 0, 0], \n",
    "    [0, 1, 0, 1, 0, 0, 1, 0, 0, 0, 0, 0], \n",
    "    [0, 0, 1, 0, 0, 0, 1, 1, 0, 0, 0, 0], \n",
    "    [1, 0, 0, 0, 0, 0, 0, 0, 1, 0, 0, 0], \n",
    "    [1, 0, 0, 0, 0, 0, 1, 0, 1, 0, 0, 0], \n",
    "    [0, 0, 1, 1, 0, 1, 0, 0, 0, 1, 1, 0], \n",
    "    [0, 0, 0, 1, 0, 0, 0, 0, 0, 0, 0, 1], \n",
    "    [0, 0, 0, 0, 1, 1, 0, 0, 0, 1, 0, 0], \n",
    "    [0, 0, 0, 0, 0, 0, 1, 0, 1, 0, 0, 0], \n",
    "    [0, 0, 0, 0, 0, 0, 1, 0, 0, 0, 0, 1], \n",
    "    [0, 0, 0, 0, 0, 0, 0, 1, 0, 0, 1, 0]\n",
    "])"
   ]
  },
  {
   "cell_type": "code",
   "execution_count": 4,
   "id": "d5724e4c",
   "metadata": {},
   "outputs": [],
   "source": [
    "labels = { 0 : \"a\", 1: \"b\", 2 : \"c\", 3: \"d\", 4 : \"e\", 5: \"f\", 6 : \"g\", 7: \"h\", 8 : \"i\", 9 : \"j\", 10 : \"k\", 11 : \"l\" }"
   ]
  },
  {
   "cell_type": "code",
   "execution_count": 5,
   "id": "ef33539d",
   "metadata": {},
   "outputs": [],
   "source": [
    "graph = nx.from_numpy_matrix(adj_mat, create_using=nx.Graph)"
   ]
  },
  {
   "cell_type": "code",
   "execution_count": 6,
   "id": "6e9be04e",
   "metadata": {},
   "outputs": [],
   "source": [
    "graph = nx.relabel_nodes(graph, labels)"
   ]
  },
  {
   "cell_type": "code",
   "execution_count": 7,
   "id": "2f3ab8aa",
   "metadata": {},
   "outputs": [
    {
     "data": {
      "image/png": "[encoded data removed]",
      "text/plain": [
       "<Figure size 432x288 with 1 Axes>"
      ]
     },
     "metadata": {},
     "output_type": "display_data"
    }
   ],
   "source": [
    "nx.draw(graph, with_labels = True)\n",
    "plt.show()"
   ]
  },
  {
   "cell_type": "markdown",
   "id": "7fcbe76a",
   "metadata": {},
   "source": [
    "### List of all shortest paths between two nodes"
   ]
  },
  {
   "cell_type": "code",
   "execution_count": 10,
   "id": "29514ce4",
   "metadata": {},
   "outputs": [
    {
     "name": "stdout",
     "output_type": "stream",
     "text": [
      "Path(s) exists:\n",
      "[['a', 'b', 'c', 'd', 'h'], ['a', 'f', 'g', 'd', 'h']]\n"
     ]
    }
   ],
   "source": [
    "source_node = \"a\"\n",
    "target_node = \"h\"\n",
    "\n",
    "if nx.has_path(graph, source=source_node, target=target_node):\n",
    "    all_shortest_paths = nx.all_shortest_paths(graph, source=source_node, target=target_node)\n",
    "    print(\"Path(s) exists:\")\n",
    "    print([path for path in all_shortest_paths])\n",
    "else:\n",
    "    print(\"No path exists!\")"
   ]
  },
  {
   "cell_type": "markdown",
   "id": "688d3f55",
   "metadata": {},
   "source": [
    "### Shortest path length/distance between two nodes"
   ]
  },
  {
   "cell_type": "code",
   "execution_count": 9,
   "id": "4cc99041",
   "metadata": {},
   "outputs": [
    {
     "name": "stdout",
     "output_type": "stream",
     "text": [
      "Shortest path length between \"i\" and \"c\" is: 3\n"
     ]
    }
   ],
   "source": [
    "shortest_path_length = dict(nx.shortest_path_length(graph))\n",
    "\n",
    "if nx.has_path(graph, source=source_node, target=target_node):\n",
    "    print(f'Shortest path length between \"{source_node}\" and \"{target_node}\" is: {shortest_path_length[source_node][target_node]}')\n",
    "else:\n",
    "    print(\"No path exists!\")"
   ]
  },
  {
   "cell_type": "code",
   "execution_count": null,
   "id": "54b9609d",
   "metadata": {},
   "outputs": [],
   "source": []
  }
 ],
 "metadata": {
  "kernelspec": {
   "display_name": "Python 3 (ipykernel)",
   "language": "python",
   "name": "python3"
  },
  "language_info": {
   "codemirror_mode": {
    "name": "ipython",
    "version": 3
   },
   "file_extension": ".py",
   "mimetype": "text/x-python",
   "name": "python",
   "nbconvert_exporter": "python",
   "pygments_lexer": "ipython3",
   "version": "3.9.5"
  }
 },
 "nbformat": 4,
 "nbformat_minor": 5
}
