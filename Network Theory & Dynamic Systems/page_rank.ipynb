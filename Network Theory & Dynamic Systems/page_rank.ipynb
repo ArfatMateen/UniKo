{
 "cells": [
  {
   "cell_type": "code",
   "execution_count": 1,
   "id": "fitting-clinton",
   "metadata": {},
   "outputs": [],
   "source": [
    "import numpy as np"
   ]
  },
  {
   "cell_type": "markdown",
   "id": "2a047fcc",
   "metadata": {},
   "source": [
    "![title](page_rank_graph.png)"
   ]
  },
  {
   "cell_type": "code",
   "execution_count": 2,
   "id": "53c71624",
   "metadata": {},
   "outputs": [],
   "source": [
    "# Adjacency matrix w.r.t outgoing edges\n",
    "adj_mat = np.array([\n",
    "    [0, 1, 0, 0, 1, 0, 0, 0, 0, 0, 0, 0], \n",
    "    [0, 0, 0, 0, 0, 0, 1, 0, 0, 0, 0, 0], \n",
    "    [0, 1, 0, 1, 0, 0, 1, 0, 0, 0, 0, 0], \n",
    "    [0, 1, 0, 0, 0, 0, 0, 1, 0, 0, 0, 0], \n",
    "    [0, 1, 0, 0, 0, 0, 1, 0, 1, 0, 0, 0], \n",
    "    [0, 0, 0, 0, 1, 0, 0, 0, 0, 0, 0, 0], \n",
    "    [0, 0, 0, 1, 0, 1, 0, 0, 0, 1, 1, 1], \n",
    "    [0, 0, 0, 1, 0, 0, 1, 0, 0, 0, 0, 0], \n",
    "    [0, 0, 0, 0, 0, 0, 0, 0, 0, 1, 0, 0], \n",
    "    [0, 0, 0, 0, 1, 0, 0, 0, 0, 0, 1, 0], \n",
    "    [0, 0, 0, 0, 0, 0, 1, 1, 1, 0, 0, 0], \n",
    "    [0, 0, 0, 0, 0, 0, 0, 1, 0, 0, 0, 0]\n",
    "])"
   ]
  },
  {
   "cell_type": "code",
   "execution_count": 3,
   "id": "6763dcdf",
   "metadata": {},
   "outputs": [],
   "source": [
    "one_vec = np.ones((adj_mat.shape[0], 1))"
   ]
  },
  {
   "cell_type": "code",
   "execution_count": 4,
   "id": "f036b9e3",
   "metadata": {},
   "outputs": [],
   "source": [
    "# Calculate out degree centrality vector\n",
    "out_deg_vec = np.matmul(adj_mat, one_vec).reshape(adj_mat.shape[0])"
   ]
  },
  {
   "cell_type": "code",
   "execution_count": 5,
   "id": "66c21edb",
   "metadata": {},
   "outputs": [
    {
     "name": "stdout",
     "output_type": "stream",
     "text": [
      "[2. 1. 3. 2. 3. 1. 5. 2. 1. 2. 3. 1.]\n"
     ]
    }
   ],
   "source": [
    "print(out_deg_vec)"
   ]
  },
  {
   "cell_type": "code",
   "execution_count": 6,
   "id": "bb355e19",
   "metadata": {},
   "outputs": [],
   "source": [
    "out_deg_vec_corrected = []\n",
    "\n",
    "for i in range(out_deg_vec.size):\n",
    "    if(out_deg_vec[i] == 0):\n",
    "        out_deg_vec_corrected.insert(i, 1)\n",
    "    else:\n",
    "        out_deg_vec_corrected.insert(i, out_deg_vec[i])"
   ]
  },
  {
   "cell_type": "code",
   "execution_count": 7,
   "id": "35979f0d",
   "metadata": {},
   "outputs": [
    {
     "name": "stdout",
     "output_type": "stream",
     "text": [
      "[2.0, 1.0, 3.0, 2.0, 3.0, 1.0, 5.0, 2.0, 1.0, 2.0, 3.0, 1.0]\n"
     ]
    }
   ],
   "source": [
    "print(out_deg_vec_corrected)"
   ]
  },
  {
   "cell_type": "code",
   "execution_count": 8,
   "id": "420bdc78",
   "metadata": {},
   "outputs": [],
   "source": [
    "diag_mat = np.diag(out_deg_vec_corrected)"
   ]
  },
  {
   "cell_type": "code",
   "execution_count": 9,
   "id": "4eb80479",
   "metadata": {},
   "outputs": [],
   "source": [
    "alpha = 0.6"
   ]
  },
  {
   "cell_type": "code",
   "execution_count": 10,
   "id": "6bc6e19e",
   "metadata": {},
   "outputs": [],
   "source": [
    "beta = 1"
   ]
  },
  {
   "cell_type": "code",
   "execution_count": 11,
   "id": "c988615d",
   "metadata": {},
   "outputs": [],
   "source": [
    "identity_mat = np.identity(adj_mat.shape[0])"
   ]
  },
  {
   "cell_type": "code",
   "execution_count": 12,
   "id": "corrected-throw",
   "metadata": {},
   "outputs": [],
   "source": [
    "diag_mat_inverse = np.linalg.inv(diag_mat)"
   ]
  },
  {
   "cell_type": "code",
   "execution_count": 13,
   "id": "daae46e3",
   "metadata": {},
   "outputs": [],
   "source": [
    "page_rank = beta * np.matmul(np.linalg.inv(identity_mat - alpha * np.matmul(adj_mat.transpose(), diag_mat_inverse)), one_vec)"
   ]
  },
  {
   "cell_type": "code",
   "execution_count": 14,
   "id": "3d2db8a8",
   "metadata": {},
   "outputs": [
    {
     "name": "stdout",
     "output_type": "stream",
     "text": [
      "[[1.   ]\n",
      " [2.967]\n",
      " [1.   ]\n",
      " [2.802]\n",
      " [3.132]\n",
      " [1.611]\n",
      " [5.093]\n",
      " [3.302]\n",
      " [2.122]\n",
      " [2.884]\n",
      " [2.476]\n",
      " [1.611]]\n"
     ]
    }
   ],
   "source": [
    "print(page_rank.round(3))"
   ]
  },
  {
   "cell_type": "code",
   "execution_count": null,
   "id": "dc829e6b",
   "metadata": {},
   "outputs": [],
   "source": []
  }
 ],
 "metadata": {
  "kernelspec": {
   "display_name": "Python 3 (ipykernel)",
   "language": "python",
   "name": "python3"
  },
  "language_info": {
   "codemirror_mode": {
    "name": "ipython",
    "version": 3
   },
   "file_extension": ".py",
   "mimetype": "text/x-python",
   "name": "python",
   "nbconvert_exporter": "python",
   "pygments_lexer": "ipython3",
   "version": "3.9.5"
  }
 },
 "nbformat": 4,
 "nbformat_minor": 5
}
