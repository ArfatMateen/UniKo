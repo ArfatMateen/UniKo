{
 "cells": [
  {
   "cell_type": "code",
   "execution_count": 1,
   "id": "c260f930",
   "metadata": {},
   "outputs": [],
   "source": [
    "import numpy as np\n",
    "import networkx as nx\n",
    "import matplotlib.pyplot as plt"
   ]
  },
  {
   "cell_type": "markdown",
   "id": "8278635d",
   "metadata": {},
   "source": [
    "![title](edge_betweeness_graph.png)"
   ]
  },
  {
   "cell_type": "code",
   "execution_count": 2,
   "id": "000b8635",
   "metadata": {},
   "outputs": [],
   "source": [
    "graph = nx.Graph()\n",
    "\n",
    "graph.add_nodes_from([\"a\", \"b\", \"c\", \"d\", \"e\", \"f\", \"g\", \"h\", \"i\", \"j\", \"k\", \"l\"])\n",
    "graph.add_edges_from([(\"a\", \"b\"), (\"a\", \"e\"), (\"a\", \"f\"), \n",
    "                      (\"b\", \"f\"), \n",
    "                      (\"c\", \"d\"), (\"c\", \"g\"),\n",
    "                      (\"d\", \"g\"), (\"d\", \"h\"), \n",
    "                      (\"e\", \"f\"), (\"e\", \"i\"),\n",
    "                      (\"f\", \"g\"), (\"f\", \"i\"), (\"f\", \"j\"),\n",
    "                      (\"g\", \"h\"), (\"g\", \"k\"), (\"g\", \"l\"), \n",
    "                      (\"i\", \"j\"), \n",
    "                      (\"j\", \"k\")])"
   ]
  },
  {
   "cell_type": "code",
   "execution_count": 3,
   "id": "f070b0bd",
   "metadata": {},
   "outputs": [],
   "source": [
    "adj_mat = np.matrix([\n",
    "    [0, 1, 0, 0, 1, 1, 0, 0, 0, 0, 0, 0], \n",
    "    [1, 0, 1, 0, 0, 0, 0, 0, 0, 0, 0, 0], \n",
    "    [0, 1, 0, 1, 0, 0, 1, 0, 0, 0, 0, 0], \n",
    "    [0, 0, 1, 0, 0, 0, 1, 1, 0, 0, 0, 0], \n",
    "    [1, 0, 0, 0, 0, 0, 0, 0, 1, 0, 0, 0], \n",
    "    [1, 0, 0, 0, 0, 0, 1, 0, 1, 0, 0, 0], \n",
    "    [0, 0, 1, 1, 0, 1, 0, 0, 0, 1, 1, 0], \n",
    "    [0, 0, 0, 1, 0, 0, 0, 0, 0, 0, 0, 1], \n",
    "    [0, 0, 0, 0, 1, 1, 0, 0, 0, 1, 0, 0], \n",
    "    [0, 0, 0, 0, 0, 0, 1, 0, 1, 0, 0, 0], \n",
    "    [0, 0, 0, 0, 0, 0, 1, 0, 0, 0, 0, 1], \n",
    "    [0, 0, 0, 0, 0, 0, 0, 1, 0, 0, 1, 0]\n",
    "])"
   ]
  },
  {
   "cell_type": "code",
   "execution_count": 4,
   "id": "26b6cc69",
   "metadata": {},
   "outputs": [],
   "source": [
    "labels = { 0 : \"a\", 1: \"b\", 2 : \"c\", 3: \"d\", 4 : \"e\", 5: \"f\", 6 : \"g\", 7: \"h\", 8 : \"i\", 9 : \"j\", 10 : \"k\", 11 : \"l\" }"
   ]
  },
  {
   "cell_type": "code",
   "execution_count": 5,
   "id": "479710f9",
   "metadata": {},
   "outputs": [],
   "source": [
    "graph = nx.from_numpy_matrix(adj_mat, create_using=nx.Graph)"
   ]
  },
  {
   "cell_type": "code",
   "execution_count": 6,
   "id": "116a09f4",
   "metadata": {},
   "outputs": [],
   "source": [
    "graph = nx.relabel_nodes(graph, labels)"
   ]
  },
  {
   "cell_type": "code",
   "execution_count": 8,
   "id": "772d7c88",
   "metadata": {},
   "outputs": [
    {
     "data": {
      "image/png": "[encoded data removed]",
      "text/plain": [
       "<Figure size 432x288 with 1 Axes>"
      ]
     },
     "metadata": {},
     "output_type": "display_data"
    }
   ],
   "source": [
    "nx.draw_kamada_kawai(graph, with_labels = True)\n",
    "plt.show()"
   ]
  },
  {
   "cell_type": "code",
   "execution_count": 9,
   "id": "ee7eb27e",
   "metadata": {},
   "outputs": [
    {
     "data": {
      "text/plain": [
       "{('a', 'b'): 7.5,\n",
       " ('a', 'e'): 6.833333333333334,\n",
       " ('a', 'f'): 9.666666666666666,\n",
       " ('b', 'c'): 10.5,\n",
       " ('c', 'd'): 6.5,\n",
       " ('c', 'g'): 9.0,\n",
       " ('d', 'g'): 11.5,\n",
       " ('d', 'h'): 11.0,\n",
       " ('e', 'i'): 6.833333333333333,\n",
       " ('f', 'g'): 16.833333333333336,\n",
       " ('f', 'i'): 7.833333333333334,\n",
       " ('g', 'j'): 12.333333333333332,\n",
       " ('g', 'k'): 16.0,\n",
       " ('h', 'l'): 4.0,\n",
       " ('i', 'j'): 7.666666666666667,\n",
       " ('k', 'l'): 9.0}"
      ]
     },
     "execution_count": 9,
     "metadata": {},
     "output_type": "execute_result"
    }
   ],
   "source": [
    "nx.algorithms.centrality.edge_betweenness_centrality(graph, normalized=False)"
   ]
  },
  {
   "cell_type": "markdown",
   "id": "b94a17d1",
   "metadata": {},
   "source": [
    "### Wip"
   ]
  },
  {
   "cell_type": "code",
   "execution_count": 9,
   "id": "5db47c11",
   "metadata": {},
   "outputs": [
    {
     "data": {
      "text/plain": [
       "{('a', 'b'): 0.0,\n",
       " ('a', 'e'): 0.0,\n",
       " ('a', 'f'): 0.0,\n",
       " ('b', 'f'): 0.0,\n",
       " ('c', 'd'): 0.0,\n",
       " ('c', 'g'): 0.0,\n",
       " ('d', 'g'): 0.5,\n",
       " ('d', 'h'): 0.0,\n",
       " ('e', 'f'): 0.0,\n",
       " ('e', 'i'): 0.0,\n",
       " ('f', 'g'): 0.5,\n",
       " ('f', 'i'): 0.5,\n",
       " ('f', 'j'): 0.0,\n",
       " ('g', 'h'): 0.0,\n",
       " ('g', 'k'): 0.0,\n",
       " ('g', 'l'): 0.0,\n",
       " ('i', 'j'): 0.0,\n",
       " ('j', 'k'): 0.0}"
      ]
     },
     "execution_count": 9,
     "metadata": {},
     "output_type": "execute_result"
    }
   ],
   "source": [
    "nx.algorithms.centrality.edge_betweenness_centrality_subset(graph, sources=[\"i\"], targets=[\"d\"], normalized=False)"
   ]
  },
  {
   "cell_type": "code",
   "execution_count": null,
   "id": "585e77ab",
   "metadata": {},
   "outputs": [],
   "source": []
  }
 ],
 "metadata": {
  "kernelspec": {
   "display_name": "Python 3 (ipykernel)",
   "language": "python",
   "name": "python3"
  },
  "language_info": {
   "codemirror_mode": {
    "name": "ipython",
    "version": 3
   },
   "file_extension": ".py",
   "mimetype": "text/x-python",
   "name": "python",
   "nbconvert_exporter": "python",
   "pygments_lexer": "ipython3",
   "version": "3.9.5"
  }
 },
 "nbformat": 4,
 "nbformat_minor": 5
}
