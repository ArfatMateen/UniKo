{
 "cells": [
  {
   "cell_type": "code",
   "execution_count": 1,
   "id": "80357c9f",
   "metadata": {},
   "outputs": [],
   "source": [
    "import numpy as np\n",
    "import networkx as nx\n",
    "import matplotlib.pyplot as plt"
   ]
  },
  {
   "cell_type": "markdown",
   "id": "8bc3c297",
   "metadata": {},
   "source": [
    "### 1st variant"
   ]
  },
  {
   "cell_type": "markdown",
   "id": "684dc919",
   "metadata": {},
   "source": [
    "![title](clustering_coefficient_1st_grapg.png)"
   ]
  },
  {
   "cell_type": "markdown",
   "id": "c1f34625",
   "metadata": {},
   "source": [
    "### 2nd variant"
   ]
  },
  {
   "cell_type": "markdown",
   "id": "d5194e81",
   "metadata": {},
   "source": [
    "![title](clustering_coefficient_2nd_grapg.png)"
   ]
  },
  {
   "cell_type": "code",
   "execution_count": 2,
   "id": "4754a576",
   "metadata": {},
   "outputs": [],
   "source": [
    "graph = nx.Graph()\n",
    "\n",
    "graph.add_nodes_from([\"a\", \"b\", \"c\", \"d\", \"e\", \"f\", \"g\", \"h\", \"i\", \"j\", \"k\", \"l\"])\n",
    "# Cluster Coefficient graph 1st variant\n",
    "# graph.add_edges_from([(\"a\", \"b\"), (\"a\", \"e\"), (\"a\", \"f\"),\n",
    "#                       (\"b\", \"c\"), (\"b\", \"f\"),\n",
    "#                       (\"c\", \"g\"), (\"c\", \"h\"),\n",
    "#                       (\"d\", \"h\"), \n",
    "#                       (\"e\", \"f\"), (\"e\", \"i\"), (\"e\", \"j\"), (\"e\", \"k\"), \n",
    "#                       (\"f\", \"k\"), \n",
    "#                       (\"g\", \"h\"), (\"g\", \"k\"), (\"g\", \"l\"),  \n",
    "#                       (\"i\", \"j\"), \n",
    "#                       (\"j\", \"k\")])\n",
    "\n",
    "# Cluster Coefficient graph 2nd variant\n",
    "graph.add_edges_from([(\"a\", \"b\"), (\"a\", \"e\"), (\"a\", \"f\"),\n",
    "                      (\"b\", \"c\"), (\"b\", \"f\"),\n",
    "                      (\"c\", \"d\"), (\"c\", \"f\"), (\"c\", \"g\"), (\"c\", \"h\"),\n",
    "                      (\"d\", \"h\"),\n",
    "                      (\"e\", \"f\"), (\"e\", \"i\"), (\"e\", \"j\"), \n",
    "                      (\"f\", \"j\"), \n",
    "                      (\"g\", \"k\"), (\"g\", \"l\"),  \n",
    "                      (\"h\", \"k\"), (\"h\", \"l\"),\n",
    "                      (\"i\", \"j\"), \n",
    "                      (\"k\", \"l\")])"
   ]
  },
  {
   "cell_type": "code",
   "execution_count": null,
   "id": "3c42bacf",
   "metadata": {},
   "outputs": [],
   "source": []
  },
  {
   "cell_type": "code",
   "execution_count": 18,
   "id": "51b2cd2f",
   "metadata": {},
   "outputs": [
    {
     "data": {
      "image/png": "[encoded data removed]",
      "text/plain": [
       "<Figure size 432x288 with 1 Axes>"
      ]
     },
     "metadata": {},
     "output_type": "display_data"
    }
   ],
   "source": [
    "nx.draw(graph, with_labels = True)\n",
    "plt.show()"
   ]
  },
  {
   "cell_type": "markdown",
   "id": "2d123137",
   "metadata": {},
   "source": [
    "### Clustering Coefficient"
   ]
  },
  {
   "cell_type": "code",
   "execution_count": 3,
   "id": "db87083c",
   "metadata": {},
   "outputs": [],
   "source": [
    "all_clustering_coefficients = nx.algorithms.cluster.clustering(graph)"
   ]
  },
  {
   "cell_type": "code",
   "execution_count": 4,
   "id": "63f37714",
   "metadata": {},
   "outputs": [
    {
     "name": "stdout",
     "output_type": "stream",
     "text": [
      "a 0.67\n",
      "b 0.67\n",
      "c 0.2\n",
      "d 1.0\n",
      "e 0.5\n",
      "f 0.4\n",
      "g 0.33\n",
      "h 0.33\n",
      "i 1.0\n",
      "j 0.67\n",
      "k 0.67\n",
      "l 0.67\n"
     ]
    }
   ],
   "source": [
    "for key, value in all_clustering_coefficients.items():\n",
    "    print(key, round(value, 2))"
   ]
  },
  {
   "cell_type": "markdown",
   "id": "b5c9ce03",
   "metadata": {},
   "source": [
    "### Global Clustering Coefficient"
   ]
  },
  {
   "cell_type": "code",
   "execution_count": 5,
   "id": "5003f1ab",
   "metadata": {},
   "outputs": [
    {
     "name": "stdout",
     "output_type": "stream",
     "text": [
      "0.46\n"
     ]
    }
   ],
   "source": [
    "print(round(nx.transitivity(graph), 2))"
   ]
  },
  {
   "cell_type": "code",
   "execution_count": null,
   "id": "56200d14",
   "metadata": {},
   "outputs": [],
   "source": []
  }
 ],
 "metadata": {
  "kernelspec": {
   "display_name": "Python 3 (ipykernel)",
   "language": "python",
   "name": "python3"
  },
  "language_info": {
   "codemirror_mode": {
    "name": "ipython",
    "version": 3
   },
   "file_extension": ".py",
   "mimetype": "text/x-python",
   "name": "python",
   "nbconvert_exporter": "python",
   "pygments_lexer": "ipython3",
   "version": "3.9.5"
  }
 },
 "nbformat": 4,
 "nbformat_minor": 5
}
