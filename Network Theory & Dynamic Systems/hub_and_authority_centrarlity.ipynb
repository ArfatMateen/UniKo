{
 "cells": [
  {
   "cell_type": "code",
   "execution_count": 1,
   "id": "22fb0603",
   "metadata": {},
   "outputs": [],
   "source": [
    "import numpy as np\n",
    "import networkx as nx\n",
    "import matplotlib.pyplot as plt"
   ]
  },
  {
   "cell_type": "code",
   "execution_count": 2,
   "id": "aca999bd",
   "metadata": {},
   "outputs": [],
   "source": [
    "# adj_mat = np.matrix([\n",
    "#     [0, 0, 0, 0, 1, 0, 0, 0, 0, 0, 0, 0, 0, 0], \n",
    "#     [1, 0, 0, 0, 0, 0, 0, 0, 0, 0, 0, 0, 0, 0], \n",
    "#     [0, 1, 0, 0, 0, 0, 1, 0, 0, 0, 0, 0, 0, 0], \n",
    "#     [0, 1, 1, 0, 0, 0, 0, 0, 0, 0, 0, 0, 0, 0], \n",
    "#     [0, 0, 1, 0, 0, 1, 0, 0, 0, 1, 0, 0, 0, 0], \n",
    "#     [0, 0, 0, 0, 0, 0, 1, 0, 0, 1, 0, 0, 0, 0], \n",
    "#     [0, 0, 0, 1, 0, 1, 0, 0, 0, 1, 1, 0, 0, 0], \n",
    "#     [0, 0, 0, 0, 1, 0, 0, 0, 0, 0, 0, 0, 0, 0], \n",
    "#     [0, 0, 0, 0, 0, 0, 0, 1, 0, 1, 0, 0, 0, 0], \n",
    "#     [0, 0, 0, 0, 0, 0, 0, 0, 1, 0, 0, 0, 0, 1], \n",
    "#     [0, 0, 0, 0, 0, 0, 0, 0, 0, 1, 0, 1, 0, 0], \n",
    "#     [0, 0, 0, 0, 0, 0, 0, 0, 0, 1, 0, 0, 0, 1], \n",
    "#     [0, 0, 0, 0, 0, 0, 0, 0, 0, 0, 0, 0, 0, 1], \n",
    "#     [0, 0, 0, 0, 0, 0, 0, 0, 0, 0, 0, 0, 0, 0]\n",
    "# ])\n",
    "\n",
    "adj_mat = np.matrix([\n",
    "    [0, 0, 0, 0, 0, 0, 0, 0, 0, 0, 0, 0], \n",
    "    [1, 0, 0, 0, 0, 0, 1, 0, 0, 0, 0, 0], \n",
    "    [0, 1, 0, 1, 0, 0, 1, 0, 0, 0, 0, 0], \n",
    "    [0, 0, 0, 0, 0, 0, 0, 0, 0, 0, 0, 0], \n",
    "    [1, 0, 0, 0, 0, 0, 1, 0, 1, 0, 0, 0], \n",
    "    [0, 1, 0, 0, 1, 0, 0, 0, 0, 0, 0, 0], \n",
    "    [0, 0, 0, 0, 0, 0, 0, 0, 0, 1, 0, 0], \n",
    "    [0, 0, 0, 1, 0, 0, 1, 0, 0, 0, 1, 1], \n",
    "    [0, 0, 0, 0, 0, 0, 0, 0, 0, 1, 0, 0], \n",
    "    [0, 0, 0, 0, 0, 0, 0, 0, 0, 0, 0, 0], \n",
    "    [0, 0, 0, 0, 0, 0, 0, 0, 0, 1, 0, 0], \n",
    "    [0, 0, 0, 0, 0, 0, 0, 1, 0, 0, 0, 0]\n",
    "])"
   ]
  },
  {
   "cell_type": "code",
   "execution_count": 3,
   "id": "f9d0a3e9",
   "metadata": {},
   "outputs": [],
   "source": [
    "# labels = { 0 : \"a\", 1 : \"b\", 2 : \"c\", 3 : \"d\", 4 : \"e\", 5 : \"f\", 6 : \"g\", 7 : \"h\", 8 : \"i\", 9 : \"j\", 10 : \"k\",\n",
    "#            11 : \"l\", 12 : \"m\", 13 : \"n\"}\n",
    "labels = { 0 : \"a\", 1 : \"b\", 2 : \"c\", 3 : \"d\", 4 : \"e\", 5 : \"f\", 6 : \"g\", 7 : \"h\", 8 : \"i\", 9 : \"j\", 10 : \"k\",\n",
    "           11 : \"l\"}"
   ]
  },
  {
   "cell_type": "code",
   "execution_count": 4,
   "id": "47eaad7a",
   "metadata": {},
   "outputs": [],
   "source": [
    "graph = nx.from_numpy_matrix(adj_mat, create_using=nx.DiGraph)"
   ]
  },
  {
   "cell_type": "code",
   "execution_count": 5,
   "id": "e5f0ef4b",
   "metadata": {},
   "outputs": [],
   "source": [
    "graph = nx.relabel_nodes(graph, labels)"
   ]
  },
  {
   "cell_type": "code",
   "execution_count": 9,
   "id": "8d2cff35",
   "metadata": {},
   "outputs": [
    {
     "data": {
      "image/png": "[encoded data removed]",
      "text/plain": [
       "<Figure size 432x288 with 1 Axes>"
      ]
     },
     "metadata": {},
     "output_type": "display_data"
    }
   ],
   "source": [
    "nx.draw_kamada_kawai(graph, with_labels=True )\n",
    "plt.show()"
   ]
  },
  {
   "cell_type": "code",
   "execution_count": 10,
   "id": "0c7d2dca",
   "metadata": {},
   "outputs": [],
   "source": [
    "hubs, auths = nx.hits(graph)"
   ]
  },
  {
   "cell_type": "markdown",
   "id": "925260a6",
   "metadata": {},
   "source": [
    "### Authority centralities"
   ]
  },
  {
   "cell_type": "code",
   "execution_count": 11,
   "id": "73a2d021",
   "metadata": {},
   "outputs": [
    {
     "name": "stdout",
     "output_type": "stream",
     "text": [
      "a 0.135129\n",
      "b 0.097908\n",
      "c 0.0\n",
      "d 0.176821\n",
      "e 0.015908\n",
      "f 0.0\n",
      "g 0.31195\n",
      "h 0.0\n",
      "i 0.072641\n",
      "j 0.0\n",
      "k 0.094822\n",
      "l 0.094822\n"
     ]
    }
   ],
   "source": [
    "for k, v in auths.items():\n",
    "    print(k, round(v, 6))"
   ]
  },
  {
   "cell_type": "markdown",
   "id": "13fb3a3e",
   "metadata": {},
   "source": [
    "### Hub Centralities"
   ]
  },
  {
   "cell_type": "code",
   "execution_count": 12,
   "id": "6cdd3f39",
   "metadata": {},
   "outputs": [
    {
     "name": "stdout",
     "output_type": "stream",
     "text": [
      "a 0.0\n",
      "b 0.190594\n",
      "c 0.250107\n",
      "d 0.0\n",
      "e 0.221562\n",
      "f 0.048521\n",
      "g 0.0\n",
      "h 0.289215\n",
      "i 0.0\n",
      "j 0.0\n",
      "k 0.0\n",
      "l 0.0\n"
     ]
    }
   ],
   "source": [
    "for k, v in hubs.items():\n",
    "    print(k, round(v, 6))"
   ]
  },
  {
   "cell_type": "code",
   "execution_count": 10,
   "id": "681c5901",
   "metadata": {},
   "outputs": [],
   "source": [
    "# def hits(graph, iterations, tolarance=1.0e-8):\n",
    "#     hubs = dict.fromkeys(graph, 1.0 / graph.number_of_nodes())\n",
    "#     authorities = {}\n",
    "#     # power iteration, which stops after given iterations or reaching tolerance\n",
    "#     for _ in range(iterations):\n",
    "#         last_hubs = hubs\n",
    "#         hubs = dict.fromkeys(last_hubs.keys(), 0)\n",
    "#         authorities = dict.fromkeys(last_hubs.keys(), 0)\n",
    "#         for node in hubs:\n",
    "#             for neighbor in graph[node]:\n",
    "#                 authorities[neighbor] += last_hubs[node] * graph[node][neighbor].get('weight', 1)\n",
    "#         for node in hubs:\n",
    "#             for neighbor in graph[node]:\n",
    "#                 hubs[node] += authorities[neighbor] * graph[node][neighbor].get('weight', 1)\n",
    "#         scaling = 1.0 / max(hubs.values())\n",
    "#         for node in hubs:\n",
    "#             hubs[node] *= scaling\n",
    "#         scaling = 1.0 / max(authorities.values())\n",
    "#         for node in authorities:\n",
    "#             authorities[node] *= scaling\n",
    "#         err = sum([abs(hubs[node] - last_hubs[node]) for node in hubs])\n",
    "#         if err < tolarance:\n",
    "#             break\n",
    "#     return hubs, authorities"
   ]
  },
  {
   "cell_type": "code",
   "execution_count": 11,
   "id": "79401603",
   "metadata": {},
   "outputs": [],
   "source": [
    "# hubs, auths = hits(graph, 100)"
   ]
  },
  {
   "cell_type": "code",
   "execution_count": 12,
   "id": "5f964560",
   "metadata": {},
   "outputs": [],
   "source": [
    "# for k, v in auths.items():\n",
    "#     print(k, round(v, 3))"
   ]
  },
  {
   "cell_type": "code",
   "execution_count": null,
   "id": "9c8137ea",
   "metadata": {},
   "outputs": [],
   "source": []
  }
 ],
 "metadata": {
  "kernelspec": {
   "display_name": "Python 3 (ipykernel)",
   "language": "python",
   "name": "python3"
  },
  "language_info": {
   "codemirror_mode": {
    "name": "ipython",
    "version": 3
   },
   "file_extension": ".py",
   "mimetype": "text/x-python",
   "name": "python",
   "nbconvert_exporter": "python",
   "pygments_lexer": "ipython3",
   "version": "3.9.5"
  }
 },
 "nbformat": 4,
 "nbformat_minor": 5
}
