{
 "cells": [
  {
   "cell_type": "code",
   "execution_count": null,
   "id": "33c01cef",
   "metadata": {},
   "outputs": [],
   "source": []
  },
  {
   "cell_type": "markdown",
   "id": "d887c1a5",
   "metadata": {},
   "source": [
    "![title](network_social_optima_2_paths.png)"
   ]
  },
  {
   "cell_type": "code",
   "execution_count": 11,
   "id": "7a4d62fa",
   "metadata": {},
   "outputs": [
    {
     "name": "stdout",
     "output_type": "stream",
     "text": [
      "drivers_ACB:  2000\n",
      "drivers_ADB:  2000\n",
      "\n",
      "duration ACB:  65.0\n",
      "duration ADB:  65.0\n",
      "\n",
      "shortest time:  260000.0\n"
     ]
    }
   ],
   "source": [
    "# total of this must not exceed total drivers\n",
    "# Question 1 of Network Optima\n",
    "drivers = 4000\n",
    "drivers_ACB = 0\n",
    "drivers_ADB = 0\n",
    " \n",
    "duration_ACB = 0\n",
    "duration_ADB = 0\n",
    " \n",
    "final_drivers_ACB = 0\n",
    "final_drivers_ADB = 0\n",
    "\n",
    "final_duration_ACB = 0\n",
    "final_duration_ADB = 0\n",
    " \n",
    "shortest_time = 5000000\n",
    "new_time = 0\n",
    " \n",
    "for i in range(drivers + 1): #0\n",
    "    drivers_ACB = i\n",
    "    drivers_ADB = drivers - i\n",
    "\n",
    "    AC=(drivers_ACB)/100\n",
    "    CB=45\n",
    "    AD=45\n",
    "    DB=(drivers_ADB)/100\n",
    "\n",
    "    duration_ACB = AC+CB\n",
    "    duration_ADB = AD+DB\n",
    "\n",
    "    new_time = (duration_ACB*drivers_ACB) + (duration_ADB*drivers_ADB)\n",
    "\n",
    "    if(new_time < shortest_time):\n",
    "        final_drivers_ACB = drivers_ACB\n",
    "        final_drivers_ADB = drivers_ADB\n",
    "        final_duration_ACB = duration_ACB\n",
    "        final_duration_ADB = duration_ADB\n",
    "        shortest_time = new_time\n",
    "\n",
    "print('drivers_ACB: ', final_drivers_ACB)\n",
    "print('drivers_ADB: ', final_drivers_ADB)\n",
    "print(\"\")\n",
    "print('duration ACB: ', final_duration_ACB)\n",
    "print('duration ADB: ', final_duration_ADB)\n",
    "print(\"\")\n",
    "print('shortest time: ', shortest_time)"
   ]
  },
  {
   "cell_type": "code",
   "execution_count": null,
   "id": "a2f4e580",
   "metadata": {},
   "outputs": [],
   "source": []
  }
 ],
 "metadata": {
  "kernelspec": {
   "display_name": "Python 3 (ipykernel)",
   "language": "python",
   "name": "python3"
  },
  "language_info": {
   "codemirror_mode": {
    "name": "ipython",
    "version": 3
   },
   "file_extension": ".py",
   "mimetype": "text/x-python",
   "name": "python",
   "nbconvert_exporter": "python",
   "pygments_lexer": "ipython3",
   "version": "3.9.5"
  }
 },
 "nbformat": 4,
 "nbformat_minor": 5
}
