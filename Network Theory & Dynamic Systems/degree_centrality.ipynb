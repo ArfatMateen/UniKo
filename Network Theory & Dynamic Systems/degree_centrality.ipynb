{
 "cells": [
  {
   "cell_type": "code",
   "execution_count": 1,
   "id": "cd2904c4",
   "metadata": {},
   "outputs": [],
   "source": [
    "import networkx as nx\n",
    "import numpy as np\n",
    "import matplotlib.pyplot as plt"
   ]
  },
  {
   "cell_type": "markdown",
   "id": "dce9d839",
   "metadata": {},
   "source": [
    "![title](degree_centrality_graph.png)"
   ]
  },
  {
   "cell_type": "code",
   "execution_count": 2,
   "id": "440685f6",
   "metadata": {},
   "outputs": [
    {
     "name": "stdout",
     "output_type": "stream",
     "text": [
      "{'a': 0, 'b': 1, 'c': 2, 'd': 3, 'e': 4, 'f': 5, 'g': 6, 'h': 7, 'i': 8, 'j': 9, 'k': 10, 'l': 11}\n",
      "12\n"
     ]
    }
   ],
   "source": [
    "title = {}\n",
    "\n",
    "for i in range(97,109):\n",
    "    char = chr(i)\n",
    "    title[char] = i-97\n",
    "\n",
    "\n",
    "print(title)\n",
    "print(len(title))"
   ]
  },
  {
   "cell_type": "code",
   "execution_count": 3,
   "id": "32add714",
   "metadata": {},
   "outputs": [],
   "source": [
    "# w.r.t out degree\n",
    "\n",
    "adj_mat = np.zeros((12,12))\n",
    "\n",
    "adj_mat[title['a'], title['e']] = 1\n",
    "adj_mat[title['a'], title['j']] = 1\n",
    "adj_mat[title['a'], title['l']] = 1\n",
    "\n",
    "adj_mat[title['b'], title['a']] = 1\n",
    "\n",
    "adj_mat[title['c'], title['b']] = 1\n",
    "adj_mat[title['c'], title['d']] = 1\n",
    "\n",
    "adj_mat[title['d'], title['h']] = 1\n",
    "\n",
    "adj_mat[title['e'], title['g']] = 1\n",
    "\n",
    "adj_mat[title['f'], title['b']] = 1\n",
    "adj_mat[title['f'], title['g']] = 1\n",
    "\n",
    "adj_mat[title['g'], title['b']] = 1\n",
    "adj_mat[title['g'], title['c']] = 1\n",
    "adj_mat[title['g'], title['h']] = 1\n",
    "adj_mat[title['g'], title['j']] = 1\n",
    "\n",
    "adj_mat[title['h'], title['g']] = 1\n",
    "adj_mat[title['h'], title['d']] = 1\n",
    "adj_mat[title['h'], title['k']] = 1\n",
    "\n",
    "adj_mat[title['i'], title['a']] = 1\n",
    "adj_mat[title['i'], title['j']] = 1\n",
    "\n",
    "adj_mat[title['k'], title['j']] = 1\n",
    "\n",
    "adj_mat[title['l'], title['a']] = 1"
   ]
  },
  {
   "cell_type": "code",
   "execution_count": 4,
   "id": "ff02716f",
   "metadata": {},
   "outputs": [
    {
     "name": "stdout",
     "output_type": "stream",
     "text": [
      "[[0. 0. 0. 0. 1. 0. 0. 0. 0. 1. 0. 1.]\n",
      " [1. 0. 0. 0. 0. 0. 0. 0. 0. 0. 0. 0.]\n",
      " [0. 1. 0. 1. 0. 0. 0. 0. 0. 0. 0. 0.]\n",
      " [0. 0. 0. 0. 0. 0. 0. 1. 0. 0. 0. 0.]\n",
      " [0. 0. 0. 0. 0. 0. 1. 0. 0. 0. 0. 0.]\n",
      " [0. 1. 0. 0. 0. 0. 1. 0. 0. 0. 0. 0.]\n",
      " [0. 1. 1. 0. 0. 0. 0. 1. 0. 1. 0. 0.]\n",
      " [0. 0. 0. 1. 0. 0. 1. 0. 0. 0. 1. 0.]\n",
      " [1. 0. 0. 0. 0. 0. 0. 0. 0. 1. 0. 0.]\n",
      " [0. 0. 0. 0. 0. 0. 0. 0. 0. 0. 0. 0.]\n",
      " [0. 0. 0. 0. 0. 0. 0. 0. 0. 1. 0. 0.]\n",
      " [1. 0. 0. 0. 0. 0. 0. 0. 0. 0. 0. 0.]]\n"
     ]
    }
   ],
   "source": [
    "print(adj_mat)"
   ]
  },
  {
   "cell_type": "code",
   "execution_count": null,
   "id": "4021f602",
   "metadata": {},
   "outputs": [],
   "source": []
  },
  {
   "cell_type": "code",
   "execution_count": 5,
   "id": "23588c97",
   "metadata": {},
   "outputs": [],
   "source": [
    "one_vec = np.ones((12,1)).reshape(12)"
   ]
  },
  {
   "cell_type": "code",
   "execution_count": 6,
   "id": "c78f9b26",
   "metadata": {},
   "outputs": [
    {
     "name": "stdout",
     "output_type": "stream",
     "text": [
      "In Degree Vector:  [3. 3. 1. 2. 1. 0. 3. 2. 0. 4. 1. 1.]\n"
     ]
    }
   ],
   "source": [
    "# Calculate inDegree centrality vector\n",
    "in_deg_vec = np.matmul(adj_mat.transpose(), one_vec)\n",
    "\n",
    "print(\"In Degree Vector: \", in_deg_vec)"
   ]
  },
  {
   "cell_type": "code",
   "execution_count": 7,
   "id": "1caff8c4",
   "metadata": {},
   "outputs": [
    {
     "name": "stdout",
     "output_type": "stream",
     "text": [
      "Out Degree Vector:  [3. 1. 2. 1. 1. 2. 4. 3. 2. 0. 1. 1.]\n"
     ]
    }
   ],
   "source": [
    "# Calculate outDegree centrality vector\n",
    "out_deg_vec = np.matmul(adj_mat, one_vec)\n",
    "\n",
    "print(\"Out Degree Vector: \", out_deg_vec)"
   ]
  },
  {
   "cell_type": "code",
   "execution_count": null,
   "id": "a40f351a",
   "metadata": {},
   "outputs": [],
   "source": []
  }
 ],
 "metadata": {
  "kernelspec": {
   "display_name": "Python 3 (ipykernel)",
   "language": "python",
   "name": "python3"
  },
  "language_info": {
   "codemirror_mode": {
    "name": "ipython",
    "version": 3
   },
   "file_extension": ".py",
   "mimetype": "text/x-python",
   "name": "python",
   "nbconvert_exporter": "python",
   "pygments_lexer": "ipython3",
   "version": "3.9.5"
  }
 },
 "nbformat": 4,
 "nbformat_minor": 5
}
