{
 "cells": [
  {
   "cell_type": "code",
   "execution_count": 1,
   "id": "557a9a2a",
   "metadata": {},
   "outputs": [],
   "source": [
    "import pandas as pd\n",
    "import numpy as np\n",
    "import matplotlib.pyplot as plt"
   ]
  },
  {
   "cell_type": "markdown",
   "id": "da88cd51",
   "metadata": {},
   "source": [
    "### Linear Regression"
   ]
  },
  {
   "cell_type": "code",
   "execution_count": 2,
   "id": "8d1b78f0",
   "metadata": {},
   "outputs": [],
   "source": [
    "X = [2010, 2012, 2012, 2016, 2017, 2018, 2019]\n",
    "Y = [6000, 7200, 8000, 14000, 14500, 18000, 20000]\n",
    "\n",
    "# X = [26, 78, 52, 45, 32]\n",
    "# Y = [154, 654, 432, 245, 320]"
   ]
  },
  {
   "cell_type": "code",
   "execution_count": 3,
   "id": "493f0fe8",
   "metadata": {},
   "outputs": [
    {
     "data": {
      "text/plain": [
       "<matplotlib.collections.PathCollection at 0x7f472a209430>"
      ]
     },
     "execution_count": 3,
     "metadata": {},
     "output_type": "execute_result"
    },
    {
     "data": {
      "image/png": "[encoded data removed]",
      "text/plain": [
       "<Figure size 432x288 with 1 Axes>"
      ]
     },
     "metadata": {
      "needs_background": "light"
     },
     "output_type": "display_data"
    }
   ],
   "source": [
    "plt.scatter(X, Y)"
   ]
  },
  {
   "cell_type": "code",
   "execution_count": 4,
   "id": "53ace47a",
   "metadata": {},
   "outputs": [],
   "source": [
    "X_mean = np.mean(X)\n",
    "Y_mean = np.mean(Y)"
   ]
  },
  {
   "cell_type": "markdown",
   "id": "028f217a",
   "metadata": {},
   "source": [
    "### Covariance divided by the variance"
   ]
  },
  {
   "cell_type": "code",
   "execution_count": 5,
   "id": "e99d3bc0",
   "metadata": {},
   "outputs": [
    {
     "name": "stdout",
     "output_type": "stream",
     "text": [
      "-3138154.901960785 1563.7254901960787\n"
     ]
    }
   ],
   "source": [
    "num = 0\n",
    "den = 0\n",
    "\n",
    "for i in range(len(X)):\n",
    "    num += (X[i] - X_mean) * (Y[i] - Y_mean)\n",
    "    den += (X[i] - X_mean) ** 2\n",
    "\n",
    "w1 = num / den\n",
    "w0 = Y_mean - w1 * X_mean\n",
    "\n",
    "print (w0, w1)"
   ]
  },
  {
   "cell_type": "code",
   "execution_count": 6,
   "id": "25d38b15",
   "metadata": {},
   "outputs": [
    {
     "name": "stdout",
     "output_type": "stream",
     "text": [
      "11188.235294117592\n"
     ]
    }
   ],
   "source": [
    "Y_pred = w0 + w1 * 2014\n",
    "print(Y_pred)"
   ]
  },
  {
   "cell_type": "code",
   "execution_count": 7,
   "id": "dfc35f7a",
   "metadata": {},
   "outputs": [],
   "source": [
    "# plt.scatter(X, Y)\n",
    "# plt.plot([min(X), max(X)], [min(Y), max(Y)], color='red')"
   ]
  },
  {
   "cell_type": "code",
   "execution_count": null,
   "id": "2775f4d2",
   "metadata": {},
   "outputs": [],
   "source": []
  },
  {
   "cell_type": "markdown",
   "id": "8457e03b",
   "metadata": {},
   "source": [
    "### Example from Slides"
   ]
  },
  {
   "cell_type": "code",
   "execution_count": 28,
   "id": "ea122815",
   "metadata": {},
   "outputs": [],
   "source": [
    "# X = np.array([[10, 1],\n",
    "#              [12, 1],\n",
    "#              [12, 1],\n",
    "#              [16, 1],\n",
    "#              [17, 1],\n",
    "#              [18, 1],\n",
    "#              [19, 1],])\n",
    "\n",
    "X = np.array([[2010, 1],\n",
    "             [2012, 1],\n",
    "             [2012, 1],\n",
    "             [2016, 1],\n",
    "             [2017, 1],\n",
    "             [2018, 1],\n",
    "             [2019, 1],])"
   ]
  },
  {
   "cell_type": "code",
   "execution_count": 29,
   "id": "1fc01326",
   "metadata": {},
   "outputs": [],
   "source": [
    "# Y = np.array([6, 7.2, 8, 14, 14.5, 18, 20])\n",
    "Y = np.array([6000, 7200, 8000, 14000, 14500, 18000, 20000])"
   ]
  },
  {
   "cell_type": "code",
   "execution_count": 30,
   "id": "8bd3e1b9",
   "metadata": {},
   "outputs": [
    {
     "data": {
      "text/plain": [
       "array([[28417618,    14104],\n",
       "       [   14104,        7]])"
      ]
     },
     "execution_count": 30,
     "metadata": {},
     "output_type": "execute_result"
    }
   ],
   "source": [
    "Z = np.dot(X.T, X)\n",
    "Z"
   ]
  },
  {
   "cell_type": "code",
   "execution_count": 31,
   "id": "5d86bcc1",
   "metadata": {},
   "outputs": [
    {
     "data": {
      "text/plain": [
       "array([[ 1.37254902e-02, -2.76549020e+01],\n",
       "       [-2.76549020e+01,  5.57208196e+04]])"
      ]
     },
     "execution_count": 31,
     "metadata": {},
     "output_type": "execute_result"
    }
   ],
   "source": [
    "Z_inv = np.linalg.inv(Z)\n",
    "Z_inv"
   ]
  },
  {
   "cell_type": "code",
   "execution_count": 32,
   "id": "ce58dc48",
   "metadata": {},
   "outputs": [
    {
     "data": {
      "text/plain": [
       "array([176816900,     87700])"
      ]
     },
     "execution_count": 32,
     "metadata": {},
     "output_type": "execute_result"
    }
   ],
   "source": [
    "XTY = np.dot(X.T, Y)\n",
    "XTY"
   ]
  },
  {
   "cell_type": "code",
   "execution_count": 38,
   "id": "a7651968",
   "metadata": {},
   "outputs": [
    {
     "data": {
      "text/plain": [
       "array([ 1.56372549e+03, -3.13815490e+06])"
      ]
     },
     "execution_count": 38,
     "metadata": {},
     "output_type": "execute_result"
    }
   ],
   "source": [
    "W = np.dot(Z_inv, XTY)\n",
    "W"
   ]
  },
  {
   "cell_type": "code",
   "execution_count": 40,
   "id": "4f1c7a55",
   "metadata": {},
   "outputs": [
    {
     "data": {
      "text/plain": [
       "11188.23529508058"
      ]
     },
     "execution_count": 40,
     "metadata": {},
     "output_type": "execute_result"
    }
   ],
   "source": [
    "# (14 * W[0] + W[1]) * 1000\n",
    "2014 * W[0] + W[1]"
   ]
  },
  {
   "cell_type": "code",
   "execution_count": null,
   "id": "bb23dd1e",
   "metadata": {},
   "outputs": [],
   "source": []
  }
 ],
 "metadata": {
  "kernelspec": {
   "display_name": "Python 3 (ipykernel)",
   "language": "python",
   "name": "python3"
  },
  "language_info": {
   "codemirror_mode": {
    "name": "ipython",
    "version": 3
   },
   "file_extension": ".py",
   "mimetype": "text/x-python",
   "name": "python",
   "nbconvert_exporter": "python",
   "pygments_lexer": "ipython3",
   "version": "3.9.5"
  }
 },
 "nbformat": 4,
 "nbformat_minor": 5
}
