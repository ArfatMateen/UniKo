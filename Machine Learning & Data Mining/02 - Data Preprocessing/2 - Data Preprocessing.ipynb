{
 "cells": [
  {
   "cell_type": "code",
   "execution_count": 1,
   "id": "1921a635",
   "metadata": {},
   "outputs": [],
   "source": [
    "import numpy as np\n",
    "from math import dist\n",
    "from scipy.spatial import distance"
   ]
  },
  {
   "cell_type": "markdown",
   "id": "99b9194c",
   "metadata": {},
   "source": [
    "# Euclidean Distance"
   ]
  },
  {
   "cell_type": "code",
   "execution_count": 2,
   "id": "6f38c8bd",
   "metadata": {},
   "outputs": [],
   "source": [
    "x = [12, 9, 14]\n",
    "y = [15, 13, 3]"
   ]
  },
  {
   "cell_type": "code",
   "execution_count": 6,
   "id": "954010cb",
   "metadata": {},
   "outputs": [
    {
     "name": "stdout",
     "output_type": "stream",
     "text": [
      "12.083045973594572\n",
      "12.083045973594572\n"
     ]
    }
   ],
   "source": [
    "print(distance.euclidean(x, y))\n",
    "print(distance.euclidean(y, x))"
   ]
  },
  {
   "cell_type": "code",
   "execution_count": 33,
   "id": "26f617a1",
   "metadata": {},
   "outputs": [
    {
     "name": "stdout",
     "output_type": "stream",
     "text": [
      "12.083045973594572\n",
      "12.083045973594572\n",
      "\n",
      "12.083045973594572\n",
      "12.083045973594572\n",
      "\n",
      "12.083045973594572\n"
     ]
    }
   ],
   "source": [
    "a = np.array(x)\n",
    "b = np.array(y)\n",
    "\n",
    "print(np.linalg.norm(a-b))\n",
    "print(np.linalg.norm(b-a))\n",
    "print(\"\")\n",
    "\n",
    "print(np.sqrt(np.sum(np.square(a-b))))\n",
    "print(np.sqrt(np.sum(np.square(b-a))))\n",
    "print(\"\")\n",
    "\n",
    "temp = a-b\n",
    "print(np.sqrt(np.dot(temp, temp)))"
   ]
  },
  {
   "cell_type": "code",
   "execution_count": 37,
   "id": "4dc15104",
   "metadata": {},
   "outputs": [
    {
     "name": "stdout",
     "output_type": "stream",
     "text": [
      "12.08\n",
      "12.08304597359457\n"
     ]
    }
   ],
   "source": [
    "print(dist(x, y))\n",
    "print(dist(y, x))"
   ]
  },
  {
   "cell_type": "markdown",
   "id": "9ce611ee",
   "metadata": {},
   "source": [
    "# Manhattan Distance"
   ]
  },
  {
   "cell_type": "code",
   "execution_count": 38,
   "id": "c55eb09d",
   "metadata": {},
   "outputs": [],
   "source": [
    "i = [3, 9, 2]\n",
    "j = [6, 5, 13]"
   ]
  },
  {
   "cell_type": "code",
   "execution_count": 39,
   "id": "204ce037",
   "metadata": {},
   "outputs": [
    {
     "name": "stdout",
     "output_type": "stream",
     "text": [
      "18\n",
      "18\n"
     ]
    }
   ],
   "source": [
    "print(distance.cityblock(i, j))\n",
    "print(distance.cityblock(j, i))"
   ]
  },
  {
   "cell_type": "code",
   "execution_count": 41,
   "id": "95c578dd",
   "metadata": {},
   "outputs": [
    {
     "name": "stdout",
     "output_type": "stream",
     "text": [
      "18\n"
     ]
    }
   ],
   "source": [
    "k = np.array(i)\n",
    "l = np.array(j)\n",
    "\n",
    "print(sum(abs(k-l)))"
   ]
  },
  {
   "cell_type": "markdown",
   "id": "c513e846",
   "metadata": {},
   "source": [
    "# Error Functions"
   ]
  },
  {
   "cell_type": "code",
   "execution_count": 47,
   "id": "e3a707b4",
   "metadata": {},
   "outputs": [],
   "source": [
    "from sklearn.metrics import mean_absolute_error as mae\n",
    "from sklearn.metrics import mean_squared_error as mse\n",
    "from math import sqrt"
   ]
  },
  {
   "cell_type": "code",
   "execution_count": 42,
   "id": "5190e569",
   "metadata": {},
   "outputs": [],
   "source": [
    "actual = [3.88, 4.55, 5.22, 5.88, 6.56, 7.22, 7.89, 8.56]\n",
    "predicted = [5.72, 6.37, 7.01, 7.66, 8.30, 8.95, 9.60, 10.25]"
   ]
  },
  {
   "cell_type": "code",
   "execution_count": 52,
   "id": "c99986c9",
   "metadata": {},
   "outputs": [
    {
     "name": "stdout",
     "output_type": "stream",
     "text": [
      "Mean Absolute Error:  1.7625000000000002\n",
      "1.76\n"
     ]
    }
   ],
   "source": [
    "mae_val = mae(actual, predicted)\n",
    "\n",
    "print(\"Mean Absolute Error: \", mae_val)\n",
    "print(round(mae_val, 2))"
   ]
  },
  {
   "cell_type": "code",
   "execution_count": 53,
   "id": "a37cd294",
   "metadata": {},
   "outputs": [
    {
     "name": "stdout",
     "output_type": "stream",
     "text": [
      "Meas Square Error:  3.1089\n",
      "3.11\n"
     ]
    }
   ],
   "source": [
    "mse_val = mse(actual, predicted)\n",
    "\n",
    "print(\"Meas Square Error: \", mse_val)\n",
    "print(round(mse_val, 2))"
   ]
  },
  {
   "cell_type": "code",
   "execution_count": 54,
   "id": "306582ac",
   "metadata": {},
   "outputs": [
    {
     "name": "stdout",
     "output_type": "stream",
     "text": [
      "Root Mean Squared Error:  1.7632073048850496\n",
      "1.76\n"
     ]
    }
   ],
   "source": [
    "rmse_val = sqrt(mse(actual, predicted))\n",
    "\n",
    "print(\"Root Mean Squared Error: \", rmse_val)\n",
    "print(round(rmse_val, 2))"
   ]
  },
  {
   "cell_type": "markdown",
   "id": "3cb2f146",
   "metadata": {},
   "source": [
    "# Normalisation"
   ]
  },
  {
   "cell_type": "code",
   "execution_count": 1,
   "id": "c6d8595f",
   "metadata": {},
   "outputs": [],
   "source": [
    "import pandas as pd"
   ]
  },
  {
   "cell_type": "code",
   "execution_count": 2,
   "id": "4d093d1c",
   "metadata": {},
   "outputs": [],
   "source": [
    "df = pd.read_csv(\"ML_assignment02_dataset_2021.csv\")"
   ]
  },
  {
   "cell_type": "code",
   "execution_count": 4,
   "id": "c1281393",
   "metadata": {},
   "outputs": [
    {
     "name": "stdout",
     "output_type": "stream",
     "text": [
      "    Colour  Radius (cm)  Weight (grams) Fruit (class)\n",
      "0    Green          4.3             122          Pear\n",
      "1    Green          4.6             152          Pear\n",
      "2    Green          3.1              85         Apple\n",
      "3    Green          3.6             173          Pear\n",
      "4    Green          2.5              65         Lemon\n",
      "5    Green          2.5              70         Apple\n",
      "6    Green          2.7              73         Apple\n",
      "7    Green          4.5             110          Pear\n",
      "8    Green          2.5              86         Apple\n",
      "9    Green          2.4              68         Lemon\n",
      "10   Green          4.2             126          Pear\n",
      "11     Red          3.7             101         Apple\n",
      "12     Red          3.7             100         Apple\n",
      "13     Red          3.4              80         Apple\n",
      "14  Yellow          3.2              79         Apple\n",
      "15  Yellow          3.1              69         Lemon\n",
      "16  Yellow          2.1              64         Apple\n",
      "17  Yellow          2.6              58         Lemon\n",
      "18  Yellow          2.1              40         Lemon\n",
      "19  Yellow          2.3              60         Lemon\n",
      "20  Yellow          4.2             105          Pear\n",
      "21  Yellow          2.1              40         Lemon\n",
      "22  Yellow          3.2              64         Lemon\n",
      "23  Yellow          2.9              53         Lemon\n",
      "24  Yellow          4.1             135          Pear\n",
      "25  Yellow          5.2             142          Pear\n",
      "26  Yellow          2.3              60         Lemon\n",
      "27  Yellow          0.0             137          Pear\n",
      "28  Yellow          3.0              98         Apple\n",
      "29  Yellow          2.4               0         Lemon\n",
      "30  Yellow          4.1              56         Lemon\n",
      "31  Yellow          4.1              80         Apple\n",
      "32  Yellow          5.2             141          Pear\n",
      "33  Yellow          0.0             135          Pear\n",
      "34   Green          2.5               0         Apple\n",
      "Colour            35\n",
      "Radius (cm)       35\n",
      "Weight (grams)    35\n",
      "Fruit (class)     35\n",
      "dtype: int64\n"
     ]
    }
   ],
   "source": [
    "print(df)\n",
    "print(df.count())"
   ]
  },
  {
   "cell_type": "code",
   "execution_count": 5,
   "id": "e9fed8e3",
   "metadata": {},
   "outputs": [],
   "source": [
    "# Delete duplicate samples.\n",
    "def del_duplicate(dataframe):\n",
    "    dataframe = dataframe.drop_duplicates()\n",
    "    return dataframe"
   ]
  },
  {
   "cell_type": "code",
   "execution_count": 6,
   "id": "816bb337",
   "metadata": {},
   "outputs": [],
   "source": [
    "# Fill missing values (fields that have 0) with the mean of the corresponding class of the attribute\n",
    "def fill_values(dataframe):\n",
    "    dataframe.iloc[:, 1:3] = dataframe.groupby(dataframe.iloc[:,3]).transform(lambda x: x.replace(0, x.mean()))\n",
    "    return dataframe"
   ]
  },
  {
   "cell_type": "code",
   "execution_count": 7,
   "id": "1d397c65",
   "metadata": {},
   "outputs": [],
   "source": [
    "# Transform nominal attributes (not the classes!) into numerical values. \n",
    "def transform_nominal(dataframe): \n",
    "    dataframe = pd.concat([dataframe, pd.get_dummies(dataframe.iloc[:,0])], axis=1)\n",
    "    dataframe = dataframe.drop(df.columns[0], axis=1)\n",
    "    return dataframe"
   ]
  },
  {
   "cell_type": "code",
   "execution_count": 8,
   "id": "ba375cd3",
   "metadata": {},
   "outputs": [],
   "source": [
    "# Normalise the values of each numerical attribute with min-max method\n",
    "def normalise_minmax(df):\n",
    "    df[df.columns[:2]] = (df[df.columns[:2]] - df[df.columns[:2]].min()) / (df[df.columns[:2]].max() - df[df.columns[:2]].min())\n",
    "    return df"
   ]
  },
  {
   "cell_type": "code",
   "execution_count": 9,
   "id": "1a2221fa",
   "metadata": {},
   "outputs": [
    {
     "name": "stdout",
     "output_type": "stream",
     "text": [
      "    Colour  Radius (cm)  Weight (grams) Fruit (class)\n",
      "0    Green          4.3             122          Pear\n",
      "1    Green          4.6             152          Pear\n",
      "2    Green          3.1              85         Apple\n",
      "3    Green          3.6             173          Pear\n",
      "4    Green          2.5              65         Lemon\n",
      "5    Green          2.5              70         Apple\n",
      "6    Green          2.7              73         Apple\n",
      "7    Green          4.5             110          Pear\n",
      "8    Green          2.5              86         Apple\n",
      "9    Green          2.4              68         Lemon\n",
      "10   Green          4.2             126          Pear\n",
      "11     Red          3.7             101         Apple\n",
      "12     Red          3.7             100         Apple\n",
      "13     Red          3.4              80         Apple\n",
      "14  Yellow          3.2              79         Apple\n",
      "15  Yellow          3.1              69         Lemon\n",
      "16  Yellow          2.1              64         Apple\n",
      "17  Yellow          2.6              58         Lemon\n",
      "18  Yellow          2.1              40         Lemon\n",
      "19  Yellow          2.3              60         Lemon\n",
      "20  Yellow          4.2             105          Pear\n",
      "22  Yellow          3.2              64         Lemon\n",
      "23  Yellow          2.9              53         Lemon\n",
      "24  Yellow          4.1             135          Pear\n",
      "25  Yellow          5.2             142          Pear\n",
      "27  Yellow          0.0             137          Pear\n",
      "28  Yellow          3.0              98         Apple\n",
      "29  Yellow          2.4               0         Lemon\n",
      "30  Yellow          4.1              56         Lemon\n",
      "31  Yellow          4.1              80         Apple\n",
      "32  Yellow          5.2             141          Pear\n",
      "33  Yellow          0.0             135          Pear\n",
      "34   Green          2.5               0         Apple\n",
      "Colour            33\n",
      "Radius (cm)       33\n",
      "Weight (grams)    33\n",
      "Fruit (class)     33\n",
      "dtype: int64\n"
     ]
    }
   ],
   "source": [
    "df = del_duplicate(df)\n",
    "\n",
    "df.to_csv(\"duplicates_removed_dataset.csv\", index=False)\n",
    "\n",
    "print(df)\n",
    "print(df.count())"
   ]
  },
  {
   "cell_type": "code",
   "execution_count": 10,
   "id": "009a9442",
   "metadata": {},
   "outputs": [
    {
     "name": "stdout",
     "output_type": "stream",
     "text": [
      "    Colour  Radius (cm)  Weight (grams) Fruit (class)\n",
      "0    Green     4.300000      122.000000          Pear\n",
      "1    Green     4.600000      152.000000          Pear\n",
      "2    Green     3.100000       85.000000         Apple\n",
      "3    Green     3.600000      173.000000          Pear\n",
      "4    Green     2.500000       65.000000         Lemon\n",
      "5    Green     2.500000       70.000000         Apple\n",
      "6    Green     2.700000       73.000000         Apple\n",
      "7    Green     4.500000      110.000000          Pear\n",
      "8    Green     2.500000       86.000000         Apple\n",
      "9    Green     2.400000       68.000000         Lemon\n",
      "10   Green     4.200000      126.000000          Pear\n",
      "11     Red     3.700000      101.000000         Apple\n",
      "12     Red     3.700000      100.000000         Apple\n",
      "13     Red     3.400000       80.000000         Apple\n",
      "14  Yellow     3.200000       79.000000         Apple\n",
      "15  Yellow     3.100000       69.000000         Lemon\n",
      "16  Yellow     2.100000       64.000000         Apple\n",
      "17  Yellow     2.600000       58.000000         Lemon\n",
      "18  Yellow     2.100000       40.000000         Lemon\n",
      "19  Yellow     2.300000       60.000000         Lemon\n",
      "20  Yellow     4.200000      105.000000          Pear\n",
      "22  Yellow     3.200000       64.000000         Lemon\n",
      "23  Yellow     2.900000       53.000000         Lemon\n",
      "24  Yellow     4.100000      135.000000          Pear\n",
      "25  Yellow     5.200000      142.000000          Pear\n",
      "27  Yellow     3.627273      137.000000          Pear\n",
      "28  Yellow     3.000000       98.000000         Apple\n",
      "29  Yellow     2.400000       53.300000         Lemon\n",
      "30  Yellow     4.100000       56.000000         Lemon\n",
      "31  Yellow     4.100000       80.000000         Apple\n",
      "32  Yellow     5.200000      141.000000          Pear\n",
      "33  Yellow     3.627273      135.000000          Pear\n",
      "34   Green     2.500000       76.333333         Apple\n",
      "Colour            33\n",
      "Radius (cm)       33\n",
      "Weight (grams)    33\n",
      "Fruit (class)     33\n",
      "dtype: int64\n"
     ]
    },
    {
     "name": "stderr",
     "output_type": "stream",
     "text": [
      "/tmp/ipykernel_361/2435278358.py:3: FutureWarning: Dropping invalid columns in DataFrameGroupBy.transform is deprecated. In a future version, a TypeError will be raised. Before calling .transform, select only columns which should be valid for the transforming function.\n",
      "  dataframe.iloc[:, 1:3] = dataframe.groupby(dataframe.iloc[:,3]).transform(lambda x: x.replace(0, x.mean()))\n"
     ]
    }
   ],
   "source": [
    "df = fill_values(df)\n",
    "\n",
    "df.to_csv(\"missing_values_filled_dataset.csv\", index=False)\n",
    "\n",
    "print(df)\n",
    "print(df.count())"
   ]
  },
  {
   "cell_type": "code",
   "execution_count": 11,
   "id": "65b59943",
   "metadata": {},
   "outputs": [
    {
     "name": "stdout",
     "output_type": "stream",
     "text": [
      "    Radius (cm)  Weight (grams) Fruit (class)  Green  Red  Yellow\n",
      "0      4.300000      122.000000          Pear      1    0       0\n",
      "1      4.600000      152.000000          Pear      1    0       0\n",
      "2      3.100000       85.000000         Apple      1    0       0\n",
      "3      3.600000      173.000000          Pear      1    0       0\n",
      "4      2.500000       65.000000         Lemon      1    0       0\n",
      "5      2.500000       70.000000         Apple      1    0       0\n",
      "6      2.700000       73.000000         Apple      1    0       0\n",
      "7      4.500000      110.000000          Pear      1    0       0\n",
      "8      2.500000       86.000000         Apple      1    0       0\n",
      "9      2.400000       68.000000         Lemon      1    0       0\n",
      "10     4.200000      126.000000          Pear      1    0       0\n",
      "11     3.700000      101.000000         Apple      0    1       0\n",
      "12     3.700000      100.000000         Apple      0    1       0\n",
      "13     3.400000       80.000000         Apple      0    1       0\n",
      "14     3.200000       79.000000         Apple      0    0       1\n",
      "15     3.100000       69.000000         Lemon      0    0       1\n",
      "16     2.100000       64.000000         Apple      0    0       1\n",
      "17     2.600000       58.000000         Lemon      0    0       1\n",
      "18     2.100000       40.000000         Lemon      0    0       1\n",
      "19     2.300000       60.000000         Lemon      0    0       1\n",
      "20     4.200000      105.000000          Pear      0    0       1\n",
      "22     3.200000       64.000000         Lemon      0    0       1\n",
      "23     2.900000       53.000000         Lemon      0    0       1\n",
      "24     4.100000      135.000000          Pear      0    0       1\n",
      "25     5.200000      142.000000          Pear      0    0       1\n",
      "27     3.627273      137.000000          Pear      0    0       1\n",
      "28     3.000000       98.000000         Apple      0    0       1\n",
      "29     2.400000       53.300000         Lemon      0    0       1\n",
      "30     4.100000       56.000000         Lemon      0    0       1\n",
      "31     4.100000       80.000000         Apple      0    0       1\n",
      "32     5.200000      141.000000          Pear      0    0       1\n",
      "33     3.627273      135.000000          Pear      0    0       1\n",
      "34     2.500000       76.333333         Apple      1    0       0\n",
      "Radius (cm)       33\n",
      "Weight (grams)    33\n",
      "Fruit (class)     33\n",
      "Green             33\n",
      "Red               33\n",
      "Yellow            33\n",
      "dtype: int64\n"
     ]
    }
   ],
   "source": [
    "df = transform_nominal(df)\n",
    "\n",
    "df.to_csv(\"transformed_dataset.csv\", index=False)\n",
    "\n",
    "print(df)\n",
    "print(df.count())"
   ]
  },
  {
   "cell_type": "code",
   "execution_count": 12,
   "id": "9f248b8e",
   "metadata": {},
   "outputs": [
    {
     "name": "stdout",
     "output_type": "stream",
     "text": [
      "    Radius (cm)  Weight (grams) Fruit (class)  Green  Red  Yellow\n",
      "0      0.709677        0.616541          Pear      1    0       0\n",
      "1      0.806452        0.842105          Pear      1    0       0\n",
      "2      0.322581        0.338346         Apple      1    0       0\n",
      "3      0.483871        1.000000          Pear      1    0       0\n",
      "4      0.129032        0.187970         Lemon      1    0       0\n",
      "5      0.129032        0.225564         Apple      1    0       0\n",
      "6      0.193548        0.248120         Apple      1    0       0\n",
      "7      0.774194        0.526316          Pear      1    0       0\n",
      "8      0.129032        0.345865         Apple      1    0       0\n",
      "9      0.096774        0.210526         Lemon      1    0       0\n",
      "10     0.677419        0.646617          Pear      1    0       0\n",
      "11     0.516129        0.458647         Apple      0    1       0\n",
      "12     0.516129        0.451128         Apple      0    1       0\n",
      "13     0.419355        0.300752         Apple      0    1       0\n",
      "14     0.354839        0.293233         Apple      0    0       1\n",
      "15     0.322581        0.218045         Lemon      0    0       1\n",
      "16     0.000000        0.180451         Apple      0    0       1\n",
      "17     0.161290        0.135338         Lemon      0    0       1\n",
      "18     0.000000        0.000000         Lemon      0    0       1\n",
      "19     0.064516        0.150376         Lemon      0    0       1\n",
      "20     0.677419        0.488722          Pear      0    0       1\n",
      "22     0.354839        0.180451         Lemon      0    0       1\n",
      "23     0.258065        0.097744         Lemon      0    0       1\n",
      "24     0.645161        0.714286          Pear      0    0       1\n",
      "25     1.000000        0.766917          Pear      0    0       1\n",
      "27     0.492669        0.729323          Pear      0    0       1\n",
      "28     0.290323        0.436090         Apple      0    0       1\n",
      "29     0.096774        0.100000         Lemon      0    0       1\n",
      "30     0.645161        0.120301         Lemon      0    0       1\n",
      "31     0.645161        0.300752         Apple      0    0       1\n",
      "32     1.000000        0.759398          Pear      0    0       1\n",
      "33     0.492669        0.714286          Pear      0    0       1\n",
      "34     0.129032        0.273183         Apple      1    0       0\n",
      "Radius (cm)       33\n",
      "Weight (grams)    33\n",
      "Fruit (class)     33\n",
      "Green             33\n",
      "Red               33\n",
      "Yellow            33\n",
      "dtype: int64\n"
     ]
    }
   ],
   "source": [
    "df = normalise_minmax(df)\n",
    "\n",
    "df.to_csv(\"normalized_dataset.csv\", index=False)\n",
    "\n",
    "print(df)\n",
    "print(df.count())"
   ]
  },
  {
   "cell_type": "code",
   "execution_count": null,
   "id": "54a7c424",
   "metadata": {},
   "outputs": [],
   "source": []
  },
  {
   "cell_type": "code",
   "execution_count": null,
   "id": "b03b8292",
   "metadata": {},
   "outputs": [],
   "source": []
  }
 ],
 "metadata": {
  "kernelspec": {
   "display_name": "Python 3 (ipykernel)",
   "language": "python",
   "name": "python3"
  },
  "language_info": {
   "codemirror_mode": {
    "name": "ipython",
    "version": 3
   },
   "file_extension": ".py",
   "mimetype": "text/x-python",
   "name": "python",
   "nbconvert_exporter": "python",
   "pygments_lexer": "ipython3",
   "version": "3.9.5"
  }
 },
 "nbformat": 4,
 "nbformat_minor": 5
}
