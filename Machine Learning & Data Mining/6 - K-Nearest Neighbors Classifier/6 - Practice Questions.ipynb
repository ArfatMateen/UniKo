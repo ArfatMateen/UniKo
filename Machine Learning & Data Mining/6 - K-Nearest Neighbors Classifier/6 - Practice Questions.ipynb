{
 "cells": [
  {
   "cell_type": "markdown",
   "id": "5d626d9f",
   "metadata": {},
   "source": [
    "# Confusion matrix evaluation"
   ]
  },
  {
   "cell_type": "code",
   "execution_count": 1,
   "id": "545ff7dd",
   "metadata": {},
   "outputs": [],
   "source": [
    "# TP_apple = 33\n",
    "# FP_apple = 8 + 9\n",
    "# TN_apple = 40 + 4 + 5 + 27\n",
    "# FN_apple = 6 + 18\n",
    "\n",
    "TP_apple = 46\n",
    "FP_apple = 9 + 2\n",
    "TN_apple = 61 + 0 + 3 + 25\n",
    "FN_apple = 12 + 2"
   ]
  },
  {
   "cell_type": "code",
   "execution_count": 2,
   "id": "6d1537a9",
   "metadata": {},
   "outputs": [],
   "source": [
    "# TP_banana = 40\n",
    "# FP_banana = 6 + 4\n",
    "# TN_banana = 33 + 9 + 18 + 27\n",
    "# FN_banana = 8 + 5\n",
    "\n",
    "TP_banana = 61\n",
    "FP_banana = 12 + 3\n",
    "TN_banana = 46 + 2 + 2 + 25\n",
    "FN_banana = 9 + 0"
   ]
  },
  {
   "cell_type": "code",
   "execution_count": 3,
   "id": "dda0438d",
   "metadata": {},
   "outputs": [],
   "source": [
    "# TP_pear = 27\n",
    "# FP_pear = 18 + 5\n",
    "# TN_pear = 33 + 8 + 6 + 40\n",
    "# FN_pear = 9 + 4\n",
    "\n",
    "TP_pear = 25\n",
    "FP_pear = 2 + 0\n",
    "TN_pear = 46 + 12 + 9 + 3\n",
    "FN_pear = 2 + 3"
   ]
  },
  {
   "cell_type": "markdown",
   "id": "45811948",
   "metadata": {},
   "source": [
    "### Precision of Apple"
   ]
  },
  {
   "cell_type": "code",
   "execution_count": 4,
   "id": "405ee388",
   "metadata": {},
   "outputs": [
    {
     "data": {
      "text/plain": [
       "0.8070175438596491"
      ]
     },
     "execution_count": 4,
     "metadata": {},
     "output_type": "execute_result"
    }
   ],
   "source": [
    "precision_apple = (TP_apple) / (TP_apple + FP_apple)\n",
    "precision_apple"
   ]
  },
  {
   "cell_type": "markdown",
   "id": "7ba8b003",
   "metadata": {},
   "source": [
    "### Precision of Banana"
   ]
  },
  {
   "cell_type": "code",
   "execution_count": 5,
   "id": "b831372d",
   "metadata": {},
   "outputs": [
    {
     "data": {
      "text/plain": [
       "0.8026315789473685"
      ]
     },
     "execution_count": 5,
     "metadata": {},
     "output_type": "execute_result"
    }
   ],
   "source": [
    "precision_banana = (TP_banana) / (TP_banana + FP_banana)\n",
    "precision_banana"
   ]
  },
  {
   "cell_type": "markdown",
   "id": "ea875b8d",
   "metadata": {},
   "source": [
    "### Precision of Pear"
   ]
  },
  {
   "cell_type": "code",
   "execution_count": 6,
   "id": "7110d131",
   "metadata": {},
   "outputs": [
    {
     "data": {
      "text/plain": [
       "0.9259259259259259"
      ]
     },
     "execution_count": 6,
     "metadata": {},
     "output_type": "execute_result"
    }
   ],
   "source": [
    "precision_pear = (TP_pear) / (TP_pear + FP_pear)\n",
    "precision_pear"
   ]
  },
  {
   "cell_type": "markdown",
   "id": "9a73dff2",
   "metadata": {},
   "source": [
    "### Recall of Apple"
   ]
  },
  {
   "cell_type": "code",
   "execution_count": 7,
   "id": "2846a329",
   "metadata": {},
   "outputs": [
    {
     "data": {
      "text/plain": [
       "0.7666666666666667"
      ]
     },
     "execution_count": 7,
     "metadata": {},
     "output_type": "execute_result"
    }
   ],
   "source": [
    "recall_apple = (TP_apple) / (TP_apple + FN_apple)\n",
    "recall_apple"
   ]
  },
  {
   "cell_type": "markdown",
   "id": "140eb8d0",
   "metadata": {},
   "source": [
    "### Recall of Banana"
   ]
  },
  {
   "cell_type": "code",
   "execution_count": 8,
   "id": "4f678580",
   "metadata": {},
   "outputs": [
    {
     "data": {
      "text/plain": [
       "0.8714285714285714"
      ]
     },
     "execution_count": 8,
     "metadata": {},
     "output_type": "execute_result"
    }
   ],
   "source": [
    "recall_banana = (TP_banana) / (TP_banana + FN_banana)\n",
    "recall_banana"
   ]
  },
  {
   "cell_type": "markdown",
   "id": "ec390c79",
   "metadata": {},
   "source": [
    "### Recall of Pear"
   ]
  },
  {
   "cell_type": "code",
   "execution_count": 9,
   "id": "229b1fc4",
   "metadata": {},
   "outputs": [
    {
     "data": {
      "text/plain": [
       "0.8333333333333334"
      ]
     },
     "execution_count": 9,
     "metadata": {},
     "output_type": "execute_result"
    }
   ],
   "source": [
    "recall_pear = (TP_pear) / (TP_pear + FN_pear)\n",
    "recall_pear"
   ]
  },
  {
   "cell_type": "markdown",
   "id": "bbfa7d80",
   "metadata": {},
   "source": [
    "### F1-Score of Apple"
   ]
  },
  {
   "cell_type": "code",
   "execution_count": 10,
   "id": "df65af99",
   "metadata": {},
   "outputs": [
    {
     "data": {
      "text/plain": [
       "0.7863247863247863"
      ]
     },
     "execution_count": 10,
     "metadata": {},
     "output_type": "execute_result"
    }
   ],
   "source": [
    "f1_apple = 2 * ((precision_apple * recall_apple) / (precision_apple + recall_apple))\n",
    "f1_apple"
   ]
  },
  {
   "cell_type": "markdown",
   "id": "37a071ec",
   "metadata": {},
   "source": [
    "### F1-Score of Banana"
   ]
  },
  {
   "cell_type": "code",
   "execution_count": 11,
   "id": "789205b6",
   "metadata": {},
   "outputs": [
    {
     "data": {
      "text/plain": [
       "0.8356164383561644"
      ]
     },
     "execution_count": 11,
     "metadata": {},
     "output_type": "execute_result"
    }
   ],
   "source": [
    "f1_banana = 2 * ((precision_banana * recall_banana) / (precision_banana + recall_banana))\n",
    "f1_banana"
   ]
  },
  {
   "cell_type": "markdown",
   "id": "28099861",
   "metadata": {},
   "source": [
    "### F1-Score of Pear"
   ]
  },
  {
   "cell_type": "code",
   "execution_count": 12,
   "id": "26484173",
   "metadata": {},
   "outputs": [
    {
     "data": {
      "text/plain": [
       "0.8771929824561403"
      ]
     },
     "execution_count": 12,
     "metadata": {},
     "output_type": "execute_result"
    }
   ],
   "source": [
    "f1_pear = 2 * ((precision_pear * recall_pear) / (precision_pear + recall_pear))\n",
    "f1_pear"
   ]
  },
  {
   "cell_type": "markdown",
   "id": "c6d7b670",
   "metadata": {},
   "source": [
    "### Micro Avg. Precision"
   ]
  },
  {
   "cell_type": "code",
   "execution_count": 13,
   "id": "087bcf4c",
   "metadata": {},
   "outputs": [
    {
     "data": {
      "text/plain": [
       "0.825"
      ]
     },
     "execution_count": 13,
     "metadata": {},
     "output_type": "execute_result"
    }
   ],
   "source": [
    "micro_avg_precision = (TP_apple + TP_banana + TP_pear) / (TP_apple + FP_apple + TP_banana + FP_banana + TP_pear + FP_pear)\n",
    "micro_avg_precision"
   ]
  },
  {
   "cell_type": "markdown",
   "id": "d94bf923",
   "metadata": {},
   "source": [
    "### Micro Avg. Recall"
   ]
  },
  {
   "cell_type": "code",
   "execution_count": 14,
   "id": "4311a6ec",
   "metadata": {},
   "outputs": [
    {
     "data": {
      "text/plain": [
       "0.825"
      ]
     },
     "execution_count": 14,
     "metadata": {},
     "output_type": "execute_result"
    }
   ],
   "source": [
    "micro_avg_recall = (TP_apple + TP_banana + TP_pear) / (TP_apple + FN_apple + TP_banana + FN_banana + TP_pear + FN_pear)\n",
    "micro_avg_recall"
   ]
  },
  {
   "cell_type": "markdown",
   "id": "d463df8e",
   "metadata": {},
   "source": [
    "### Micro Avg. F1-Score"
   ]
  },
  {
   "cell_type": "code",
   "execution_count": 15,
   "id": "d96c05a2",
   "metadata": {},
   "outputs": [
    {
     "data": {
      "text/plain": [
       "0.825"
      ]
     },
     "execution_count": 15,
     "metadata": {},
     "output_type": "execute_result"
    }
   ],
   "source": [
    "micro_avg_f1 = 2 * ((micro_avg_precision * micro_avg_recall) / (micro_avg_precision + micro_avg_recall))\n",
    "micro_avg_f1"
   ]
  },
  {
   "cell_type": "markdown",
   "id": "cfb07528",
   "metadata": {},
   "source": [
    "### Macro Avg. Precision"
   ]
  },
  {
   "cell_type": "code",
   "execution_count": 16,
   "id": "b625e396",
   "metadata": {},
   "outputs": [
    {
     "data": {
      "text/plain": [
       "0.8451916829109812"
      ]
     },
     "execution_count": 16,
     "metadata": {},
     "output_type": "execute_result"
    }
   ],
   "source": [
    "macro_avg_precision = (precision_apple + precision_banana + precision_pear) / 3\n",
    "macro_avg_precision"
   ]
  },
  {
   "cell_type": "markdown",
   "id": "d6e535dd",
   "metadata": {},
   "source": [
    "### Macro Avg. Recall"
   ]
  },
  {
   "cell_type": "code",
   "execution_count": 17,
   "id": "0031fc8f",
   "metadata": {},
   "outputs": [
    {
     "data": {
      "text/plain": [
       "0.8238095238095239"
      ]
     },
     "execution_count": 17,
     "metadata": {},
     "output_type": "execute_result"
    }
   ],
   "source": [
    "macro_avg_recall = (recall_apple + recall_banana + recall_pear) / 3\n",
    "macro_avg_recall"
   ]
  },
  {
   "cell_type": "markdown",
   "id": "5f1babe5",
   "metadata": {},
   "source": [
    "### Macro Avg. F1-Score"
   ]
  },
  {
   "cell_type": "code",
   "execution_count": 20,
   "id": "3c476d9c",
   "metadata": {},
   "outputs": [
    {
     "data": {
      "text/plain": [
       "0.8330447357123637"
      ]
     },
     "execution_count": 20,
     "metadata": {},
     "output_type": "execute_result"
    }
   ],
   "source": [
    "# macro_avg_f1 = ((1/3) * f1_apple) + ((1/3) * f1_banana) + ((1/3) * f1_pear)\n",
    "macro_avg_f1 = (f1_apple + f1_banana + f1_pear) / 3\n",
    "macro_avg_f1"
   ]
  },
  {
   "cell_type": "markdown",
   "id": "f375a504",
   "metadata": {},
   "source": [
    "### Avg. Accuracy"
   ]
  },
  {
   "cell_type": "code",
   "execution_count": 21,
   "id": "de0a4275",
   "metadata": {},
   "outputs": [
    {
     "data": {
      "text/plain": [
       "0.8672985781990521"
      ]
     },
     "execution_count": 21,
     "metadata": {},
     "output_type": "execute_result"
    }
   ],
   "source": [
    "avg_acc = (TP_apple + TN_apple + TP_banana + TN_banana + TP_pear + TN_pear) / (TP_apple + TN_apple + FP_apple + FN_apple + \n",
    " TP_banana + TN_banana + FP_banana + FN_banana + \n",
    " TP_pear + TN_pear + FP_pear + FN_pear)\n",
    "\n",
    "avg_acc"
   ]
  },
  {
   "cell_type": "markdown",
   "id": "4a419fb0",
   "metadata": {},
   "source": [
    "### Error Rate"
   ]
  },
  {
   "cell_type": "code",
   "execution_count": 22,
   "id": "d8a5ddad",
   "metadata": {},
   "outputs": [
    {
     "data": {
      "text/plain": [
       "0.13270142180094788"
      ]
     },
     "execution_count": 22,
     "metadata": {},
     "output_type": "execute_result"
    }
   ],
   "source": [
    "error = (FP_apple + FN_apple + FP_banana + FN_banana + FP_pear + FN_pear) / (TP_apple + TN_apple + FP_apple + FN_apple + \n",
    " TP_banana + TN_banana + FP_banana + FN_banana + \n",
    " TP_pear + TN_pear + FP_pear + FN_pear)\n",
    "\n",
    "error"
   ]
  },
  {
   "cell_type": "code",
   "execution_count": 23,
   "id": "4f69ce7d",
   "metadata": {},
   "outputs": [
    {
     "data": {
      "text/plain": [
       "1.0"
      ]
     },
     "execution_count": 23,
     "metadata": {},
     "output_type": "execute_result"
    }
   ],
   "source": [
    "avg_acc + error"
   ]
  },
  {
   "cell_type": "markdown",
   "id": "21dd678c",
   "metadata": {},
   "source": [
    "### Overall Accuracy"
   ]
  },
  {
   "cell_type": "code",
   "execution_count": 25,
   "id": "1a8c795f",
   "metadata": {},
   "outputs": [
    {
     "data": {
      "text/plain": [
       "0.825"
      ]
     },
     "execution_count": 25,
     "metadata": {},
     "output_type": "execute_result"
    }
   ],
   "source": [
    "overall_acc = (TP_apple + TP_banana + TP_pear) / (TP_apple + TN_apple + FP_apple + FN_apple)\n",
    "\n",
    "overall_acc"
   ]
  },
  {
   "cell_type": "markdown",
   "id": "3ee03d0d",
   "metadata": {},
   "source": [
    "# Likelihood"
   ]
  },
  {
   "cell_type": "code",
   "execution_count": 10,
   "id": "f3926b65",
   "metadata": {},
   "outputs": [],
   "source": [
    "import numpy as np"
   ]
  },
  {
   "cell_type": "code",
   "execution_count": 11,
   "id": "e4788712",
   "metadata": {},
   "outputs": [],
   "source": [
    "male_weight = [57, 65, 76]\n",
    "female_age = [20, 42, 27]"
   ]
  },
  {
   "cell_type": "code",
   "execution_count": 12,
   "id": "ebd7c377",
   "metadata": {},
   "outputs": [
    {
     "name": "stdout",
     "output_type": "stream",
     "text": [
      "Male Weight Mean: 66.0\n",
      "Male Weight Pop Var: 60.67\n"
     ]
    }
   ],
   "source": [
    "male_weight_mean = round(np.mean(male_weight), 2)\n",
    "male_weight_pop_var = round(np.var(male_weight), 2)\n",
    "\n",
    "print(\"Male Weight Mean:\", male_weight_mean)\n",
    "print(\"Male Weight Pop Var:\", male_weight_pop_var)"
   ]
  },
  {
   "cell_type": "code",
   "execution_count": 13,
   "id": "f35ed8a8",
   "metadata": {},
   "outputs": [
    {
     "name": "stdout",
     "output_type": "stream",
     "text": [
      "Female Age Mean: 29.67\n",
      "Female Age Pop Var: 84.22\n"
     ]
    }
   ],
   "source": [
    "female_age_mean = round(np.mean(female_age), 2)\n",
    "female_age_pop_var = round(np.var(female_age), 2)\n",
    "\n",
    "print(\"Female Age Mean:\", female_age_mean)\n",
    "print(\"Female Age Pop Var:\", female_age_pop_var)"
   ]
  },
  {
   "cell_type": "code",
   "execution_count": 28,
   "id": "af505dfd",
   "metadata": {},
   "outputs": [
    {
     "data": {
      "text/plain": [
       "0.02627311927107959"
      ]
     },
     "execution_count": 28,
     "metadata": {},
     "output_type": "execute_result"
    }
   ],
   "source": [
    "# P(weight|male)\n",
    "exp_part = -(np.square(57 - male_weight_mean) / (2 * male_weight_pop_var))\n",
    "\n",
    "p_W_given_Male = (1 / np.sqrt(2 * np.pi * male_weight_pop_var)) * np.exp(exp_part)\n",
    "\n",
    "p_W_given_Male"
   ]
  },
  {
   "cell_type": "code",
   "execution_count": 32,
   "id": "5b583994",
   "metadata": {},
   "outputs": [
    {
     "data": {
      "text/plain": [
       "0.03338068383899758"
      ]
     },
     "execution_count": 32,
     "metadata": {},
     "output_type": "execute_result"
    }
   ],
   "source": [
    "# P(age|female)\n",
    "exp_part = -(np.square(23 - female_age_mean) / (2 * female_age_pop_var))\n",
    "\n",
    "p_A_given_Female = (1 / np.sqrt(2 * np.pi * female_age_pop_var)) * np.exp(exp_part)\n",
    "\n",
    "p_A_given_Female"
   ]
  },
  {
   "cell_type": "code",
   "execution_count": null,
   "id": "268093f1",
   "metadata": {},
   "outputs": [],
   "source": []
  },
  {
   "cell_type": "code",
   "execution_count": null,
   "id": "08eb0a89",
   "metadata": {},
   "outputs": [],
   "source": []
  },
  {
   "cell_type": "markdown",
   "id": "60e3fbe1",
   "metadata": {},
   "source": [
    "# Bernoulli Naive Baye's"
   ]
  },
  {
   "cell_type": "code",
   "execution_count": 1,
   "id": "43fdb3bc",
   "metadata": {},
   "outputs": [],
   "source": [
    "play_Yes = 3 / 6\n",
    "play_No = 3 / 6\n",
    "\n",
    "rainy_No = 3 / 6\n",
    "sunny_No = 3 / 6\n",
    "windy_Yes = 3 / 6"
   ]
  },
  {
   "cell_type": "code",
   "execution_count": 2,
   "id": "8413b7df",
   "metadata": {},
   "outputs": [],
   "source": [
    "p_NR_given_PY = 1 / 3\n",
    "p_NS_given_PY = 1 / 3\n",
    "p_YW_given_PY = 2 / 3"
   ]
  },
  {
   "cell_type": "code",
   "execution_count": 3,
   "id": "129e18c9",
   "metadata": {},
   "outputs": [],
   "source": [
    "p_NR_given_PN = 2 / 3\n",
    "p_NS_given_PN = 2 / 3\n",
    "p_YW_given_PN = 1 / 3"
   ]
  },
  {
   "cell_type": "code",
   "execution_count": 4,
   "id": "928cbfd1",
   "metadata": {},
   "outputs": [
    {
     "name": "stdout",
     "output_type": "stream",
     "text": [
      "0.037037037037037035\n",
      "0.07407407407407407\n"
     ]
    }
   ],
   "source": [
    "p_X_Yes = p_NR_given_PY * p_NS_given_PY * p_YW_given_PY * play_Yes\n",
    "p_X_No = p_NR_given_PN * p_NS_given_PN * p_YW_given_PN * play_No\n",
    "\n",
    "print(p_X_Yes)\n",
    "print(p_X_No)"
   ]
  },
  {
   "cell_type": "code",
   "execution_count": 5,
   "id": "bbd3c7ca",
   "metadata": {},
   "outputs": [
    {
     "data": {
      "text/plain": [
       "0.125"
      ]
     },
     "execution_count": 5,
     "metadata": {},
     "output_type": "execute_result"
    }
   ],
   "source": [
    "p_X_est = rainy_No * sunny_No * windy_Yes\n",
    "p_X_est"
   ]
  },
  {
   "cell_type": "code",
   "execution_count": 6,
   "id": "ef9d7a5b",
   "metadata": {},
   "outputs": [
    {
     "name": "stdout",
     "output_type": "stream",
     "text": [
      "0.2962962962962963\n",
      "0.5925925925925926\n"
     ]
    }
   ],
   "source": [
    "p_yes = p_X_Yes / p_X_est\n",
    "p_no = p_X_No / p_X_est\n",
    "\n",
    "print(p_yes)\n",
    "print(p_no)"
   ]
  },
  {
   "cell_type": "code",
   "execution_count": 7,
   "id": "0709559a",
   "metadata": {},
   "outputs": [
    {
     "name": "stdout",
     "output_type": "stream",
     "text": [
      "Play Football: NO\n"
     ]
    }
   ],
   "source": [
    "if p_yes > p_no:\n",
    "    print(\"Play Football: Yes\")\n",
    "else:\n",
    "    print(\"Play Football: NO\")"
   ]
  },
  {
   "cell_type": "markdown",
   "id": "c7747844",
   "metadata": {},
   "source": [
    "## Using liberary"
   ]
  },
  {
   "cell_type": "code",
   "execution_count": 34,
   "id": "1a66edc9",
   "metadata": {},
   "outputs": [],
   "source": [
    "from sklearn.naive_bayes import BernoulliNB\n",
    "from sklearn import preprocessing"
   ]
  },
  {
   "cell_type": "code",
   "execution_count": 33,
   "id": "6766b474",
   "metadata": {},
   "outputs": [],
   "source": [
    "rainy = [\"Yes\", \"Yes\", \"No\", \"Yes\", \"No\", \"No\"]\n",
    "sunny = [\"No\", \"No\", \"Yes\", \"Yes\", \"No\", \"Yes\"]\n",
    "windy = [\"No\", \"Yes\", \"No\", \"Yes\", \"No\", \"Yes\"]\n",
    "\n",
    "play = [\"No\", \"Yes\", \"Yes\", \"Yes\", \"No\", \"No\"]"
   ]
  },
  {
   "cell_type": "code",
   "execution_count": 35,
   "id": "dc5503d3",
   "metadata": {},
   "outputs": [],
   "source": [
    "le = preprocessing.LabelEncoder()"
   ]
  },
  {
   "cell_type": "code",
   "execution_count": 36,
   "id": "005a19ba",
   "metadata": {},
   "outputs": [],
   "source": [
    "r = le.fit_transform(rainy)\n",
    "s = le.fit_transform(sunny)\n",
    "w = le.fit_transform(windy)\n",
    "\n",
    "labels = le.fit_transform(play)"
   ]
  },
  {
   "cell_type": "code",
   "execution_count": 37,
   "id": "2aa0323d",
   "metadata": {},
   "outputs": [],
   "source": [
    "features = list(zip(r, s, w))"
   ]
  },
  {
   "cell_type": "code",
   "execution_count": 46,
   "id": "835b31be",
   "metadata": {},
   "outputs": [
    {
     "data": {
      "text/plain": [
       "array(['No', 'Yes'], dtype='<U3')"
      ]
     },
     "execution_count": 46,
     "metadata": {},
     "output_type": "execute_result"
    }
   ],
   "source": [
    "le.classes_"
   ]
  },
  {
   "cell_type": "code",
   "execution_count": 41,
   "id": "859fa067",
   "metadata": {},
   "outputs": [
    {
     "data": {
      "text/plain": [
       "[(1, 0, 0), (1, 0, 1), (0, 1, 0), (1, 1, 1), (0, 0, 0), (0, 1, 1)]"
      ]
     },
     "execution_count": 41,
     "metadata": {},
     "output_type": "execute_result"
    }
   ],
   "source": [
    "features"
   ]
  },
  {
   "cell_type": "code",
   "execution_count": 52,
   "id": "6d9f0282",
   "metadata": {},
   "outputs": [
    {
     "data": {
      "text/plain": [
       "BernoulliNB()"
      ]
     },
     "execution_count": 52,
     "metadata": {},
     "output_type": "execute_result"
    }
   ],
   "source": [
    "model = BernoulliNB()\n",
    "model.fit(features, labels)"
   ]
  },
  {
   "cell_type": "code",
   "execution_count": 53,
   "id": "9d039f67",
   "metadata": {},
   "outputs": [
    {
     "data": {
      "text/plain": [
       "array([0])"
      ]
     },
     "execution_count": 53,
     "metadata": {},
     "output_type": "execute_result"
    }
   ],
   "source": [
    "model.predict([[0, 0, 1]])"
   ]
  },
  {
   "cell_type": "code",
   "execution_count": 54,
   "id": "0233b39c",
   "metadata": {},
   "outputs": [
    {
     "data": {
      "text/plain": [
       "array([[0.6, 0.4]])"
      ]
     },
     "execution_count": 54,
     "metadata": {},
     "output_type": "execute_result"
    }
   ],
   "source": [
    "model.predict_proba([[0, 0, 1]])"
   ]
  },
  {
   "cell_type": "code",
   "execution_count": null,
   "id": "12c90432",
   "metadata": {},
   "outputs": [],
   "source": []
  },
  {
   "cell_type": "code",
   "execution_count": null,
   "id": "fbf08233",
   "metadata": {},
   "outputs": [],
   "source": []
  },
  {
   "cell_type": "markdown",
   "id": "5c123139",
   "metadata": {},
   "source": [
    "# KNN"
   ]
  },
  {
   "cell_type": "code",
   "execution_count": 17,
   "id": "283483ca",
   "metadata": {},
   "outputs": [],
   "source": [
    "from sklearn import preprocessing\n",
    "from sklearn.neighbors import KNeighborsClassifier"
   ]
  },
  {
   "cell_type": "code",
   "execution_count": 18,
   "id": "c54cc044",
   "metadata": {},
   "outputs": [],
   "source": [
    "income_labels = [\"high\", \"high\", \"high\", \"low\", \"low\", \"high\"]\n",
    "\n",
    "height = [5.3, 5.7, 5.11, 5.1, 4.2, 5.6]\n",
    "weight = [67, 76, 58, 62, 67, 89]\n",
    "age = [22, 27, 26, 21, 23, 24]"
   ]
  },
  {
   "cell_type": "code",
   "execution_count": 19,
   "id": "a3edd6f1",
   "metadata": {},
   "outputs": [],
   "source": [
    "le = preprocessing.LabelEncoder()"
   ]
  },
  {
   "cell_type": "code",
   "execution_count": 20,
   "id": "eec90625",
   "metadata": {},
   "outputs": [],
   "source": [
    "label = le.fit_transform(income_labels)"
   ]
  },
  {
   "cell_type": "code",
   "execution_count": 24,
   "id": "dddda66c",
   "metadata": {},
   "outputs": [
    {
     "data": {
      "text/plain": [
       "array([0, 0, 0, 1, 1, 0])"
      ]
     },
     "execution_count": 24,
     "metadata": {},
     "output_type": "execute_result"
    }
   ],
   "source": [
    "label"
   ]
  },
  {
   "cell_type": "code",
   "execution_count": 25,
   "id": "bcea1770",
   "metadata": {},
   "outputs": [
    {
     "data": {
      "text/plain": [
       "array(['high', 'low'], dtype='<U4')"
      ]
     },
     "execution_count": 25,
     "metadata": {},
     "output_type": "execute_result"
    }
   ],
   "source": [
    "le.classes_"
   ]
  },
  {
   "cell_type": "code",
   "execution_count": 26,
   "id": "a85f761f",
   "metadata": {},
   "outputs": [],
   "source": [
    "features = list(zip(height, weight, age))"
   ]
  },
  {
   "cell_type": "code",
   "execution_count": 27,
   "id": "213fbdcc",
   "metadata": {},
   "outputs": [
    {
     "data": {
      "text/plain": [
       "[(5.3, 67, 22),\n",
       " (5.7, 76, 27),\n",
       " (5.11, 58, 26),\n",
       " (5.1, 62, 21),\n",
       " (4.2, 67, 23),\n",
       " (5.6, 89, 24)]"
      ]
     },
     "execution_count": 27,
     "metadata": {},
     "output_type": "execute_result"
    }
   ],
   "source": [
    "features"
   ]
  },
  {
   "cell_type": "code",
   "execution_count": 28,
   "id": "6c73a150",
   "metadata": {},
   "outputs": [],
   "source": [
    "model = KNeighborsClassifier(n_neighbors=3, metric=\"euclidean\")"
   ]
  },
  {
   "cell_type": "code",
   "execution_count": 29,
   "id": "67d6f784",
   "metadata": {},
   "outputs": [
    {
     "data": {
      "text/plain": [
       "KNeighborsClassifier(metric='euclidean', n_neighbors=3)"
      ]
     },
     "execution_count": 29,
     "metadata": {},
     "output_type": "execute_result"
    }
   ],
   "source": [
    "model.fit(features,label)"
   ]
  },
  {
   "cell_type": "code",
   "execution_count": 30,
   "id": "e4aed26e",
   "metadata": {},
   "outputs": [],
   "source": [
    "predicted = model.predict([[5.8, 80, 27]])"
   ]
  },
  {
   "cell_type": "code",
   "execution_count": 31,
   "id": "55e3dcae",
   "metadata": {},
   "outputs": [
    {
     "name": "stdout",
     "output_type": "stream",
     "text": [
      "[0]\n"
     ]
    }
   ],
   "source": [
    "print(predicted)"
   ]
  },
  {
   "cell_type": "code",
   "execution_count": null,
   "id": "b39166f6",
   "metadata": {},
   "outputs": [],
   "source": []
  },
  {
   "cell_type": "code",
   "execution_count": null,
   "id": "b82eff25",
   "metadata": {},
   "outputs": [],
   "source": []
  },
  {
   "cell_type": "markdown",
   "id": "e83a9e9e",
   "metadata": {},
   "source": [
    "# Naive Baye's with smoothing"
   ]
  },
  {
   "cell_type": "code",
   "execution_count": 55,
   "id": "6da3a27c",
   "metadata": {},
   "outputs": [],
   "source": [
    "import numpy as np\n",
    "from sklearn import preprocessing\n",
    "from sklearn.naive_bayes import MultinomialNB\n",
    "from sklearn.naive_bayes import CategoricalNB"
   ]
  },
  {
   "cell_type": "code",
   "execution_count": 56,
   "id": "7a829084",
   "metadata": {},
   "outputs": [],
   "source": [
    "fever = [\"High\", \"Mild\", \"Low\", \"Low\", \"High\", \"Low\"]\n",
    "cough = [\"Yes\", \"No\", \"No\", \"Yes\", \"Yes\", \"No\"]\n",
    "cold = [\"No\", \"Yes\", \"No\", \"Yes\", \"Yes\", \"Yes\"]\n",
    "stomach_ache = [\"Severe\", \"Mild\", \"Severe\", \"Severe\", \"Mild\", \"Mild\"]\n",
    "\n",
    "covid = [\"Yes\", \"No\", \"No\", \"Yes\", \"Yes\", \"No\"]"
   ]
  },
  {
   "cell_type": "code",
   "execution_count": 57,
   "id": "34ff6a3c",
   "metadata": {},
   "outputs": [],
   "source": [
    "le = preprocessing.LabelEncoder()"
   ]
  },
  {
   "cell_type": "code",
   "execution_count": 58,
   "id": "c0ced997",
   "metadata": {},
   "outputs": [],
   "source": [
    "fev = le.fit_transform(fever)\n",
    "cgh = le.fit_transform(cough)\n",
    "cld = le.fit_transform(cold)\n",
    "ach = le.fit_transform(stomach_ache)\n",
    "\n",
    "cov = le.fit_transform(covid)"
   ]
  },
  {
   "cell_type": "code",
   "execution_count": 59,
   "id": "c3805942",
   "metadata": {},
   "outputs": [
    {
     "data": {
      "text/plain": [
       "array(['No', 'Yes'], dtype='<U3')"
      ]
     },
     "execution_count": 59,
     "metadata": {},
     "output_type": "execute_result"
    }
   ],
   "source": [
    "le.classes_"
   ]
  },
  {
   "cell_type": "code",
   "execution_count": 60,
   "id": "4a0aa2b2",
   "metadata": {},
   "outputs": [
    {
     "name": "stdout",
     "output_type": "stream",
     "text": [
      "Fever: [0 2 1 1 0 1]\n",
      "Cough: [1 0 0 1 1 0]\n",
      "Cold: [0 1 0 1 1 1]\n",
      "Ache: [1 0 1 1 0 0]\n",
      "Covid: [1 0 0 1 1 0]\n"
     ]
    }
   ],
   "source": [
    "print(\"Fever:\", fev)\n",
    "print(\"Cough:\", cgh)\n",
    "print(\"Cold:\", cld)\n",
    "print(\"Ache:\", ach)\n",
    "\n",
    "print(\"Covid:\", cov)"
   ]
  },
  {
   "cell_type": "code",
   "execution_count": 68,
   "id": "b5b08b37",
   "metadata": {
    "scrolled": false
   },
   "outputs": [
    {
     "data": {
      "text/plain": [
       "[(0, 1, 0, 1),\n",
       " (2, 0, 1, 0),\n",
       " (1, 0, 0, 1),\n",
       " (1, 1, 1, 1),\n",
       " (0, 1, 1, 0),\n",
       " (1, 0, 1, 0)]"
      ]
     },
     "execution_count": 68,
     "metadata": {},
     "output_type": "execute_result"
    }
   ],
   "source": [
    "X = list(zip(fev, cgh, cld, ach))\n",
    "y = cov\n",
    "\n",
    "X"
   ]
  },
  {
   "cell_type": "code",
   "execution_count": 93,
   "id": "97232fe9",
   "metadata": {},
   "outputs": [
    {
     "data": {
      "text/plain": [
       "CategoricalNB(alpha=1)"
      ]
     },
     "execution_count": 93,
     "metadata": {},
     "output_type": "execute_result"
    }
   ],
   "source": [
    "clf = CategoricalNB(alpha=1)\n",
    "clf.fit(X, y)"
   ]
  },
  {
   "cell_type": "code",
   "execution_count": 94,
   "id": "20825d9d",
   "metadata": {},
   "outputs": [
    {
     "name": "stdout",
     "output_type": "stream",
     "text": [
      "[0]\n"
     ]
    }
   ],
   "source": [
    "print(clf.predict([(0, 0, 0, 0)]))"
   ]
  },
  {
   "cell_type": "code",
   "execution_count": 95,
   "id": "0a72e1eb",
   "metadata": {},
   "outputs": [
    {
     "data": {
      "text/plain": [
       "array([[0.66666667, 0.33333333]])"
      ]
     },
     "execution_count": 95,
     "metadata": {},
     "output_type": "execute_result"
    }
   ],
   "source": [
    "clf.predict_proba([(0, 0, 0, 0)])"
   ]
  },
  {
   "cell_type": "markdown",
   "id": "fe533615",
   "metadata": {},
   "source": []
  }
 ],
 "metadata": {
  "kernelspec": {
   "display_name": "Python 3 (ipykernel)",
   "language": "python",
   "name": "python3"
  },
  "language_info": {
   "codemirror_mode": {
    "name": "ipython",
    "version": 3
   },
   "file_extension": ".py",
   "mimetype": "text/x-python",
   "name": "python",
   "nbconvert_exporter": "python",
   "pygments_lexer": "ipython3",
   "version": "3.9.5"
  }
 },
 "nbformat": 4,
 "nbformat_minor": 5
}
