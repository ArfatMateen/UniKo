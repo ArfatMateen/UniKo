{
 "cells": [
  {
   "cell_type": "markdown",
   "id": "fe357939",
   "metadata": {},
   "source": [
    "### Imports"
   ]
  },
  {
   "cell_type": "code",
   "execution_count": 1,
   "id": "66737499",
   "metadata": {},
   "outputs": [],
   "source": [
    "import pandas as pd\n",
    "from numpy.linalg import eig\n",
    "import matplotlib.pyplot as plt"
   ]
  },
  {
   "cell_type": "markdown",
   "id": "c74742e7",
   "metadata": {},
   "source": [
    "### Load Iris dataset as pandas dataframe"
   ]
  },
  {
   "cell_type": "code",
   "execution_count": 2,
   "id": "a6a7c87f",
   "metadata": {},
   "outputs": [],
   "source": [
    "df = pd.read_csv(\"iris.csv\")"
   ]
  },
  {
   "cell_type": "code",
   "execution_count": 3,
   "id": "52908cdb",
   "metadata": {},
   "outputs": [
    {
     "data": {
      "text/html": [
       "<div>\n",
       "<style scoped>\n",
       "    .dataframe tbody tr th:only-of-type {\n",
       "        vertical-align: middle;\n",
       "    }\n",
       "\n",
       "    .dataframe tbody tr th {\n",
       "        vertical-align: top;\n",
       "    }\n",
       "\n",
       "    .dataframe thead th {\n",
       "        text-align: right;\n",
       "    }\n",
       "</style>\n",
       "<table border=\"1\" class=\"dataframe\">\n",
       "  <thead>\n",
       "    <tr style=\"text-align: right;\">\n",
       "      <th></th>\n",
       "      <th>sepal_length</th>\n",
       "      <th>sepal_width</th>\n",
       "      <th>petal_length</th>\n",
       "      <th>petal_width</th>\n",
       "      <th>species</th>\n",
       "    </tr>\n",
       "  </thead>\n",
       "  <tbody>\n",
       "    <tr>\n",
       "      <th>0</th>\n",
       "      <td>5.1</td>\n",
       "      <td>3.5</td>\n",
       "      <td>1.4</td>\n",
       "      <td>0.2</td>\n",
       "      <td>setosa</td>\n",
       "    </tr>\n",
       "    <tr>\n",
       "      <th>1</th>\n",
       "      <td>4.9</td>\n",
       "      <td>3.0</td>\n",
       "      <td>1.4</td>\n",
       "      <td>0.2</td>\n",
       "      <td>setosa</td>\n",
       "    </tr>\n",
       "    <tr>\n",
       "      <th>2</th>\n",
       "      <td>4.7</td>\n",
       "      <td>3.2</td>\n",
       "      <td>1.3</td>\n",
       "      <td>0.2</td>\n",
       "      <td>setosa</td>\n",
       "    </tr>\n",
       "    <tr>\n",
       "      <th>3</th>\n",
       "      <td>4.6</td>\n",
       "      <td>3.1</td>\n",
       "      <td>1.5</td>\n",
       "      <td>0.2</td>\n",
       "      <td>setosa</td>\n",
       "    </tr>\n",
       "    <tr>\n",
       "      <th>4</th>\n",
       "      <td>5.0</td>\n",
       "      <td>3.6</td>\n",
       "      <td>1.4</td>\n",
       "      <td>0.2</td>\n",
       "      <td>setosa</td>\n",
       "    </tr>\n",
       "  </tbody>\n",
       "</table>\n",
       "</div>"
      ],
      "text/plain": [
       "   sepal_length  sepal_width  petal_length  petal_width species\n",
       "0           5.1          3.5           1.4          0.2  setosa\n",
       "1           4.9          3.0           1.4          0.2  setosa\n",
       "2           4.7          3.2           1.3          0.2  setosa\n",
       "3           4.6          3.1           1.5          0.2  setosa\n",
       "4           5.0          3.6           1.4          0.2  setosa"
      ]
     },
     "execution_count": 3,
     "metadata": {},
     "output_type": "execute_result"
    }
   ],
   "source": [
    "df.head()"
   ]
  },
  {
   "cell_type": "markdown",
   "id": "0aabaa91",
   "metadata": {},
   "source": [
    "### 1. Create a user-defined function to compute pairwise Pearson correlation coefficients. The function takes two variables as arguments and returns the correlation coefficient between them"
   ]
  },
  {
   "cell_type": "code",
   "execution_count": 4,
   "id": "3b6503b6",
   "metadata": {},
   "outputs": [],
   "source": [
    "# Method takes two perameters x and y of type pandas.core.series.Series\n",
    "def pearson_correlation_coefficient(x, y):\n",
    "    return x.corr(y, method=\"pearson\")"
   ]
  },
  {
   "cell_type": "code",
   "execution_count": 5,
   "id": "70789c18",
   "metadata": {},
   "outputs": [
    {
     "data": {
      "text/plain": [
       "-0.11756978413300208"
      ]
     },
     "execution_count": 5,
     "metadata": {},
     "output_type": "execute_result"
    }
   ],
   "source": [
    "pearson_correlation_coefficient(df[\"sepal_length\"], df[\"sepal_width\"])"
   ]
  },
  {
   "cell_type": "code",
   "execution_count": 6,
   "id": "ba481d25",
   "metadata": {},
   "outputs": [
    {
     "data": {
      "text/plain": [
       "0.8717537758865831"
      ]
     },
     "execution_count": 6,
     "metadata": {},
     "output_type": "execute_result"
    }
   ],
   "source": [
    "pearson_correlation_coefficient(df[\"sepal_length\"], df[\"petal_length\"])"
   ]
  },
  {
   "cell_type": "markdown",
   "id": "decbeeb5",
   "metadata": {},
   "source": [
    "### 2. plot the graphs to visualize the correlation between two variables and also write a code to visualize the correlation matrix"
   ]
  },
  {
   "cell_type": "code",
   "execution_count": 7,
   "id": "a715cc3e",
   "metadata": {},
   "outputs": [
    {
     "data": {
      "text/plain": [
       "Text(0.5, 1.0, 'Correlation between two variables')"
      ]
     },
     "execution_count": 7,
     "metadata": {},
     "output_type": "execute_result"
    },
    {
     "data": {
      "image/png": "[encoded data removed]",
      "text/plain": [
       "<Figure size 432x288 with 1 Axes>"
      ]
     },
     "metadata": {
      "needs_background": "light"
     },
     "output_type": "display_data"
    }
   ],
   "source": [
    "# Plot the graph to visualize the correlation between two variables.\n",
    "x = df[\"sepal_length\"]\n",
    "y = df[\"petal_length\"]\n",
    "\n",
    "plt.scatter(x, y)\n",
    "\n",
    "plt.xlabel(\"Sepal Length\")\n",
    "plt.ylabel(\"Petal Length\")\n",
    "plt.title(\"Correlation between two variables\")"
   ]
  },
  {
   "cell_type": "code",
   "execution_count": 8,
   "id": "d8ec7b15",
   "metadata": {},
   "outputs": [
    {
     "data": {
      "text/html": [
       "<style type=\"text/css\">\n",
       "#T_4a1fc_row0_col0, #T_4a1fc_row1_col1, #T_4a1fc_row2_col2, #T_4a1fc_row3_col3 {\n",
       "  background-color: #084081;\n",
       "  color: #f1f1f1;\n",
       "}\n",
       "#T_4a1fc_row0_col1 {\n",
       "  background-color: #d1edcb;\n",
       "  color: #000000;\n",
       "}\n",
       "#T_4a1fc_row0_col2 {\n",
       "  background-color: #085c9f;\n",
       "  color: #f1f1f1;\n",
       "}\n",
       "#T_4a1fc_row0_col3 {\n",
       "  background-color: #0a6aad;\n",
       "  color: #f1f1f1;\n",
       "}\n",
       "#T_4a1fc_row1_col0, #T_4a1fc_row1_col2, #T_4a1fc_row1_col3, #T_4a1fc_row2_col1 {\n",
       "  background-color: #f7fcf0;\n",
       "  color: #000000;\n",
       "}\n",
       "#T_4a1fc_row2_col0 {\n",
       "  background-color: #0864a8;\n",
       "  color: #f1f1f1;\n",
       "}\n",
       "#T_4a1fc_row2_col3, #T_4a1fc_row3_col2 {\n",
       "  background-color: #084889;\n",
       "  color: #f1f1f1;\n",
       "}\n",
       "#T_4a1fc_row3_col0 {\n",
       "  background-color: #1272b1;\n",
       "  color: #f1f1f1;\n",
       "}\n",
       "#T_4a1fc_row3_col1 {\n",
       "  background-color: #eff9e9;\n",
       "  color: #000000;\n",
       "}\n",
       "</style>\n",
       "<table id=\"T_4a1fc_\">\n",
       "  <thead>\n",
       "    <tr>\n",
       "      <th class=\"blank level0\" >&nbsp;</th>\n",
       "      <th class=\"col_heading level0 col0\" >sepal_length</th>\n",
       "      <th class=\"col_heading level0 col1\" >sepal_width</th>\n",
       "      <th class=\"col_heading level0 col2\" >petal_length</th>\n",
       "      <th class=\"col_heading level0 col3\" >petal_width</th>\n",
       "    </tr>\n",
       "  </thead>\n",
       "  <tbody>\n",
       "    <tr>\n",
       "      <th id=\"T_4a1fc_level0_row0\" class=\"row_heading level0 row0\" >sepal_length</th>\n",
       "      <td id=\"T_4a1fc_row0_col0\" class=\"data row0 col0\" >1.000000</td>\n",
       "      <td id=\"T_4a1fc_row0_col1\" class=\"data row0 col1\" >-0.117570</td>\n",
       "      <td id=\"T_4a1fc_row0_col2\" class=\"data row0 col2\" >0.871754</td>\n",
       "      <td id=\"T_4a1fc_row0_col3\" class=\"data row0 col3\" >0.817941</td>\n",
       "    </tr>\n",
       "    <tr>\n",
       "      <th id=\"T_4a1fc_level0_row1\" class=\"row_heading level0 row1\" >sepal_width</th>\n",
       "      <td id=\"T_4a1fc_row1_col0\" class=\"data row1 col0\" >-0.117570</td>\n",
       "      <td id=\"T_4a1fc_row1_col1\" class=\"data row1 col1\" >1.000000</td>\n",
       "      <td id=\"T_4a1fc_row1_col2\" class=\"data row1 col2\" >-0.428440</td>\n",
       "      <td id=\"T_4a1fc_row1_col3\" class=\"data row1 col3\" >-0.366126</td>\n",
       "    </tr>\n",
       "    <tr>\n",
       "      <th id=\"T_4a1fc_level0_row2\" class=\"row_heading level0 row2\" >petal_length</th>\n",
       "      <td id=\"T_4a1fc_row2_col0\" class=\"data row2 col0\" >0.871754</td>\n",
       "      <td id=\"T_4a1fc_row2_col1\" class=\"data row2 col1\" >-0.428440</td>\n",
       "      <td id=\"T_4a1fc_row2_col2\" class=\"data row2 col2\" >1.000000</td>\n",
       "      <td id=\"T_4a1fc_row2_col3\" class=\"data row2 col3\" >0.962865</td>\n",
       "    </tr>\n",
       "    <tr>\n",
       "      <th id=\"T_4a1fc_level0_row3\" class=\"row_heading level0 row3\" >petal_width</th>\n",
       "      <td id=\"T_4a1fc_row3_col0\" class=\"data row3 col0\" >0.817941</td>\n",
       "      <td id=\"T_4a1fc_row3_col1\" class=\"data row3 col1\" >-0.366126</td>\n",
       "      <td id=\"T_4a1fc_row3_col2\" class=\"data row3 col2\" >0.962865</td>\n",
       "      <td id=\"T_4a1fc_row3_col3\" class=\"data row3 col3\" >1.000000</td>\n",
       "    </tr>\n",
       "  </tbody>\n",
       "</table>\n"
      ],
      "text/plain": [
       "<pandas.io.formats.style.Styler at 0x7f0af021d4c0>"
      ]
     },
     "execution_count": 8,
     "metadata": {},
     "output_type": "execute_result"
    }
   ],
   "source": [
    "# Visualize the correlation matrix\n",
    "df.corr().style.background_gradient(cmap=\"GnBu\")"
   ]
  },
  {
   "cell_type": "markdown",
   "id": "7b1d62fb",
   "metadata": {},
   "source": [
    "### 3. Perform z-score standardization on the data"
   ]
  },
  {
   "cell_type": "code",
   "execution_count": 9,
   "id": "7f9e5716",
   "metadata": {},
   "outputs": [],
   "source": [
    "df_zscore = (df.iloc[:,:4] - df.iloc[:,:4].mean()) / df.iloc[:,:4].std(ddof=0)"
   ]
  },
  {
   "cell_type": "code",
   "execution_count": 10,
   "id": "0f0214d4",
   "metadata": {},
   "outputs": [
    {
     "data": {
      "text/html": [
       "<div>\n",
       "<style scoped>\n",
       "    .dataframe tbody tr th:only-of-type {\n",
       "        vertical-align: middle;\n",
       "    }\n",
       "\n",
       "    .dataframe tbody tr th {\n",
       "        vertical-align: top;\n",
       "    }\n",
       "\n",
       "    .dataframe thead th {\n",
       "        text-align: right;\n",
       "    }\n",
       "</style>\n",
       "<table border=\"1\" class=\"dataframe\">\n",
       "  <thead>\n",
       "    <tr style=\"text-align: right;\">\n",
       "      <th></th>\n",
       "      <th>sepal_length</th>\n",
       "      <th>sepal_width</th>\n",
       "      <th>petal_length</th>\n",
       "      <th>petal_width</th>\n",
       "    </tr>\n",
       "  </thead>\n",
       "  <tbody>\n",
       "    <tr>\n",
       "      <th>0</th>\n",
       "      <td>-0.900681</td>\n",
       "      <td>1.019004</td>\n",
       "      <td>-1.340227</td>\n",
       "      <td>-1.315444</td>\n",
       "    </tr>\n",
       "    <tr>\n",
       "      <th>1</th>\n",
       "      <td>-1.143017</td>\n",
       "      <td>-0.131979</td>\n",
       "      <td>-1.340227</td>\n",
       "      <td>-1.315444</td>\n",
       "    </tr>\n",
       "    <tr>\n",
       "      <th>2</th>\n",
       "      <td>-1.385353</td>\n",
       "      <td>0.328414</td>\n",
       "      <td>-1.397064</td>\n",
       "      <td>-1.315444</td>\n",
       "    </tr>\n",
       "    <tr>\n",
       "      <th>3</th>\n",
       "      <td>-1.506521</td>\n",
       "      <td>0.098217</td>\n",
       "      <td>-1.283389</td>\n",
       "      <td>-1.315444</td>\n",
       "    </tr>\n",
       "    <tr>\n",
       "      <th>4</th>\n",
       "      <td>-1.021849</td>\n",
       "      <td>1.249201</td>\n",
       "      <td>-1.340227</td>\n",
       "      <td>-1.315444</td>\n",
       "    </tr>\n",
       "    <tr>\n",
       "      <th>...</th>\n",
       "      <td>...</td>\n",
       "      <td>...</td>\n",
       "      <td>...</td>\n",
       "      <td>...</td>\n",
       "    </tr>\n",
       "    <tr>\n",
       "      <th>145</th>\n",
       "      <td>1.038005</td>\n",
       "      <td>-0.131979</td>\n",
       "      <td>0.819596</td>\n",
       "      <td>1.448832</td>\n",
       "    </tr>\n",
       "    <tr>\n",
       "      <th>146</th>\n",
       "      <td>0.553333</td>\n",
       "      <td>-1.282963</td>\n",
       "      <td>0.705921</td>\n",
       "      <td>0.922303</td>\n",
       "    </tr>\n",
       "    <tr>\n",
       "      <th>147</th>\n",
       "      <td>0.795669</td>\n",
       "      <td>-0.131979</td>\n",
       "      <td>0.819596</td>\n",
       "      <td>1.053935</td>\n",
       "    </tr>\n",
       "    <tr>\n",
       "      <th>148</th>\n",
       "      <td>0.432165</td>\n",
       "      <td>0.788808</td>\n",
       "      <td>0.933271</td>\n",
       "      <td>1.448832</td>\n",
       "    </tr>\n",
       "    <tr>\n",
       "      <th>149</th>\n",
       "      <td>0.068662</td>\n",
       "      <td>-0.131979</td>\n",
       "      <td>0.762758</td>\n",
       "      <td>0.790671</td>\n",
       "    </tr>\n",
       "  </tbody>\n",
       "</table>\n",
       "<p>150 rows × 4 columns</p>\n",
       "</div>"
      ],
      "text/plain": [
       "     sepal_length  sepal_width  petal_length  petal_width\n",
       "0       -0.900681     1.019004     -1.340227    -1.315444\n",
       "1       -1.143017    -0.131979     -1.340227    -1.315444\n",
       "2       -1.385353     0.328414     -1.397064    -1.315444\n",
       "3       -1.506521     0.098217     -1.283389    -1.315444\n",
       "4       -1.021849     1.249201     -1.340227    -1.315444\n",
       "..            ...          ...           ...          ...\n",
       "145      1.038005    -0.131979      0.819596     1.448832\n",
       "146      0.553333    -1.282963      0.705921     0.922303\n",
       "147      0.795669    -0.131979      0.819596     1.053935\n",
       "148      0.432165     0.788808      0.933271     1.448832\n",
       "149      0.068662    -0.131979      0.762758     0.790671\n",
       "\n",
       "[150 rows x 4 columns]"
      ]
     },
     "execution_count": 10,
     "metadata": {},
     "output_type": "execute_result"
    }
   ],
   "source": [
    "df_zscore"
   ]
  },
  {
   "cell_type": "markdown",
   "id": "57ac2613",
   "metadata": {},
   "source": [
    "### 4. Compute covariance matrix for the standardized data"
   ]
  },
  {
   "cell_type": "code",
   "execution_count": 11,
   "id": "f20db3e5",
   "metadata": {},
   "outputs": [],
   "source": [
    "df_covarience = df_zscore.cov()"
   ]
  },
  {
   "cell_type": "code",
   "execution_count": 12,
   "id": "0975ef22",
   "metadata": {},
   "outputs": [
    {
     "data": {
      "text/html": [
       "<div>\n",
       "<style scoped>\n",
       "    .dataframe tbody tr th:only-of-type {\n",
       "        vertical-align: middle;\n",
       "    }\n",
       "\n",
       "    .dataframe tbody tr th {\n",
       "        vertical-align: top;\n",
       "    }\n",
       "\n",
       "    .dataframe thead th {\n",
       "        text-align: right;\n",
       "    }\n",
       "</style>\n",
       "<table border=\"1\" class=\"dataframe\">\n",
       "  <thead>\n",
       "    <tr style=\"text-align: right;\">\n",
       "      <th></th>\n",
       "      <th>sepal_length</th>\n",
       "      <th>sepal_width</th>\n",
       "      <th>petal_length</th>\n",
       "      <th>petal_width</th>\n",
       "    </tr>\n",
       "  </thead>\n",
       "  <tbody>\n",
       "    <tr>\n",
       "      <th>sepal_length</th>\n",
       "      <td>1.006711</td>\n",
       "      <td>-0.118359</td>\n",
       "      <td>0.877604</td>\n",
       "      <td>0.823431</td>\n",
       "    </tr>\n",
       "    <tr>\n",
       "      <th>sepal_width</th>\n",
       "      <td>-0.118359</td>\n",
       "      <td>1.006711</td>\n",
       "      <td>-0.431316</td>\n",
       "      <td>-0.368583</td>\n",
       "    </tr>\n",
       "    <tr>\n",
       "      <th>petal_length</th>\n",
       "      <td>0.877604</td>\n",
       "      <td>-0.431316</td>\n",
       "      <td>1.006711</td>\n",
       "      <td>0.969328</td>\n",
       "    </tr>\n",
       "    <tr>\n",
       "      <th>petal_width</th>\n",
       "      <td>0.823431</td>\n",
       "      <td>-0.368583</td>\n",
       "      <td>0.969328</td>\n",
       "      <td>1.006711</td>\n",
       "    </tr>\n",
       "  </tbody>\n",
       "</table>\n",
       "</div>"
      ],
      "text/plain": [
       "              sepal_length  sepal_width  petal_length  petal_width\n",
       "sepal_length      1.006711    -0.118359      0.877604     0.823431\n",
       "sepal_width      -0.118359     1.006711     -0.431316    -0.368583\n",
       "petal_length      0.877604    -0.431316      1.006711     0.969328\n",
       "petal_width       0.823431    -0.368583      0.969328     1.006711"
      ]
     },
     "execution_count": 12,
     "metadata": {},
     "output_type": "execute_result"
    }
   ],
   "source": [
    "df_covarience"
   ]
  },
  {
   "cell_type": "markdown",
   "id": "ac777a70",
   "metadata": {},
   "source": [
    "### 5. Find the eigenvalues and eigenvectors for the covariance matrix and print them in descending order"
   ]
  },
  {
   "cell_type": "code",
   "execution_count": 13,
   "id": "7d699e92",
   "metadata": {},
   "outputs": [],
   "source": [
    "eigen_values, eigen_vectors = eig(df_covarience)"
   ]
  },
  {
   "cell_type": "markdown",
   "id": "66474bd3",
   "metadata": {},
   "source": [
    "#### Results are already in decending order"
   ]
  },
  {
   "cell_type": "code",
   "execution_count": 14,
   "id": "46b864fb",
   "metadata": {},
   "outputs": [
    {
     "data": {
      "text/plain": [
       "array([2.93808505, 0.9201649 , 0.14774182, 0.02085386])"
      ]
     },
     "execution_count": 14,
     "metadata": {},
     "output_type": "execute_result"
    }
   ],
   "source": [
    "eigen_values"
   ]
  },
  {
   "cell_type": "code",
   "execution_count": 15,
   "id": "cb5965e5",
   "metadata": {},
   "outputs": [
    {
     "data": {
      "text/plain": [
       "array([[ 0.52106591, -0.37741762, -0.71956635,  0.26128628],\n",
       "       [-0.26934744, -0.92329566,  0.24438178, -0.12350962],\n",
       "       [ 0.5804131 , -0.02449161,  0.14212637, -0.80144925],\n",
       "       [ 0.56485654, -0.06694199,  0.63427274,  0.52359713]])"
      ]
     },
     "execution_count": 15,
     "metadata": {},
     "output_type": "execute_result"
    }
   ],
   "source": [
    "eigen_vectors"
   ]
  },
  {
   "cell_type": "markdown",
   "id": "887b5a39",
   "metadata": {},
   "source": [
    "#### But if we still want to make sure that the results are in decending order then the following code can achieve that"
   ]
  },
  {
   "cell_type": "code",
   "execution_count": 16,
   "id": "36cc6161",
   "metadata": {},
   "outputs": [],
   "source": [
    "sorted_index = eigen_values.argsort()[::-1]"
   ]
  },
  {
   "cell_type": "code",
   "execution_count": 17,
   "id": "2d7bf5d9",
   "metadata": {},
   "outputs": [
    {
     "data": {
      "text/plain": [
       "array([2.93808505, 0.9201649 , 0.14774182, 0.02085386])"
      ]
     },
     "execution_count": 17,
     "metadata": {},
     "output_type": "execute_result"
    }
   ],
   "source": [
    "eigen_values[sorted_index]"
   ]
  },
  {
   "cell_type": "code",
   "execution_count": 18,
   "id": "078c7559",
   "metadata": {},
   "outputs": [
    {
     "data": {
      "text/plain": [
       "array([[ 0.52106591, -0.37741762, -0.71956635,  0.26128628],\n",
       "       [-0.26934744, -0.92329566,  0.24438178, -0.12350962],\n",
       "       [ 0.5804131 , -0.02449161,  0.14212637, -0.80144925],\n",
       "       [ 0.56485654, -0.06694199,  0.63427274,  0.52359713]])"
      ]
     },
     "execution_count": 18,
     "metadata": {},
     "output_type": "execute_result"
    }
   ],
   "source": [
    "eigen_vectors[:, sorted_index]"
   ]
  },
  {
   "cell_type": "markdown",
   "id": "83405b9f",
   "metadata": {},
   "source": [
    "#### Following code is just to check whether the results are correct or not"
   ]
  },
  {
   "cell_type": "code",
   "execution_count": 19,
   "id": "c49f6803",
   "metadata": {},
   "outputs": [
    {
     "data": {
      "text/plain": [
       "sepal_length    1.530936\n",
       "sepal_width    -0.791366\n",
       "petal_length    1.705303\n",
       "petal_width     1.659597\n",
       "dtype: float64"
      ]
     },
     "execution_count": 19,
     "metadata": {},
     "output_type": "execute_result"
    }
   ],
   "source": [
    "# Lets check Ax = λx\n",
    "# LHS\n",
    "df_covarience.dot(eigen_vectors[:,0])"
   ]
  },
  {
   "cell_type": "code",
   "execution_count": 20,
   "id": "e3943245",
   "metadata": {},
   "outputs": [
    {
     "data": {
      "text/plain": [
       "array([ 1.53093597, -0.79136569,  1.70530304,  1.65959654])"
      ]
     },
     "execution_count": 20,
     "metadata": {},
     "output_type": "execute_result"
    }
   ],
   "source": [
    "# RHS\n",
    "eigen_values[0] * eigen_vectors[:,0]"
   ]
  },
  {
   "cell_type": "code",
   "execution_count": null,
   "id": "849f1776",
   "metadata": {},
   "outputs": [],
   "source": []
  }
 ],
 "metadata": {
  "kernelspec": {
   "display_name": "Python 3 (ipykernel)",
   "language": "python",
   "name": "python3"
  },
  "language_info": {
   "codemirror_mode": {
    "name": "ipython",
    "version": 3
   },
   "file_extension": ".py",
   "mimetype": "text/x-python",
   "name": "python",
   "nbconvert_exporter": "python",
   "pygments_lexer": "ipython3",
   "version": "3.9.5"
  }
 },
 "nbformat": 4,
 "nbformat_minor": 5
}
