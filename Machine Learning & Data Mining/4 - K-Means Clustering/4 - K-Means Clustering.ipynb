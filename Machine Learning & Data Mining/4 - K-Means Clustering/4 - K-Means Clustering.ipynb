{
 "cells": [
  {
   "cell_type": "markdown",
   "id": "83fb2fa9",
   "metadata": {},
   "source": [
    "### Import required libraries"
   ]
  },
  {
   "cell_type": "code",
   "execution_count": 1,
   "id": "17d82315",
   "metadata": {},
   "outputs": [],
   "source": [
    "import pandas as pd\n",
    "import numpy as np\n",
    "import matplotlib.pyplot as plt"
   ]
  },
  {
   "cell_type": "markdown",
   "id": "a91f93d0",
   "metadata": {},
   "source": [
    "### Load dataset"
   ]
  },
  {
   "cell_type": "code",
   "execution_count": 2,
   "id": "dbeb4893",
   "metadata": {},
   "outputs": [],
   "source": [
    "df = pd.read_csv(\"Categorical.csv\")"
   ]
  },
  {
   "cell_type": "code",
   "execution_count": 3,
   "id": "a273431d",
   "metadata": {},
   "outputs": [
    {
     "data": {
      "text/html": [
       "<div>\n",
       "<style scoped>\n",
       "    .dataframe tbody tr th:only-of-type {\n",
       "        vertical-align: middle;\n",
       "    }\n",
       "\n",
       "    .dataframe tbody tr th {\n",
       "        vertical-align: top;\n",
       "    }\n",
       "\n",
       "    .dataframe thead th {\n",
       "        text-align: right;\n",
       "    }\n",
       "</style>\n",
       "<table border=\"1\" class=\"dataframe\">\n",
       "  <thead>\n",
       "    <tr style=\"text-align: right;\">\n",
       "      <th></th>\n",
       "      <th>name</th>\n",
       "      <th>Longitude</th>\n",
       "      <th>Latitude</th>\n",
       "      <th>continent</th>\n",
       "    </tr>\n",
       "  </thead>\n",
       "  <tbody>\n",
       "    <tr>\n",
       "      <th>0</th>\n",
       "      <td>Aruba</td>\n",
       "      <td>-69.982677</td>\n",
       "      <td>12.520880</td>\n",
       "      <td>North America</td>\n",
       "    </tr>\n",
       "    <tr>\n",
       "      <th>1</th>\n",
       "      <td>Afghanistan</td>\n",
       "      <td>66.004734</td>\n",
       "      <td>33.835231</td>\n",
       "      <td>Asia</td>\n",
       "    </tr>\n",
       "    <tr>\n",
       "      <th>2</th>\n",
       "      <td>Angola</td>\n",
       "      <td>17.537368</td>\n",
       "      <td>-12.293361</td>\n",
       "      <td>Africa</td>\n",
       "    </tr>\n",
       "    <tr>\n",
       "      <th>3</th>\n",
       "      <td>Anguilla</td>\n",
       "      <td>-63.064989</td>\n",
       "      <td>18.223959</td>\n",
       "      <td>North America</td>\n",
       "    </tr>\n",
       "    <tr>\n",
       "      <th>4</th>\n",
       "      <td>Albania</td>\n",
       "      <td>20.049834</td>\n",
       "      <td>41.142450</td>\n",
       "      <td>Europe</td>\n",
       "    </tr>\n",
       "  </tbody>\n",
       "</table>\n",
       "</div>"
      ],
      "text/plain": [
       "          name  Longitude   Latitude      continent\n",
       "0        Aruba -69.982677  12.520880  North America\n",
       "1  Afghanistan  66.004734  33.835231           Asia\n",
       "2       Angola  17.537368 -12.293361         Africa\n",
       "3     Anguilla -63.064989  18.223959  North America\n",
       "4      Albania  20.049834  41.142450         Europe"
      ]
     },
     "execution_count": 3,
     "metadata": {},
     "output_type": "execute_result"
    }
   ],
   "source": [
    "df.head()"
   ]
  },
  {
   "cell_type": "code",
   "execution_count": 24,
   "id": "668ddd84",
   "metadata": {},
   "outputs": [
    {
     "data": {
      "text/html": [
       "<div>\n",
       "<style scoped>\n",
       "    .dataframe tbody tr th:only-of-type {\n",
       "        vertical-align: middle;\n",
       "    }\n",
       "\n",
       "    .dataframe tbody tr th {\n",
       "        vertical-align: top;\n",
       "    }\n",
       "\n",
       "    .dataframe thead th {\n",
       "        text-align: right;\n",
       "    }\n",
       "</style>\n",
       "<table border=\"1\" class=\"dataframe\">\n",
       "  <thead>\n",
       "    <tr style=\"text-align: right;\">\n",
       "      <th></th>\n",
       "      <th>name</th>\n",
       "      <th>Longitude</th>\n",
       "      <th>Latitude</th>\n",
       "      <th>continent</th>\n",
       "    </tr>\n",
       "  </thead>\n",
       "  <tbody>\n",
       "    <tr>\n",
       "      <th>2</th>\n",
       "      <td>Angola</td>\n",
       "      <td>17.537368</td>\n",
       "      <td>-12.293361</td>\n",
       "      <td>Africa</td>\n",
       "    </tr>\n",
       "    <tr>\n",
       "      <th>3</th>\n",
       "      <td>Anguilla</td>\n",
       "      <td>-63.064989</td>\n",
       "      <td>18.223959</td>\n",
       "      <td>North America</td>\n",
       "    </tr>\n",
       "    <tr>\n",
       "      <th>4</th>\n",
       "      <td>Albania</td>\n",
       "      <td>20.049834</td>\n",
       "      <td>41.142450</td>\n",
       "      <td>Europe</td>\n",
       "    </tr>\n",
       "    <tr>\n",
       "      <th>5</th>\n",
       "      <td>Aland</td>\n",
       "      <td>19.953288</td>\n",
       "      <td>60.214887</td>\n",
       "      <td>Europe</td>\n",
       "    </tr>\n",
       "  </tbody>\n",
       "</table>\n",
       "</div>"
      ],
      "text/plain": [
       "       name  Longitude   Latitude      continent\n",
       "2    Angola  17.537368 -12.293361         Africa\n",
       "3  Anguilla -63.064989  18.223959  North America\n",
       "4   Albania  20.049834  41.142450         Europe\n",
       "5     Aland  19.953288  60.214887         Europe"
      ]
     },
     "execution_count": 24,
     "metadata": {},
     "output_type": "execute_result"
    }
   ],
   "source": [
    "df.loc[2:5, :]"
   ]
  },
  {
   "cell_type": "markdown",
   "id": "92710e72",
   "metadata": {},
   "source": [
    "### Variables for K-means"
   ]
  },
  {
   "cell_type": "code",
   "execution_count": 4,
   "id": "9cadb0f7",
   "metadata": {},
   "outputs": [],
   "source": [
    "X = df.iloc[:, 1:3].to_numpy()\n",
    "\n",
    "max_iter = 100\n",
    "num_clusters = 4\n",
    "num_samples = X.shape[0]\n",
    "num_features = X.shape[1]"
   ]
  },
  {
   "cell_type": "markdown",
   "id": "0ee75956",
   "metadata": {},
   "source": [
    "### Randomly assign centroids for K clusters"
   ]
  },
  {
   "cell_type": "code",
   "execution_count": 5,
   "id": "ad630858",
   "metadata": {},
   "outputs": [],
   "source": [
    "def init_centroids():\n",
    "    centroids = np.zeros((num_clusters, num_features))\n",
    "    \n",
    "    for k in range(num_clusters):\n",
    "        centroid = X[np.random.choice(range(num_samples))]\n",
    "        centroids[k] = centroid\n",
    "        \n",
    "    return centroids"
   ]
  },
  {
   "cell_type": "markdown",
   "id": "2d78f2ee",
   "metadata": {},
   "source": [
    "### Assign each sample to closest centroids to form clusters"
   ]
  },
  {
   "cell_type": "code",
   "execution_count": 6,
   "id": "f5ce5df7",
   "metadata": {},
   "outputs": [],
   "source": [
    "def init_clusters(centroids):\n",
    "    clusters = [[] for _ in range(num_clusters)]\n",
    "    \n",
    "    for idx, sample in enumerate(X):\n",
    "        closest_centroid = np.argmin(np.sqrt(np.sum((sample - centroids) ** 2, axis=1)))\n",
    "        clusters[closest_centroid].append(idx)\n",
    "        \n",
    "    return clusters"
   ]
  },
  {
   "cell_type": "markdown",
   "id": "2f8a4d33",
   "metadata": {},
   "source": [
    "### Calculate new position for each centroids, by averaging corresponding clusters"
   ]
  },
  {
   "cell_type": "code",
   "execution_count": 7,
   "id": "41d147db",
   "metadata": {},
   "outputs": [],
   "source": [
    "def compute_new_centroids(clusters):\n",
    "    centroids = np.zeros((num_clusters, num_features))\n",
    "    \n",
    "    for idx, cluster in enumerate(clusters):\n",
    "        new_centroid = np.mean(X[cluster], axis=0)\n",
    "        centroids[idx] = new_centroid\n",
    "        \n",
    "    return centroids"
   ]
  },
  {
   "cell_type": "markdown",
   "id": "5461757a",
   "metadata": {},
   "source": [
    "### Obtain class label for each sample or predict the label of cluster that a sample belongs to"
   ]
  },
  {
   "cell_type": "code",
   "execution_count": 8,
   "id": "cec39398",
   "metadata": {},
   "outputs": [],
   "source": [
    "def predict_cluster_labels(clusters):\n",
    "    y_pred = np.zeros(num_samples)\n",
    "    \n",
    "    for clus_idx, cluster in enumerate(clusters):\n",
    "        for sample_idx in cluster:\n",
    "            y_pred[sample_idx] = clus_idx\n",
    "            \n",
    "    return y_pred"
   ]
  },
  {
   "cell_type": "markdown",
   "id": "64113eb7",
   "metadata": {},
   "source": [
    "### Put everything togather"
   ]
  },
  {
   "cell_type": "code",
   "execution_count": 9,
   "id": "6a51f6dd",
   "metadata": {},
   "outputs": [
    {
     "name": "stdout",
     "output_type": "stream",
     "text": [
      "K-Means has converged!\n"
     ]
    }
   ],
   "source": [
    "centroids = init_centroids()\n",
    "\n",
    "for _ in range(max_iter):\n",
    "    clusters = init_clusters(centroids)\n",
    "    \n",
    "    previous_centroids = centroids\n",
    "    centroids = compute_new_centroids(clusters)\n",
    "    \n",
    "    diff = centroids - previous_centroids\n",
    "    \n",
    "    if not diff.any():\n",
    "        print(\"K-Means has converged!\")\n",
    "        break"
   ]
  },
  {
   "cell_type": "code",
   "execution_count": 11,
   "id": "c8e8c90b",
   "metadata": {},
   "outputs": [],
   "source": [
    "y_pred = predict_cluster_labels(clusters)"
   ]
  },
  {
   "cell_type": "markdown",
   "id": "ca4ef058",
   "metadata": {},
   "source": [
    "### Map each label/cluster to specific color as per assignment's requirment"
   ]
  },
  {
   "cell_type": "code",
   "execution_count": 18,
   "id": "93843050",
   "metadata": {},
   "outputs": [],
   "source": [
    "LABEL_COLOR_MAP = {0 : \"yellow\", 1 : \"green\", 2 : \"brown\", 3 : \"pink\"}\n",
    "\n",
    "label_color = [LABEL_COLOR_MAP[l] for l in y_pred]"
   ]
  },
  {
   "cell_type": "markdown",
   "id": "a3170a88",
   "metadata": {},
   "source": [
    "### Visualize the data by using scatter plot"
   ]
  },
  {
   "cell_type": "code",
   "execution_count": 69,
   "id": "2032f5be",
   "metadata": {},
   "outputs": [
    {
     "data": {
      "image/png": "[encoded data removed]",
      "text/plain": [
       "<Figure size 648x432 with 1 Axes>"
      ]
     },
     "metadata": {
      "needs_background": "light"
     },
     "output_type": "display_data"
    }
   ],
   "source": [
    "fig = plt.figure(figsize=(9, 6))\n",
    "ax = fig.add_axes([0,0,1,1])\n",
    "\n",
    "sc = ax.scatter(X[:, 0], X[:, 1], c=label_color, s=35)\n",
    "\n",
    "ax.set_xlabel(\"Longitude\")\n",
    "ax.set_ylabel(\"Latitude\")\n",
    "ax.set_title(\"Countries Clusters\")\n",
    "\n",
    "major_xticks = np.arange(-200, 201, 50)\n",
    "minor_xticks = np.arange(-200, 201, 10)\n",
    "\n",
    "major_yticks = np.arange(-100, 101, 50)\n",
    "minor_yticks = np.arange(-100, 101, 10)\n",
    "\n",
    "ax.set_xticks(major_xticks)\n",
    "ax.set_xticks(minor_xticks, minor = True)\n",
    "\n",
    "ax.set_yticks(major_yticks)\n",
    "ax.set_yticks(minor_yticks, minor = True)\n",
    "\n",
    "ax.grid(which = 'minor', alpha = 0.2)\n",
    "ax.grid(which = 'major', alpha = 0.5)"
   ]
  },
  {
   "cell_type": "markdown",
   "id": "70f1dc86",
   "metadata": {},
   "source": [
    "### Save the generated plot"
   ]
  },
  {
   "cell_type": "code",
   "execution_count": 70,
   "id": "5af5a8db",
   "metadata": {},
   "outputs": [],
   "source": [
    "fig.savefig(\"Clustering.png\", \n",
    "            dpi=100, \n",
    "            bbox_inches =\"tight\",\n",
    "            pad_inches = 0.5,\n",
    "            facecolor =\"w\")"
   ]
  },
  {
   "cell_type": "code",
   "execution_count": null,
   "id": "6e67fa87",
   "metadata": {},
   "outputs": [],
   "source": []
  }
 ],
 "metadata": {
  "kernelspec": {
   "display_name": "Python 3 (ipykernel)",
   "language": "python",
   "name": "python3"
  },
  "language_info": {
   "codemirror_mode": {
    "name": "ipython",
    "version": 3
   },
   "file_extension": ".py",
   "mimetype": "text/x-python",
   "name": "python",
   "nbconvert_exporter": "python",
   "pygments_lexer": "ipython3",
   "version": "3.9.5"
  }
 },
 "nbformat": 4,
 "nbformat_minor": 5
}
