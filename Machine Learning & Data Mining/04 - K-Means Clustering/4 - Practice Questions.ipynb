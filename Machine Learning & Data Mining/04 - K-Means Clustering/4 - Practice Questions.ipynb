{
 "cells": [
  {
   "cell_type": "code",
   "execution_count": 29,
   "id": "de2693b3",
   "metadata": {},
   "outputs": [],
   "source": [
    "import numpy as np\n",
    "import pandas as pd\n",
    "# from sklearn import cluster\n",
    "# from sklearn.datasets import make_blobs\n",
    "import matplotlib.pyplot as plt"
   ]
  },
  {
   "cell_type": "code",
   "execution_count": 2,
   "id": "5508a958",
   "metadata": {},
   "outputs": [],
   "source": [
    "x = np.array([\n",
    "    [3.5, 1], \n",
    "    [4.5, 1.5], \n",
    "    [2.5, 2], \n",
    "    [1, 2.5], \n",
    "    [2.5, 3], \n",
    "    [3.5, 3], \n",
    "    [5.5, 3.5], \n",
    "    [4.5, 4], \n",
    "    [6.5, 4], \n",
    "    [5.5, 4.5]\n",
    "])\n",
    "\n",
    "y = np.array([0, 0, 1, 1, 1, 1, 2, 2, 2, 2])"
   ]
  },
  {
   "cell_type": "code",
   "execution_count": 3,
   "id": "896baf74",
   "metadata": {},
   "outputs": [],
   "source": [
    "# X, y = make_blobs(n_samples=10,\n",
    "#                   centers=3,\n",
    "#                   n_features=2,\n",
    "#                   random_state=23)"
   ]
  },
  {
   "cell_type": "code",
   "execution_count": 4,
   "id": "8c429434",
   "metadata": {},
   "outputs": [
    {
     "data": {
      "text/plain": [
       "array([[3.5, 1. ],\n",
       "       [4.5, 1.5],\n",
       "       [2.5, 2. ],\n",
       "       [1. , 2.5],\n",
       "       [2.5, 3. ],\n",
       "       [3.5, 3. ],\n",
       "       [5.5, 3.5],\n",
       "       [4.5, 4. ],\n",
       "       [6.5, 4. ],\n",
       "       [5.5, 4.5]])"
      ]
     },
     "execution_count": 4,
     "metadata": {},
     "output_type": "execute_result"
    }
   ],
   "source": [
    "x"
   ]
  },
  {
   "cell_type": "code",
   "execution_count": 5,
   "id": "70b03e8e",
   "metadata": {},
   "outputs": [
    {
     "data": {
      "text/plain": [
       "array([0, 0, 1, 1, 1, 1, 2, 2, 2, 2])"
      ]
     },
     "execution_count": 5,
     "metadata": {},
     "output_type": "execute_result"
    }
   ],
   "source": [
    "y"
   ]
  },
  {
   "cell_type": "code",
   "execution_count": 6,
   "id": "1b0843d7",
   "metadata": {},
   "outputs": [],
   "source": [
    "data = pd.DataFrame(x, columns=[\"x1\", \"x2\"])\n",
    "data[\"y\"] = y\n",
    "data[\"y\"] = data.y.astype('category')"
   ]
  },
  {
   "cell_type": "code",
   "execution_count": 7,
   "id": "606d3351",
   "metadata": {},
   "outputs": [
    {
     "data": {
      "text/plain": [
       "<matplotlib.colorbar.Colorbar at 0x7fb93342efa0>"
      ]
     },
     "execution_count": 7,
     "metadata": {},
     "output_type": "execute_result"
    },
    {
     "data": {
      "image/png": "[encoded data removed]",
      "text/plain": [
       "<Figure size 432x288 with 2 Axes>"
      ]
     },
     "metadata": {
      "needs_background": "light"
     },
     "output_type": "display_data"
    }
   ],
   "source": [
    "fig = plt.figure()\n",
    "# ax = fig.add_subplot(111)\n",
    "ax = fig.add_axes([0,0,1,1])\n",
    "scatter = ax.scatter(data.x1, data.x2, c=y, s=50)\n",
    "\n",
    "ax.set_xlabel('x')\n",
    "ax.set_ylabel('y')\n",
    "\n",
    "major_ticks = np.arange(0, 9, 2)\n",
    "minor_ticks = np.arange(0, 9, 0.5)\n",
    "\n",
    "ax.set_xticks(major_ticks)\n",
    "ax.set_xticks(minor_ticks, minor=True)\n",
    "ax.set_yticks(major_ticks)\n",
    "ax.set_yticks(minor_ticks, minor=True)\n",
    "\n",
    "ax.grid(which='both')\n",
    "\n",
    "ax.grid(which='minor', alpha=0.2)\n",
    "ax.grid(which='major', alpha=0.5)\n",
    "\n",
    "plt.xlim(0, 8)\n",
    "plt.ylim(0, 6)\n",
    "plt.colorbar(scatter)\n",
    "\n",
    "# fig.show()"
   ]
  },
  {
   "cell_type": "code",
   "execution_count": 8,
   "id": "98e28bd1",
   "metadata": {},
   "outputs": [],
   "source": [
    "# k_means = cluster.KMeans(n_clusters=3)\n",
    "# k_means.fit(data)\n",
    "# y_pred = k_means.predict(data)"
   ]
  },
  {
   "cell_type": "code",
   "execution_count": 9,
   "id": "65c26a5b",
   "metadata": {},
   "outputs": [],
   "source": [
    "# prediction = pd.concat([data, pd.DataFrame(y_pred, columns=['pred'])], axis = 1)"
   ]
  },
  {
   "cell_type": "code",
   "execution_count": 10,
   "id": "66dafe4b",
   "metadata": {},
   "outputs": [],
   "source": [
    "# prediction"
   ]
  },
  {
   "cell_type": "code",
   "execution_count": 11,
   "id": "2045c8c8",
   "metadata": {},
   "outputs": [],
   "source": [
    "clus0 = data.loc[data.y == 0]  \n",
    "clus1 = data.loc[data.y == 1]  \n",
    "clus2 = data.loc[data.y == 2]  "
   ]
  },
  {
   "cell_type": "code",
   "execution_count": 12,
   "id": "a86f0e72",
   "metadata": {},
   "outputs": [],
   "source": [
    "k_list = [clus0.values, clus1.values,clus2.values]"
   ]
  },
  {
   "cell_type": "code",
   "execution_count": 13,
   "id": "728e5dc4",
   "metadata": {},
   "outputs": [
    {
     "data": {
      "text/plain": [
       "[array([[3.5, 1. , 0. ],\n",
       "        [4.5, 1.5, 0. ]]),\n",
       " array([[2.5, 2. , 1. ],\n",
       "        [1. , 2.5, 1. ],\n",
       "        [2.5, 3. , 1. ],\n",
       "        [3.5, 3. , 1. ]]),\n",
       " array([[5.5, 3.5, 2. ],\n",
       "        [4.5, 4. , 2. ],\n",
       "        [6.5, 4. , 2. ],\n",
       "        [5.5, 4.5, 2. ]])]"
      ]
     },
     "execution_count": 13,
     "metadata": {},
     "output_type": "execute_result"
    }
   ],
   "source": [
    "k_list"
   ]
  },
  {
   "cell_type": "code",
   "execution_count": 14,
   "id": "61319c1b",
   "metadata": {},
   "outputs": [],
   "source": [
    "def inter_cluster_distance(ck, cl):\n",
    "    values = np.ones([len(ck), len(cl)])\n",
    "    for i in range(0, len(ck)):\n",
    "        for j in range(0, len(cl)):\n",
    "            values[i, j] = np.linalg.norm(ck[i] - cl[j])\n",
    "    return np.min(values)"
   ]
  },
  {
   "cell_type": "code",
   "execution_count": 15,
   "id": "9da293b0",
   "metadata": {},
   "outputs": [
    {
     "data": {
      "text/plain": [
       "1.7320508075688772"
      ]
     },
     "execution_count": 15,
     "metadata": {},
     "output_type": "execute_result"
    }
   ],
   "source": [
    "inter_cluster_distance(clus0.values, clus1.values)"
   ]
  },
  {
   "cell_type": "code",
   "execution_count": 16,
   "id": "f5439f87",
   "metadata": {},
   "outputs": [],
   "source": [
    "def intra_cluster_distance(ci):\n",
    "    values = np.zeros([len(ci), len(ci)])\n",
    "    for i in range(0, len(ci)):\n",
    "        for j in range(0, len(ci)):\n",
    "            values[i, j] = np.linalg.norm(ci[i] - ci[j])\n",
    "    return np.max(values)"
   ]
  },
  {
   "cell_type": "code",
   "execution_count": 17,
   "id": "9995a259",
   "metadata": {},
   "outputs": [
    {
     "data": {
      "text/plain": [
       "1.118033988749895"
      ]
     },
     "execution_count": 17,
     "metadata": {},
     "output_type": "execute_result"
    }
   ],
   "source": [
    "intra_cluster_distance(clus0.values)"
   ]
  },
  {
   "cell_type": "code",
   "execution_count": 42,
   "id": "95e0345a",
   "metadata": {},
   "outputs": [],
   "source": [
    "def dunn(k_list):\n",
    "    inter_s = np.ones([len(k_list), len(k_list)])\n",
    "    intra_s = np.zeros([len(k_list), 1])\n",
    "    l_range = list(range(0, len(k_list)))\n",
    "    \n",
    "    for k in l_range:\n",
    "        for l in (l_range[0:k] + l_range[k + 1:]):\n",
    "            inter_s[k, l] = inter_cluster_distance(k_list[k], k_list[l])\n",
    "            intra_s[k] = intra_cluster_distance(k_list[k])\n",
    "            di = np.min(inter_s) / np.max(intra_s)\n",
    "    \n",
    "    return di"
   ]
  },
  {
   "cell_type": "code",
   "execution_count": 43,
   "id": "7d5fe992",
   "metadata": {},
   "outputs": [
    {
     "data": {
      "text/plain": [
       "0.14867620697065728"
      ]
     },
     "execution_count": 43,
     "metadata": {},
     "output_type": "execute_result"
    }
   ],
   "source": [
    "dunn(k_list)"
   ]
  },
  {
   "cell_type": "code",
   "execution_count": null,
   "id": "91b5b046",
   "metadata": {},
   "outputs": [],
   "source": []
  }
 ],
 "metadata": {
  "kernelspec": {
   "display_name": "Python 3 (ipykernel)",
   "language": "python",
   "name": "python3"
  },
  "language_info": {
   "codemirror_mode": {
    "name": "ipython",
    "version": 3
   },
   "file_extension": ".py",
   "mimetype": "text/x-python",
   "name": "python",
   "nbconvert_exporter": "python",
   "pygments_lexer": "ipython3",
   "version": "3.9.5"
  }
 },
 "nbformat": 4,
 "nbformat_minor": 5
}
