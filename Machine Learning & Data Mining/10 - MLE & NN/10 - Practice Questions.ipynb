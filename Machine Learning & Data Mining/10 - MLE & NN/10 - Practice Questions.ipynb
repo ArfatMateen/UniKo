{
 "cells": [
  {
   "cell_type": "code",
   "execution_count": 1,
   "id": "28dbc271",
   "metadata": {},
   "outputs": [],
   "source": [
    "import numpy as np"
   ]
  },
  {
   "cell_type": "markdown",
   "id": "5bb8f7db",
   "metadata": {},
   "source": [
    "### MLE"
   ]
  },
  {
   "cell_type": "code",
   "execution_count": 2,
   "id": "90996cad",
   "metadata": {},
   "outputs": [],
   "source": [
    "theta = np.linspace(0.01, 0.99, 99)"
   ]
  },
  {
   "cell_type": "code",
   "execution_count": 3,
   "id": "17430dfb",
   "metadata": {},
   "outputs": [
    {
     "data": {
      "text/plain": [
       "array([0.01, 0.02, 0.03, 0.04, 0.05, 0.06, 0.07, 0.08, 0.09, 0.1 , 0.11,\n",
       "       0.12, 0.13, 0.14, 0.15, 0.16, 0.17, 0.18, 0.19, 0.2 , 0.21, 0.22,\n",
       "       0.23, 0.24, 0.25, 0.26, 0.27, 0.28, 0.29, 0.3 , 0.31, 0.32, 0.33,\n",
       "       0.34, 0.35, 0.36, 0.37, 0.38, 0.39, 0.4 , 0.41, 0.42, 0.43, 0.44,\n",
       "       0.45, 0.46, 0.47, 0.48, 0.49, 0.5 , 0.51, 0.52, 0.53, 0.54, 0.55,\n",
       "       0.56, 0.57, 0.58, 0.59, 0.6 , 0.61, 0.62, 0.63, 0.64, 0.65, 0.66,\n",
       "       0.67, 0.68, 0.69, 0.7 , 0.71, 0.72, 0.73, 0.74, 0.75, 0.76, 0.77,\n",
       "       0.78, 0.79, 0.8 , 0.81, 0.82, 0.83, 0.84, 0.85, 0.86, 0.87, 0.88,\n",
       "       0.89, 0.9 , 0.91, 0.92, 0.93, 0.94, 0.95, 0.96, 0.97, 0.98, 0.99])"
      ]
     },
     "execution_count": 3,
     "metadata": {},
     "output_type": "execute_result"
    }
   ],
   "source": [
    "theta"
   ]
  },
  {
   "cell_type": "code",
   "execution_count": 18,
   "id": "246cb258",
   "metadata": {},
   "outputs": [
    {
     "name": "stdout",
     "output_type": "stream",
     "text": [
      "0.01 =    494.949\n",
      "0.02 =    244.898\n",
      "0.03 =    161.512\n",
      "0.04 =    119.792\n",
      "0.05 =    94.7368\n",
      "0.06 =    78.0142\n",
      "0.07 =    66.0522\n",
      "0.08 =    57.0652\n",
      "0.09 =    50.0611\n",
      " 0.1 =    44.4444\n",
      "0.11 =    39.8366\n",
      "0.12 =    35.9848\n",
      "0.13 =    32.7144\n",
      "0.14 =    29.9003\n",
      "0.15 =     27.451\n",
      "0.16 =    25.2976\n",
      "0.17 =    23.3877\n",
      "0.18 =    21.6802\n",
      "0.19 =    20.1429\n",
      " 0.2 =      18.75\n",
      "0.21 =    17.4804\n",
      "0.22 =     16.317\n",
      "0.23 =    15.2456\n",
      "0.24 =    14.2544\n",
      "0.25 =    13.3333\n",
      "0.26 =     12.474\n",
      "0.27 =    11.6692\n",
      "0.28 =    10.9127\n",
      "0.29 =    10.1991\n",
      " 0.3 =    9.52381\n",
      "0.31 =    8.88266\n",
      "0.32 =    8.27206\n",
      "0.33 =    7.68883\n",
      "0.34 =    7.13012\n",
      "0.35 =    6.59341\n",
      "0.36 =    6.07639\n",
      "0.37 =    5.57701\n",
      "0.38 =    5.09338\n",
      "0.39 =    4.62379\n",
      " 0.4 =    4.16667\n",
      "0.41 =    3.72055\n",
      "0.42 =    3.28407\n",
      "0.43 =    2.85598\n",
      "0.44 =    2.43506\n",
      "0.45 =     2.0202\n",
      "0.46 =    1.61031\n",
      "0.47 =    1.20434\n",
      "0.48 =   0.801282\n",
      "0.49 =    0.40016\n",
      " 0.5 =        0.0\n",
      "0.51 =   -0.40016\n",
      "0.52 =  -0.801282\n",
      "0.53 =   -1.20434\n",
      "0.54 =   -1.61031\n",
      "0.55 =    -2.0202\n",
      "0.56 =   -2.43506\n",
      "0.57 =   -2.85598\n",
      "0.58 =   -3.28407\n",
      "0.59 =   -3.72055\n",
      " 0.6 =   -4.16667\n",
      "0.61 =   -4.62379\n",
      "0.62 =   -5.09338\n",
      "0.63 =   -5.57701\n",
      "0.64 =   -6.07639\n",
      "0.65 =   -6.59341\n",
      "0.66 =   -7.13012\n",
      "0.67 =   -7.68883\n",
      "0.68 =   -8.27206\n",
      "0.69 =   -8.88266\n",
      " 0.7 =   -9.52381\n",
      "0.71 =   -10.1991\n",
      "0.72 =   -10.9127\n",
      "0.73 =   -11.6692\n",
      "0.74 =    -12.474\n",
      "0.75 =   -13.3333\n",
      "0.76 =   -14.2544\n",
      "0.77 =   -15.2456\n",
      "0.78 =    -16.317\n",
      "0.79 =   -17.4804\n",
      " 0.8 =     -18.75\n",
      "0.81 =   -20.1429\n",
      "0.82 =   -21.6802\n",
      "0.83 =   -23.3877\n",
      "0.84 =   -25.2976\n",
      "0.85 =    -27.451\n",
      "0.86 =   -29.9003\n",
      "0.87 =   -32.7144\n",
      "0.88 =   -35.9848\n",
      "0.89 =   -39.8366\n",
      " 0.9 =   -44.4444\n",
      "0.91 =   -50.0611\n",
      "0.92 =   -57.0652\n",
      "0.93 =   -66.0522\n",
      "0.94 =   -78.0142\n",
      "0.95 =   -94.7368\n",
      "0.96 =   -119.792\n",
      "0.97 =   -161.512\n",
      "0.98 =   -244.898\n",
      "0.99 =   -494.949\n"
     ]
    }
   ],
   "source": [
    "for i in theta:\n",
    "    val = (5 / i) - (5 / (1 - i))\n",
    "    print(f\"{i:4.2} = {val:10.6}\")"
   ]
  },
  {
   "cell_type": "code",
   "execution_count": null,
   "id": "9f8a571e",
   "metadata": {},
   "outputs": [],
   "source": []
  },
  {
   "cell_type": "markdown",
   "id": "0cf2ffd8",
   "metadata": {},
   "source": [
    "## Neural Network"
   ]
  },
  {
   "cell_type": "code",
   "execution_count": 2,
   "id": "d45841f3",
   "metadata": {},
   "outputs": [],
   "source": [
    "def relu(X):\n",
    "    Z = []\n",
    "    for x in X:\n",
    "        if x > 0:\n",
    "            Z.append(x)\n",
    "        else:\n",
    "            Z.append(0)\n",
    "    \n",
    "    return Z"
   ]
  },
  {
   "cell_type": "code",
   "execution_count": 3,
   "id": "8db3c5be",
   "metadata": {},
   "outputs": [],
   "source": [
    "X = np.array([1, 0.7, 0.5])"
   ]
  },
  {
   "cell_type": "code",
   "execution_count": 4,
   "id": "5dd116a4",
   "metadata": {},
   "outputs": [],
   "source": [
    "weights_hidden = np.array([[1, 0.4, 0.3],\n",
    "                   [0.3, -1, 0.5]])\n",
    "\n",
    "weights_output = np.array([0.3, 0.2, 0.4])"
   ]
  },
  {
   "cell_type": "code",
   "execution_count": 5,
   "id": "35942b95",
   "metadata": {},
   "outputs": [
    {
     "data": {
      "text/plain": [
       "array([ 1.43, -0.15])"
      ]
     },
     "execution_count": 5,
     "metadata": {},
     "output_type": "execute_result"
    }
   ],
   "source": [
    "h1 = np.dot(weights_hidden, X)\n",
    "h1"
   ]
  },
  {
   "cell_type": "code",
   "execution_count": 6,
   "id": "a3e20a48",
   "metadata": {},
   "outputs": [
    {
     "data": {
      "text/plain": [
       "[1.43, 0]"
      ]
     },
     "execution_count": 6,
     "metadata": {},
     "output_type": "execute_result"
    }
   ],
   "source": [
    "fh1 = relu(h1)\n",
    "fh1"
   ]
  },
  {
   "cell_type": "code",
   "execution_count": 7,
   "id": "a895ea1a",
   "metadata": {},
   "outputs": [
    {
     "data": {
      "text/plain": [
       "[1, 1.43, 0]"
      ]
     },
     "execution_count": 7,
     "metadata": {},
     "output_type": "execute_result"
    }
   ],
   "source": [
    "fh1.insert(0, 1)\n",
    "fh1"
   ]
  },
  {
   "cell_type": "code",
   "execution_count": 9,
   "id": "dfec56f3",
   "metadata": {},
   "outputs": [
    {
     "data": {
      "text/plain": [
       "0.586"
      ]
     },
     "execution_count": 9,
     "metadata": {},
     "output_type": "execute_result"
    }
   ],
   "source": [
    "out = np.dot(weights_output, fh1)\n",
    "out"
   ]
  },
  {
   "cell_type": "code",
   "execution_count": 10,
   "id": "1f51af2f",
   "metadata": {},
   "outputs": [
    {
     "data": {
      "text/plain": [
       "[0.586]"
      ]
     },
     "execution_count": 10,
     "metadata": {},
     "output_type": "execute_result"
    }
   ],
   "source": [
    "relu([out])"
   ]
  },
  {
   "cell_type": "code",
   "execution_count": null,
   "id": "43f5a5f0",
   "metadata": {},
   "outputs": [],
   "source": []
  }
 ],
 "metadata": {
  "kernelspec": {
   "display_name": "Python 3 (ipykernel)",
   "language": "python",
   "name": "python3"
  },
  "language_info": {
   "codemirror_mode": {
    "name": "ipython",
    "version": 3
   },
   "file_extension": ".py",
   "mimetype": "text/x-python",
   "name": "python",
   "nbconvert_exporter": "python",
   "pygments_lexer": "ipython3",
   "version": "3.9.5"
  }
 },
 "nbformat": 4,
 "nbformat_minor": 5
}
