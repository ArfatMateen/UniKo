{
 "cells": [
  {
   "cell_type": "code",
   "execution_count": 1,
   "id": "286820d0",
   "metadata": {},
   "outputs": [],
   "source": [
    "import numpy as np"
   ]
  },
  {
   "cell_type": "markdown",
   "id": "f9e24928",
   "metadata": {},
   "source": [
    "### Functions"
   ]
  },
  {
   "cell_type": "code",
   "execution_count": 3,
   "id": "a39302c4",
   "metadata": {},
   "outputs": [],
   "source": [
    "def feed_forward(inputs, weights, bias):\n",
    "    Z = np.dot(weights, inputs)\n",
    "    return np.add(Z, bias)"
   ]
  },
  {
   "cell_type": "code",
   "execution_count": 4,
   "id": "7a67aa57",
   "metadata": {},
   "outputs": [],
   "source": [
    "def sig_activation(x):\n",
    "    # activation function\n",
    "    return 1 / (1 + np.exp(-x))"
   ]
  },
  {
   "cell_type": "code",
   "execution_count": 5,
   "id": "df92cb49",
   "metadata": {},
   "outputs": [],
   "source": [
    "def call_output(inputs, weights, bias):\n",
    "    layer_input = feed_forward(inputs, weights, bias)\n",
    "    layer_output = sig_activation(layer_input)\n",
    "    \n",
    "    return (layer_input, layer_output)"
   ]
  },
  {
   "cell_type": "markdown",
   "id": "bb6fdab5",
   "metadata": {},
   "source": [
    "### Execution"
   ]
  },
  {
   "cell_type": "markdown",
   "id": "1faeb075",
   "metadata": {},
   "source": [
    "#### Initial data"
   ]
  },
  {
   "cell_type": "code",
   "execution_count": 2,
   "id": "be2e2d27",
   "metadata": {},
   "outputs": [],
   "source": [
    "layer_input = np.array([0.3, 0.4])\n",
    "layer_weights = np.array([0.5, 0.1])\n",
    "layer_bias = np.array([0.33])"
   ]
  },
  {
   "cell_type": "code",
   "execution_count": 6,
   "id": "a1539eee",
   "metadata": {},
   "outputs": [],
   "source": [
    "layer_input, layer_output = call_output(layer_input, layer_weights, layer_bias)"
   ]
  },
  {
   "cell_type": "code",
   "execution_count": 7,
   "id": "b51f9561",
   "metadata": {},
   "outputs": [
    {
     "name": "stdout",
     "output_type": "stream",
     "text": [
      "LAYER INPUT: [0.52]  -  LAYER OUTPUT: [0.62714777]\n"
     ]
    }
   ],
   "source": [
    "print(f\"LAYER INPUT: {layer_input}  -  LAYER OUTPUT: {layer_output}\")"
   ]
  },
  {
   "cell_type": "markdown",
   "id": "d038e9e4",
   "metadata": {},
   "source": [
    "#### Layer"
   ]
  },
  {
   "cell_type": "code",
   "execution_count": 8,
   "id": "0e881823",
   "metadata": {},
   "outputs": [],
   "source": [
    "layer_input = layer_output\n",
    "layer_weights = np.array([0.85])\n",
    "layer_bias = np.array([0.1])"
   ]
  },
  {
   "cell_type": "code",
   "execution_count": 9,
   "id": "7476813b",
   "metadata": {},
   "outputs": [],
   "source": [
    "layer_input, layer_output = call_output(layer_input, layer_weights, layer_bias)"
   ]
  },
  {
   "cell_type": "code",
   "execution_count": 10,
   "id": "62f40f70",
   "metadata": {},
   "outputs": [
    {
     "name": "stdout",
     "output_type": "stream",
     "text": [
      "LAYER INPUT: [0.6330756]  -  LAYER OUTPUT: [0.65318652]\n"
     ]
    }
   ],
   "source": [
    "print(f\"LAYER INPUT: {layer_input}  -  LAYER OUTPUT: {layer_output}\")"
   ]
  },
  {
   "cell_type": "markdown",
   "id": "57878ce8",
   "metadata": {},
   "source": [
    "#### Layer"
   ]
  },
  {
   "cell_type": "code",
   "execution_count": 11,
   "id": "531730c3",
   "metadata": {},
   "outputs": [],
   "source": [
    "layer_input = layer_output\n",
    "layer_weights = np.array([0.45])\n",
    "layer_bias = np.array([0])"
   ]
  },
  {
   "cell_type": "code",
   "execution_count": 12,
   "id": "6faedaa8",
   "metadata": {},
   "outputs": [],
   "source": [
    "layer_input, layer_output = call_output(layer_input, layer_weights, layer_bias)"
   ]
  },
  {
   "cell_type": "code",
   "execution_count": 13,
   "id": "ea04d110",
   "metadata": {},
   "outputs": [
    {
     "name": "stdout",
     "output_type": "stream",
     "text": [
      "LAYER INPUT: [0.29393393]  -  LAYER OUTPUT: [0.57295895]\n"
     ]
    }
   ],
   "source": [
    "print(f\"LAYER INPUT: {layer_input}  -  LAYER OUTPUT: {layer_output}\")"
   ]
  },
  {
   "cell_type": "code",
   "execution_count": null,
   "id": "f4df7f59",
   "metadata": {},
   "outputs": [],
   "source": []
  }
 ],
 "metadata": {
  "kernelspec": {
   "display_name": "Python 3 (ipykernel)",
   "language": "python",
   "name": "python3"
  },
  "language_info": {
   "codemirror_mode": {
    "name": "ipython",
    "version": 3
   },
   "file_extension": ".py",
   "mimetype": "text/x-python",
   "name": "python",
   "nbconvert_exporter": "python",
   "pygments_lexer": "ipython3",
   "version": "3.9.5"
  }
 },
 "nbformat": 4,
 "nbformat_minor": 5
}
