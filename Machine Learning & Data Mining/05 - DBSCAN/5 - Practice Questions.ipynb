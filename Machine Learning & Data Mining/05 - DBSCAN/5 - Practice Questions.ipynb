{
 "cells": [
  {
   "cell_type": "code",
   "execution_count": 2,
   "id": "91736bd9",
   "metadata": {},
   "outputs": [],
   "source": [
    "import numpy as np\n",
    "from scipy.stats import norm"
   ]
  },
  {
   "cell_type": "code",
   "execution_count": 3,
   "id": "fda6f939",
   "metadata": {},
   "outputs": [],
   "source": [
    "np.set_printoptions(suppress=True)"
   ]
  },
  {
   "cell_type": "markdown",
   "id": "7df3eba5",
   "metadata": {},
   "source": [
    "### Calculate Normal distribution using liberary / Expectation"
   ]
  },
  {
   "cell_type": "code",
   "execution_count": 11,
   "id": "bf9be32e",
   "metadata": {},
   "outputs": [
    {
     "data": {
      "text/plain": [
       "6.763652779492299e-06"
      ]
     },
     "execution_count": 11,
     "metadata": {},
     "output_type": "execute_result"
    }
   ],
   "source": [
    "l = norm.pdf(162745 , loc = 188014.34 , scale = 52541.39 )\n",
    "l"
   ]
  },
  {
   "cell_type": "code",
   "execution_count": null,
   "id": "743af6db",
   "metadata": {},
   "outputs": [],
   "source": [
    "l1 = norm.pdf(163025 , loc = 188014.34 , scale = 52541.39 )\n",
    "l1"
   ]
  },
  {
   "cell_type": "code",
   "execution_count": 8,
   "id": "4eccd89c",
   "metadata": {},
   "outputs": [
    {
     "data": {
      "text/plain": [
       "1.205817331422209e-05"
      ]
     },
     "execution_count": 8,
     "metadata": {},
     "output_type": "execute_result"
    }
   ],
   "source": [
    "l2 = norm.pdf(163025 , loc = 143104.34 , scale = 18330.95 )\n",
    "l2"
   ]
  },
  {
   "cell_type": "code",
   "execution_count": 9,
   "id": "3e873cb1",
   "metadata": {},
   "outputs": [
    {
     "data": {
      "text/plain": [
       "1.4207072653916401e-05"
      ]
     },
     "execution_count": 9,
     "metadata": {},
     "output_type": "execute_result"
    }
   ],
   "source": [
    "l3 = norm.pdf(163025 , loc = 146148.34 , scale = 18628.83 )\n",
    "l3"
   ]
  },
  {
   "cell_type": "code",
   "execution_count": 10,
   "id": "5c881856",
   "metadata": {},
   "outputs": [
    {
     "data": {
      "text/plain": [
       "0.20519521745002928"
      ]
     },
     "execution_count": 10,
     "metadata": {},
     "output_type": "execute_result"
    }
   ],
   "source": [
    "l1 / (l1 + l2 + l3)"
   ]
  },
  {
   "cell_type": "code",
   "execution_count": 5,
   "id": "598cb0f0",
   "metadata": {},
   "outputs": [
    {
     "data": {
      "text/plain": [
       "0.015612696668338064"
      ]
     },
     "execution_count": 5,
     "metadata": {},
     "output_type": "execute_result"
    }
   ],
   "source": [
    "norm.pdf(124 , loc = 110 , scale = 20 )"
   ]
  },
  {
   "cell_type": "code",
   "execution_count": 6,
   "id": "5e0210ed",
   "metadata": {},
   "outputs": [
    {
     "data": {
      "text/plain": [
       "0.003947507915044708"
      ]
     },
     "execution_count": 6,
     "metadata": {},
     "output_type": "execute_result"
    }
   ],
   "source": [
    "norm.pdf(124 , loc = 160 , scale = 20 )"
   ]
  },
  {
   "cell_type": "markdown",
   "id": "72906982",
   "metadata": {},
   "source": [
    "### Calculate Normal distributition manually"
   ]
  },
  {
   "cell_type": "code",
   "execution_count": 3,
   "id": "3129a285",
   "metadata": {},
   "outputs": [],
   "source": [
    "X = np.array([[157434, 261952, 144657, 118777, 147511, 163025, 120131, 162745, 155569]]).T"
   ]
  },
  {
   "cell_type": "code",
   "execution_count": 4,
   "id": "616d0893",
   "metadata": {},
   "outputs": [
    {
     "data": {
      "text/plain": [
       "array([[157434],\n",
       "       [261952],\n",
       "       [144657],\n",
       "       [118777],\n",
       "       [147511],\n",
       "       [163025],\n",
       "       [120131],\n",
       "       [162745],\n",
       "       [155569]])"
      ]
     },
     "execution_count": 4,
     "metadata": {},
     "output_type": "execute_result"
    }
   ],
   "source": [
    "X"
   ]
  },
  {
   "cell_type": "code",
   "execution_count": 5,
   "id": "8a1fb497",
   "metadata": {},
   "outputs": [],
   "source": [
    "X_mean = X.mean()"
   ]
  },
  {
   "cell_type": "code",
   "execution_count": 6,
   "id": "107e67e5",
   "metadata": {},
   "outputs": [],
   "source": [
    "means = [188014.34, 143104.34, 146148.34] \n",
    "stds = [52541.39, 18330.95, 18628.83]"
   ]
  },
  {
   "cell_type": "code",
   "execution_count": 7,
   "id": "e82914fc",
   "metadata": {},
   "outputs": [],
   "source": [
    "# Q1\n",
    "# xi = 162745\n",
    "# xi = 163025\n",
    "\n",
    "# Q2\n",
    "# xi = 144657"
   ]
  },
  {
   "cell_type": "code",
   "execution_count": 8,
   "id": "30e10e52",
   "metadata": {},
   "outputs": [],
   "source": [
    "def normal_distribution(x, mean, std):\n",
    "    exp = np.exp(-0.5 * ((x - mean) / std) ** 2)\n",
    "    \n",
    "    # fd = std * np.sqrt(2 * np.pi)\n",
    "    fd = np.sqrt(2 * np.pi * (std ** 2))\n",
    "    \n",
    "    return 1 / fd * exp"
   ]
  },
  {
   "cell_type": "code",
   "execution_count": 9,
   "id": "86b24198",
   "metadata": {},
   "outputs": [],
   "source": [
    "def calculate_weights(X, means, stds):\n",
    "    z_weights = []\n",
    "\n",
    "    for i in range(len(X)):\n",
    "        lik1 = normal_distribution(X[i, 0], means[0], stds[0])\n",
    "        lik2 = normal_distribution(X[i, 0], means[1], stds[1])\n",
    "        lik3 = normal_distribution(X[i, 0], means[2], stds[2])\n",
    "\n",
    "        z1 = lik1 / (lik1 + lik2 + lik3)\n",
    "        z2 = lik2 / (lik2 + lik1 + lik3)\n",
    "        z3 = lik3 / (lik3 + lik1 + lik2)\n",
    "\n",
    "        z_weights.append([z1, z2, z3])\n",
    "        \n",
    "    return np.column_stack((X, z_weights))"
   ]
  },
  {
   "cell_type": "code",
   "execution_count": 12,
   "id": "fe35968a",
   "metadata": {},
   "outputs": [
    {
     "name": "stdout",
     "output_type": "stream",
     "text": [
      "[[157434.              0.15917887      0.39816723      0.4426539 ]\n",
      " [261952.              0.99999996      0.00000001      0.00000003]\n",
      " [144657.              0.1115294       0.44773064      0.44073996]\n",
      " [118777.              0.1635436       0.46299864      0.37345776]\n",
      " [147511.              0.11717516      0.43918331      0.44364153]\n",
      " [163025.              0.20519522      0.36488879      0.42991599]\n",
      " [120131.              0.15476214      0.46600918      0.37922868]\n",
      " [162745.              0.20236856      0.3667766       0.43085483]\n",
      " [155569.              0.14802369      0.40742719      0.44454912]]\n"
     ]
    }
   ],
   "source": [
    "print(calculate_weights(X, means, stds))"
   ]
  },
  {
   "cell_type": "code",
   "execution_count": 13,
   "id": "52f8be1f",
   "metadata": {},
   "outputs": [
    {
     "name": "stdout",
     "output_type": "stream",
     "text": [
      "[[157434.              0.15917887      0.39816723      0.4426539 ]\n",
      " [261952.              0.99999996      0.00000001      0.00000003]\n",
      " [144657.              0.1115294       0.44773064      0.44073996]\n",
      " [118777.              0.1635436       0.46299864      0.37345776]\n",
      " [147511.              0.11717516      0.43918331      0.44364153]\n",
      " [163025.              0.20519522      0.36488879      0.42991599]\n",
      " [120131.              0.15476214      0.46600918      0.37922868]\n",
      " [162745.              0.20236856      0.3667766       0.43085483]\n",
      " [155569.              0.14802369      0.40742719      0.44454912]]\n",
      "\n",
      "m1 = 198013.17153968776,     m2 = 144869.1700679799,     m3 = 147167.10635826318\n",
      "s1 = 70144.6045085761,     m2 = 22037.617566611494,     m3 = 19991.486606998482\n",
      "-------------------------------------------------------\n",
      "[[157434.              0.04265792      0.43217432      0.52516776]\n",
      " [261952.              0.04265792      0.43217432      0.52516776]\n",
      " [144657.              0.04265792      0.43217432      0.52516776]\n",
      " [118777.              0.04265792      0.43217432      0.52516776]\n",
      " [147511.              0.04265792      0.43217432      0.52516776]\n",
      " [163025.              0.04265792      0.43217432      0.52516776]\n",
      " [120131.              0.04265792      0.43217432      0.52516776]\n",
      " [162745.              0.04265792      0.43217432      0.52516776]\n",
      " [155569.              0.04265792      0.43217432      0.52516776]]\n",
      "\n",
      "m1 = 159089.00037546895,     m2 = 159089.00005468947,     m3 = 159088.99992449628\n",
      "s1 = 39595.03440667372,     m2 = 39595.03404402853,     m3 = 39595.03389025736\n",
      "-------------------------------------------------------\n",
      "[[157434.              0.33333333      0.33333333      0.33333334]\n",
      " [261952.              0.33333333      0.33333333      0.33333334]\n",
      " [144657.              0.33333333      0.33333333      0.33333334]\n",
      " [118777.              0.33333333      0.33333333      0.33333334]\n",
      " [147511.              0.33333333      0.33333333      0.33333334]\n",
      " [163025.              0.33333333      0.33333333      0.33333334]\n",
      " [120131.              0.33333333      0.33333333      0.33333334]\n",
      " [162745.              0.33333333      0.33333333      0.33333334]\n",
      " [155569.              0.33333333      0.33333333      0.33333334]]\n",
      "\n",
      "m1 = 159089.0,     m2 = 159089.0,     m3 = 159088.99999999997\n",
      "s1 = 39595.033978742555,     m2 = 39595.03397874256,     m3 = 39595.033978742555\n",
      "-------------------------------------------------------\n",
      "[[157434.              0.33333333      0.33333333      0.33333333]\n",
      " [261952.              0.33333333      0.33333333      0.33333333]\n",
      " [144657.              0.33333333      0.33333333      0.33333333]\n",
      " [118777.              0.33333333      0.33333333      0.33333333]\n",
      " [147511.              0.33333333      0.33333333      0.33333333]\n",
      " [163025.              0.33333333      0.33333333      0.33333333]\n",
      " [120131.              0.33333333      0.33333333      0.33333333]\n",
      " [162745.              0.33333333      0.33333333      0.33333333]\n",
      " [155569.              0.33333333      0.33333333      0.33333333]]\n",
      "\n",
      "m1 = 159089.0,     m2 = 159089.0,     m3 = 159089.0\n",
      "s1 = 39595.03397874256,     m2 = 39595.033978742555,     m3 = 39595.033978742555\n",
      "-------------------------------------------------------\n",
      "[[157434.              0.33333333      0.33333333      0.33333333]\n",
      " [261952.              0.33333333      0.33333333      0.33333333]\n",
      " [144657.              0.33333333      0.33333333      0.33333333]\n",
      " [118777.              0.33333333      0.33333333      0.33333333]\n",
      " [147511.              0.33333333      0.33333333      0.33333333]\n",
      " [163025.              0.33333333      0.33333333      0.33333333]\n",
      " [120131.              0.33333333      0.33333333      0.33333333]\n",
      " [162745.              0.33333333      0.33333333      0.33333333]\n",
      " [155569.              0.33333333      0.33333333      0.33333333]]\n",
      "\n",
      "m1 = 159088.99999999997,     m2 = 159088.99999999997,     m3 = 159088.99999999997\n",
      "s1 = 39595.033978742555,     m2 = 39595.033978742555,     m3 = 39595.033978742555\n",
      "-------------------------------------------------------\n",
      "EM convereged at iteration # 4\n"
     ]
    }
   ],
   "source": [
    "means = [188014.34, 143104.34, 146148.34] \n",
    "stds = [52541.39, 18330.95, 18628.83]\n",
    "\n",
    "for i in range(10):\n",
    "    X = calculate_weights(X, means, stds)\n",
    "    \n",
    "#     d = [item[0] for item in data]\n",
    "#     z1 = [item[1] for item in data]\n",
    "#     z2 = [item[2] for item in data]\n",
    "#     z3 = [item[3] for item in data]\n",
    "    \n",
    "    new_mean1 = (np.sum(X[: , 0] * X[: , 1])) / np.sum(X[: , 1])\n",
    "    new_mean2 = (np.sum(X[: , 0] * X[: , 2])) / np.sum(X[: , 2])\n",
    "    new_mean3 = (np.sum(X[: , 0] * X[: , 3])) / np.sum(X[: , 3])\n",
    "\n",
    "    new_std1 = np.sum((X[: , 1] * ((X[: , 0] - X_mean) ** 2))) / np.sum(X[: , 1])\n",
    "    new_std2 = np.sum((X[: , 2] * ((X[: , 0] - X_mean) ** 2))) / np.sum(X[: , 2])\n",
    "    new_std3 = np.sum((X[: , 3] * ((X[: , 0] - X_mean) ** 2))) / np.sum(X[: , 3])\n",
    "    \n",
    "    means[0] = new_mean1\n",
    "    means[1] = new_mean2\n",
    "    means[2] = new_mean3\n",
    "\n",
    "    stds[0] = new_std1\n",
    "    stds[1] = new_std2\n",
    "    stds[2] = new_std3\n",
    "    \n",
    "    print(X)\n",
    "    print(\"\")\n",
    "    print(f\"m1 = {means[0]},     m2 = {means[1]},     m3 = {means[2]}\")\n",
    "    print(f\"s1 = {np.sqrt(stds[0])},     m2 = {np.sqrt(stds[1])},     m3 = {np.sqrt(stds[2])}\")\n",
    "    print(\"-------------------------------------------------------\")\n",
    "    \n",
    "    if new_mean1 == new_mean2 and new_mean1 == new_mean3 and new_mean2 == new_mean3 and new_std1 == new_std2 and new_std1 == new_std3 and new_std2 == new_std3:\n",
    "        print(\"EM convereged at iteration #\", i)\n",
    "        break\n",
    "        \n",
    "    X = np.delete( X , 1 , 1 )\n",
    "    X = np.delete( X , 1 , 1 )\n",
    "    X = np.delete( X , 1 , 1 )\n",
    "else:\n",
    "    print(\"All iterations completed\")"
   ]
  },
  {
   "cell_type": "code",
   "execution_count": null,
   "id": "d4ebbf10",
   "metadata": {},
   "outputs": [],
   "source": []
  },
  {
   "cell_type": "code",
   "execution_count": null,
   "id": "43f268ac",
   "metadata": {},
   "outputs": [],
   "source": []
  },
  {
   "cell_type": "markdown",
   "id": "4867f584",
   "metadata": {},
   "source": [
    "### Example from slides"
   ]
  },
  {
   "cell_type": "code",
   "execution_count": 17,
   "id": "5c08f5fa",
   "metadata": {},
   "outputs": [],
   "source": [
    "example_data = np.array([124, 115, 121, 139, 98, 135, 131, 170, 166, 155, 167, 158, 175, 143, 163, 160, 145, 176])"
   ]
  },
  {
   "cell_type": "code",
   "execution_count": 18,
   "id": "d0f429d1",
   "metadata": {},
   "outputs": [],
   "source": [
    "mean1 = 110\n",
    "std1 = 20\n",
    "\n",
    "mean2 = 160\n",
    "std2 = 20\n",
    "\n",
    "z1_weights = []\n",
    "z2_weights = []\n",
    "\n",
    "for d in example_data:\n",
    "    lik1 = normal_distribution(d, mean1, std1)\n",
    "    lik2 = normal_distribution(d, mean2, std2)\n",
    "\n",
    "    z1 = lik1 / (lik1 + lik2)\n",
    "    z2 = lik2 / (lik1 + lik2)\n",
    "\n",
    "    z1_weights.append(z1)\n",
    "    z2_weights.append(z2)"
   ]
  },
  {
   "cell_type": "code",
   "execution_count": 23,
   "id": "ba0bc8e5",
   "metadata": {},
   "outputs": [],
   "source": [
    "new_mean1 = sum(example_data * z1_weights) / sum(z1_weights)\n",
    "new_mean2 = sum(example_data * z2_weights) / sum(z2_weights)\n",
    "\n",
    "new_std1 = np.sqrt(np.sum(z1_weights * (example_data - new_mean1) ** 2) / np.sum(z1_weights))\n",
    "new_std2 = np.sqrt(np.sum(z2_weights * (example_data - new_mean2) ** 2) / np.sum(z2_weights))"
   ]
  },
  {
   "cell_type": "code",
   "execution_count": 24,
   "id": "6c07ba88",
   "metadata": {},
   "outputs": [
    {
     "name": "stdout",
     "output_type": "stream",
     "text": [
      "123.71818737103645\n",
      "157.71494020291954\n",
      "\n",
      "15.97500353136857\n",
      "14.611975229184742\n"
     ]
    }
   ],
   "source": [
    "print(new_mean1)\n",
    "print(new_mean2)\n",
    "print(\"\")\n",
    "print(new_std1)\n",
    "print(new_std2)"
   ]
  },
  {
   "cell_type": "code",
   "execution_count": null,
   "id": "a4fac4ca",
   "metadata": {},
   "outputs": [],
   "source": []
  },
  {
   "cell_type": "code",
   "execution_count": null,
   "id": "0a9738e1",
   "metadata": {},
   "outputs": [],
   "source": []
  },
  {
   "cell_type": "code",
   "execution_count": 18,
   "id": "5362f5d2",
   "metadata": {},
   "outputs": [
    {
     "name": "stdout",
     "output_type": "stream",
     "text": [
      "[[157434.              0.15917887      0.39816723      0.4426539 ]\n",
      " [261952.              0.99999996      0.00000001      0.00000003]\n",
      " [144657.              0.1115294       0.44773064      0.44073996]\n",
      " [118777.              0.1635436       0.46299864      0.37345776]\n",
      " [147511.              0.11717516      0.43918331      0.44364153]\n",
      " [163025.              0.20519522      0.36488879      0.42991599]\n",
      " [120131.              0.15476214      0.46600918      0.37922868]\n",
      " [162745.              0.20236856      0.3667766       0.43085483]\n",
      " [155569.              0.14802369      0.40742719      0.44454912]]\n",
      "Mean1: 198013.17153968776 , Mean2: 144869.17006797993 , Mean3: 147167.10635826318\n",
      "StdDev1: 58353.87229322074 , StdDev2: 16836.063219073785 , StdDev3: 16047.67860947229\n",
      "\n",
      "[[157434.              0.03811596      0.45789419      0.50398985]\n",
      " [261952.              0.03811596      0.45789419      0.50398985]\n",
      " [144657.              0.03811596      0.45789419      0.50398985]\n",
      " [118777.              0.03811596      0.45789419      0.50398985]\n",
      " [147511.              0.03811596      0.45789419      0.50398985]\n",
      " [163025.              0.03811596      0.45789419      0.50398985]\n",
      " [120131.              0.03811596      0.45789419      0.50398985]\n",
      " [162745.              0.03811596      0.45789419      0.50398985]\n",
      " [155569.              0.03811596      0.45789419      0.50398985]]\n",
      "Mean1: 159089.00097841216 , Mean2: 159089.00003700383 , Mean3: 159088.99989238486\n",
      "StdDev1: 39595.035093363826 , StdDev2: 39595.03402828849 , StdDev3: 39595.03384943111\n",
      "\n",
      "[[157434.              0.33333332      0.33333334      0.33333334]\n",
      " [261952.              0.33333332      0.33333334      0.33333334]\n",
      " [144657.              0.33333332      0.33333334      0.33333334]\n",
      " [118777.              0.33333332      0.33333334      0.33333334]\n",
      " [147511.              0.33333332      0.33333334      0.33333334]\n",
      " [163025.              0.33333332      0.33333334      0.33333334]\n",
      " [120131.              0.33333332      0.33333334      0.33333334]\n",
      " [162745.              0.33333332      0.33333334      0.33333334]\n",
      " [155569.              0.33333332      0.33333334      0.33333334]]\n",
      "Mean1: 159089.00000000003 , Mean2: 159089.0 , Mean3: 159089.0\n",
      "StdDev1: 39595.03397874256 , StdDev2: 39595.033978742555 , StdDev3: 39595.03397874256\n",
      "\n",
      "[[157434.              0.33333333      0.33333333      0.33333333]\n",
      " [261952.              0.33333333      0.33333333      0.33333333]\n",
      " [144657.              0.33333333      0.33333333      0.33333333]\n",
      " [118777.              0.33333333      0.33333333      0.33333333]\n",
      " [147511.              0.33333333      0.33333333      0.33333333]\n",
      " [163025.              0.33333333      0.33333333      0.33333333]\n",
      " [120131.              0.33333333      0.33333333      0.33333333]\n",
      " [162745.              0.33333333      0.33333333      0.33333333]\n",
      " [155569.              0.33333333      0.33333333      0.33333333]]\n",
      "Mean1: 159089.00000000003 , Mean2: 159089.00000000003 , Mean3: 159088.99999999997\n",
      "StdDev1: 39595.03397874256 , StdDev2: 39595.03397874256 , StdDev3: 39595.033978742555\n",
      "\n",
      "[[157434.              0.33333333      0.33333333      0.33333333]\n",
      " [261952.              0.33333333      0.33333333      0.33333333]\n",
      " [144657.              0.33333333      0.33333333      0.33333333]\n",
      " [118777.              0.33333333      0.33333333      0.33333333]\n",
      " [147511.              0.33333333      0.33333333      0.33333333]\n",
      " [163025.              0.33333333      0.33333333      0.33333333]\n",
      " [120131.              0.33333333      0.33333333      0.33333333]\n",
      " [162745.              0.33333333      0.33333333      0.33333333]\n",
      " [155569.              0.33333333      0.33333333      0.33333333]]\n",
      "Mean1: 159089.00000000003 , Mean2: 159089.00000000003 , Mean3: 159089.0\n",
      "StdDev1: 39595.03397874256 , StdDev2: 39595.03397874256 , StdDev3: 39595.033978742555\n",
      "\n",
      "[[157434.              0.33333333      0.33333333      0.33333333]\n",
      " [261952.              0.33333333      0.33333333      0.33333333]\n",
      " [144657.              0.33333333      0.33333333      0.33333333]\n",
      " [118777.              0.33333333      0.33333333      0.33333333]\n",
      " [147511.              0.33333333      0.33333333      0.33333333]\n",
      " [163025.              0.33333333      0.33333333      0.33333333]\n",
      " [120131.              0.33333333      0.33333333      0.33333333]\n",
      " [162745.              0.33333333      0.33333333      0.33333333]\n",
      " [155569.              0.33333333      0.33333333      0.33333333]]\n",
      "Mean1: 159089.0 , Mean2: 159089.0 , Mean3: 159089.0\n",
      "StdDev1: 39595.03397874256 , StdDev2: 39595.03397874256 , StdDev3: 39595.03397874256\n",
      "\n",
      "Convergence at iteration: 5\n"
     ]
    },
    {
     "data": {
      "text/plain": [
       "\"\\nval1 = applyNormalDistribution( x[0] , mean1 , stdDev1 )\\nval2 = applyNormalDistribution( x[0] , mean2 , stdDev2 )\\n\\nprint( '{:.5f} , {:.5f}'.format( val1 , val2 ) )\\np1 = (val1)/(val1 + val2)\\np2 = (val2)/(val2 + val1)\\nprint('{:.4f} {:.4f}'.format( p1 , p2 ) )\\n\""
      ]
     },
     "execution_count": 18,
     "metadata": {},
     "output_type": "execute_result"
    }
   ],
   "source": [
    "import numpy as np\n",
    "# from sklearn.mixture import GaussianMixture\n",
    "import math\n",
    "\n",
    "np.set_printoptions(suppress=True)\n",
    "\n",
    "def applyNormalDistribution(val , mean , stdDev):\n",
    "    return (1 / (stdDev*np.sqrt(2.*math.pi)) ) * np.exp( -0.5 * ((val - mean) / stdDev) ** 2. )\n",
    "    \n",
    "x = np.array([[157434 , 261952 , 144657 , 118777 , 147511 , 163025 , 120131 , 162745 , 155569]]).T\n",
    "\n",
    "mean1 , stdDev1 = 188014.34 , 52541.39\n",
    "mean2 , stdDev2 = 143104.34 , 18330.95\n",
    "mean3 , stdDev3 = 146148.34 , 18628.83\n",
    "\n",
    "for i in range(10):\n",
    "    weights = []\n",
    "    for j in range( len(x) ):\n",
    "        distValue1 = applyNormalDistribution( x[j , 0] , mean1 , stdDev1 )\n",
    "        distValue2 = applyNormalDistribution( x[j , 0] , mean2 , stdDev2 )\n",
    "        distValue3 = applyNormalDistribution( x[j , 0] , mean3 , stdDev3 )\n",
    "        weights.append( [distValue1/(distValue1 + distValue2 + distValue3) , distValue2/(distValue2 + distValue1 + distValue3) , distValue3/(distValue3 + distValue1 + distValue2)] )\n",
    "    x = np.column_stack( (x , weights) ) \n",
    "    print(x)\n",
    "    mean1 = ( np.sum(x[: , 0] * x[: , 1]) ) / np.sum( x[: , 1] )\n",
    "    mean2 = ( np.sum(x[: , 0] * x[: , 2]) ) / np.sum( x[: , 2] )\n",
    "    mean3 = ( np.sum(x[: , 0] * x[: , 3]) ) / np.sum( x[: , 3] )\n",
    "    stdDev1 = np.sum((x[: , 1] * (( x[: , 0] - mean1 )**2) ) ) / np.sum( x[: , 1] ) \n",
    "    stdDev2 = np.sum(( x[: , 2] * (( x[: , 0] - mean2 )**2) ) ) / np.sum( x[: , 2] ) \n",
    "    stdDev3 = np.sum(( x[: , 3] * (( x[: , 0] - mean3 )**2) ) ) / np.sum( x[: , 3] ) \n",
    "    \n",
    "    print('Mean1: {} , Mean2: {} , Mean3: {}'.format(mean1 , mean2 , mean3))\n",
    "    print('StdDev1: {} , StdDev2: {} , StdDev3: {}\\n'.format(np.sqrt(stdDev1) , np.sqrt(stdDev2) , np.sqrt(stdDev3)))\n",
    "    if mean1 == mean2 and mean1 == mean3 and mean2 == mean3 and stdDev1 == stdDev2 and stdDev1 == stdDev3 and stdDev2 == stdDev3:\n",
    "        print('Convergence at iteration: {}'.format(i))\n",
    "        break\n",
    "    x = np.delete( x , 1 , 1 )\n",
    "    x = np.delete( x , 1 , 1 )\n",
    "    x = np.delete( x , 1 , 1 )\n",
    "    \n",
    "#print( np.column_stack( (x , weights) ) )\n",
    "'''\n",
    "val1 = applyNormalDistribution( x[0] , mean1 , stdDev1 )\n",
    "val2 = applyNormalDistribution( x[0] , mean2 , stdDev2 )\n",
    "\n",
    "print( '{:.5f} , {:.5f}'.format( val1 , val2 ) )\n",
    "p1 = (val1)/(val1 + val2)\n",
    "p2 = (val2)/(val2 + val1)\n",
    "print('{:.4f} {:.4f}'.format( p1 , p2 ) )\n",
    "'''  "
   ]
  },
  {
   "cell_type": "code",
   "execution_count": null,
   "id": "f875bad0",
   "metadata": {},
   "outputs": [],
   "source": []
  }
 ],
 "metadata": {
  "kernelspec": {
   "display_name": "Python 3 (ipykernel)",
   "language": "python",
   "name": "python3"
  },
  "language_info": {
   "codemirror_mode": {
    "name": "ipython",
    "version": 3
   },
   "file_extension": ".py",
   "mimetype": "text/x-python",
   "name": "python",
   "nbconvert_exporter": "python",
   "pygments_lexer": "ipython3",
   "version": "3.9.5"
  }
 },
 "nbformat": 4,
 "nbformat_minor": 5
}
