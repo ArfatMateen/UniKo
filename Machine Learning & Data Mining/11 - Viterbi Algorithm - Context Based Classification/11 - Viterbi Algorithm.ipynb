{
 "cells": [
  {
   "cell_type": "code",
   "execution_count": 1,
   "id": "8a732b5d",
   "metadata": {},
   "outputs": [],
   "source": [
    "import numpy as np"
   ]
  },
  {
   "cell_type": "code",
   "execution_count": 2,
   "id": "07b2aebe",
   "metadata": {},
   "outputs": [],
   "source": [
    "def viterbi_algorithm(i_probs, t_probs, e_probs, obs_seq):\n",
    "    \"\"\"\n",
    "    Args:\n",
    "        i_probs    (np.ndarray): Initial state distribution of dimension I\n",
    "        t_probs    (np.ndarray): State transition probability matrix of dimension I x I\n",
    "        e_probs    (np.ndarray): Output probability matrix of dimension I x K\n",
    "        obs_seq    (np.ndarray): Observation sequence of length N\n",
    "\n",
    "    Returns:\n",
    "        opt_states     (np.ndarray): Optimal state sequence of length N\n",
    "        state_probs    (np.ndarray): Accumulated probability matrix\n",
    "    \"\"\"\n",
    "    \n",
    "    I = t_probs.shape[0]       # Number of states\n",
    "    N = len(obs_seq)           # Length of observation sequence\n",
    "\n",
    "    # Initialize state_probs and state_seq matrices\n",
    "    state_probs = np.zeros((I, N))\n",
    "    state_seq = np.zeros((I, N-1)).astype(np.int32)\n",
    "    \n",
    "    state_probs[:, 0] = np.multiply(i_probs, e_probs[:, obs_seq[0]])\n",
    "\n",
    "    # Compute state_probs and state_seq in a nested loop\n",
    "    for i in range(1, N):\n",
    "        for j in range(I):\n",
    "            temp = np.multiply(t_probs[:, j], state_probs[:, i-1])\n",
    "            state_probs[j, i] = np.max(temp) * e_probs[j, obs_seq[i]]\n",
    "            state_seq[j, i-1] = np.argmax(temp)\n",
    "\n",
    "    \n",
    "    opt_states = np.zeros(N).astype(np.int32)\n",
    "    opt_states[-1] = np.argmax(state_probs[:, -1])\n",
    "    for n in range(N-2, -1, -1):\n",
    "        opt_states[n] = state_seq[int(opt_states[n+1]), n]\n",
    "\n",
    "    return opt_states, state_probs"
   ]
  },
  {
   "cell_type": "code",
   "execution_count": 3,
   "id": "6b632f57",
   "metadata": {},
   "outputs": [],
   "source": [
    "# Practice Question\n",
    "# states = {0: \"Rain\", 1: \"Dry\"}\n",
    "# observations = {0: \"Low\", 1: \"High\"}\n",
    "\n",
    "# i_probs = np.array([0.6, 0.4])\n",
    "\n",
    "# t_probs = np.array([[0.7, 0.3], \n",
    "#                     [0.2, 0.8]])\n",
    "\n",
    "# e_probs = np.array([[0.6, 0.4], \n",
    "#                     [0.3, 0.7]])\n",
    "\n",
    "# obs_seq = np.array([0, 1]).astype(np.int32)\n",
    "\n",
    "# =========================================\n",
    "\n",
    "states = {0: \"Happy\", 1: \"Sad\"}\n",
    "observations = {0: \"sunny\", 1: \"rainy\"}\n",
    "\n",
    "i_probs = np.array([0.1, 0.9])\n",
    "\n",
    "t_probs = np.array([[0.7, 0.3], \n",
    "                    [0.4, 0.6]])\n",
    "\n",
    "e_probs = np.array([[0.8, 0.2], \n",
    "                    [0.4, 0.6]])\n",
    "\n",
    "obs_seq = np.array([0, 1]).astype(np.int32)"
   ]
  },
  {
   "cell_type": "code",
   "execution_count": 4,
   "id": "c7a522cf",
   "metadata": {},
   "outputs": [],
   "source": [
    "# Apply Viterbi algorithm\n",
    "opt_states, state_probs = viterbi_algorithm(i_probs, t_probs, e_probs, obs_seq)"
   ]
  },
  {
   "cell_type": "code",
   "execution_count": 5,
   "id": "00a926d2",
   "metadata": {},
   "outputs": [
    {
     "name": "stdout",
     "output_type": "stream",
     "text": [
      "Observation sequence:   obs_seq =  [0 1]\n",
      "Observation 0: sunny\n",
      "Observation 1: rainy\n",
      "\n",
      "Optimal state sequence: opt_seq =  [1 1]\n",
      "State 0: Sad\n",
      "State 1: Sad\n",
      "\n",
      "state_probs =\n",
      "[[0.08   0.0288]\n",
      " [0.36   0.1296]]\n"
     ]
    }
   ],
   "source": [
    "print('Observation sequence:   obs_seq = ', obs_seq)\n",
    "for i, o in enumerate(obs_seq):\n",
    "    print(f\"Observation {i}: {observations[o]}\")\n",
    "\n",
    "print(\"\")\n",
    "print('Optimal state sequence: opt_seq = ', opt_states)\n",
    "\n",
    "for i, s in enumerate(opt_states):\n",
    "    print(f\"State {i}: {states[s]}\")\n",
    "\n",
    "print(\"\")\n",
    "print('state_probs =', state_probs, sep='\\n')"
   ]
  },
  {
   "cell_type": "code",
   "execution_count": null,
   "id": "37ff2b24",
   "metadata": {},
   "outputs": [],
   "source": []
  }
 ],
 "metadata": {
  "kernelspec": {
   "display_name": "Python 3 (ipykernel)",
   "language": "python",
   "name": "python3"
  },
  "language_info": {
   "codemirror_mode": {
    "name": "ipython",
    "version": 3
   },
   "file_extension": ".py",
   "mimetype": "text/x-python",
   "name": "python",
   "nbconvert_exporter": "python",
   "pygments_lexer": "ipython3",
   "version": "3.9.5"
  }
 },
 "nbformat": 4,
 "nbformat_minor": 5
}
