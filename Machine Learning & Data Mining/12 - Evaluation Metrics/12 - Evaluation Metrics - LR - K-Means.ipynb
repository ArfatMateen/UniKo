{
 "cells": [
  {
   "cell_type": "code",
   "execution_count": 1,
   "id": "dfea8429",
   "metadata": {},
   "outputs": [],
   "source": [
    "import numpy as np"
   ]
  },
  {
   "cell_type": "markdown",
   "id": "c94506a3",
   "metadata": {},
   "source": [
    "### Evaluation Metrics"
   ]
  },
  {
   "cell_type": "code",
   "execution_count": 2,
   "id": "d4a87bd0",
   "metadata": {},
   "outputs": [],
   "source": [
    "true_A = [0] * 60\n",
    "pred_A = ([0] * 46) + ([1] * 12) + ([2] * 2)\n",
    "\n",
    "true_B = [1] * 70\n",
    "pred_B = ([0] * 9) + ([1] * 61)\n",
    "\n",
    "true_C = [2] * 30\n",
    "pred_C = ([0] * 2) + ([1] * 3) + ([2] * 25)"
   ]
  },
  {
   "cell_type": "code",
   "execution_count": 3,
   "id": "c0b452b7",
   "metadata": {},
   "outputs": [],
   "source": [
    "true_Y = true_A + true_B + true_C\n",
    "pred_Y = pred_A + pred_B + pred_C"
   ]
  },
  {
   "cell_type": "code",
   "execution_count": 4,
   "id": "e31b2f27",
   "metadata": {},
   "outputs": [],
   "source": [
    "matrix = np.stack((pred_Y, true_Y), axis=1)"
   ]
  },
  {
   "cell_type": "code",
   "execution_count": 5,
   "id": "3d32f7eb",
   "metadata": {
    "collapsed": true
   },
   "outputs": [
    {
     "data": {
      "text/plain": [
       "array([[0, 0],\n",
       "       [0, 0],\n",
       "       [0, 0],\n",
       "       [0, 0],\n",
       "       [0, 0],\n",
       "       [0, 0],\n",
       "       [0, 0],\n",
       "       [0, 0],\n",
       "       [0, 0],\n",
       "       [0, 0],\n",
       "       [0, 0],\n",
       "       [0, 0],\n",
       "       [0, 0],\n",
       "       [0, 0],\n",
       "       [0, 0],\n",
       "       [0, 0],\n",
       "       [0, 0],\n",
       "       [0, 0],\n",
       "       [0, 0],\n",
       "       [0, 0],\n",
       "       [0, 0],\n",
       "       [0, 0],\n",
       "       [0, 0],\n",
       "       [0, 0],\n",
       "       [0, 0],\n",
       "       [0, 0],\n",
       "       [0, 0],\n",
       "       [0, 0],\n",
       "       [0, 0],\n",
       "       [0, 0],\n",
       "       [0, 0],\n",
       "       [0, 0],\n",
       "       [0, 0],\n",
       "       [0, 0],\n",
       "       [0, 0],\n",
       "       [0, 0],\n",
       "       [0, 0],\n",
       "       [0, 0],\n",
       "       [0, 0],\n",
       "       [0, 0],\n",
       "       [0, 0],\n",
       "       [0, 0],\n",
       "       [0, 0],\n",
       "       [0, 0],\n",
       "       [0, 0],\n",
       "       [0, 0],\n",
       "       [1, 0],\n",
       "       [1, 0],\n",
       "       [1, 0],\n",
       "       [1, 0],\n",
       "       [1, 0],\n",
       "       [1, 0],\n",
       "       [1, 0],\n",
       "       [1, 0],\n",
       "       [1, 0],\n",
       "       [1, 0],\n",
       "       [1, 0],\n",
       "       [1, 0],\n",
       "       [2, 0],\n",
       "       [2, 0],\n",
       "       [0, 1],\n",
       "       [0, 1],\n",
       "       [0, 1],\n",
       "       [0, 1],\n",
       "       [0, 1],\n",
       "       [0, 1],\n",
       "       [0, 1],\n",
       "       [0, 1],\n",
       "       [0, 1],\n",
       "       [1, 1],\n",
       "       [1, 1],\n",
       "       [1, 1],\n",
       "       [1, 1],\n",
       "       [1, 1],\n",
       "       [1, 1],\n",
       "       [1, 1],\n",
       "       [1, 1],\n",
       "       [1, 1],\n",
       "       [1, 1],\n",
       "       [1, 1],\n",
       "       [1, 1],\n",
       "       [1, 1],\n",
       "       [1, 1],\n",
       "       [1, 1],\n",
       "       [1, 1],\n",
       "       [1, 1],\n",
       "       [1, 1],\n",
       "       [1, 1],\n",
       "       [1, 1],\n",
       "       [1, 1],\n",
       "       [1, 1],\n",
       "       [1, 1],\n",
       "       [1, 1],\n",
       "       [1, 1],\n",
       "       [1, 1],\n",
       "       [1, 1],\n",
       "       [1, 1],\n",
       "       [1, 1],\n",
       "       [1, 1],\n",
       "       [1, 1],\n",
       "       [1, 1],\n",
       "       [1, 1],\n",
       "       [1, 1],\n",
       "       [1, 1],\n",
       "       [1, 1],\n",
       "       [1, 1],\n",
       "       [1, 1],\n",
       "       [1, 1],\n",
       "       [1, 1],\n",
       "       [1, 1],\n",
       "       [1, 1],\n",
       "       [1, 1],\n",
       "       [1, 1],\n",
       "       [1, 1],\n",
       "       [1, 1],\n",
       "       [1, 1],\n",
       "       [1, 1],\n",
       "       [1, 1],\n",
       "       [1, 1],\n",
       "       [1, 1],\n",
       "       [1, 1],\n",
       "       [1, 1],\n",
       "       [1, 1],\n",
       "       [1, 1],\n",
       "       [1, 1],\n",
       "       [1, 1],\n",
       "       [1, 1],\n",
       "       [1, 1],\n",
       "       [1, 1],\n",
       "       [1, 1],\n",
       "       [0, 2],\n",
       "       [0, 2],\n",
       "       [1, 2],\n",
       "       [1, 2],\n",
       "       [1, 2],\n",
       "       [2, 2],\n",
       "       [2, 2],\n",
       "       [2, 2],\n",
       "       [2, 2],\n",
       "       [2, 2],\n",
       "       [2, 2],\n",
       "       [2, 2],\n",
       "       [2, 2],\n",
       "       [2, 2],\n",
       "       [2, 2],\n",
       "       [2, 2],\n",
       "       [2, 2],\n",
       "       [2, 2],\n",
       "       [2, 2],\n",
       "       [2, 2],\n",
       "       [2, 2],\n",
       "       [2, 2],\n",
       "       [2, 2],\n",
       "       [2, 2],\n",
       "       [2, 2],\n",
       "       [2, 2],\n",
       "       [2, 2],\n",
       "       [2, 2],\n",
       "       [2, 2],\n",
       "       [2, 2]])"
      ]
     },
     "execution_count": 5,
     "metadata": {},
     "output_type": "execute_result"
    }
   ],
   "source": [
    "matrix"
   ]
  },
  {
   "cell_type": "code",
   "execution_count": 6,
   "id": "b5a1ec57",
   "metadata": {},
   "outputs": [],
   "source": [
    "def calculate_f1_score(matrix):\n",
    "    \"\"\"\n",
    "        Args:\n",
    "            matrix        (numpy.ndarray): Matrix of dimension N x 2 \n",
    "                                     where First column = Predicted Class\n",
    "                                           Second column = True Class\n",
    "        Returns:\n",
    "            f1_score      (numpy.ndarray): f1_score of each class\n",
    "    \"\"\"\n",
    "    \n",
    "    size = len(set(matrix[:, 0])) \n",
    "    con_mat = np.zeros((size, size))\n",
    "\n",
    "    for i in range(matrix.shape[0]):\n",
    "        con_mat[matrix[i, 1]][matrix[i, 0]] += 1\n",
    "        \n",
    "    print(\"Confussion Matrix:\")\n",
    "    print(con_mat, end=\"\\n\\n\")\n",
    "    \n",
    "    TP = np.diag(con_mat)\n",
    "    print(\"True Positive:  \", TP)\n",
    "    \n",
    "    FP = con_mat.sum(axis=0) - np.diag(con_mat)\n",
    "    print(\"False Positive: \", FP)\n",
    "    \n",
    "    FN = con_mat.sum(axis=1) - np.diag(con_mat)\n",
    "    print(\"False Negative: \", FN)\n",
    "    \n",
    "    TN = con_mat.sum() - (TP + FP + FN)\n",
    "    print(\"True Negative:  \", TN)\n",
    "    \n",
    "    precision = TP / (TP + FP)\n",
    "    print(\"Precision: \", precision)\n",
    "    \n",
    "    recall = TP / (TP + FN)\n",
    "    print(\"Recall: \", recall)\n",
    "    \n",
    "    f1_score = 2 * (precision * recall) / (precision + recall)\n",
    "    return f1_score"
   ]
  },
  {
   "cell_type": "code",
   "execution_count": 7,
   "id": "bf11e6f8",
   "metadata": {},
   "outputs": [
    {
     "name": "stdout",
     "output_type": "stream",
     "text": [
      "Confussion Matrix:\n",
      "[[46. 12.  2.]\n",
      " [ 9. 61.  0.]\n",
      " [ 2.  3. 25.]]\n",
      "\n",
      "True Positive:   [46. 61. 25.]\n",
      "False Positive:  [11. 15.  2.]\n",
      "False Negative:  [14.  9.  5.]\n",
      "True Negative:   [ 89.  75. 128.]\n",
      "Precision:  [0.80701754 0.80263158 0.92592593]\n",
      "Recall:  [0.76666667 0.87142857 0.83333333]\n"
     ]
    },
    {
     "data": {
      "text/plain": [
       "array([0.78632479, 0.83561644, 0.87719298])"
      ]
     },
     "execution_count": 7,
     "metadata": {},
     "output_type": "execute_result"
    }
   ],
   "source": [
    "calculate_f1_score(matrix)"
   ]
  },
  {
   "cell_type": "code",
   "execution_count": null,
   "id": "d176b262",
   "metadata": {},
   "outputs": [],
   "source": []
  },
  {
   "cell_type": "code",
   "execution_count": 8,
   "id": "9935a8cc",
   "metadata": {},
   "outputs": [],
   "source": [
    "def calculate_macro_avg_precision(matrix):\n",
    "    \"\"\"\n",
    "        Args:\n",
    "            matrix        (numpy.ndarray): Matrix of dimension N x 2 \n",
    "                                     where First column = Predicted Class\n",
    "                                           Second column = True Class\n",
    "        Returns:\n",
    "            macro_avg_precision        (numpy.float64):  macro_avg_precision value\n",
    "    \"\"\"\n",
    "    \n",
    "    size = len(set(matrix[:, 0])) \n",
    "    con_mat = np.zeros((size, size))\n",
    "\n",
    "    for i in range(matrix.shape[0]):\n",
    "        con_mat[matrix[i, 1]][matrix[i, 0]] += 1\n",
    "        \n",
    "    print(\"Confussion Matrix:\")\n",
    "    print(con_mat, end=\"\\n\\n\")\n",
    "    \n",
    "    TP = np.diag(con_mat)\n",
    "    print(\"True Positive:  \", TP)\n",
    "    \n",
    "    FP = con_mat.sum(axis=0) - np.diag(con_mat)\n",
    "    print(\"False Positive: \", FP)\n",
    "    \n",
    "    FN = con_mat.sum(axis=1) - np.diag(con_mat)\n",
    "    print(\"False Negative: \", FN)\n",
    "    \n",
    "    TN = con_mat.sum() - (TP + FP + FN)\n",
    "    print(\"True Negative:  \", TN)\n",
    "    \n",
    "    precision = TP / (TP + FP)\n",
    "    print(\"Precision: \", precision)\n",
    "    \n",
    "    macro_avg_precision = precision.sum() / len(precision)\n",
    "    return macro_avg_precision"
   ]
  },
  {
   "cell_type": "code",
   "execution_count": 9,
   "id": "b2a57c6d",
   "metadata": {},
   "outputs": [
    {
     "name": "stdout",
     "output_type": "stream",
     "text": [
      "Confussion Matrix:\n",
      "[[46. 12.  2.]\n",
      " [ 9. 61.  0.]\n",
      " [ 2.  3. 25.]]\n",
      "\n",
      "True Positive:   [46. 61. 25.]\n",
      "False Positive:  [11. 15.  2.]\n",
      "False Negative:  [14.  9.  5.]\n",
      "True Negative:   [ 89.  75. 128.]\n",
      "Precision:  [0.80701754 0.80263158 0.92592593]\n"
     ]
    },
    {
     "data": {
      "text/plain": [
       "0.8451916829109812"
      ]
     },
     "execution_count": 9,
     "metadata": {},
     "output_type": "execute_result"
    }
   ],
   "source": [
    "calculate_macro_avg_precision(matrix)"
   ]
  },
  {
   "cell_type": "code",
   "execution_count": null,
   "id": "aa0fef9d",
   "metadata": {},
   "outputs": [],
   "source": []
  },
  {
   "cell_type": "code",
   "execution_count": 10,
   "id": "9f4efb5c",
   "metadata": {},
   "outputs": [],
   "source": [
    "def calculate_micro_avg_precision(matrix):\n",
    "    \"\"\"\n",
    "        Args:\n",
    "            matrix        (numpy.ndarray): Matrix of dimension N x 2 \n",
    "                                     where First column = Predicted Class\n",
    "                                           Second column = True Class\n",
    "        Returns:\n",
    "            micro_avg_precision        (numpy.float64):  micro_avg_precision value\n",
    "    \"\"\"\n",
    "    \n",
    "    size = len(set(matrix[:, 0])) \n",
    "    con_mat = np.zeros((size, size))\n",
    "\n",
    "    for i in range(matrix.shape[0]):\n",
    "        con_mat[matrix[i, 1]][matrix[i, 0]] += 1\n",
    "        \n",
    "    print(\"Confussion Matrix:\")\n",
    "    print(con_mat, end=\"\\n\\n\")\n",
    "    \n",
    "    TP = np.diag(con_mat)\n",
    "    print(\"True Positive:  \", TP)\n",
    "    \n",
    "    FP = con_mat.sum(axis=0) - np.diag(con_mat)\n",
    "    print(\"False Positive: \", FP)\n",
    "    \n",
    "    FN = con_mat.sum(axis=1) - np.diag(con_mat)\n",
    "    print(\"False Negative: \", FN)\n",
    "    \n",
    "    TN = con_mat.sum() - (TP + FP + FN)\n",
    "    print(\"True Negative:  \", TN)\n",
    "    \n",
    "    micro_avg_precision = TP.sum() / (TP.sum() + FP.sum())\n",
    "    return micro_avg_precision"
   ]
  },
  {
   "cell_type": "code",
   "execution_count": 11,
   "id": "9768918e",
   "metadata": {},
   "outputs": [
    {
     "name": "stdout",
     "output_type": "stream",
     "text": [
      "Confussion Matrix:\n",
      "[[46. 12.  2.]\n",
      " [ 9. 61.  0.]\n",
      " [ 2.  3. 25.]]\n",
      "\n",
      "True Positive:   [46. 61. 25.]\n",
      "False Positive:  [11. 15.  2.]\n",
      "False Negative:  [14.  9.  5.]\n",
      "True Negative:   [ 89.  75. 128.]\n"
     ]
    },
    {
     "data": {
      "text/plain": [
       "0.825"
      ]
     },
     "execution_count": 11,
     "metadata": {},
     "output_type": "execute_result"
    }
   ],
   "source": [
    "calculate_micro_avg_precision(matrix)"
   ]
  },
  {
   "cell_type": "code",
   "execution_count": 75,
   "id": "2e5f0fac",
   "metadata": {},
   "outputs": [],
   "source": [
    "class Evaluation:\n",
    "    def __init__(self, pred_y, true_y):\n",
    "        self.pred_y = pred_y\n",
    "        self.true_y = true_y\n",
    "        self.init_confussion_matrix()\n",
    "        \n",
    "    def init_confussion_matrix(self):\n",
    "        matrix = np.stack((self.pred_y, self.true_y), axis=1)\n",
    "        \n",
    "        self.size = len(set(matrix[:, 0])) \n",
    "        self.con_mat = np.zeros((self.size, self.size))\n",
    "\n",
    "        for i in range(matrix.shape[0]):\n",
    "            self.con_mat[matrix[i, 1]][matrix[i, 0]] += 1\n",
    "            \n",
    "        self.TP = np.diag(self.con_mat)\n",
    "        self.FP = self.con_mat.sum(axis=0) - np.diag(self.con_mat)\n",
    "        self.FN = self.con_mat.sum(axis=1) - np.diag(self.con_mat)\n",
    "        self.TN = self.con_mat.sum() - (self.TP + self.FP + self.FN)\n",
    "        \n",
    "        \n",
    "    def getPrecision(self):\n",
    "        return self.TP / (self.TP + self.FP)\n",
    "    \n",
    "    def getRecall(self):\n",
    "        return self.TP / (self.TP + self.FN)\n",
    "    \n",
    "    def getF1Score(self):\n",
    "        precision = self.getPrecision()\n",
    "        recall = self.getRecall()\n",
    "        return 2 * (precision * recall) / (precision + recall)\n",
    "    \n",
    "    def getMicroAvgPrecision(self):\n",
    "        micro_avg_precision = self.TP.sum() / (self.TP.sum() + self.FP.sum())\n",
    "        return micro_avg_precision\n",
    "    \n",
    "    def getMacroAvgPrecision(self):\n",
    "        precision = self.getPrecision()\n",
    "        macro_avg_precision = precision.sum() / len(precision)\n",
    "        return macro_avg_precision\n",
    "    \n",
    "    def getMicroAvgRecall(self):\n",
    "        micro_avg_recall = self.TP.sum() / (self.TP.sum() + self.FN.sum())\n",
    "        return micro_avg_recall\n",
    "    \n",
    "    def getMacroAvgRecall(self):\n",
    "        recall = self.getRecall()\n",
    "        macro_avg_recall = recall.sum() / len(recall)\n",
    "        return macro_avg_recall\n",
    "    \n",
    "    def getMicroAvgF1Score(self):\n",
    "        micro_avg_precision = self.getMicroAvgPrecision()\n",
    "        micro_avg_recall = self.getMicroAvgRecall()\n",
    "        micro_avg_f1Score = 2 * ((micro_avg_precision * micro_avg_recall) / (micro_avg_precision + micro_avg_recall))\n",
    "        return micro_avg_f1Score\n",
    "    \n",
    "    def getMacroAvgF1Score(self):\n",
    "        f1Score = self.getF1Score()\n",
    "        macro_avg_f1Score = f1Score.sum() / len(f1Score)\n",
    "        return macro_avg_f1Score\n",
    "    \n",
    "    def getAccuracy(self):\n",
    "        return (self.TP + self.TN) / self.con_mat.sum()\n",
    "    \n",
    "    def getOverAllAccuracy(self):\n",
    "        overall_accuracy = self.TP.sum() / self.con_mat.sum()\n",
    "        return overall_accuracy\n",
    "    \n",
    "    def printEvaluation(self):\n",
    "        precision = self.getPrecision()\n",
    "        recall = self.getRecall()\n",
    "        f1Score = self.getF1Score()\n",
    "        accuracy = self.getAccuracy()\n",
    "        \n",
    "        print(\"-\" * 66)\n",
    "        print(\"|{: ^12}|{: ^12}|{: ^12}|{: ^12}|{: ^12}|\".format(\"Class\", \"Accuracy\", \"Precision\", \"Recall\", \"F1-Score\"))\n",
    "        for i in range(self.size):\n",
    "            print(\"|{: >12}|{: >12.5f}|{: >12.5f}|{: >12.5f}|{: >12.5f}|\".format(i+1, accuracy[i], precision[i], recall[i], f1Score[i]))\n",
    "        \n",
    "        print(\"-\" * 66)\n",
    "        \n",
    "        micro_avg_precision = self.getMicroAvgPrecision()\n",
    "        micro_avg_recall = self.getMicroAvgRecall()\n",
    "        micro_avg_f1Score = self.getMicroAvgF1Score()\n",
    "        \n",
    "        macro_avg_precision = self.getMacroAvgPrecision()\n",
    "        macro_avg_recall = self.getMacroAvgRecall()\n",
    "        macro_avg_f1Score = self.getMacroAvgF1Score()\n",
    "        \n",
    "        overall_accuracy = self.getOverAllAccuracy()\n",
    "        \n",
    "        print(\"Micro Avg Precision: \", micro_avg_precision)\n",
    "        print(\"Micro Avg Recall: \", micro_avg_recall)\n",
    "        print(\"Micro Avg F1Score: \", micro_avg_f1Score)\n",
    "        \n",
    "        print(\"Macro Avg Precision: \", macro_avg_precision)\n",
    "        print(\"Macro Avg Recall: \", macro_avg_recall)\n",
    "        print(\"Macro Avg F1Score: \", macro_avg_f1Score)\n",
    "        \n",
    "        print(\"Overall Accuracy: \", overall_accuracy)"
   ]
  },
  {
   "cell_type": "code",
   "execution_count": 76,
   "id": "63eab620",
   "metadata": {},
   "outputs": [],
   "source": [
    "ev = Evaluation(pred_Y, true_Y)"
   ]
  },
  {
   "cell_type": "code",
   "execution_count": 42,
   "id": "ad9fc33d",
   "metadata": {},
   "outputs": [
    {
     "data": {
      "text/plain": [
       "array([0.80701754, 0.80263158, 0.92592593])"
      ]
     },
     "execution_count": 42,
     "metadata": {},
     "output_type": "execute_result"
    }
   ],
   "source": [
    "ev.getPrecision()"
   ]
  },
  {
   "cell_type": "code",
   "execution_count": 43,
   "id": "3e9edb63",
   "metadata": {},
   "outputs": [
    {
     "data": {
      "text/plain": [
       "array([0.76666667, 0.87142857, 0.83333333])"
      ]
     },
     "execution_count": 43,
     "metadata": {},
     "output_type": "execute_result"
    }
   ],
   "source": [
    "ev.getRecall()"
   ]
  },
  {
   "cell_type": "code",
   "execution_count": 44,
   "id": "f06c891b",
   "metadata": {},
   "outputs": [
    {
     "data": {
      "text/plain": [
       "array([0.78632479, 0.83561644, 0.87719298])"
      ]
     },
     "execution_count": 44,
     "metadata": {},
     "output_type": "execute_result"
    }
   ],
   "source": [
    "ev.getF1Score()"
   ]
  },
  {
   "cell_type": "code",
   "execution_count": 45,
   "id": "3ef70f52",
   "metadata": {},
   "outputs": [
    {
     "data": {
      "text/plain": [
       "0.825"
      ]
     },
     "execution_count": 45,
     "metadata": {},
     "output_type": "execute_result"
    }
   ],
   "source": [
    "ev.getMicroAvgPrecision()"
   ]
  },
  {
   "cell_type": "code",
   "execution_count": 46,
   "id": "60be38cd",
   "metadata": {},
   "outputs": [
    {
     "data": {
      "text/plain": [
       "0.8451916829109812"
      ]
     },
     "execution_count": 46,
     "metadata": {},
     "output_type": "execute_result"
    }
   ],
   "source": [
    "ev.getMacroAvgPrecision()"
   ]
  },
  {
   "cell_type": "code",
   "execution_count": 47,
   "id": "8d178c2c",
   "metadata": {},
   "outputs": [
    {
     "data": {
      "text/plain": [
       "0.825"
      ]
     },
     "execution_count": 47,
     "metadata": {},
     "output_type": "execute_result"
    }
   ],
   "source": [
    "ev.getMicroAvgRecall()"
   ]
  },
  {
   "cell_type": "code",
   "execution_count": 48,
   "id": "2619a97f",
   "metadata": {},
   "outputs": [
    {
     "data": {
      "text/plain": [
       "0.8238095238095239"
      ]
     },
     "execution_count": 48,
     "metadata": {},
     "output_type": "execute_result"
    }
   ],
   "source": [
    "ev.getMacroAvgRecall()"
   ]
  },
  {
   "cell_type": "code",
   "execution_count": 49,
   "id": "1bcceb6a",
   "metadata": {},
   "outputs": [
    {
     "data": {
      "text/plain": [
       "0.825"
      ]
     },
     "execution_count": 49,
     "metadata": {},
     "output_type": "execute_result"
    }
   ],
   "source": [
    "ev.getMicroAvgF1Score()"
   ]
  },
  {
   "cell_type": "code",
   "execution_count": 50,
   "id": "95878e6f",
   "metadata": {},
   "outputs": [
    {
     "data": {
      "text/plain": [
       "0.8330447357123637"
      ]
     },
     "execution_count": 50,
     "metadata": {},
     "output_type": "execute_result"
    }
   ],
   "source": [
    "ev.getMacroAvgF1Score()"
   ]
  },
  {
   "cell_type": "code",
   "execution_count": 27,
   "id": "35a6c054",
   "metadata": {},
   "outputs": [
    {
     "data": {
      "text/plain": [
       "array([0.84375, 0.85   , 0.95625])"
      ]
     },
     "execution_count": 27,
     "metadata": {},
     "output_type": "execute_result"
    }
   ],
   "source": [
    "ev.getAccuracy()"
   ]
  },
  {
   "cell_type": "code",
   "execution_count": 53,
   "id": "94305e65",
   "metadata": {},
   "outputs": [
    {
     "data": {
      "text/plain": [
       "0.825"
      ]
     },
     "execution_count": 53,
     "metadata": {},
     "output_type": "execute_result"
    }
   ],
   "source": [
    "ev.getOverAllAccuracy()"
   ]
  },
  {
   "cell_type": "code",
   "execution_count": 77,
   "id": "c91b267b",
   "metadata": {},
   "outputs": [
    {
     "name": "stdout",
     "output_type": "stream",
     "text": [
      "------------------------------------------------------------------\n",
      "|   Class    |  Accuracy  | Precision  |   Recall   |  F1-Score  |\n",
      "|           1|     0.84375|     0.80702|     0.76667|     0.78632|\n",
      "|           2|     0.85000|     0.80263|     0.87143|     0.83562|\n",
      "|           3|     0.95625|     0.92593|     0.83333|     0.87719|\n",
      "------------------------------------------------------------------\n",
      "Micro Avg Precision:  0.825\n",
      "Micro Avg Recall:  0.825\n",
      "Micro Avg F1Score:  0.825\n",
      "Macro Avg Precision:  0.8451916829109812\n",
      "Macro Avg Recall:  0.8238095238095239\n",
      "Macro Avg F1Score:  0.8330447357123637\n",
      "Overall Accuracy:  0.825\n"
     ]
    }
   ],
   "source": [
    "ev.printEvaluation()"
   ]
  },
  {
   "cell_type": "code",
   "execution_count": null,
   "id": "a867180e",
   "metadata": {},
   "outputs": [],
   "source": []
  },
  {
   "cell_type": "code",
   "execution_count": null,
   "id": "7e42349b",
   "metadata": {},
   "outputs": [],
   "source": []
  },
  {
   "cell_type": "markdown",
   "id": "4cf601e1",
   "metadata": {},
   "source": [
    "### Linear Regression"
   ]
  },
  {
   "cell_type": "code",
   "execution_count": 2,
   "id": "ac7ee245",
   "metadata": {},
   "outputs": [],
   "source": [
    "X = np.array([[440, 1],\n",
    "             [448, 1],\n",
    "             [6205, 1],\n",
    "             [4850, 1],\n",
    "             [1420, 1],\n",
    "             [16500, 1],\n",
    "             [1776, 1],\n",
    "             [6989, 1],\n",
    "             [2040, 1],\n",
    "             [9356, 1],])"
   ]
  },
  {
   "cell_type": "code",
   "execution_count": 8,
   "id": "88407185",
   "metadata": {},
   "outputs": [
    {
     "data": {
      "text/plain": [
       "array([[  440,   448,  6205,  4850,  1420, 16500,  1776,  6989,  2040,\n",
       "         9356],\n",
       "       [    1,     1,     1,     1,     1,     1,     1,     1,     1,\n",
       "            1]])"
      ]
     },
     "execution_count": 8,
     "metadata": {},
     "output_type": "execute_result"
    }
   ],
   "source": [
    "X.T"
   ]
  },
  {
   "cell_type": "code",
   "execution_count": 9,
   "id": "ca0029ca",
   "metadata": {},
   "outputs": [
    {
     "data": {
      "text/plain": [
       "array([[  440,     1],\n",
       "       [  448,     1],\n",
       "       [ 6205,     1],\n",
       "       [ 4850,     1],\n",
       "       [ 1420,     1],\n",
       "       [16500,     1],\n",
       "       [ 1776,     1],\n",
       "       [ 6989,     1],\n",
       "       [ 2040,     1],\n",
       "       [ 9356,     1]])"
      ]
     },
     "execution_count": 9,
     "metadata": {},
     "output_type": "execute_result"
    }
   ],
   "source": [
    "X"
   ]
  },
  {
   "cell_type": "code",
   "execution_count": 10,
   "id": "1b201f62",
   "metadata": {},
   "outputs": [
    {
     "data": {
      "text/plain": [
       "array([ 123,  137,  409,  459,   89, 1067,  230,  496,  208,  652])"
      ]
     },
     "execution_count": 10,
     "metadata": {},
     "output_type": "execute_result"
    }
   ],
   "source": [
    "Y = np.array([123, 137, 409, 459, 89, 1067, 230, 496, 208, 652])\n",
    "Y"
   ]
  },
  {
   "cell_type": "code",
   "execution_count": 4,
   "id": "e487c296",
   "metadata": {},
   "outputs": [
    {
     "data": {
      "text/plain": [
       "array([[480381862,     50024],\n",
       "       [    50024,        10]])"
      ]
     },
     "execution_count": 4,
     "metadata": {},
     "output_type": "execute_result"
    }
   ],
   "source": [
    "Z = np.dot(X.T, X)\n",
    "Z"
   ]
  },
  {
   "cell_type": "code",
   "execution_count": 5,
   "id": "8e32fbcc",
   "metadata": {},
   "outputs": [
    {
     "data": {
      "text/plain": [
       "array([33010827,     3870])"
      ]
     },
     "execution_count": 5,
     "metadata": {},
     "output_type": "execute_result"
    }
   ],
   "source": [
    "XTY = np.dot(X.T, Y)\n",
    "XTY"
   ]
  },
  {
   "cell_type": "code",
   "execution_count": 6,
   "id": "48566f04",
   "metadata": {},
   "outputs": [
    {
     "data": {
      "text/plain": [
       "array([[ 4.34514713e-09, -2.17361640e-05],\n",
       "       [-2.17361640e-05,  2.08732987e-01]])"
      ]
     },
     "execution_count": 6,
     "metadata": {},
     "output_type": "execute_result"
    }
   ],
   "source": [
    "Z_inv = np.linalg.inv(Z)\n",
    "Z_inv"
   ]
  },
  {
   "cell_type": "code",
   "execution_count": 7,
   "id": "9827ba7e",
   "metadata": {},
   "outputs": [
    {
     "data": {
      "text/plain": [
       "array([5.93179455e-02, 9.02679097e+01])"
      ]
     },
     "execution_count": 7,
     "metadata": {},
     "output_type": "execute_result"
    }
   ],
   "source": [
    "W = np.dot(Z_inv, XTY)\n",
    "W"
   ]
  },
  {
   "cell_type": "code",
   "execution_count": 10,
   "id": "b47dea1d",
   "metadata": {},
   "outputs": [
    {
     "name": "stdout",
     "output_type": "stream",
     "text": [
      "Berlin:  116.36780566234223\n",
      "Moscow:  211.27651838815586\n",
      "Kyiv:    184.64276087947442\n"
     ]
    }
   ],
   "source": [
    "Berlin = 440 * W[0] + W[1]\n",
    "Moscow = 2040 * W[0] + W[1]\n",
    "Kyiv = 1591 * W[0] + W[1]\n",
    "\n",
    "print(\"Berlin: \", Berlin)\n",
    "print(\"Moscow: \", Moscow)\n",
    "print(\"Kyiv:   \", Kyiv)"
   ]
  },
  {
   "cell_type": "code",
   "execution_count": 22,
   "id": "3fc13f81",
   "metadata": {},
   "outputs": [],
   "source": [
    "pred_y = np.array([Berlin, Moscow, Kyiv])\n",
    "true_y = np.array([123, 208, 138])"
   ]
  },
  {
   "cell_type": "code",
   "execution_count": 23,
   "id": "fda847aa",
   "metadata": {},
   "outputs": [
    {
     "data": {
      "text/plain": [
       "743.4229056467376"
      ]
     },
     "execution_count": 23,
     "metadata": {},
     "output_type": "execute_result"
    }
   ],
   "source": [
    "# Mean Squared Error\n",
    "MSE = np.square(np.subtract(true_y, pred_y)).mean()\n",
    "MSE"
   ]
  },
  {
   "cell_type": "code",
   "execution_count": null,
   "id": "e1dbf405",
   "metadata": {},
   "outputs": [],
   "source": []
  },
  {
   "cell_type": "code",
   "execution_count": null,
   "id": "956cb285",
   "metadata": {},
   "outputs": [],
   "source": []
  },
  {
   "cell_type": "markdown",
   "id": "7e1a049e",
   "metadata": {},
   "source": [
    "### K-Means Clustering"
   ]
  },
  {
   "cell_type": "code",
   "execution_count": 2,
   "id": "080d791a",
   "metadata": {},
   "outputs": [],
   "source": [
    "from sklearn.preprocessing import MinMaxScaler"
   ]
  },
  {
   "cell_type": "code",
   "execution_count": 33,
   "id": "85fcef75",
   "metadata": {},
   "outputs": [],
   "source": [
    "X = np.array([[10, 125],\n",
    "                  [12, 187],\n",
    "                  [28, 196],\n",
    "                  [18, 125],\n",
    "                  [8, 174],\n",
    "                  [23, 125],\n",
    "                  [14, 132],\n",
    "                  [20, 133],\n",
    "                  [1, 180]])\n",
    "\n",
    "Y = np.array([0, 0, 1, 0, 1, 1, 0, 1, 0])"
   ]
  },
  {
   "cell_type": "code",
   "execution_count": 34,
   "id": "5262fc2e",
   "metadata": {},
   "outputs": [],
   "source": [
    "scaler = MinMaxScaler()\n",
    "# fit using the train set\n",
    "scaler.fit(X)\n",
    "# transform the test test\n",
    "X = scaler.transform(X)"
   ]
  },
  {
   "cell_type": "code",
   "execution_count": 19,
   "id": "2119d8cc",
   "metadata": {},
   "outputs": [],
   "source": [
    "max_iter = 1\n",
    "num_clusters = 2\n",
    "num_samples = X.shape[0]\n",
    "num_features = X.shape[1]"
   ]
  },
  {
   "cell_type": "code",
   "execution_count": 20,
   "id": "6044158c",
   "metadata": {},
   "outputs": [],
   "source": [
    "# def init_centroids():\n",
    "#     centroids = np.zeros((num_clusters, num_features))\n",
    "    \n",
    "#     for k in range(num_clusters):\n",
    "#         centroid = X[np.random.choice(range(num_samples))]\n",
    "#         centroids[k] = centroid\n",
    "        \n",
    "#     return centroids"
   ]
  },
  {
   "cell_type": "code",
   "execution_count": 21,
   "id": "3f29f2b6",
   "metadata": {},
   "outputs": [],
   "source": [
    "def init_clusters():\n",
    "    clusters = [[] for _ in range(num_clusters)]\n",
    "    \n",
    "    for idx, sample in enumerate(X):\n",
    "#         # calculate euclidian distance\n",
    "#         closest_centroid = np.argmin(np.sqrt(np.sum((sample - centroids) ** 2, axis=1)))\n",
    "        clusters[Y[idx]].append(idx)\n",
    "        \n",
    "    return clusters"
   ]
  },
  {
   "cell_type": "code",
   "execution_count": 22,
   "id": "29c9a84f",
   "metadata": {},
   "outputs": [],
   "source": [
    "def compute_new_centroids(clusters):\n",
    "    centroids = np.zeros((num_clusters, num_features))\n",
    "    \n",
    "    for idx, cluster in enumerate(clusters):\n",
    "        new_centroid = np.mean(X[cluster], axis=0)\n",
    "        centroids[idx] = new_centroid\n",
    "        \n",
    "    return centroids"
   ]
  },
  {
   "cell_type": "code",
   "execution_count": 23,
   "id": "a09d33c5",
   "metadata": {},
   "outputs": [],
   "source": [
    "def update_clusters(centroids):\n",
    "    clusters = [[] for _ in range(num_clusters)]\n",
    "    \n",
    "    for idx, sample in enumerate(X):\n",
    "        # calculate euclidian distance\n",
    "        closest_centroid = np.argmin(np.sqrt(np.sum((sample - centroids) ** 2, axis=1)))\n",
    "        clusters[closest_centroid].append(idx)\n",
    "        \n",
    "    return clusters"
   ]
  },
  {
   "cell_type": "code",
   "execution_count": 24,
   "id": "d9303501",
   "metadata": {},
   "outputs": [],
   "source": [
    "def predict_cluster_labels(clusters):\n",
    "    y_pred = np.zeros(num_samples)\n",
    "    \n",
    "    for clus_idx, cluster in enumerate(clusters):\n",
    "        for sample_idx in cluster:\n",
    "            y_pred[sample_idx] = clus_idx\n",
    "            \n",
    "    return y_pred"
   ]
  },
  {
   "cell_type": "code",
   "execution_count": 25,
   "id": "15550d3f",
   "metadata": {},
   "outputs": [
    {
     "name": "stdout",
     "output_type": "stream",
     "text": [
      "Iteration #:  0\n"
     ]
    }
   ],
   "source": [
    "# centroids = init_centroids()\n",
    "\n",
    "for itr_num in range(max_iter):\n",
    "    print(\"Iteration #: \", itr_num)\n",
    "    \n",
    "    clusters = init_clusters()\n",
    "    \n",
    "#     previous_centroids = centroids\n",
    "    centroids = compute_new_centroids(clusters)\n",
    "    \n",
    "    clusters = update_clusters(centroids)\n",
    "    \n",
    "#     diff = centroids - previous_centroids\n",
    "    \n",
    "#     if not diff.any():\n",
    "#         print(\"K-Means has converged!\")\n",
    "#         break"
   ]
  },
  {
   "cell_type": "code",
   "execution_count": 26,
   "id": "2fa1b6b4",
   "metadata": {},
   "outputs": [],
   "source": [
    "y_pred = predict_cluster_labels(clusters)"
   ]
  },
  {
   "cell_type": "code",
   "execution_count": 27,
   "id": "82a86ac5",
   "metadata": {},
   "outputs": [
    {
     "data": {
      "text/plain": [
       "array([0., 1., 1., 0., 0., 1., 0., 1., 0.])"
      ]
     },
     "execution_count": 27,
     "metadata": {},
     "output_type": "execute_result"
    }
   ],
   "source": [
    "y_pred"
   ]
  },
  {
   "cell_type": "code",
   "execution_count": null,
   "id": "14ef78d6",
   "metadata": {},
   "outputs": [],
   "source": []
  }
 ],
 "metadata": {
  "kernelspec": {
   "display_name": "Python 3 (ipykernel)",
   "language": "python",
   "name": "python3"
  },
  "language_info": {
   "codemirror_mode": {
    "name": "ipython",
    "version": 3
   },
   "file_extension": ".py",
   "mimetype": "text/x-python",
   "name": "python",
   "nbconvert_exporter": "python",
   "pygments_lexer": "ipython3",
   "version": "3.9.5"
  }
 },
 "nbformat": 4,
 "nbformat_minor": 5
}
