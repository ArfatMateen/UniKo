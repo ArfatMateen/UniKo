{
 "cells": [
  {
   "cell_type": "code",
   "execution_count": 1,
   "id": "dc35e573",
   "metadata": {},
   "outputs": [],
   "source": [
    "import numpy as np"
   ]
  },
  {
   "cell_type": "code",
   "execution_count": 2,
   "id": "a1bb511f",
   "metadata": {},
   "outputs": [],
   "source": [
    "true_A = [0] * 60\n",
    "pred_A = ([0] * 46) + ([1] * 12) + ([2] * 2)\n",
    "\n",
    "true_B = [1] * 70\n",
    "pred_B = ([0] * 9) + ([1] * 61)\n",
    "\n",
    "true_C = [2] * 30\n",
    "pred_C = ([0] * 2) + ([1] * 3) + ([2] * 25)"
   ]
  },
  {
   "cell_type": "code",
   "execution_count": 3,
   "id": "0ad2f24f",
   "metadata": {},
   "outputs": [],
   "source": [
    "true_Y = true_A + true_B + true_C\n",
    "pred_Y = pred_A + pred_B + pred_C"
   ]
  },
  {
   "cell_type": "code",
   "execution_count": 4,
   "id": "c6f2f629",
   "metadata": {},
   "outputs": [],
   "source": [
    "class Evaluation:\n",
    "    def __init__(self, pred_y, true_y):\n",
    "        self.pred_y = pred_y\n",
    "        self.true_y = true_y\n",
    "        self.init_confussion_matrix()\n",
    "        \n",
    "    def init_confussion_matrix(self):\n",
    "        matrix = np.stack((self.pred_y, self.true_y), axis=1)\n",
    "        \n",
    "        self.size = len(set(matrix[:, 0])) \n",
    "        self.con_mat = np.zeros((self.size, self.size))\n",
    "\n",
    "        for i in range(matrix.shape[0]):\n",
    "            self.con_mat[matrix[i, 1]][matrix[i, 0]] += 1\n",
    "            \n",
    "        self.TP = np.diag(self.con_mat)\n",
    "        self.FP = self.con_mat.sum(axis=0) - np.diag(self.con_mat)\n",
    "        self.FN = self.con_mat.sum(axis=1) - np.diag(self.con_mat)\n",
    "        self.TN = self.con_mat.sum() - (self.TP + self.FP + self.FN)\n",
    "        \n",
    "        \n",
    "    def getPrecision(self):\n",
    "        return self.TP / (self.TP + self.FP)\n",
    "    \n",
    "    def getRecall(self):\n",
    "        return self.TP / (self.TP + self.FN)\n",
    "    \n",
    "    def getAccuracy(self):\n",
    "        return (self.TP + self.TN) / self.con_mat.sum()\n",
    "    \n",
    "    def getF1Score(self):\n",
    "        precision = self.getPrecision()\n",
    "        recall = self.getRecall()\n",
    "        \n",
    "        return 2 * (precision * recall) / (precision + recall)\n",
    "    \n",
    "    def printEvaluation(self):\n",
    "        precision = self.getPrecision()\n",
    "        recall = self.getRecall()\n",
    "        f1Score = self.getF1Score()\n",
    "        accuracy = self.getAccuracy()\n",
    "        \n",
    "        print(\"-\" * 106)\n",
    "        print(\"|{: ^20}|{: ^20}|{: ^20}|{: ^20}|{: ^20}|\".format(\"Class\", \"Accuracy\", \"Precission\", \"Recall\", \"F1-Score\"))\n",
    "        for i in range(self.size):\n",
    "            print(\"|{: >20}|{: >20.2f}|{: >20.2f}|{: >20.2f}|{: >20.2f}|\".format(i+1, accuracy[i], precision[i], recall[i], f1Score[i]))\n",
    "        \n",
    "        print(\"-\" * 106)"
   ]
  },
  {
   "cell_type": "code",
   "execution_count": 5,
   "id": "1d6a4dbc",
   "metadata": {},
   "outputs": [],
   "source": [
    "ev = Evaluation(pred_Y, true_Y)"
   ]
  },
  {
   "cell_type": "code",
   "execution_count": 6,
   "id": "7a896ef1",
   "metadata": {},
   "outputs": [
    {
     "data": {
      "text/plain": [
       "array([0.80701754, 0.80263158, 0.92592593])"
      ]
     },
     "execution_count": 6,
     "metadata": {},
     "output_type": "execute_result"
    }
   ],
   "source": [
    "ev.getPrecision()"
   ]
  },
  {
   "cell_type": "code",
   "execution_count": 7,
   "id": "80323203",
   "metadata": {},
   "outputs": [
    {
     "data": {
      "text/plain": [
       "array([0.76666667, 0.87142857, 0.83333333])"
      ]
     },
     "execution_count": 7,
     "metadata": {},
     "output_type": "execute_result"
    }
   ],
   "source": [
    "ev.getRecall()"
   ]
  },
  {
   "cell_type": "code",
   "execution_count": 8,
   "id": "1feda5ca",
   "metadata": {},
   "outputs": [
    {
     "data": {
      "text/plain": [
       "array([0.84375, 0.85   , 0.95625])"
      ]
     },
     "execution_count": 8,
     "metadata": {},
     "output_type": "execute_result"
    }
   ],
   "source": [
    "ev.getAccuracy()"
   ]
  },
  {
   "cell_type": "code",
   "execution_count": 9,
   "id": "5129ad30",
   "metadata": {},
   "outputs": [
    {
     "data": {
      "text/plain": [
       "array([0.78632479, 0.83561644, 0.87719298])"
      ]
     },
     "execution_count": 9,
     "metadata": {},
     "output_type": "execute_result"
    }
   ],
   "source": [
    "ev.getF1Score()"
   ]
  },
  {
   "cell_type": "code",
   "execution_count": 10,
   "id": "e1cf7a64",
   "metadata": {},
   "outputs": [
    {
     "name": "stdout",
     "output_type": "stream",
     "text": [
      "----------------------------------------------------------------------------------------------------------\n",
      "|       Class        |      Accuracy      |     Precission     |       Recall       |      F1-Score      |\n",
      "|                   1|                0.84|                0.81|                0.77|                0.79|\n",
      "|                   2|                0.85|                0.80|                0.87|                0.84|\n",
      "|                   3|                0.96|                0.93|                0.83|                0.88|\n",
      "----------------------------------------------------------------------------------------------------------\n"
     ]
    }
   ],
   "source": [
    "ev.printEvaluation()"
   ]
  },
  {
   "cell_type": "code",
   "execution_count": null,
   "id": "e8c4f141",
   "metadata": {},
   "outputs": [],
   "source": []
  },
  {
   "cell_type": "code",
   "execution_count": null,
   "id": "4e5470cf",
   "metadata": {},
   "outputs": [],
   "source": []
  }
 ],
 "metadata": {
  "kernelspec": {
   "display_name": "Python 3 (ipykernel)",
   "language": "python",
   "name": "python3"
  },
  "language_info": {
   "codemirror_mode": {
    "name": "ipython",
    "version": 3
   },
   "file_extension": ".py",
   "mimetype": "text/x-python",
   "name": "python",
   "nbconvert_exporter": "python",
   "pygments_lexer": "ipython3",
   "version": "3.9.5"
  }
 },
 "nbformat": 4,
 "nbformat_minor": 5
}
