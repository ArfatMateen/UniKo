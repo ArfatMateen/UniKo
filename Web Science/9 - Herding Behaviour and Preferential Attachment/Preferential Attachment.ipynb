{
 "cells": [
  {
   "cell_type": "code",
   "execution_count": 1,
   "id": "367d332e",
   "metadata": {},
   "outputs": [],
   "source": [
    "import numpy as np\n",
    "from math import log2\n",
    "import matplotlib.pyplot as plt"
   ]
  },
  {
   "cell_type": "code",
   "execution_count": 2,
   "id": "20ca8e87",
   "metadata": {},
   "outputs": [],
   "source": [
    "t = 10000"
   ]
  },
  {
   "cell_type": "markdown",
   "id": "0a4cf697",
   "metadata": {},
   "source": [
    "## With Equal Probability"
   ]
  },
  {
   "cell_type": "code",
   "execution_count": 3,
   "id": "c5808494",
   "metadata": {},
   "outputs": [],
   "source": [
    "node_degrees = {0: 2}\n",
    "\n",
    "for i in range(len(node_degrees), t): \n",
    "    node_degrees[i] = 1\n",
    "    \n",
    "    edge_added = False\n",
    "    while not edge_added:\n",
    "        target_node_key = np.random.randint(0, len(node_degrees))\n",
    "\n",
    "        if target_node_key in node_degrees and (target_node_key != i):\n",
    "            node_degrees[target_node_key] += 1\n",
    "            edge_added = True"
   ]
  },
  {
   "cell_type": "code",
   "execution_count": 4,
   "id": "c70af845",
   "metadata": {},
   "outputs": [],
   "source": [
    "unique_degrees = list(set(node_degrees.values()))\n",
    "unique_degrees.sort()\n",
    "\n",
    "degree_counts = []\n",
    "\n",
    "for d in unique_degrees:\n",
    "    val = list(node_degrees.values()).count(d)\n",
    "    degree_counts.append(val)"
   ]
  },
  {
   "cell_type": "code",
   "execution_count": 5,
   "id": "fcc56378",
   "metadata": {},
   "outputs": [
    {
     "data": {
      "image/png": "[encoded data removed]",
      "text/plain": [
       "<Figure size 720x432 with 1 Axes>"
      ]
     },
     "metadata": {
      "needs_background": "light"
     },
     "output_type": "display_data"
    }
   ],
   "source": [
    "fig = plt.figure(figsize=(10, 6))\n",
    "ax = fig.add_axes([0,0,1,1])\n",
    "\n",
    "ax.scatter(unique_degrees, degree_counts, s=30)\n",
    "\n",
    "ax.set(xlabel=\"Degree\", ylabel=\"Fraction of Nodes\", title=\"Degree Distribution -   Equal Probability\")\n",
    "ax.set_xscale(\"log\")\n",
    "ax.set_yscale(\"log\")\n",
    "ax.grid(alpha = 0.2)"
   ]
  },
  {
   "cell_type": "code",
   "execution_count": 6,
   "id": "edaf54f8",
   "metadata": {},
   "outputs": [],
   "source": [
    "fig.savefig(\"Equal_Probability.png\", \n",
    "            dpi=100, \n",
    "            bbox_inches =\"tight\",\n",
    "            pad_inches = 0.5,\n",
    "            facecolor =\"w\")"
   ]
  },
  {
   "cell_type": "markdown",
   "id": "4f340aec",
   "metadata": {},
   "source": [
    "### Entropy"
   ]
  },
  {
   "cell_type": "code",
   "execution_count": 7,
   "id": "f5fcbf95",
   "metadata": {},
   "outputs": [],
   "source": [
    "total_degree_counts = sum(degree_counts)"
   ]
  },
  {
   "cell_type": "code",
   "execution_count": 8,
   "id": "45c4e8df",
   "metadata": {},
   "outputs": [],
   "source": [
    "deg_count_prob = []\n",
    "\n",
    "for deg_count in degree_counts:\n",
    "    deg_count_prob.append(deg_count / total_degree_counts)"
   ]
  },
  {
   "cell_type": "code",
   "execution_count": 9,
   "id": "82445470",
   "metadata": {},
   "outputs": [],
   "source": [
    "entropy = -sum([p * log2(p) for p in deg_count_prob])"
   ]
  },
  {
   "cell_type": "code",
   "execution_count": 10,
   "id": "8b5c0483",
   "metadata": {},
   "outputs": [
    {
     "data": {
      "text/plain": [
       "1.9991913270754946"
      ]
     },
     "execution_count": 10,
     "metadata": {},
     "output_type": "execute_result"
    }
   ],
   "source": [
    "entropy"
   ]
  },
  {
   "cell_type": "code",
   "execution_count": 11,
   "id": "1a4dfc41",
   "metadata": {},
   "outputs": [],
   "source": [
    "from scipy.stats import entropy"
   ]
  },
  {
   "cell_type": "code",
   "execution_count": 13,
   "id": "c44bf90a",
   "metadata": {},
   "outputs": [
    {
     "data": {
      "text/plain": [
       "1.9991913270754946"
      ]
     },
     "execution_count": 13,
     "metadata": {},
     "output_type": "execute_result"
    }
   ],
   "source": [
    "entropy(deg_count_prob, base=2)"
   ]
  },
  {
   "cell_type": "code",
   "execution_count": null,
   "id": "71ad5d36",
   "metadata": {},
   "outputs": [],
   "source": []
  },
  {
   "cell_type": "code",
   "execution_count": null,
   "id": "4d7c7be8",
   "metadata": {},
   "outputs": [],
   "source": []
  },
  {
   "cell_type": "markdown",
   "id": "6176d7c1",
   "metadata": {},
   "source": [
    "## With Preferential Attachment"
   ]
  },
  {
   "cell_type": "code",
   "execution_count": 14,
   "id": "76617a24",
   "metadata": {},
   "outputs": [],
   "source": [
    "node_degrees = {0: 2}\n",
    "\n",
    "for i in range(len(node_degrees), t + 1): \n",
    "    node_degrees[i] = 1\n",
    "    total_degrees = sum(node_degrees.values())\n",
    "    \n",
    "    node_probs = {} \n",
    "    for k in node_degrees.keys():\n",
    "        node_probs[k] = float(node_degrees[k]) / total_degrees\n",
    "        \n",
    "    node_cum_probs = {}\n",
    "    cum_prob = 0\n",
    "    for k, v in node_probs.items():\n",
    "        cum_prob += v\n",
    "        node_cum_probs[k] = cum_prob\n",
    "    \n",
    "    edge_added = False\n",
    "    while not edge_added:\n",
    "        rnd_val = np.random.rand()\n",
    "        last_cum_prob = 0\n",
    "        node_key = \"\"\n",
    "\n",
    "        for k, v in node_cum_probs.items():\n",
    "            if (not(rnd_val > last_cum_prob and rnd_val <= v)) and (k != i):\n",
    "                last_cum_prob = v\n",
    "                node_key = k\n",
    "\n",
    "        if node_key in node_degrees:\n",
    "            node_degrees[node_key] += 1\n",
    "            edge_added = True"
   ]
  },
  {
   "cell_type": "code",
   "execution_count": 15,
   "id": "1b7284bb",
   "metadata": {},
   "outputs": [],
   "source": [
    "unique_degrees = list(set(node_degrees.values()))"
   ]
  },
  {
   "cell_type": "code",
   "execution_count": 16,
   "id": "907fc28b",
   "metadata": {},
   "outputs": [],
   "source": [
    "unique_degrees.sort()"
   ]
  },
  {
   "cell_type": "code",
   "execution_count": 17,
   "id": "71f3fb4c",
   "metadata": {},
   "outputs": [],
   "source": [
    "degree_counts = []\n",
    "\n",
    "for d in unique_degrees:\n",
    "    val = list(node_degrees.values()).count(d)\n",
    "    degree_counts.append(val)"
   ]
  },
  {
   "cell_type": "code",
   "execution_count": 18,
   "id": "5103f09e",
   "metadata": {},
   "outputs": [],
   "source": [
    "# degree_counts"
   ]
  },
  {
   "cell_type": "code",
   "execution_count": 19,
   "id": "79c6df80",
   "metadata": {},
   "outputs": [
    {
     "data": {
      "image/png": "[encoded data removed]",
      "text/plain": [
       "<Figure size 720x432 with 1 Axes>"
      ]
     },
     "metadata": {
      "needs_background": "light"
     },
     "output_type": "display_data"
    }
   ],
   "source": [
    "fig = plt.figure(figsize=(10, 6))\n",
    "ax = fig.add_axes([0,0,1,1])\n",
    "\n",
    "ax.scatter(unique_degrees, degree_counts, s=30)\n",
    "\n",
    "ax.set(xlabel=\"Degree\", ylabel=\"Fraction of Nodes\", title=\"Degree Distribution -  Preferential Attachment\")\n",
    "ax.set_xscale(\"log\")\n",
    "ax.set_yscale(\"log\")\n",
    "ax.grid(alpha = 0.2)"
   ]
  },
  {
   "cell_type": "code",
   "execution_count": 20,
   "id": "4fffad50",
   "metadata": {},
   "outputs": [],
   "source": [
    "fig.savefig(\"Preferential_Attachment.png\", \n",
    "            dpi=100, \n",
    "            bbox_inches =\"tight\",\n",
    "            pad_inches = 0.5,\n",
    "            facecolor =\"w\")"
   ]
  },
  {
   "cell_type": "markdown",
   "id": "e163cdc5",
   "metadata": {},
   "source": [
    "### Entropy"
   ]
  },
  {
   "cell_type": "code",
   "execution_count": 21,
   "id": "37645296",
   "metadata": {},
   "outputs": [],
   "source": [
    "total_degree_counts = sum(degree_counts)"
   ]
  },
  {
   "cell_type": "code",
   "execution_count": 22,
   "id": "79423d20",
   "metadata": {},
   "outputs": [],
   "source": [
    "deg_count_prob = []\n",
    "\n",
    "for deg_count in degree_counts:\n",
    "    deg_count_prob.append(deg_count / total_degree_counts)"
   ]
  },
  {
   "cell_type": "code",
   "execution_count": 23,
   "id": "2319a5d1",
   "metadata": {},
   "outputs": [],
   "source": [
    "entropy = -sum([p * log2(p) for p in deg_count_prob])"
   ]
  },
  {
   "cell_type": "code",
   "execution_count": 24,
   "id": "6b790bed",
   "metadata": {},
   "outputs": [
    {
     "data": {
      "text/plain": [
       "1.851944769471155"
      ]
     },
     "execution_count": 24,
     "metadata": {},
     "output_type": "execute_result"
    }
   ],
   "source": [
    "entropy"
   ]
  },
  {
   "cell_type": "code",
   "execution_count": 25,
   "id": "cde16bbd",
   "metadata": {},
   "outputs": [],
   "source": [
    "from scipy.stats import entropy"
   ]
  },
  {
   "cell_type": "code",
   "execution_count": 26,
   "id": "e29bf1f1",
   "metadata": {},
   "outputs": [
    {
     "data": {
      "text/plain": [
       "1.8519447694711544"
      ]
     },
     "execution_count": 26,
     "metadata": {},
     "output_type": "execute_result"
    }
   ],
   "source": [
    "entropy(deg_count_prob, base=2)"
   ]
  },
  {
   "cell_type": "code",
   "execution_count": null,
   "id": "8bb05400",
   "metadata": {},
   "outputs": [],
   "source": []
  }
 ],
 "metadata": {
  "kernelspec": {
   "display_name": "Python 3 (ipykernel)",
   "language": "python",
   "name": "python3"
  },
  "language_info": {
   "codemirror_mode": {
    "name": "ipython",
    "version": 3
   },
   "file_extension": ".py",
   "mimetype": "text/x-python",
   "name": "python",
   "nbconvert_exporter": "python",
   "pygments_lexer": "ipython3",
   "version": "3.9.5"
  }
 },
 "nbformat": 4,
 "nbformat_minor": 5
}
