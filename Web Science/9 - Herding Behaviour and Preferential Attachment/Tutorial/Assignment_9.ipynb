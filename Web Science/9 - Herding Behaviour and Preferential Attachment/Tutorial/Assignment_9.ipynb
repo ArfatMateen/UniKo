{
 "cells": [
  {
   "cell_type": "markdown",
   "id": "684ac25c",
   "metadata": {},
   "source": [
    "# Equal probability"
   ]
  },
  {
   "cell_type": "code",
   "execution_count": 2,
   "id": "21fb7f1f",
   "metadata": {},
   "outputs": [],
   "source": [
    "from __future__ import division\n",
    "import numpy as np\n",
    "import matplotlib.pyplot as plt\n",
    "# from entropy import *"
   ]
  },
  {
   "cell_type": "code",
   "execution_count": 45,
   "id": "619f06e2",
   "metadata": {},
   "outputs": [],
   "source": [
    "# time parameter\n",
    "n = 10000\n",
    "\n",
    "# nodes and degrees\n",
    "k = np.zeros(n)\n",
    "k[0] = 2\n",
    "\n",
    "for t in np.arange(1, n):\n",
    "    p = np.ones(t) / t\n",
    "    index = np.random.choice(t, 1, p=p)\n",
    "\n",
    "    k[index] += 1\n",
    "    k[t] = 1"
   ]
  },
  {
   "cell_type": "code",
   "execution_count": 46,
   "id": "d502efd3",
   "metadata": {},
   "outputs": [
    {
     "data": {
      "text/plain": [
       "Text(0, 0.5, 'Frequency')"
      ]
     },
     "execution_count": 46,
     "metadata": {},
     "output_type": "execute_result"
    },
    {
     "data": {
      "image/png": "[encoded data removed]",
      "text/plain": [
       "<Figure size 432x288 with 1 Axes>"
      ]
     },
     "metadata": {
      "needs_background": "light"
     },
     "output_type": "display_data"
    }
   ],
   "source": [
    "bins = np.unique(k)\n",
    "hist, _ = np.histogram(k, np.append(bins, max(bins)+1))\n",
    "\n",
    "# plot\n",
    "plt.autoscale(enable=True, axis='y', tight=True)\n",
    "plt.semilogy(bins, hist, '.')\n",
    "plt.xlabel('Degree(k)')\n",
    "plt.ylabel('Frequency')"
   ]
  },
  {
   "cell_type": "code",
   "execution_count": 47,
   "id": "45cd1bd0",
   "metadata": {},
   "outputs": [
    {
     "name": "stdout",
     "output_type": "stream",
     "text": [
      "1.9988540674418793\n"
     ]
    }
   ],
   "source": [
    "# calculate entropy\n",
    "print(calc_entropy(hist))"
   ]
  },
  {
   "cell_type": "markdown",
   "id": "47e0a2d2",
   "metadata": {},
   "source": [
    "# Preferential attachment"
   ]
  },
  {
   "cell_type": "code",
   "execution_count": 2,
   "id": "2f5b6b5a",
   "metadata": {},
   "outputs": [],
   "source": [
    "from __future__ import division\n",
    "import numpy as np\n",
    "import matplotlib.pyplot as plt\n",
    "# from entropy import *"
   ]
  },
  {
   "cell_type": "code",
   "execution_count": 49,
   "id": "265473e4",
   "metadata": {},
   "outputs": [],
   "source": [
    "# time parameter\n",
    "n = 10000\n",
    "\n",
    "# nodes and degrees\n",
    "k = np.zeros(n)\n",
    "k[0] = 2\n",
    "\n",
    "for t in np.arange(1, n):\n",
    "    p = k[0:t] / (2*t)\n",
    "    index = np.random.choice(t, 1, p=p)\n",
    "\n",
    "    k[index] += 1\n",
    "    k[t] = 1\n"
   ]
  },
  {
   "cell_type": "code",
   "execution_count": 50,
   "id": "f01e81b7",
   "metadata": {},
   "outputs": [
    {
     "data": {
      "image/png": "[encoded data removed]",
      "text/plain": [
       "<Figure size 432x288 with 1 Axes>"
      ]
     },
     "metadata": {
      "needs_background": "light"
     },
     "output_type": "display_data"
    }
   ],
   "source": [
    "bins = np.unique(k)\n",
    "hist, _ = np.histogram(k, np.append(bins, max(bins)+1))\n",
    "\n",
    "# plot\n",
    "plt.autoscale(enable=True, axis='y', tight=True)\n",
    "plt.semilogy(bins, hist, '.')\n",
    "plt.xlabel('Degree(k)')\n",
    "plt.ylabel('Frequency')\n",
    "\n",
    "plt.savefig('pa.png', format='png')"
   ]
  },
  {
   "cell_type": "code",
   "execution_count": 51,
   "id": "d5feb8b3",
   "metadata": {},
   "outputs": [
    {
     "name": "stdout",
     "output_type": "stream",
     "text": [
      "1.7616343130927947\n"
     ]
    }
   ],
   "source": [
    "# calculate entropy\n",
    "print(calc_entropy(hist))"
   ]
  },
  {
   "cell_type": "markdown",
   "id": "5aef600f",
   "metadata": {},
   "source": [
    "# Entropy"
   ]
  },
  {
   "cell_type": "code",
   "execution_count": 33,
   "id": "f830df2f",
   "metadata": {},
   "outputs": [],
   "source": [
    "def calc_entropy(p):\n",
    "    p = np.array(p) / np.sum(p)\n",
    "    H = -np.dot(p, np.log2(p))\n",
    "    return H"
   ]
  }
 ],
 "metadata": {
  "kernelspec": {
   "display_name": "Python 3 (ipykernel)",
   "language": "python",
   "name": "python3"
  },
  "language_info": {
   "codemirror_mode": {
    "name": "ipython",
    "version": 3
   },
   "file_extension": ".py",
   "mimetype": "text/x-python",
   "name": "python",
   "nbconvert_exporter": "python",
   "pygments_lexer": "ipython3",
   "version": "3.9.5"
  }
 },
 "nbformat": 4,
 "nbformat_minor": 5
}
