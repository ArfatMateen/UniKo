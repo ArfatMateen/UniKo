{
 "cells": [
  {
   "cell_type": "code",
   "execution_count": 1,
   "id": "759ef296",
   "metadata": {},
   "outputs": [],
   "source": [
    "import networkx as nx\n",
    "import numpy as np\n",
    "import matplotlib.pyplot as plt"
   ]
  },
  {
   "cell_type": "code",
   "execution_count": 2,
   "id": "f39dd7b8",
   "metadata": {},
   "outputs": [],
   "source": [
    "G = nx.barabasi_albert_graph(10000, 1)"
   ]
  },
  {
   "cell_type": "code",
   "execution_count": 3,
   "id": "ce4cdec9",
   "metadata": {},
   "outputs": [],
   "source": [
    "degrees = G.degree()"
   ]
  },
  {
   "cell_type": "code",
   "execution_count": 4,
   "id": "375d6f62",
   "metadata": {},
   "outputs": [],
   "source": [
    "degree_values = [v for k, v in degrees]"
   ]
  },
  {
   "cell_type": "code",
   "execution_count": 5,
   "id": "c9bf9dca",
   "metadata": {},
   "outputs": [],
   "source": [
    "sorted_unique_degree_values = sorted(set([v for k, v in degrees]))"
   ]
  },
  {
   "cell_type": "code",
   "execution_count": 6,
   "id": "dc24f1d3",
   "metadata": {},
   "outputs": [],
   "source": [
    "histogram = [degree_values.count(i) / float(nx.number_of_nodes(G)) for i in sorted_unique_degree_values]"
   ]
  },
  {
   "cell_type": "code",
   "execution_count": 7,
   "id": "19930ea5",
   "metadata": {},
   "outputs": [
    {
     "data": {
      "image/png": "[encoded data removed]",
      "text/plain": [
       "<Figure size 720x432 with 1 Axes>"
      ]
     },
     "metadata": {
      "needs_background": "light"
     },
     "output_type": "display_data"
    }
   ],
   "source": [
    "fig = plt.figure(figsize=(10, 6))\n",
    "ax = fig.add_axes([0,0,1,1])\n",
    "\n",
    "ax.scatter(sorted_unique_degree_values, histogram, s=30)\n",
    "\n",
    "ax.set(xlabel=\"Degree\", ylabel=\"Fraction of Nodes\", title=\"Degree Distribution -  Preferential Attachment\")\n",
    "ax.set_xscale(\"log\")\n",
    "ax.set_yscale(\"log\")\n",
    "ax.grid(alpha = 0.2)"
   ]
  },
  {
   "cell_type": "code",
   "execution_count": null,
   "id": "b096526f",
   "metadata": {},
   "outputs": [],
   "source": []
  },
  {
   "cell_type": "code",
   "execution_count": null,
   "id": "6ca5c8b7",
   "metadata": {},
   "outputs": [],
   "source": []
  },
  {
   "cell_type": "code",
   "execution_count": 2,
   "id": "8007b013",
   "metadata": {},
   "outputs": [
    {
     "name": "stdout",
     "output_type": "stream",
     "text": [
      "[1, 2, 3, 4, 5, 6, 7, 8, 9, 10, 11, 12, 13, 14, 15, 16, 17, 18, 19, 20, 21, 22, 23, 24, 25, 26, 27, 28, 29, 30, 31, 32, 33, 36, 38, 39, 46, 48, 51, 56, 58, 59, 105, 132, 285]\n",
      "[6688, 1673, 668, 317, 160, 112, 84, 67, 48, 23, 31, 18, 11, 9, 11, 5, 7, 7, 9, 6, 6, 3, 5, 3, 4, 3, 2, 1, 2, 1, 1, 1, 1, 1, 1, 1, 1, 1, 2, 1, 1, 1, 1, 1, 1]\n"
     ]
    },
    {
     "data": {
      "image/png": "[encoded data removed]",
      "text/plain": [
       "<Figure size 432x288 with 1 Axes>"
      ]
     },
     "metadata": {
      "needs_background": "light"
     },
     "output_type": "display_data"
    }
   ],
   "source": [
    "import networkx as nx\n",
    "import random\n",
    "import matplotlib.pyplot as plt\n",
    "  \n",
    "\n",
    "def display(g, i, ne):\n",
    "    pos = nx.circular_layout(g)\n",
    "      \n",
    "    if i == '' and ne == '':\n",
    "        new_node = []\n",
    "        rest_nodes = g.nodes()\n",
    "        new_edges = []\n",
    "        rest_edges = g.edges()\n",
    "    else:\n",
    "        new_node = [i]\n",
    "        rest_nodes = list(set(g.nodes()) - set(new_node))\n",
    "        new_edges = ne\n",
    "        rest_edges = list(set(g.edges()) - set(new_edges) - set([(b, a) for (a, b) in new_edges]))\n",
    "    nx.draw_networkx_nodes(g, pos, nodelist=new_node, node_color='g')\n",
    "    nx.draw_networkx_nodes(g, pos, nodelist=rest_nodes, node_color='r')\n",
    "    nx.draw_networkx_edges(g, pos, edgelist=new_edges, style='dashdot')\n",
    "    nx.draw_networkx_edges(g, pos, edgelist=rest_edges)\n",
    "    plt.show()\n",
    "  \n",
    "  \n",
    "def barabasi_add_nodes(g, n, m0):\n",
    "    m = m0 - 1\n",
    "  \n",
    "    for i in range(m0 + 1, n + 1):\n",
    "        g.add_node(i)\n",
    "        degrees = nx.degree(g)\n",
    "        node_prob = {}\n",
    "  \n",
    "        s = 0\n",
    "        for j in degrees:\n",
    "            s += j[1]\n",
    "#         print(g.nodes())\n",
    "          \n",
    "        for each in g.nodes():\n",
    "            node_prob[each] = (float)(degrees[each]) / s\n",
    "  \n",
    "        node_probabilities_cum = []\n",
    "        prev = 0\n",
    "          \n",
    "        for n, p in node_prob.items():\n",
    "            temp = [n, prev + p]\n",
    "            node_probabilities_cum.append(temp)\n",
    "            prev += p\n",
    "  \n",
    "        new_edges = []\n",
    "        num_edges_added = 0\n",
    "        target_nodes = []\n",
    "  \n",
    "        while (num_edges_added < m):\n",
    "            prev_cum = 0\n",
    "            r = random.random()\n",
    "            k = 0\n",
    "              \n",
    "            while (not (r > prev_cum and r <= node_probabilities_cum[k][1])):\n",
    "                prev_cum = node_probabilities_cum[k][1]\n",
    "                k = k + 1\n",
    "            target_node = node_probabilities_cum[k][0]\n",
    "              \n",
    "            if target_node in target_nodes:\n",
    "                continue\n",
    "              \n",
    "            else:\n",
    "                target_nodes.append(target_node)\n",
    "            g.add_edge(i, target_node)\n",
    "            num_edges_added += 1\n",
    "            new_edges.append((i, target_node))\n",
    "\n",
    "#         print(num_edges_added, ' edges added')\n",
    "  \n",
    "#     display(g, i, new_edges)\n",
    "    return g\n",
    "  \n",
    "\n",
    "def plot_deg_dist(g):\n",
    "    all_degrees = []\n",
    "      \n",
    "    for i in nx.degree(g):\n",
    "        all_degrees.append(i[1])\n",
    "    unique_degrees = list(set(all_degrees))\n",
    "    unique_degrees.sort()\n",
    "    count_of_degrees = []\n",
    "  \n",
    "    for i in unique_degrees:\n",
    "        c = all_degrees.count(i)\n",
    "        count_of_degrees.append(c)\n",
    "  \n",
    "    print(unique_degrees)\n",
    "    print(count_of_degrees)\n",
    "  \n",
    "    plt.plot(unique_degrees, count_of_degrees, 'ro-')\n",
    "    plt.xlabel('Degrees')\n",
    "    plt.ylabel('Number of Nodes')\n",
    "    plt.title('Degree Distribution')\n",
    "    plt.xscale(\"log\")\n",
    "    plt.yscale(\"log\")\n",
    "    plt.show()\n",
    "  \n",
    "  \n",
    "# N = 10000\n",
    "# m0 = 2 # random.randint(2, N / 5)\n",
    "# g = nx.path_graph(m0)\n",
    "# display(g, '', '')\n",
    "  \n",
    "# g = barabasi_add_nodes(g, N, m0)\n",
    "plot_deg_dist(g)"
   ]
  },
  {
   "cell_type": "code",
   "execution_count": null,
   "id": "37555b2b",
   "metadata": {},
   "outputs": [],
   "source": []
  }
 ],
 "metadata": {
  "kernelspec": {
   "display_name": "Python 3 (ipykernel)",
   "language": "python",
   "name": "python3"
  },
  "language_info": {
   "codemirror_mode": {
    "name": "ipython",
    "version": 3
   },
   "file_extension": ".py",
   "mimetype": "text/x-python",
   "name": "python",
   "nbconvert_exporter": "python",
   "pygments_lexer": "ipython3",
   "version": "3.9.5"
  }
 },
 "nbformat": 4,
 "nbformat_minor": 5
}
