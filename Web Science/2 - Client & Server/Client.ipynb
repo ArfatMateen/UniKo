{
 "cells": [
  {
   "cell_type": "code",
   "execution_count": 1,
   "id": "e07fa462",
   "metadata": {},
   "outputs": [],
   "source": [
    "import socket"
   ]
  },
  {
   "cell_type": "code",
   "execution_count": 2,
   "id": "ee370f1c",
   "metadata": {},
   "outputs": [],
   "source": [
    "# Here HOST refers to the address to which client wants to connect to, \n",
    "# in this case the server which is running on the same machine\n",
    "HOST = socket.gethostname()\n",
    "\n",
    "# Server's port to connect to\n",
    "PORT = 5656"
   ]
  },
  {
   "cell_type": "code",
   "execution_count": 3,
   "id": "c82bc4e6",
   "metadata": {},
   "outputs": [
    {
     "name": "stdout",
     "output_type": "stream",
     "text": [
      "Thank you for connecting\n"
     ]
    }
   ],
   "source": [
    "# Create socket with IPv4 family address and use TCP socket type\n",
    "with socket.socket(socket.AF_INET, socket.SOCK_STREAM) as s:\n",
    "    # Connect to the server on specified port\n",
    "    s.connect((HOST, PORT))\n",
    "    \n",
    "    # Recieve data from the server in 1024 bytes of chunks\n",
    "    data = s.recv(1024)\n",
    "    \n",
    "    # Decode receiving data using utf-8 encoding and print.\n",
    "    print(data.decode())"
   ]
  },
  {
   "cell_type": "code",
   "execution_count": null,
   "id": "f2bb2690",
   "metadata": {},
   "outputs": [],
   "source": []
  }
 ],
 "metadata": {
  "kernelspec": {
   "display_name": "Python 3 (ipykernel)",
   "language": "python",
   "name": "python3"
  },
  "language_info": {
   "codemirror_mode": {
    "name": "ipython",
    "version": 3
   },
   "file_extension": ".py",
   "mimetype": "text/x-python",
   "name": "python",
   "nbconvert_exporter": "python",
   "pygments_lexer": "ipython3",
   "version": "3.9.5"
  }
 },
 "nbformat": 4,
 "nbformat_minor": 5
}
