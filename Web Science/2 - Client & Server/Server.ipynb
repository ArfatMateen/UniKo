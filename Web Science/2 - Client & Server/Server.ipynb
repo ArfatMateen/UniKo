{
 "cells": [
  {
   "cell_type": "code",
   "execution_count": null,
   "id": "6bffb3ce",
   "metadata": {},
   "outputs": [],
   "source": [
    "import socket"
   ]
  },
  {
   "cell_type": "code",
   "execution_count": null,
   "id": "f5345a89",
   "metadata": {},
   "outputs": [],
   "source": [
    "# socket.gethostname() returns the host name of the current system under which the Python interpreter is executed\n",
    "# Or standard loopback interface address (localhost / 127.0.0.1) can also be used as HOST if the client and server \n",
    "# is running on the same machine\n",
    "HOST = socket.gethostname()\n",
    "\n",
    "# Port to listen on\n",
    "PORT = 5656"
   ]
  },
  {
   "cell_type": "code",
   "execution_count": null,
   "id": "216ddd0d",
   "metadata": {
    "scrolled": false
   },
   "outputs": [],
   "source": [
    "# socket.socket takes address family and socket type argument respectively\n",
    "# socket.AF_INET refers to IPv4 address family\n",
    "# socket.SOCK_STREAM is the socket type for TCP protocol\n",
    "with socket.socket(socket.AF_INET, socket.SOCK_STREAM) as s:\n",
    "    \n",
    "    #bind() is used to associate the socket with a specific network interface and port number\n",
    "    s.bind((HOST, PORT))\n",
    "    \n",
    "    # listen() enables a server to accept() connections. It makes it a “listening” socket\n",
    "    s.listen()\n",
    "    \n",
    "    print(\"Waiting...\")\n",
    "    \n",
    "    while True:\n",
    "        client_socket, client_address = s.accept()\n",
    "        print(f\"Connection from {client_address} has been established!\")\n",
    "        client_socket.send(bytes(\"Thank you for connecting\", \"utf-8\"))\n",
    "        client_socket.close()"
   ]
  },
  {
   "cell_type": "code",
   "execution_count": null,
   "id": "e033254c",
   "metadata": {},
   "outputs": [],
   "source": []
  },
  {
   "cell_type": "code",
   "execution_count": null,
   "id": "1e62b602",
   "metadata": {},
   "outputs": [],
   "source": []
  }
 ],
 "metadata": {
  "kernelspec": {
   "display_name": "Python 3 (ipykernel)",
   "language": "python",
   "name": "python3"
  },
  "language_info": {
   "codemirror_mode": {
    "name": "ipython",
    "version": 3
   },
   "file_extension": ".py",
   "mimetype": "text/x-python",
   "name": "python",
   "nbconvert_exporter": "python",
   "pygments_lexer": "ipython3",
   "version": "3.9.5"
  }
 },
 "nbformat": 4,
 "nbformat_minor": 5
}
