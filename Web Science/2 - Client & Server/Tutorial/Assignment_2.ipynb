{
 "cells": [
  {
   "cell_type": "code",
   "execution_count": 19,
   "id": "f4d80bc8",
   "metadata": {},
   "outputs": [
    {
     "name": "stdout",
     "output_type": "stream",
     "text": [
      "Waiting...\n",
      "Host Air-Iryna.fritz.box established connection with ('192.168.178.28', 63146)\n"
     ]
    }
   ],
   "source": [
    "#server\n",
    "import socket                \n",
    "\n",
    "s = socket.socket()\n",
    "host = socket.gethostname()            \n",
    "port = 2222                 \n",
    "\n",
    "s.bind((host,port))\n",
    "\n",
    "print (\"Waiting...\")\n",
    "s.listen(1)                            \n",
    "\n",
    "conn,addr = s.accept()                 \n",
    "print ('Host ' + host +' established connection with', addr)\n",
    "conn.send(b'Thank you for connecting')\n",
    "conn.close()"
   ]
  },
  {
   "cell_type": "code",
   "execution_count": null,
   "id": "066a0c72",
   "metadata": {},
   "outputs": [],
   "source": [
    "#client\n",
    "import socket\n",
    "\n",
    "s = socket.socket()\n",
    "host = socket.gethostname()      \n",
    "port = 2222          \n",
    "s.connect((host,port))\n",
    "\n",
    "print (s.recv(1024))                   \n",
    "s.close()"
   ]
  }
 ],
 "metadata": {
  "kernelspec": {
   "display_name": "Python 3 (ipykernel)",
   "language": "python",
   "name": "python3"
  },
  "language_info": {
   "codemirror_mode": {
    "name": "ipython",
    "version": 3
   },
   "file_extension": ".py",
   "mimetype": "text/x-python",
   "name": "python",
   "nbconvert_exporter": "python",
   "pygments_lexer": "ipython3",
   "version": "3.9.5"
  }
 },
 "nbformat": 4,
 "nbformat_minor": 5
}
