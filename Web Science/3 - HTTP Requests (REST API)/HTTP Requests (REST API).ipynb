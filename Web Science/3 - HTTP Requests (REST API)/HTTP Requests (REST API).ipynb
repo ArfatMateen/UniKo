{
 "cells": [
  {
   "cell_type": "code",
   "execution_count": 1,
   "id": "f4c07de2",
   "metadata": {},
   "outputs": [],
   "source": [
    "import requests"
   ]
  },
  {
   "cell_type": "markdown",
   "id": "0e5f5d37",
   "metadata": {},
   "source": [
    "### Querying Wikipedia REST API"
   ]
  },
  {
   "cell_type": "code",
   "execution_count": 2,
   "id": "09249501",
   "metadata": {},
   "outputs": [],
   "source": [
    "# Making a GET request to Wikipedia\n",
    "# Requesting page is \"five\" which is our group name\n",
    "wiki_response = requests.get(\"https://en.wikipedia.org/w/rest.php/v1/page/five\")"
   ]
  },
  {
   "cell_type": "code",
   "execution_count": 3,
   "id": "b4e42135",
   "metadata": {},
   "outputs": [
    {
     "data": {
      "text/plain": [
       "200"
      ]
     },
     "execution_count": 3,
     "metadata": {},
     "output_type": "execute_result"
    }
   ],
   "source": [
    "# Checking status of the response\n",
    "# Status code: 200, Which means OK\n",
    "wiki_response.status_code"
   ]
  },
  {
   "cell_type": "code",
   "execution_count": 4,
   "id": "80fc48d9",
   "metadata": {},
   "outputs": [],
   "source": [
    "# Getting the data from the response body\n",
    "wiki_response_data =  wiki_response.text"
   ]
  },
  {
   "cell_type": "code",
   "execution_count": 5,
   "id": "4776e5a8",
   "metadata": {
    "scrolled": true
   },
   "outputs": [
    {
     "name": "stdout",
     "output_type": "stream",
     "text": [
      "{\"id\":478465,\"key\":\"Five\",\"title\":\"Five\",\"latest\":{\"id\":955810580,\"timestamp\":\"2020-05-09T22:59:01Z\"},\"content_model\":\"wikitext\",\"license\":{\"url\":\"https://creativecommons.org/licenses/by-sa/3.0/\",\"title\":\"Creative Commons Attribution-Share Alike 3.0\"},\"source\":\"#REDIRECT [[5 (disambiguation)]]\\n\\n{{Redirect category shell|1=\\n{{R from ambiguous page}}\\n}}\"}\n"
     ]
    }
   ],
   "source": [
    "# Printing response data for investigation\n",
    "# data is in JSON format\n",
    "print(wiki_response_data)"
   ]
  },
  {
   "cell_type": "code",
   "execution_count": 6,
   "id": "62669b76",
   "metadata": {},
   "outputs": [
    {
     "name": "stdout",
     "output_type": "stream",
     "text": [
      "Page id:  478465\n",
      "Page title:  Five\n",
      "Page timestamp:  2020-05-09T22:59:01Z\n"
     ]
    }
   ],
   "source": [
    "# Extracting \"Page Id\", \"Page Title\" & \"Page TimeStamp\" from the response body\n",
    "page_id = wiki_response_data[6:12]\n",
    "page_title = wiki_response_data[35:39]\n",
    "page_timestamp = wiki_response_data[79:99]\n",
    "\n",
    "print(\"Page id: \", page_id)\n",
    "print(\"Page title: \", page_title)\n",
    "print(\"Page timestamp: \", page_timestamp)"
   ]
  },
  {
   "cell_type": "markdown",
   "id": "41707ceb",
   "metadata": {},
   "source": [
    "### Querying Pastebin REST API"
   ]
  },
  {
   "cell_type": "code",
   "execution_count": 15,
   "id": "450950e9",
   "metadata": {},
   "outputs": [],
   "source": [
    "# Variables for making a request to Pastebin REST API\n",
    "paste_dev_key = \"YOUR_PASTEBIN_DEVELOPER_KEY\"\n",
    "paste_data = f\"{page_id} {page_title} {page_timestamp}\"\n",
    "paste_endpoint = \"https://pastebin.com/api/api_post.php\""
   ]
  },
  {
   "cell_type": "code",
   "execution_count": 16,
   "id": "26e911bc",
   "metadata": {},
   "outputs": [],
   "source": [
    "paste_vars = {\n",
    "    'api_dev_key': paste_dev_key,\n",
    "    'api_paste_code': paste_data,\n",
    "    'api_paste_name': \"Assignment Paste\",\n",
    "    'api_paste_format':'python',\n",
    "    'api_option': 'paste'\n",
    "    }"
   ]
  },
  {
   "cell_type": "code",
   "execution_count": 17,
   "id": "d2b6e515",
   "metadata": {},
   "outputs": [],
   "source": [
    "# Making a POST request to Pastebin\n",
    "paste_response = requests.post(url=paste_endpoint, data=paste_vars)"
   ]
  },
  {
   "cell_type": "code",
   "execution_count": 18,
   "id": "3e2bd88c",
   "metadata": {},
   "outputs": [
    {
     "data": {
      "text/plain": [
       "200"
      ]
     },
     "execution_count": 18,
     "metadata": {},
     "output_type": "execute_result"
    }
   ],
   "source": [
    "# Checking status of the response\n",
    "# Status code: 200, Which means OK\n",
    "paste_response.status_code"
   ]
  },
  {
   "cell_type": "code",
   "execution_count": 19,
   "id": "e439d3f5",
   "metadata": {},
   "outputs": [],
   "source": [
    "# Storing newly created Pastebin URL of our paste to a file\n",
    "file = open(\"URL of newly created paste.txt\", \"w\")\n",
    "file.write(paste_response.text)\n",
    "file.close()"
   ]
  },
  {
   "cell_type": "code",
   "execution_count": 20,
   "id": "5bdb184d",
   "metadata": {},
   "outputs": [
    {
     "name": "stdout",
     "output_type": "stream",
     "text": [
      "{'Date': 'Sun, 21 Nov 2021 13:24:44 GMT', 'Content-Type': 'text/html; charset=UTF-8', 'Transfer-Encoding': 'chunked', 'Connection': 'keep-alive', 'x-custom-api-dev-id': '8253391', 'set-cookie': 'pastebin_posted=69301983b993d7398b97e9147ad411b2ba0a0ec217c8011c8b8a717252c88232a%3A2%3A%7Bi%3A0%3Bs%3A15%3A%22pastebin_posted%22%3Bi%3A1%3Bs%3A8%3A%22qG1jmvhx%22%3B%7D; expires=Sun, 21-Nov-2021 14:24:44 GMT; Max-Age=3600; path=/; HttpOnly', 'content-encoding': 'gzip', 'CF-Cache-Status': 'DYNAMIC', 'Expect-CT': 'max-age=604800, report-uri=\"https://report-uri.cloudflare.com/cdn-cgi/beacon/expect-ct\"', 'Server': 'cloudflare', 'CF-RAY': '6b1a3d71092d702b-FRA'}\n"
     ]
    }
   ],
   "source": [
    "# Printing HTTP header of the Pastebin response\n",
    "print(str(paste_response.headers))"
   ]
  },
  {
   "cell_type": "code",
   "execution_count": 21,
   "id": "48037533",
   "metadata": {},
   "outputs": [],
   "source": [
    "# Storing HTTP header of the Pastebin response to a file\n",
    "file = open(\"HTTP header.txt\", \"w\")\n",
    "file.write(str(paste_response.headers))\n",
    "file.close()"
   ]
  },
  {
   "cell_type": "code",
   "execution_count": 22,
   "id": "a22514a6",
   "metadata": {},
   "outputs": [
    {
     "name": "stdout",
     "output_type": "stream",
     "text": [
      "478465 Five 2020-05-09T22:59:01Z\n",
      "Follow pastebin URL to see the result: https://pastebin.com/qG1jmvhx\n"
     ]
    }
   ],
   "source": [
    "# Printing posted data and newly created Pastebin URL of our paste\n",
    "print(paste_data)\n",
    "print(f\"Follow pastebin URL to see the result: {paste_response.text}\")"
   ]
  },
  {
   "cell_type": "code",
   "execution_count": null,
   "id": "48e70572",
   "metadata": {},
   "outputs": [],
   "source": []
  }
 ],
 "metadata": {
  "kernelspec": {
   "display_name": "Python 3 (ipykernel)",
   "language": "python",
   "name": "python3"
  },
  "language_info": {
   "codemirror_mode": {
    "name": "ipython",
    "version": 3
   },
   "file_extension": ".py",
   "mimetype": "text/x-python",
   "name": "python",
   "nbconvert_exporter": "python",
   "pygments_lexer": "ipython3",
   "version": "3.9.5"
  }
 },
 "nbformat": 4,
 "nbformat_minor": 5
}
