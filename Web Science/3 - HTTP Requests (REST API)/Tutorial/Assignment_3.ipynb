{
 "cells": [
  {
   "cell_type": "code",
   "execution_count": 104,
   "id": "7a3b391a",
   "metadata": {},
   "outputs": [
    {
     "name": "stderr",
     "output_type": "stream",
     "text": [
      "/Users/irynadubrovska/opt/anaconda3/lib/python3.8/site-packages/ipykernel/ipkernel.py:287: DeprecationWarning: `should_run_async` will not call `transform_cell` automatically in the future. Please pass the result to `transformed_cell` argument and any exception that happen during thetransform in `preprocessing_exc_tuple` in IPython 7.17 and above.\n",
      "  and should_run_async(code)\n"
     ]
    }
   ],
   "source": [
    "import requests"
   ]
  },
  {
   "cell_type": "code",
   "execution_count": 107,
   "id": "40a43a3f",
   "metadata": {},
   "outputs": [
    {
     "name": "stderr",
     "output_type": "stream",
     "text": [
      "/Users/irynadubrovska/opt/anaconda3/lib/python3.8/site-packages/ipykernel/ipkernel.py:287: DeprecationWarning: `should_run_async` will not call `transform_cell` automatically in the future. Please pass the result to `transformed_cell` argument and any exception that happen during thetransform in `preprocessing_exc_tuple` in IPython 7.17 and above.\n",
      "  and should_run_async(code)\n"
     ]
    },
    {
     "name": "stdout",
     "output_type": "stream",
     "text": [
      "7777747 Web_science 2021-05-07T00:03:56Z\n",
      "Follow pastebin URL to see the result: https://pastebin.com/f62XLDVL\n"
     ]
    }
   ],
   "source": [
    "import requests\n",
    "\n",
    "# introduce api-endpoints \n",
    "URL1 = \"https://en.wikipedia.org/w/rest.php/v1/page/Web%20science\"\n",
    "URL2 = \"https://pastebin.com/api/api_post.php\"\n",
    "\n",
    "# API key for pastebin\n",
    "api_key = \"XXXXX\"\n",
    "\n",
    "# sending get request and saving response\n",
    "r1 = requests.get(url = URL1)\n",
    "\n",
    "# extracting data in json format\n",
    "dataGet = r1.json()\n",
    "dataExtract = str(dataGet['id']) + ' ' + (dataGet['key']) +\" \"+ (dataGet['latest']['timestamp'])\n",
    "\n",
    "print (dataExtract)\n",
    "\n",
    "# data to be sent to the api\n",
    "dataSend = {'api_dev_key':api_key,'api_option':'paste','api_paste_code': (dataExtract),'api_paste_format':'python'}\n",
    "\n",
    "# sending post request and saving response\n",
    "r2 = requests.post(url = URL2, data = dataSend)\n",
    "\n",
    "# extracting response information \n",
    "pastebin_data = r2.text\n",
    "r=requests.get(pastebin_data, headers={\"content-type\":\"text\"})\n",
    "print(\"Follow pastebin URL to see the result: %s\"%pastebin_data)\n",
    "#print(r.headers)\n",
    "\n",
    "#save response header in a text file\n",
    "filename = \"response_7.txt\"\n",
    "with open(filename, 'xt') as fd:\n",
    "    fd.write(str(r.headers))\n"
   ]
  },
  {
   "cell_type": "code",
   "execution_count": null,
   "id": "ac6a6dc7",
   "metadata": {},
   "outputs": [],
   "source": []
  }
 ],
 "metadata": {
  "kernelspec": {
   "display_name": "Python 3 (ipykernel)",
   "language": "python",
   "name": "python3"
  },
  "language_info": {
   "codemirror_mode": {
    "name": "ipython",
    "version": 3
   },
   "file_extension": ".py",
   "mimetype": "text/x-python",
   "name": "python",
   "nbconvert_exporter": "python",
   "pygments_lexer": "ipython3",
   "version": "3.9.5"
  }
 },
 "nbformat": 4,
 "nbformat_minor": 5
}
