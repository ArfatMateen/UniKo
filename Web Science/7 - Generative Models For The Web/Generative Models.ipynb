{
 "cells": [
  {
   "cell_type": "code",
   "execution_count": 1,
   "id": "39cf4dd3",
   "metadata": {},
   "outputs": [],
   "source": [
    "import re\n",
    "import string\n",
    "import numpy as np\n",
    "import matplotlib.pyplot as plt"
   ]
  },
  {
   "cell_type": "code",
   "execution_count": 2,
   "id": "e1681ff6",
   "metadata": {},
   "outputs": [],
   "source": [
    "np.set_printoptions(suppress=True)"
   ]
  },
  {
   "cell_type": "code",
   "execution_count": 3,
   "id": "c4294279",
   "metadata": {},
   "outputs": [],
   "source": [
    "file = open(\"Text_sample.txt\")\n",
    "text = file.read()\n",
    "file.close()"
   ]
  },
  {
   "cell_type": "code",
   "execution_count": 4,
   "id": "39f2d274",
   "metadata": {},
   "outputs": [],
   "source": [
    "data = re.sub(\"[^a-z0-9'’\\- \\n]+\", \"\", text.lower())\n",
    "data = re.sub(r\"['’\\-\\n]+\", \" \", data)"
   ]
  },
  {
   "cell_type": "code",
   "execution_count": 5,
   "id": "f3491e89",
   "metadata": {},
   "outputs": [],
   "source": [
    "clean_data = []\n",
    "for w in data.split():\n",
    "    if len(w)> 1 or w == \"a\" or w.isdigit():\n",
    "        clean_data.append(w)"
   ]
  },
  {
   "cell_type": "markdown",
   "id": "5413c983",
   "metadata": {},
   "source": [
    "## Words' length distribution"
   ]
  },
  {
   "cell_type": "code",
   "execution_count": 6,
   "id": "bbd87499",
   "metadata": {},
   "outputs": [],
   "source": [
    "word_length_count = {}\n",
    "for w in clean_data:\n",
    "    if word_length_count.get(len(w), None) == None:\n",
    "        word_length_count[len(w)] = 1\n",
    "    else:\n",
    "        word_length_count[len(w)] += 1"
   ]
  },
  {
   "cell_type": "code",
   "execution_count": 7,
   "id": "257be50f",
   "metadata": {},
   "outputs": [],
   "source": [
    "sorted_word_length_count = dict(sorted(word_length_count.items()))"
   ]
  },
  {
   "cell_type": "code",
   "execution_count": 8,
   "id": "23b8c922",
   "metadata": {},
   "outputs": [],
   "source": [
    "total_word_length_count = sum(sorted_word_length_count.values())\n",
    "\n",
    "word_length_count_prob = []\n",
    "\n",
    "for k,v in sorted_word_length_count.items():\n",
    "    word_length_count_prob.append(v / total_word_length_count)"
   ]
  },
  {
   "cell_type": "code",
   "execution_count": 9,
   "id": "582e1748",
   "metadata": {},
   "outputs": [],
   "source": [
    "cdf_val = 0\n",
    "\n",
    "word_length_count_cdf = []\n",
    "\n",
    "for v in word_length_count_prob:\n",
    "    cdf_val += v\n",
    "    word_length_count_cdf.append(cdf_val)"
   ]
  },
  {
   "cell_type": "code",
   "execution_count": 10,
   "id": "33840dcb",
   "metadata": {},
   "outputs": [],
   "source": [
    "words_length_dist = np.array([list(sorted_word_length_count.keys()), list(sorted_word_length_count.values()), word_length_count_prob, word_length_count_cdf]).T"
   ]
  },
  {
   "cell_type": "code",
   "execution_count": 11,
   "id": "b1d4e838",
   "metadata": {},
   "outputs": [
    {
     "data": {
      "text/plain": [
       "array([[ 1.        , 19.        ,  0.04269663,  0.04269663],\n",
       "       [ 2.        , 72.        ,  0.16179775,  0.20449438],\n",
       "       [ 3.        , 64.        ,  0.14382022,  0.34831461],\n",
       "       [ 4.        , 69.        ,  0.15505618,  0.50337079],\n",
       "       [ 5.        , 44.        ,  0.0988764 ,  0.60224719],\n",
       "       [ 6.        , 30.        ,  0.06741573,  0.66966292],\n",
       "       [ 7.        , 33.        ,  0.0741573 ,  0.74382022],\n",
       "       [ 8.        , 16.        ,  0.03595506,  0.77977528],\n",
       "       [ 9.        , 44.        ,  0.0988764 ,  0.87865169],\n",
       "       [10.        , 20.        ,  0.04494382,  0.92359551],\n",
       "       [11.        , 16.        ,  0.03595506,  0.95955056],\n",
       "       [12.        ,  8.        ,  0.01797753,  0.97752809],\n",
       "       [13.        ,  8.        ,  0.01797753,  0.99550562],\n",
       "       [14.        ,  2.        ,  0.00449438,  1.        ]])"
      ]
     },
     "execution_count": 11,
     "metadata": {},
     "output_type": "execute_result"
    }
   ],
   "source": [
    "words_length_dist"
   ]
  },
  {
   "cell_type": "markdown",
   "id": "1f8e8aec",
   "metadata": {},
   "source": [
    "## Characters' frequency distribution"
   ]
  },
  {
   "cell_type": "code",
   "execution_count": 12,
   "id": "9dde3e1e",
   "metadata": {},
   "outputs": [],
   "source": [
    "char_count = {}\n",
    "for c in \" \".join(clean_data):\n",
    "    if c == ' ':\n",
    "        continue\n",
    "    if char_count.get(c, None) == None:\n",
    "        char_count[c] = 1\n",
    "    else:\n",
    "        char_count[c] += 1"
   ]
  },
  {
   "cell_type": "code",
   "execution_count": 13,
   "id": "98c9dcfb",
   "metadata": {},
   "outputs": [],
   "source": [
    "sorted_char_count = dict(sorted(char_count.items()))"
   ]
  },
  {
   "cell_type": "code",
   "execution_count": 14,
   "id": "aeb0874b",
   "metadata": {},
   "outputs": [],
   "source": [
    "total_chars_count = sum(sorted_char_count.values())\n",
    "\n",
    "char_count_prob = []\n",
    "\n",
    "for k,v in sorted_char_count.items():\n",
    "    char_count_prob.append(v / total_chars_count)"
   ]
  },
  {
   "cell_type": "code",
   "execution_count": 15,
   "id": "c0c0a701",
   "metadata": {},
   "outputs": [],
   "source": [
    "cdf_val = 0\n",
    "\n",
    "char_count_cdf = []\n",
    "\n",
    "for v in char_count_prob:\n",
    "    cdf_val += v\n",
    "    char_count_cdf.append(cdf_val)"
   ]
  },
  {
   "cell_type": "code",
   "execution_count": 16,
   "id": "beeb310e",
   "metadata": {},
   "outputs": [],
   "source": [
    "chars_freq_dist = np.array([list(sorted_char_count.keys()), list(sorted_char_count.values()), char_count_prob, char_count_cdf]).T"
   ]
  },
  {
   "cell_type": "code",
   "execution_count": 17,
   "id": "94c58a74",
   "metadata": {},
   "outputs": [
    {
     "data": {
      "text/plain": [
       "array([['0', '2', '0.0008368200836820083', '0.0008368200836820083'],\n",
       "       ['1', '1', '0.00041841004184100416', '0.0012552301255230125'],\n",
       "       ['2', '1', '0.00041841004184100416', '0.0016736401673640166'],\n",
       "       ['3', '1', '0.00041841004184100416', '0.0020920502092050207'],\n",
       "       ['5', '1', '0.00041841004184100416', '0.002510460251046025'],\n",
       "       ['6', '2', '0.0008368200836820083', '0.0033472803347280333'],\n",
       "       ['8', '1', '0.00041841004184100416', '0.0037656903765690376'],\n",
       "       ['a', '228', '0.09539748953974896', '0.099163179916318'],\n",
       "       ['b', '22', '0.009205020920502092', '0.10836820083682008'],\n",
       "       ['c', '83', '0.03472803347280335', '0.14309623430962343'],\n",
       "       ['d', '75', '0.03138075313807531', '0.17447698744769874'],\n",
       "       ['e', '240', '0.100418410041841', '0.27489539748953973'],\n",
       "       ['f', '61', '0.025523012552301255', '0.300418410041841'],\n",
       "       ['g', '71', '0.029707112970711297', '0.33012552301255227'],\n",
       "       ['h', '85', '0.03556485355648536', '0.36569037656903763'],\n",
       "       ['i', '220', '0.09205020920502092', '0.4577405857740586'],\n",
       "       ['k', '6', '0.002510460251046025', '0.4602510460251046'],\n",
       "       ['l', '121', '0.050627615062761505', '0.5108786610878661'],\n",
       "       ['m', '60', '0.02510460251046025', '0.5359832635983263'],\n",
       "       ['n', '192', '0.0803347280334728', '0.6163179916317991'],\n",
       "       ['o', '127', '0.05313807531380753', '0.6694560669456067'],\n",
       "       ['p', '45', '0.01882845188284519', '0.6882845188284519'],\n",
       "       ['q', '6', '0.002510460251046025', '0.6907949790794979'],\n",
       "       ['r', '118', '0.049372384937238493', '0.7401673640167364'],\n",
       "       ['s', '186', '0.07782426778242678', '0.8179916317991632'],\n",
       "       ['t', '210', '0.08786610878661087', '0.9058577405857741'],\n",
       "       ['u', '87', '0.036401673640167366', '0.9422594142259414'],\n",
       "       ['v', '42', '0.017573221757322177', '0.9598326359832636'],\n",
       "       ['w', '53', '0.022175732217573223', '0.9820083682008368'],\n",
       "       ['x', '3', '0.0012552301255230125', '0.9832635983263598'],\n",
       "       ['y', '27', '0.011297071129707114', '0.9945606694560669'],\n",
       "       ['z', '13', '0.005439330543933054', '1.0']], dtype='<U32')"
      ]
     },
     "execution_count": 17,
     "metadata": {},
     "output_type": "execute_result"
    }
   ],
   "source": [
    "chars_freq_dist"
   ]
  },
  {
   "cell_type": "markdown",
   "id": "312b00aa",
   "metadata": {},
   "source": [
    "## Words generation"
   ]
  },
  {
   "cell_type": "code",
   "execution_count": 18,
   "id": "74375eb5",
   "metadata": {},
   "outputs": [],
   "source": [
    "words = []\n",
    "\n",
    "for _ in range(5000):\n",
    "    rnd_val = np.random.rand()\n",
    "    min_val = 10000000\n",
    "    word_length = 0\n",
    "    \n",
    "    for w in words_length_dist:\n",
    "        if min_val > w[3] and w[3] > rnd_val:\n",
    "            min_val = w[3]\n",
    "            word_length = int(w[0])\n",
    "\n",
    "\n",
    "    word = \"\"\n",
    "    for _ in range(word_length):\n",
    "        rnd_val = np.random.rand()\n",
    "        min_val = 10000000\n",
    "        char = \"\"\n",
    "\n",
    "        for c in chars_freq_dist:\n",
    "            if min_val > float(c[3]) and float(c[3]) > rnd_val:\n",
    "                min_val = float(c[3])\n",
    "                char = c[0]\n",
    "\n",
    "        word += char\n",
    "\n",
    "\n",
    "    words.append(word)"
   ]
  },
  {
   "cell_type": "code",
   "execution_count": 19,
   "id": "74728816",
   "metadata": {},
   "outputs": [],
   "source": [
    "file = open(\"Gnerated_Text.txt\", \"w\")\n",
    "file.write(\" \".join(words))\n",
    "file.close()"
   ]
  },
  {
   "cell_type": "markdown",
   "id": "26c286cb",
   "metadata": {},
   "source": [
    "## Generated words' length distribution"
   ]
  },
  {
   "cell_type": "code",
   "execution_count": 20,
   "id": "ddc5ef64",
   "metadata": {},
   "outputs": [],
   "source": [
    "gen_word_length_count = {}\n",
    "for w in words:\n",
    "    if gen_word_length_count.get(len(w), None) == None:\n",
    "        gen_word_length_count[len(w)] = 1\n",
    "    else:\n",
    "        gen_word_length_count[len(w)] += 1"
   ]
  },
  {
   "cell_type": "code",
   "execution_count": 21,
   "id": "82e199e3",
   "metadata": {},
   "outputs": [],
   "source": [
    "sorted_gen_word_length_count = dict(sorted(gen_word_length_count.items()))"
   ]
  },
  {
   "cell_type": "code",
   "execution_count": 22,
   "id": "6c3e6fa7",
   "metadata": {},
   "outputs": [],
   "source": [
    "total_word_length_count = sum(sorted_gen_word_length_count.values())\n",
    "\n",
    "gen_word_length_count_prob = []\n",
    "\n",
    "for k,v in sorted_gen_word_length_count.items():\n",
    "    gen_word_length_count_prob.append(v / total_word_length_count)"
   ]
  },
  {
   "cell_type": "code",
   "execution_count": 23,
   "id": "29aff7a3",
   "metadata": {},
   "outputs": [],
   "source": [
    "gen_word_length_dist = np.array([list(sorted_gen_word_length_count.keys()), list(sorted_gen_word_length_count.values()), gen_word_length_count_prob]).T"
   ]
  },
  {
   "cell_type": "code",
   "execution_count": 24,
   "id": "9afc8fe7",
   "metadata": {},
   "outputs": [
    {
     "data": {
      "text/plain": [
       "array([[  1.    , 208.    ,   0.0416],\n",
       "       [  2.    , 838.    ,   0.1676],\n",
       "       [  3.    , 758.    ,   0.1516],\n",
       "       [  4.    , 771.    ,   0.1542],\n",
       "       [  5.    , 499.    ,   0.0998],\n",
       "       [  6.    , 339.    ,   0.0678],\n",
       "       [  7.    , 365.    ,   0.073 ],\n",
       "       [  8.    , 166.    ,   0.0332],\n",
       "       [  9.    , 475.    ,   0.095 ],\n",
       "       [ 10.    , 186.    ,   0.0372],\n",
       "       [ 11.    , 180.    ,   0.036 ],\n",
       "       [ 12.    ,  92.    ,   0.0184],\n",
       "       [ 13.    , 100.    ,   0.02  ],\n",
       "       [ 14.    ,  23.    ,   0.0046]])"
      ]
     },
     "execution_count": 24,
     "metadata": {},
     "output_type": "execute_result"
    }
   ],
   "source": [
    "gen_word_length_dist"
   ]
  },
  {
   "cell_type": "code",
   "execution_count": 25,
   "id": "84bd80e4",
   "metadata": {},
   "outputs": [],
   "source": [
    "colors = [plt.cm.tab10(i) for i in range(2)]"
   ]
  },
  {
   "cell_type": "code",
   "execution_count": 26,
   "id": "3059b806",
   "metadata": {},
   "outputs": [
    {
     "data": {
      "text/plain": [
       "<matplotlib.legend.Legend at 0x7fe4498f21f0>"
      ]
     },
     "execution_count": 26,
     "metadata": {},
     "output_type": "execute_result"
    },
    {
     "data": {
      "image/png": "[encoded data removed]",
      "text/plain": [
       "<Figure size 720x432 with 1 Axes>"
      ]
     },
     "metadata": {
      "needs_background": "light"
     },
     "output_type": "display_data"
    }
   ],
   "source": [
    "fig = plt.figure(figsize=(10, 6))\n",
    "ax = fig.add_axes([0,0,1,1])\n",
    "\n",
    "ax.scatter(word_length_count.keys(), word_length_count_prob, s=30, color=colors[0], label=\"Original Text\")\n",
    "ax.scatter(gen_word_length_count.keys(), gen_word_length_count_prob, s=30, color=colors[1], label=\"Generated Text\")\n",
    "\n",
    "ax.set(xlabel=\"Word Length\", ylabel=\"Relative Frequency\", title=\"Word length probability distribution\")\n",
    "ax.grid(alpha = 0.2)\n",
    "ax.legend()"
   ]
  },
  {
   "cell_type": "code",
   "execution_count": 27,
   "id": "ee98da7b",
   "metadata": {},
   "outputs": [],
   "source": [
    "fig.savefig(\"Word_Length.png\", \n",
    "            dpi=100, \n",
    "            bbox_inches =\"tight\",\n",
    "            pad_inches = 0.5,\n",
    "            facecolor =\"w\")"
   ]
  },
  {
   "cell_type": "code",
   "execution_count": null,
   "id": "f489fedf",
   "metadata": {},
   "outputs": [],
   "source": []
  }
 ],
 "metadata": {
  "kernelspec": {
   "display_name": "Python 3 (ipykernel)",
   "language": "python",
   "name": "python3"
  },
  "language_info": {
   "codemirror_mode": {
    "name": "ipython",
    "version": 3
   },
   "file_extension": ".py",
   "mimetype": "text/x-python",
   "name": "python",
   "nbconvert_exporter": "python",
   "pygments_lexer": "ipython3",
   "version": "3.9.5"
  }
 },
 "nbformat": 4,
 "nbformat_minor": 5
}
