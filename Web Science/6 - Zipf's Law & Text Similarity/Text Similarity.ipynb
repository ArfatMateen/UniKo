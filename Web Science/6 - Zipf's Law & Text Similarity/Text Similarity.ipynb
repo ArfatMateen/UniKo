{
 "cells": [
  {
   "cell_type": "code",
   "execution_count": 1,
   "id": "32639b20",
   "metadata": {},
   "outputs": [],
   "source": [
    "import re\n",
    "import nltk\n",
    "import math\n",
    "import pandas as pd\n",
    "from nltk.tokenize import word_tokenize"
   ]
  },
  {
   "cell_type": "code",
   "execution_count": 2,
   "id": "cd5c81aa",
   "metadata": {},
   "outputs": [],
   "source": [
    "def calculate_jaccard_score(words1, words2):\n",
    "    set1 = set(words1)\n",
    "    set2 = set(words2)\n",
    "    return float(len(set1.intersection(set2)) / float(len(set1.union(set2))))"
   ]
  },
  {
   "cell_type": "code",
   "execution_count": 3,
   "id": "3c9789cd",
   "metadata": {},
   "outputs": [],
   "source": [
    "def calculate_euclidean_distance(v1, v2):\n",
    "    all_keys = set(v1.keys()).union(set(v2.keys()))\n",
    "    return math.sqrt(sum([(v1[key] - v2[key]) ** 2 for key in all_keys]))"
   ]
  },
  {
   "cell_type": "code",
   "execution_count": 4,
   "id": "0cbfbb9f",
   "metadata": {},
   "outputs": [],
   "source": [
    "def calculate_cosine_distance(v1, v2):\n",
    "    common_keys = set(v1.keys()) & set(v2.keys())\n",
    "    scalar_product = sum([v1[key] * v2[key] for key in common_keys])\n",
    "\n",
    "    v1_length = math.sqrt(sum([v1[key] ** 2 for key in v1.keys()]))\n",
    "    v2_length = math.sqrt(sum([v2[key] ** 2 for key in v2.keys()]))\n",
    "    vectors_length_product = v1_length * v2_length\n",
    "\n",
    "    return float(scalar_product) / vectors_length_product"
   ]
  },
  {
   "cell_type": "code",
   "execution_count": 5,
   "id": "ad6f4b5a",
   "metadata": {},
   "outputs": [],
   "source": [
    "def get_words(text):\n",
    "    clean_text = re.sub('[^a-z \\n]+', '', text)\n",
    "    words = word_tokenize(clean_text)\n",
    "    return words"
   ]
  },
  {
   "cell_type": "code",
   "execution_count": 6,
   "id": "23cd8b9d",
   "metadata": {},
   "outputs": [],
   "source": [
    "file = open(\"Text_0.txt\")\n",
    "text0 = file.read()\n",
    "file.close()\n",
    "\n",
    "file = open(\"Text_1.txt\")\n",
    "text1 = file.read()\n",
    "file.close()\n",
    "\n",
    "file = open(\"Text_2.txt\")\n",
    "text2 = file.read()\n",
    "file.close()"
   ]
  },
  {
   "cell_type": "code",
   "execution_count": 7,
   "id": "128d1bb3",
   "metadata": {},
   "outputs": [],
   "source": [
    "# text0 = \"a a a b b a a b a b\"\n",
    "# text1 = \"a b b\"\n",
    "# text2 = \"a a b\"\n",
    "\n",
    "words0 = get_words(text0)\n",
    "words1 = get_words(text1)\n",
    "words2 = get_words(text2)\n",
    "\n",
    "vector0 = nltk.FreqDist(words0)\n",
    "vector1 = nltk.FreqDist(words1)\n",
    "vector2 = nltk.FreqDist(words2)"
   ]
  },
  {
   "cell_type": "markdown",
   "id": "45acde47",
   "metadata": {},
   "source": [
    "## Pairwise score for: Text_0 & Text_1"
   ]
  },
  {
   "cell_type": "code",
   "execution_count": 8,
   "id": "363ab68d",
   "metadata": {},
   "outputs": [
    {
     "name": "stdout",
     "output_type": "stream",
     "text": [
      "Jaccard Score: 0.11731843575418995\n",
      "\n",
      "Euclidean Distance: 28.35489375751565\n",
      "\n",
      "Cosine Similarity: 0.46550057101165204\n",
      "Inv Cos: 1.0865962130909104\n"
     ]
    }
   ],
   "source": [
    "jaccard_score = calculate_jaccard_score(words0, words1)\n",
    "\n",
    "euclidean_distance = calculate_euclidean_distance(vector0, vector1)\n",
    "\n",
    "cosine = calculate_cosine_distance(vector0, vector1)\n",
    "\n",
    "print(\"Jaccard Score:\", jaccard_score)\n",
    "print(\"\")\n",
    "print(\"Euclidean Distance:\", euclidean_distance)\n",
    "print(\"\")\n",
    "print(\"Cosine Similarity:\", cosine)\n",
    "print(\"Inv Cos:\", math.acos(cosine))"
   ]
  },
  {
   "cell_type": "markdown",
   "id": "acf1b53f",
   "metadata": {},
   "source": [
    "## Pairwise score for: Text_0 & Text_2"
   ]
  },
  {
   "cell_type": "code",
   "execution_count": 9,
   "id": "a79bcd55",
   "metadata": {},
   "outputs": [
    {
     "name": "stdout",
     "output_type": "stream",
     "text": [
      "Jaccard Score: 0.12686567164179105\n",
      "\n",
      "Euclidean Distance: 44.12482294582042\n",
      "\n",
      "Cosine Similarity: 0.3779751907941922\n",
      "Inv Cos: 1.1831880635814898\n"
     ]
    }
   ],
   "source": [
    "jaccard_score = calculate_jaccard_score(words0, words2)\n",
    "\n",
    "euclidean_distance = calculate_euclidean_distance(vector0, vector2)\n",
    "\n",
    "cosine = calculate_cosine_distance(vector0, vector2)\n",
    "\n",
    "print(\"Jaccard Score:\", jaccard_score)\n",
    "print(\"\")\n",
    "print(\"Euclidean Distance:\", euclidean_distance)\n",
    "print(\"\")\n",
    "print(\"Cosine Similarity:\", cosine)\n",
    "print(\"Inv Cos:\", math.acos(cosine))"
   ]
  },
  {
   "cell_type": "markdown",
   "id": "7c1f9945",
   "metadata": {},
   "source": [
    "## Pairwise score for: Text_1 & Text_2"
   ]
  },
  {
   "cell_type": "code",
   "execution_count": 10,
   "id": "555bf875",
   "metadata": {},
   "outputs": [
    {
     "name": "stdout",
     "output_type": "stream",
     "text": [
      "Jaccard Score: 0.13108614232209737\n",
      "\n",
      "Euclidean Distance: 37.61648574760805\n",
      "\n",
      "Cosine Similarity: 0.5953737487026086\n",
      "Inv Cos: 0.9330655777860906\n"
     ]
    }
   ],
   "source": [
    "jaccard_score = calculate_jaccard_score(words1, words2)\n",
    "\n",
    "euclidean_distance = calculate_euclidean_distance(vector1, vector2)\n",
    "\n",
    "cosine = calculate_cosine_distance(vector1, vector2)\n",
    "\n",
    "print(\"Jaccard Score:\", jaccard_score)\n",
    "print(\"\")\n",
    "print(\"Euclidean Distance:\", euclidean_distance)\n",
    "print(\"\")\n",
    "print(\"Cosine Similarity:\", cosine)\n",
    "print(\"Inv Cos:\", math.acos(cosine))"
   ]
  },
  {
   "cell_type": "code",
   "execution_count": null,
   "id": "c85f28c1",
   "metadata": {},
   "outputs": [],
   "source": []
  }
 ],
 "metadata": {
  "kernelspec": {
   "display_name": "Python 3 (ipykernel)",
   "language": "python",
   "name": "python3"
  },
  "language_info": {
   "codemirror_mode": {
    "name": "ipython",
    "version": 3
   },
   "file_extension": ".py",
   "mimetype": "text/x-python",
   "name": "python",
   "nbconvert_exporter": "python",
   "pygments_lexer": "ipython3",
   "version": "3.9.5"
  }
 },
 "nbformat": 4,
 "nbformat_minor": 5
}
