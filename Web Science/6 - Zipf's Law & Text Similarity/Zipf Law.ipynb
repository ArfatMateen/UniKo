{
 "cells": [
  {
   "cell_type": "code",
   "execution_count": 1,
   "id": "3d7b94f4",
   "metadata": {},
   "outputs": [],
   "source": [
    "import re\n",
    "import nltk\n",
    "import pandas as pd\n",
    "from collections import Counter\n",
    "from nltk.tokenize import word_tokenize\n",
    "\n",
    "import matplotlib.pyplot as plt"
   ]
  },
  {
   "cell_type": "code",
   "execution_count": 2,
   "id": "1bda0fd7",
   "metadata": {},
   "outputs": [],
   "source": [
    "# pd.set_option(\"display.max_rows\", None, \"display.max_columns\", None)"
   ]
  },
  {
   "cell_type": "code",
   "execution_count": 3,
   "id": "04a0b2b4",
   "metadata": {},
   "outputs": [],
   "source": [
    "file = open(\"Text_3.txt\")\n",
    "text = file.read()\n",
    "file.close()"
   ]
  },
  {
   "cell_type": "code",
   "execution_count": 4,
   "id": "fb697f8b",
   "metadata": {},
   "outputs": [],
   "source": [
    "text = text.lower()"
   ]
  },
  {
   "cell_type": "code",
   "execution_count": 5,
   "id": "8d38c621",
   "metadata": {},
   "outputs": [],
   "source": [
    "clean_text = re.sub('[^a-z \\n]+', '', text)"
   ]
  },
  {
   "cell_type": "code",
   "execution_count": 6,
   "id": "f7e14022",
   "metadata": {},
   "outputs": [],
   "source": [
    "words = word_tokenize(clean_text)"
   ]
  },
  {
   "cell_type": "code",
   "execution_count": 7,
   "id": "db2a0bec",
   "metadata": {},
   "outputs": [],
   "source": [
    "frquent_words = Counter(words).most_common()"
   ]
  },
  {
   "cell_type": "code",
   "execution_count": 14,
   "id": "9e8754a0",
   "metadata": {},
   "outputs": [
    {
     "data": {
      "text/plain": [
       "[('the', 579),\n",
       " ('of', 434),\n",
       " ('a', 298),\n",
       " ('in', 258),\n",
       " ('to', 252),\n",
       " ('is', 243),\n",
       " ('that', 215),\n",
       " ('and', 208),\n",
       " ('for', 135),\n",
       " ('frequency', 129)]"
      ]
     },
     "execution_count": 14,
     "metadata": {},
     "output_type": "execute_result"
    }
   ],
   "source": [
    "frquent_words[:10]"
   ]
  },
  {
   "cell_type": "code",
   "execution_count": 9,
   "id": "28f509f0",
   "metadata": {},
   "outputs": [],
   "source": [
    "df = pd.DataFrame(frquent_words, columns=['Word', 'Frequency'])"
   ]
  },
  {
   "cell_type": "code",
   "execution_count": 10,
   "id": "9c274fcf",
   "metadata": {},
   "outputs": [],
   "source": [
    "df[\"Rank\"] = df[\"Frequency\"].rank(method=\"dense\", ascending=False)"
   ]
  },
  {
   "cell_type": "code",
   "execution_count": 11,
   "id": "073f0f84",
   "metadata": {},
   "outputs": [
    {
     "data": {
      "text/html": [
       "<div>\n",
       "<style scoped>\n",
       "    .dataframe tbody tr th:only-of-type {\n",
       "        vertical-align: middle;\n",
       "    }\n",
       "\n",
       "    .dataframe tbody tr th {\n",
       "        vertical-align: top;\n",
       "    }\n",
       "\n",
       "    .dataframe thead th {\n",
       "        text-align: right;\n",
       "    }\n",
       "</style>\n",
       "<table border=\"1\" class=\"dataframe\">\n",
       "  <thead>\n",
       "    <tr style=\"text-align: right;\">\n",
       "      <th></th>\n",
       "      <th>Word</th>\n",
       "      <th>Frequency</th>\n",
       "      <th>Rank</th>\n",
       "    </tr>\n",
       "  </thead>\n",
       "  <tbody>\n",
       "    <tr>\n",
       "      <th>0</th>\n",
       "      <td>the</td>\n",
       "      <td>579</td>\n",
       "      <td>1.0</td>\n",
       "    </tr>\n",
       "    <tr>\n",
       "      <th>1</th>\n",
       "      <td>of</td>\n",
       "      <td>434</td>\n",
       "      <td>2.0</td>\n",
       "    </tr>\n",
       "    <tr>\n",
       "      <th>2</th>\n",
       "      <td>a</td>\n",
       "      <td>298</td>\n",
       "      <td>3.0</td>\n",
       "    </tr>\n",
       "    <tr>\n",
       "      <th>3</th>\n",
       "      <td>in</td>\n",
       "      <td>258</td>\n",
       "      <td>4.0</td>\n",
       "    </tr>\n",
       "    <tr>\n",
       "      <th>4</th>\n",
       "      <td>to</td>\n",
       "      <td>252</td>\n",
       "      <td>5.0</td>\n",
       "    </tr>\n",
       "    <tr>\n",
       "      <th>...</th>\n",
       "      <td>...</td>\n",
       "      <td>...</td>\n",
       "      <td>...</td>\n",
       "    </tr>\n",
       "    <tr>\n",
       "      <th>2037</th>\n",
       "      <td>input</td>\n",
       "      <td>1</td>\n",
       "      <td>68.0</td>\n",
       "    </tr>\n",
       "    <tr>\n",
       "      <th>2038</th>\n",
       "      <td>responsibility</td>\n",
       "      <td>1</td>\n",
       "      <td>68.0</td>\n",
       "    </tr>\n",
       "    <tr>\n",
       "      <th>2039</th>\n",
       "      <td>necessarily</td>\n",
       "      <td>1</td>\n",
       "      <td>68.0</td>\n",
       "    </tr>\n",
       "    <tr>\n",
       "      <th>2040</th>\n",
       "      <td>official</td>\n",
       "      <td>1</td>\n",
       "      <td>68.0</td>\n",
       "    </tr>\n",
       "    <tr>\n",
       "      <th>2041</th>\n",
       "      <td>views</td>\n",
       "      <td>1</td>\n",
       "      <td>68.0</td>\n",
       "    </tr>\n",
       "  </tbody>\n",
       "</table>\n",
       "<p>2042 rows × 3 columns</p>\n",
       "</div>"
      ],
      "text/plain": [
       "                Word  Frequency  Rank\n",
       "0                the        579   1.0\n",
       "1                 of        434   2.0\n",
       "2                  a        298   3.0\n",
       "3                 in        258   4.0\n",
       "4                 to        252   5.0\n",
       "...              ...        ...   ...\n",
       "2037           input          1  68.0\n",
       "2038  responsibility          1  68.0\n",
       "2039     necessarily          1  68.0\n",
       "2040        official          1  68.0\n",
       "2041           views          1  68.0\n",
       "\n",
       "[2042 rows x 3 columns]"
      ]
     },
     "execution_count": 11,
     "metadata": {},
     "output_type": "execute_result"
    }
   ],
   "source": [
    "df"
   ]
  },
  {
   "cell_type": "code",
   "execution_count": 12,
   "id": "0c41b257",
   "metadata": {},
   "outputs": [
    {
     "data": {
      "image/png": "[encoded data removed]",
      "text/plain": [
       "<Figure size 720x432 with 1 Axes>"
      ]
     },
     "metadata": {
      "needs_background": "light"
     },
     "output_type": "display_data"
    }
   ],
   "source": [
    "fig = plt.figure(figsize=(10, 6))\n",
    "ax = fig.add_axes([0,0,1,1])\n",
    "\n",
    "ax.bar(df[\"Rank\"], df[\"Frequency\"])\n",
    "\n",
    "ax.set(xlabel=\"Word Rank\", ylabel=\"Frequency\", title=\"Frequency Distribution\")\n",
    "ax.grid(alpha = 0.2)"
   ]
  },
  {
   "cell_type": "code",
   "execution_count": 13,
   "id": "1d1e681f",
   "metadata": {},
   "outputs": [
    {
     "data": {
      "image/png": "[encoded data removed]",
      "text/plain": [
       "<Figure size 720x432 with 1 Axes>"
      ]
     },
     "metadata": {
      "needs_background": "light"
     },
     "output_type": "display_data"
    }
   ],
   "source": [
    "fig = plt.figure(figsize=(10, 6))\n",
    "ax = fig.add_axes([0,0,1,1])\n",
    "\n",
    "ax.scatter(df[\"Rank\"], df[\"Frequency\"] * df[\"Rank\"], s=20)\n",
    "\n",
    "ax.set(xlabel=\"Word Rank\", ylabel=\"Frequency * Word Rank\", title=\"Frequency Distribution\")\n",
    "ax.grid(alpha = 0.2)"
   ]
  },
  {
   "cell_type": "markdown",
   "id": "c0478ee9",
   "metadata": {},
   "source": [
    "## What can you say about the conformance of the data to Zipf’s law?"
   ]
  },
  {
   "cell_type": "markdown",
   "id": "fa7c1eb1",
   "metadata": {},
   "source": [
    "It apears from graph that zipf low roughly hold true from rank 10 to 50 but the rest of the graph deviate from zipf law"
   ]
  },
  {
   "cell_type": "code",
   "execution_count": null,
   "id": "7d86f032",
   "metadata": {},
   "outputs": [],
   "source": []
  }
 ],
 "metadata": {
  "kernelspec": {
   "display_name": "Python 3 (ipykernel)",
   "language": "python",
   "name": "python3"
  },
  "language_info": {
   "codemirror_mode": {
    "name": "ipython",
    "version": 3
   },
   "file_extension": ".py",
   "mimetype": "text/x-python",
   "name": "python",
   "nbconvert_exporter": "python",
   "pygments_lexer": "ipython3",
   "version": "3.9.5"
  }
 },
 "nbformat": 4,
 "nbformat_minor": 5
}
