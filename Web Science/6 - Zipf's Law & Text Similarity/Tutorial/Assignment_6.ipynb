{
 "cells": [
  {
   "cell_type": "markdown",
   "id": "43930d61",
   "metadata": {},
   "source": [
    "# Zipf's law"
   ]
  },
  {
   "cell_type": "code",
   "execution_count": 196,
   "id": "b6a44a64",
   "metadata": {},
   "outputs": [],
   "source": [
    "import nltk\n",
    "import matplotlib as plt\n",
    "import pandas as pd\n",
    "from collections import Counter\n",
    "import re"
   ]
  },
  {
   "cell_type": "code",
   "execution_count": 197,
   "id": "3130c7f6",
   "metadata": {},
   "outputs": [],
   "source": [
    "data = open('Text_3.txt', 'r').read().lower()\n",
    "result = re.sub(r'[0-9\\.]+', '', data)\n",
    "tokenizer = nltk.RegexpTokenizer(r\"\\w+\")\n",
    "new_words = tokenizer.tokenize(result)"
   ]
  },
  {
   "cell_type": "code",
   "execution_count": 198,
   "id": "def2ba93",
   "metadata": {},
   "outputs": [],
   "source": [
    "#resolving the situation with words' remains such as \"s\" in Zipf's, \"n\", \"d\" in n.d. etc.\n",
    "cleaned = []\n",
    "for i in new_words:\n",
    "    if len(i)> 1 or i == \"a\":\n",
    "        cleaned.append(i)"
   ]
  },
  {
   "cell_type": "code",
   "execution_count": 199,
   "id": "bdf31ce8",
   "metadata": {},
   "outputs": [
    {
     "data": {
      "text/plain": [
       "(1982, 1962)"
      ]
     },
     "execution_count": 199,
     "metadata": {},
     "output_type": "execute_result"
    }
   ],
   "source": [
    "len(set(new_words)), len(set(cleaned))"
   ]
  },
  {
   "cell_type": "code",
   "execution_count": 200,
   "id": "126ffc83",
   "metadata": {},
   "outputs": [
    {
     "data": {
      "text/html": [
       "<div>\n",
       "<style scoped>\n",
       "    .dataframe tbody tr th:only-of-type {\n",
       "        vertical-align: middle;\n",
       "    }\n",
       "\n",
       "    .dataframe tbody tr th {\n",
       "        vertical-align: top;\n",
       "    }\n",
       "\n",
       "    .dataframe thead th {\n",
       "        text-align: right;\n",
       "    }\n",
       "</style>\n",
       "<table border=\"1\" class=\"dataframe\">\n",
       "  <thead>\n",
       "    <tr style=\"text-align: right;\">\n",
       "      <th></th>\n",
       "      <th>word</th>\n",
       "      <th>freq</th>\n",
       "    </tr>\n",
       "  </thead>\n",
       "  <tbody>\n",
       "    <tr>\n",
       "      <th>1</th>\n",
       "      <td>the</td>\n",
       "      <td>580</td>\n",
       "    </tr>\n",
       "    <tr>\n",
       "      <th>4</th>\n",
       "      <td>of</td>\n",
       "      <td>438</td>\n",
       "    </tr>\n",
       "    <tr>\n",
       "      <th>8</th>\n",
       "      <td>a</td>\n",
       "      <td>301</td>\n",
       "    </tr>\n",
       "    <tr>\n",
       "      <th>12</th>\n",
       "      <td>in</td>\n",
       "      <td>263</td>\n",
       "    </tr>\n",
       "    <tr>\n",
       "      <th>54</th>\n",
       "      <td>to</td>\n",
       "      <td>252</td>\n",
       "    </tr>\n",
       "    <tr>\n",
       "      <th>...</th>\n",
       "      <td>...</td>\n",
       "      <td>...</td>\n",
       "    </tr>\n",
       "    <tr>\n",
       "      <th>1171</th>\n",
       "      <td>jordan</td>\n",
       "      <td>1</td>\n",
       "    </tr>\n",
       "    <tr>\n",
       "      <th>1172</th>\n",
       "      <td>steyvers</td>\n",
       "      <td>1</td>\n",
       "    </tr>\n",
       "    <tr>\n",
       "      <th>1173</th>\n",
       "      <td>griffiths</td>\n",
       "      <td>1</td>\n",
       "    </tr>\n",
       "    <tr>\n",
       "      <th>1175</th>\n",
       "      <td>dumais</td>\n",
       "      <td>1</td>\n",
       "    </tr>\n",
       "    <tr>\n",
       "      <th>1961</th>\n",
       "      <td>views</td>\n",
       "      <td>1</td>\n",
       "    </tr>\n",
       "  </tbody>\n",
       "</table>\n",
       "<p>1962 rows × 2 columns</p>\n",
       "</div>"
      ],
      "text/plain": [
       "           word  freq\n",
       "1           the   580\n",
       "4            of   438\n",
       "8             a   301\n",
       "12           in   263\n",
       "54           to   252\n",
       "...         ...   ...\n",
       "1171     jordan     1\n",
       "1172   steyvers     1\n",
       "1173  griffiths     1\n",
       "1175     dumais     1\n",
       "1961      views     1\n",
       "\n",
       "[1962 rows x 2 columns]"
      ]
     },
     "execution_count": 200,
     "metadata": {},
     "output_type": "execute_result"
    }
   ],
   "source": [
    "freq = Counter(cleaned)\n",
    "df = pd.DataFrame.from_dict(freq, orient='index').reset_index()\n",
    "df = df.rename(columns={'index':'word', 0:'freq'})\n",
    "df.sort_values(by=['freq'], ascending=False, inplace=True)\n",
    "df"
   ]
  },
  {
   "cell_type": "code",
   "execution_count": 201,
   "id": "1ce0312a",
   "metadata": {},
   "outputs": [
    {
     "data": {
      "text/html": [
       "<div>\n",
       "<style scoped>\n",
       "    .dataframe tbody tr th:only-of-type {\n",
       "        vertical-align: middle;\n",
       "    }\n",
       "\n",
       "    .dataframe tbody tr th {\n",
       "        vertical-align: top;\n",
       "    }\n",
       "\n",
       "    .dataframe thead th {\n",
       "        text-align: right;\n",
       "    }\n",
       "</style>\n",
       "<table border=\"1\" class=\"dataframe\">\n",
       "  <thead>\n",
       "    <tr style=\"text-align: right;\">\n",
       "      <th></th>\n",
       "      <th>word</th>\n",
       "      <th>freq</th>\n",
       "      <th>rank</th>\n",
       "    </tr>\n",
       "  </thead>\n",
       "  <tbody>\n",
       "    <tr>\n",
       "      <th>1</th>\n",
       "      <td>the</td>\n",
       "      <td>580</td>\n",
       "      <td>1.0</td>\n",
       "    </tr>\n",
       "    <tr>\n",
       "      <th>4</th>\n",
       "      <td>of</td>\n",
       "      <td>438</td>\n",
       "      <td>2.0</td>\n",
       "    </tr>\n",
       "    <tr>\n",
       "      <th>8</th>\n",
       "      <td>a</td>\n",
       "      <td>301</td>\n",
       "      <td>3.0</td>\n",
       "    </tr>\n",
       "    <tr>\n",
       "      <th>12</th>\n",
       "      <td>in</td>\n",
       "      <td>263</td>\n",
       "      <td>4.0</td>\n",
       "    </tr>\n",
       "    <tr>\n",
       "      <th>54</th>\n",
       "      <td>to</td>\n",
       "      <td>252</td>\n",
       "      <td>5.0</td>\n",
       "    </tr>\n",
       "    <tr>\n",
       "      <th>...</th>\n",
       "      <td>...</td>\n",
       "      <td>...</td>\n",
       "      <td>...</td>\n",
       "    </tr>\n",
       "    <tr>\n",
       "      <th>1171</th>\n",
       "      <td>jordan</td>\n",
       "      <td>1</td>\n",
       "      <td>1490.0</td>\n",
       "    </tr>\n",
       "    <tr>\n",
       "      <th>1172</th>\n",
       "      <td>steyvers</td>\n",
       "      <td>1</td>\n",
       "      <td>1490.0</td>\n",
       "    </tr>\n",
       "    <tr>\n",
       "      <th>1173</th>\n",
       "      <td>griffiths</td>\n",
       "      <td>1</td>\n",
       "      <td>1490.0</td>\n",
       "    </tr>\n",
       "    <tr>\n",
       "      <th>1175</th>\n",
       "      <td>dumais</td>\n",
       "      <td>1</td>\n",
       "      <td>1490.0</td>\n",
       "    </tr>\n",
       "    <tr>\n",
       "      <th>1961</th>\n",
       "      <td>views</td>\n",
       "      <td>1</td>\n",
       "      <td>1490.0</td>\n",
       "    </tr>\n",
       "  </tbody>\n",
       "</table>\n",
       "<p>1962 rows × 3 columns</p>\n",
       "</div>"
      ],
      "text/plain": [
       "           word  freq    rank\n",
       "1           the   580     1.0\n",
       "4            of   438     2.0\n",
       "8             a   301     3.0\n",
       "12           in   263     4.0\n",
       "54           to   252     5.0\n",
       "...         ...   ...     ...\n",
       "1171     jordan     1  1490.0\n",
       "1172   steyvers     1  1490.0\n",
       "1173  griffiths     1  1490.0\n",
       "1175     dumais     1  1490.0\n",
       "1961      views     1  1490.0\n",
       "\n",
       "[1962 rows x 3 columns]"
      ]
     },
     "execution_count": 201,
     "metadata": {},
     "output_type": "execute_result"
    }
   ],
   "source": [
    "df['rank'] = df['freq'].rank(ascending = False)\n",
    "df"
   ]
  },
  {
   "cell_type": "code",
   "execution_count": 204,
   "id": "91f2b18e",
   "metadata": {},
   "outputs": [
    {
     "data": {
      "text/plain": [
       "<AxesSubplot:xlabel='rank', ylabel='freq'>"
      ]
     },
     "execution_count": 204,
     "metadata": {},
     "output_type": "execute_result"
    },
    {
     "data": {
      "image/png": "[encoded data removed]",
      "text/plain": [
       "<Figure size 432x288 with 1 Axes>"
      ]
     },
     "metadata": {
      "needs_background": "light"
     },
     "output_type": "display_data"
    }
   ],
   "source": [
    "df.plot(x=\"rank\", y=\"freq\" , kind = 'scatter',loglog = True)\n",
    "#if you rank according to the index, you will get horisontal lines instead of dots (similar to the plot in the lecture)"
   ]
  },
  {
   "cell_type": "code",
   "execution_count": 206,
   "id": "17130d8d",
   "metadata": {},
   "outputs": [
    {
     "data": {
      "text/html": [
       "<div>\n",
       "<style scoped>\n",
       "    .dataframe tbody tr th:only-of-type {\n",
       "        vertical-align: middle;\n",
       "    }\n",
       "\n",
       "    .dataframe tbody tr th {\n",
       "        vertical-align: top;\n",
       "    }\n",
       "\n",
       "    .dataframe thead th {\n",
       "        text-align: right;\n",
       "    }\n",
       "</style>\n",
       "<table border=\"1\" class=\"dataframe\">\n",
       "  <thead>\n",
       "    <tr style=\"text-align: right;\">\n",
       "      <th></th>\n",
       "      <th>word</th>\n",
       "      <th>freq</th>\n",
       "      <th>rank</th>\n",
       "      <th>rankfreq</th>\n",
       "    </tr>\n",
       "  </thead>\n",
       "  <tbody>\n",
       "    <tr>\n",
       "      <th>1</th>\n",
       "      <td>the</td>\n",
       "      <td>580</td>\n",
       "      <td>1.0</td>\n",
       "      <td>580.0</td>\n",
       "    </tr>\n",
       "    <tr>\n",
       "      <th>4</th>\n",
       "      <td>of</td>\n",
       "      <td>438</td>\n",
       "      <td>2.0</td>\n",
       "      <td>876.0</td>\n",
       "    </tr>\n",
       "    <tr>\n",
       "      <th>8</th>\n",
       "      <td>a</td>\n",
       "      <td>301</td>\n",
       "      <td>3.0</td>\n",
       "      <td>903.0</td>\n",
       "    </tr>\n",
       "    <tr>\n",
       "      <th>12</th>\n",
       "      <td>in</td>\n",
       "      <td>263</td>\n",
       "      <td>4.0</td>\n",
       "      <td>1052.0</td>\n",
       "    </tr>\n",
       "    <tr>\n",
       "      <th>54</th>\n",
       "      <td>to</td>\n",
       "      <td>252</td>\n",
       "      <td>5.0</td>\n",
       "      <td>1260.0</td>\n",
       "    </tr>\n",
       "    <tr>\n",
       "      <th>...</th>\n",
       "      <td>...</td>\n",
       "      <td>...</td>\n",
       "      <td>...</td>\n",
       "      <td>...</td>\n",
       "    </tr>\n",
       "    <tr>\n",
       "      <th>1171</th>\n",
       "      <td>jordan</td>\n",
       "      <td>1</td>\n",
       "      <td>1490.0</td>\n",
       "      <td>1490.0</td>\n",
       "    </tr>\n",
       "    <tr>\n",
       "      <th>1172</th>\n",
       "      <td>steyvers</td>\n",
       "      <td>1</td>\n",
       "      <td>1490.0</td>\n",
       "      <td>1490.0</td>\n",
       "    </tr>\n",
       "    <tr>\n",
       "      <th>1173</th>\n",
       "      <td>griffiths</td>\n",
       "      <td>1</td>\n",
       "      <td>1490.0</td>\n",
       "      <td>1490.0</td>\n",
       "    </tr>\n",
       "    <tr>\n",
       "      <th>1175</th>\n",
       "      <td>dumais</td>\n",
       "      <td>1</td>\n",
       "      <td>1490.0</td>\n",
       "      <td>1490.0</td>\n",
       "    </tr>\n",
       "    <tr>\n",
       "      <th>1961</th>\n",
       "      <td>views</td>\n",
       "      <td>1</td>\n",
       "      <td>1490.0</td>\n",
       "      <td>1490.0</td>\n",
       "    </tr>\n",
       "  </tbody>\n",
       "</table>\n",
       "<p>1962 rows × 4 columns</p>\n",
       "</div>"
      ],
      "text/plain": [
       "           word  freq    rank  rankfreq\n",
       "1           the   580     1.0     580.0\n",
       "4            of   438     2.0     876.0\n",
       "8             a   301     3.0     903.0\n",
       "12           in   263     4.0    1052.0\n",
       "54           to   252     5.0    1260.0\n",
       "...         ...   ...     ...       ...\n",
       "1171     jordan     1  1490.0    1490.0\n",
       "1172   steyvers     1  1490.0    1490.0\n",
       "1173  griffiths     1  1490.0    1490.0\n",
       "1175     dumais     1  1490.0    1490.0\n",
       "1961      views     1  1490.0    1490.0\n",
       "\n",
       "[1962 rows x 4 columns]"
      ]
     },
     "execution_count": 206,
     "metadata": {},
     "output_type": "execute_result"
    }
   ],
   "source": [
    "df['rankfreq'] = df['rank']*df['freq']\n",
    "df"
   ]
  },
  {
   "cell_type": "code",
   "execution_count": 210,
   "id": "460d833c",
   "metadata": {},
   "outputs": [
    {
     "data": {
      "text/plain": [
       "<AxesSubplot:xlabel='rank', ylabel='rankfreq'>"
      ]
     },
     "execution_count": 210,
     "metadata": {},
     "output_type": "execute_result"
    },
    {
     "data": {
      "image/png": "[encoded data removed]",
      "text/plain": [
       "<Figure size 432x288 with 1 Axes>"
      ]
     },
     "metadata": {
      "needs_background": "light"
     },
     "output_type": "display_data"
    }
   ],
   "source": [
    "df.plot(x=\"rank\", y=\"rankfreq\", kind = 'scatter', loglog = True)"
   ]
  },
  {
   "cell_type": "markdown",
   "id": "9cc1f925",
   "metadata": {},
   "source": [
    "# Text similarity"
   ]
  },
  {
   "cell_type": "code",
   "execution_count": 117,
   "id": "9406b84b",
   "metadata": {},
   "outputs": [],
   "source": [
    "text_0 = open('Text_0.txt', 'r').read().lower()\n",
    "text_0 = re.sub(r'[0-9\\.]+', '', text_0)\n",
    "tokenizer = nltk.RegexpTokenizer(r\"\\w+\")\n",
    "new_text_0 = tokenizer.tokenize(text_0)\n",
    "cleaned_0 = []\n",
    "for i in new_text_0:\n",
    "    if len(i)> 1 or i == \"a\":\n",
    "        cleaned_0.append(i)"
   ]
  },
  {
   "cell_type": "code",
   "execution_count": 118,
   "id": "56079a13",
   "metadata": {},
   "outputs": [],
   "source": [
    "text_1 = open('Text_1.txt', 'r').read().lower()\n",
    "text_1 = re.sub(r'[0-9\\.]+', '', text_1)\n",
    "new_text_1 = tokenizer.tokenize(text_1)\n",
    "cleaned_1 = []\n",
    "for i in new_text_1:\n",
    "    if len(i)> 1 or i == \"a\":\n",
    "        cleaned_1.append(i)\n"
   ]
  },
  {
   "cell_type": "code",
   "execution_count": 119,
   "id": "95a084be",
   "metadata": {},
   "outputs": [],
   "source": [
    "text_2 = open('Text_2.txt', 'r').read().lower()\n",
    "text_2 = re.sub(r'[0-9\\.]+', '', text_2)\n",
    "new_text_2 = tokenizer.tokenize(text_2)\n",
    "cleaned_2 = []\n",
    "for i in new_text_2:\n",
    "    if len(i)> 1 or i == \"a\":\n",
    "        cleaned_2.append(i)\n"
   ]
  },
  {
   "cell_type": "code",
   "execution_count": 120,
   "id": "61cae5d3",
   "metadata": {},
   "outputs": [],
   "source": [
    "t0 = set(cleaned_0)\n",
    "t1 = set(cleaned_1)\n",
    "t2 = set(cleaned_2)"
   ]
  },
  {
   "cell_type": "code",
   "execution_count": 121,
   "id": "07f2f5b8",
   "metadata": {},
   "outputs": [],
   "source": [
    "W = t0.union(t1,t2)"
   ]
  },
  {
   "cell_type": "code",
   "execution_count": 122,
   "id": "beddc368",
   "metadata": {},
   "outputs": [],
   "source": [
    "def tokdic(T):\n",
    "    tokdic_Di = {}\n",
    "    for elem in W:\n",
    "        if elem in T:\n",
    "            tokdic_Di[elem] = 1\n",
    "        else:\n",
    "            tokdic_Di[elem] = 0\n",
    "    return tokdic_Di"
   ]
  },
  {
   "cell_type": "code",
   "execution_count": 90,
   "id": "de24fb77",
   "metadata": {},
   "outputs": [],
   "source": [
    "t0_dic = tokdic(t0)\n",
    "t1_dic = tokdic(t1)\n",
    "t2_dic = tokdic(t2)"
   ]
  },
  {
   "cell_type": "markdown",
   "id": "6601ba58",
   "metadata": {},
   "source": [
    "# Euclidean distance"
   ]
  },
  {
   "cell_type": "code",
   "execution_count": 123,
   "id": "014a82cb",
   "metadata": {},
   "outputs": [],
   "source": [
    "def euclidean_distance(W1, W2):\n",
    "    w1 = list(W1.values())\n",
    "    w2 = list(W2.values())\n",
    "    return sqrt(sum([(a-b)**2 for a,b in zip(w1,w2)]))"
   ]
  },
  {
   "cell_type": "code",
   "execution_count": 124,
   "id": "987e348b",
   "metadata": {},
   "outputs": [
    {
     "data": {
      "text/plain": [
       "(12.449899597988733, 15.0996688705415, 14.730919862656235, 0.0)"
      ]
     },
     "execution_count": 124,
     "metadata": {},
     "output_type": "execute_result"
    }
   ],
   "source": [
    "euclidean_distance(t0_dic, t1_dic), euclidean_distance(t0_dic, t2_dic), euclidean_distance(t1_dic, t2_dic), euclidean_distance(t0_dic, t0_dic)"
   ]
  },
  {
   "cell_type": "markdown",
   "id": "26e8a21c",
   "metadata": {},
   "source": [
    "# Cosine similarity"
   ]
  },
  {
   "cell_type": "code",
   "execution_count": 125,
   "id": "854aad60",
   "metadata": {},
   "outputs": [],
   "source": [
    "def dot_prod(W1, W2):\n",
    "    w1 = list(W1.values())\n",
    "    w2 = list(W2.values())\n",
    "    return sum([(a*b) for a,b in zip(w1,w2)])"
   ]
  },
  {
   "cell_type": "code",
   "execution_count": 126,
   "id": "634f6909",
   "metadata": {},
   "outputs": [],
   "source": [
    "from math import sqrt\n",
    "def vector_length(W1):\n",
    "    return sqrt(sum([v*v for k,v in W1.items()]))"
   ]
  },
  {
   "cell_type": "code",
   "execution_count": 127,
   "id": "decddc9a",
   "metadata": {},
   "outputs": [],
   "source": [
    "def cosine(W1, W2):\n",
    "    return (dot_prod(W1,W2)/(vector_length(W1)*vector_length(W2)))"
   ]
  },
  {
   "cell_type": "code",
   "execution_count": 128,
   "id": "d115157a",
   "metadata": {},
   "outputs": [
    {
     "data": {
      "text/plain": [
       "(0.21320071635561044, 0.23207912345911294, 0.2741985376901854, 1.0)"
      ]
     },
     "execution_count": 128,
     "metadata": {},
     "output_type": "execute_result"
    }
   ],
   "source": [
    "cosine(t0_dic, t1_dic), cosine(t0_dic, t2_dic), cosine(t1_dic, t2_dic), cosine(t0_dic, t0_dic)"
   ]
  },
  {
   "cell_type": "markdown",
   "id": "d278b726",
   "metadata": {},
   "source": [
    "# Jaccard score"
   ]
  },
  {
   "cell_type": "code",
   "execution_count": 129,
   "id": "37a6fb0b",
   "metadata": {},
   "outputs": [],
   "source": [
    "Int_01 = len(set(t0).intersection(t1))\n",
    "Int_02 = len(set(t0).intersection(t2))\n",
    "Int_12 = len(set(t1).intersection(t2))"
   ]
  },
  {
   "cell_type": "code",
   "execution_count": 98,
   "id": "96b38ef2",
   "metadata": {},
   "outputs": [
    {
     "data": {
      "text/plain": [
       "(21, 32, 38)"
      ]
     },
     "execution_count": 98,
     "metadata": {},
     "output_type": "execute_result"
    }
   ],
   "source": [
    "Int_01, Int_02, Int_12"
   ]
  },
  {
   "cell_type": "code",
   "execution_count": 99,
   "id": "5b550767",
   "metadata": {},
   "outputs": [],
   "source": [
    "Uni_01 = len((t0.union(t1)))\n",
    "Uni_02 = len((t0.union(t2)))\n",
    "Uni_12 = len((t1.union(t2)))"
   ]
  },
  {
   "cell_type": "code",
   "execution_count": 100,
   "id": "de5c070a",
   "metadata": {},
   "outputs": [
    {
     "data": {
      "text/plain": [
       "(176, 260, 255)"
      ]
     },
     "execution_count": 100,
     "metadata": {},
     "output_type": "execute_result"
    }
   ],
   "source": [
    "Uni_01, Uni_02, Uni_12"
   ]
  },
  {
   "cell_type": "code",
   "execution_count": 101,
   "id": "f7aba05a",
   "metadata": {},
   "outputs": [],
   "source": [
    "from __future__ import division"
   ]
  },
  {
   "cell_type": "code",
   "execution_count": 102,
   "id": "4d18ee89",
   "metadata": {},
   "outputs": [],
   "source": [
    "J_01 = Int_01 / Uni_01\n",
    "J_02 = Int_02 / Uni_02\n",
    "J_12 = Int_12 / Uni_12\n"
   ]
  },
  {
   "cell_type": "code",
   "execution_count": 103,
   "id": "5f557ad6",
   "metadata": {},
   "outputs": [
    {
     "data": {
      "text/plain": [
       "(0.11931818181818182, 0.12307692307692308, 0.14901960784313725)"
      ]
     },
     "execution_count": 103,
     "metadata": {},
     "output_type": "execute_result"
    }
   ],
   "source": [
    "J_01, J_02, J_12"
   ]
  },
  {
   "cell_type": "markdown",
   "id": "ebd92c42",
   "metadata": {},
   "source": [
    "In the given case, cosine similarity and Jaccard score yield correct results. \n",
    "The texts that are actually similar have different length and the texts of the same length are not similar. \n",
    "Euclidean distance propritises magnitude of the vectors and thus, sees the texts of the same length more similar. In our case, it gives wrong impression about actual similarity."
   ]
  }
 ],
 "metadata": {
  "kernelspec": {
   "display_name": "Python 3 (ipykernel)",
   "language": "python",
   "name": "python3"
  },
  "language_info": {
   "codemirror_mode": {
    "name": "ipython",
    "version": 3
   },
   "file_extension": ".py",
   "mimetype": "text/x-python",
   "name": "python",
   "nbconvert_exporter": "python",
   "pygments_lexer": "ipython3",
   "version": "3.9.5"
  }
 },
 "nbformat": 4,
 "nbformat_minor": 5
}
