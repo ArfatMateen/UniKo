{
 "cells": [
  {
   "cell_type": "code",
   "execution_count": 5,
   "id": "f34651ba",
   "metadata": {},
   "outputs": [],
   "source": [
    "import random\n",
    "import numpy as np\n",
    "import matplotlib.pyplot as plt"
   ]
  },
  {
   "cell_type": "code",
   "execution_count": 9,
   "id": "dacfcea8",
   "metadata": {},
   "outputs": [
    {
     "name": "stdout",
     "output_type": "stream",
     "text": [
      "SIN: [0.68199836 0.60181502 0.22495105 0.42261826 0.97029573 0.90630779\n",
      " 0.34202014 0.88294759 0.94551858 0.05233596]\n",
      "COS: [0.7313537  0.79863551 0.97437006 0.90630779 0.2419219  0.42261826\n",
      " 0.93969262 0.46947156 0.32556815 0.99862953]\n"
     ]
    },
    {
     "data": {
      "image/png": "[encoded data removed]",
      "text/plain": [
       "<Figure size 432x288 with 1 Axes>"
      ]
     },
     "metadata": {
      "needs_background": "light"
     },
     "output_type": "display_data"
    }
   ],
   "source": [
    "rannum=random.sample(range(0,80),10) \n",
    "pi = np.pi\n",
    "\n",
    "#convert degrees to radians\n",
    "X = [(float(x) * pi)/180 for x in rannum]\n",
    "COS = np.cos(X) \n",
    "SIN = np.sin(X)\n",
    "\n",
    "print (\"SIN:\", SIN) \n",
    "print (\"COS:\", COS)\n",
    "\n",
    "plt.plot(rannum,SIN, 'ko') \n",
    "plt.plot(rannum,COS, 'ro')\n",
    "plt.xlabel('x [deg]')\n",
    "plt.ylabel('y')\n",
    "plt.legend(['sin', 'cos'], loc='upper right') \n",
    "plt.ylim(0,1)\n",
    "plt.xlim(0,90)\n",
    "\n",
    "\n"
   ]
  },
  {
   "cell_type": "code",
   "execution_count": 4,
   "id": "5b591721",
   "metadata": {},
   "outputs": [
    {
     "name": "stdout",
     "output_type": "stream",
     "text": [
      "Character Count: {'m': 8, 'o': 31, 'r': 22, 'e': 47, ' ': 71, 'a': 35, 'n': 41, 'd': 14, 'c': 15, 'p': 13, 'i': 54, 's': 28, 't': 42, 'h': 14, 'b': 10, 'f': 12, 'l': 21, 'g': 12, 'u': 13, 'w': 3, 'v': 3, '.': 3, 'y': 8, 'x': 2, ',': 1, 'k': 1}\n"
     ]
    },
    {
     "data": {
      "image/png": "[encoded data removed]",
      "text/plain": [
       "<Figure size 432x288 with 1 Axes>"
      ]
     },
     "metadata": {
      "needs_background": "light"
     },
     "output_type": "display_data"
    }
   ],
   "source": [
    "file = open('sample.txt','r') \n",
    "text = file.read()\n",
    "\n",
    "#creating a dictionary\n",
    "charcount = {i:text.count(i) for i in text}\n",
    "\n",
    "print (\"Character Count:\", charcount)\n",
    "\n",
    "plt.bar(range(len(charcount)), charcount.values(), align='center') \n",
    "plt.xticks(range(len(charcount)), list(charcount.keys())) \n",
    "plt.xlabel('character distribution')\n",
    "plt.ylabel('frequency')\n"
   ]
  },
  {
   "cell_type": "code",
   "execution_count": null,
   "id": "f32f325e",
   "metadata": {},
   "outputs": [],
   "source": []
  },
  {
   "cell_type": "code",
   "execution_count": null,
   "id": "90394460",
   "metadata": {},
   "outputs": [],
   "source": []
  },
  {
   "cell_type": "code",
   "execution_count": null,
   "id": "e4ba73bc",
   "metadata": {},
   "outputs": [],
   "source": []
  }
 ],
 "metadata": {
  "kernelspec": {
   "display_name": "Python 3 (ipykernel)",
   "language": "python",
   "name": "python3"
  },
  "language_info": {
   "codemirror_mode": {
    "name": "ipython",
    "version": 3
   },
   "file_extension": ".py",
   "mimetype": "text/x-python",
   "name": "python",
   "nbconvert_exporter": "python",
   "pygments_lexer": "ipython3",
   "version": "3.9.5"
  }
 },
 "nbformat": 4,
 "nbformat_minor": 5
}
