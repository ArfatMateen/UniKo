{
 "cells": [
  {
   "cell_type": "markdown",
   "metadata": {},
   "source": [
    "# Exercise 1"
   ]
  },
  {
   "cell_type": "code",
   "execution_count": 1,
   "metadata": {
    "scrolled": true
   },
   "outputs": [],
   "source": [
    "import re\n",
    "import pandas as pd\n",
    "import numpy as np\n",
    "from collections import defaultdict\n",
    "import time"
   ]
  },
  {
   "cell_type": "code",
   "execution_count": 2,
   "metadata": {},
   "outputs": [],
   "source": [
    "df=pd.read_csv(\"onlyhash.data\",index_col=None, sep=\"\\t\",names=[\"user\",\"date\",\"hashtag\"])"
   ]
  },
  {
   "cell_type": "code",
   "execution_count": 14,
   "metadata": {},
   "outputs": [],
   "source": [
    "df=df[~df.user.str.startswith(\"#\")]"
   ]
  },
  {
   "cell_type": "code",
   "execution_count": 15,
   "metadata": {},
   "outputs": [
    {
     "name": "stderr",
     "output_type": "stream",
     "text": [
      "/opt/conda/lib/python3.9/site-packages/pandas/core/frame.py:3607: SettingWithCopyWarning: \n",
      "A value is trying to be set on a copy of a slice from a DataFrame.\n",
      "Try using .loc[row_indexer,col_indexer] = value instead\n",
      "\n",
      "See the caveats in the documentation: https://pandas.pydata.org/pandas-docs/stable/user_guide/indexing.html#returning-a-view-versus-a-copy\n",
      "  self._set_item(key, value)\n"
     ]
    }
   ],
   "source": [
    "regex = re.compile('[:,\\.!?]')\n",
    "df[\"hashtag\"]=df.hashtag.apply(lambda x: regex.sub(\"\",x))"
   ]
  },
  {
   "cell_type": "code",
   "execution_count": 17,
   "metadata": {},
   "outputs": [],
   "source": [
    "user_group=df.groupby(by=\"user\")\n",
    "dif_days=df.groupby(by=\"date\")"
   ]
  },
  {
   "cell_type": "code",
   "execution_count": 23,
   "metadata": {
    "scrolled": true
   },
   "outputs": [],
   "source": [
    "i = 1\n",
    "\n",
    "entr_d_i = defaultdict(dict)\n",
    "entropy_sys = {}\n",
    "\n",
    "for date_i, date_data in dif_days:\n",
    "    user_group = date_data.groupby(by=\"user\")  \n",
    "        \n",
    "    #system entropy\n",
    "    freq_meme_list = date_data.groupby(by=\"hashtag\").count().user.values / float(len(date_data))\n",
    "    entropy_sys[date_i] = -1 * sum(freq_meme_list * np.log(freq_meme_list))\n",
    "    #user entropy\n",
    "    for user_name, user_data in user_group:        \n",
    "        n = len(user_data)\n",
    "        \n",
    "        if n == 1:\n",
    "            entr_d_i[date_i][user_name] = 0.0\n",
    "        else:    \n",
    "            memes = user_data.hashtag.unique()\n",
    "            if len(memes) == n:\n",
    "                entr_d_i[date_i][user_name] = np.log(n)\n",
    "            elif len(memes) == 1:\n",
    "                entr_d_i[date_i][user_name] = 0.0\n",
    "            else:\n",
    "                f_u_list = user_data.groupby(by=\"hashtag\").count().user.values / float(n)\n",
    "                entr_d_i[date_i][user_name] = -1 * sum(f_u_list * np.log(f_u_list))\n",
    "    i += 1"
   ]
  },
  {
   "cell_type": "code",
   "execution_count": null,
   "metadata": {},
   "outputs": [],
   "source": []
  },
  {
   "cell_type": "code",
   "execution_count": 24,
   "metadata": {},
   "outputs": [],
   "source": [
    "#average user entropy\n",
    "userbased_entropy = {}\n",
    "for date_i in entr_d_i:\n",
    "    w1 = list(entr_d_i[date_i].values())\n",
    "    userbased_entropy[date_i] = np.mean(w1)"
   ]
  },
  {
   "cell_type": "code",
   "execution_count": 25,
   "metadata": {
    "scrolled": true
   },
   "outputs": [],
   "source": [
    "#ranking days\n",
    "r = [(rank,entropy_sys[key],key) for rank, key in enumerate(sorted(entropy_sys, key = entropy_sys.get), 1)]\n",
    "x,y,z = zip(*r)\n",
    "u_y = [userbased_entropy[k] for k in z]"
   ]
  },
  {
   "cell_type": "code",
   "execution_count": 26,
   "metadata": {
    "scrolled": true
   },
   "outputs": [
    {
     "name": "stdout",
     "output_type": "stream",
     "text": [
      "Populating the interactive namespace from numpy and matplotlib\n"
     ]
    },
    {
     "data": {
      "image/png": "[encoded data removed]",
      "text/plain": [
       "<Figure size 576x360 with 1 Axes>"
      ]
     },
     "metadata": {
      "needs_background": "light"
     },
     "output_type": "display_data"
    }
   ],
   "source": [
    "%pylab inline \n",
    "plt.figure(figsize=(8,5))\n",
    "plt.plot(x[50:], y[50:], \"r\", label=\"System entropy\")\n",
    "plt.plot(x[50:], u_y[50:], \".b\", label=\"Average user entropy\")\n",
    "\n",
    "plt.ylabel(\"Entropy\")\n",
    "plt.xlabel(\"Ranked days\")\n",
    "plt.legend();"
   ]
  },
  {
   "cell_type": "code",
   "execution_count": null,
   "metadata": {},
   "outputs": [],
   "source": []
  }
 ],
 "metadata": {
  "kernelspec": {
   "display_name": "Python 3 (ipykernel)",
   "language": "python",
   "name": "python3"
  },
  "language_info": {
   "codemirror_mode": {
    "name": "ipython",
    "version": 3
   },
   "file_extension": ".py",
   "mimetype": "text/x-python",
   "name": "python",
   "nbconvert_exporter": "python",
   "pygments_lexer": "ipython3",
   "version": "3.9.5"
  }
 },
 "nbformat": 4,
 "nbformat_minor": 1
}
