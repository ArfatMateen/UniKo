{
 "cells": [
  {
   "cell_type": "code",
   "execution_count": 1,
   "id": "c8d099be",
   "metadata": {},
   "outputs": [],
   "source": [
    "import re\n",
    "import numpy as np\n",
    "import pandas as pd\n",
    "from collections import defaultdict\n",
    "import time\n",
    "import matplotlib.pyplot as plt"
   ]
  },
  {
   "cell_type": "code",
   "execution_count": 2,
   "id": "40e04b0b",
   "metadata": {},
   "outputs": [],
   "source": [
    "df = pd.read_csv(\"onlyhash.data\", index_col = None, sep = \"\\t\", names = [\"user\", \"date\", \"hashtag\"])"
   ]
  },
  {
   "cell_type": "code",
   "execution_count": 3,
   "id": "9c8b9069",
   "metadata": {},
   "outputs": [],
   "source": [
    "df = df[~df.user.str.startswith(\"#\")]"
   ]
  },
  {
   "cell_type": "code",
   "execution_count": 4,
   "id": "18790b85",
   "metadata": {},
   "outputs": [],
   "source": [
    "pattern = re.compile('[:,\\.!?]')\n",
    "\n",
    "df[\"hashtag\"] = df.hashtag.apply(lambda x: pattern.sub(\"\", x))"
   ]
  },
  {
   "cell_type": "code",
   "execution_count": 5,
   "id": "cae10ade",
   "metadata": {},
   "outputs": [],
   "source": [
    "user_group = df.groupby(by = \"user\")\n",
    "dif_days = df.groupby(by = \"date\")"
   ]
  },
  {
   "cell_type": "code",
   "execution_count": 6,
   "id": "4a4a2a87",
   "metadata": {},
   "outputs": [],
   "source": [
    "i = 1\n",
    "\n",
    "entr_d_i = defaultdict(dict)\n",
    "entropy_sys = {}\n",
    "\n",
    "for date_i, date_data in dif_days:\n",
    "    user_group = date_data.groupby(by = \"user\")  \n",
    "        \n",
    "    #system entropy\n",
    "    freq_meme_list = date_data.groupby(by = \"hashtag\").count().user.values / float(len(date_data))\n",
    "    entropy_sys[date_i] = -1 * sum(freq_meme_list * np.log(freq_meme_list))\n",
    "    \n",
    "    #user entropy\n",
    "    for user_name, user_data in user_group:        \n",
    "        n = len(user_data)\n",
    "        \n",
    "        if n == 1:\n",
    "            entr_d_i[date_i][user_name] = 0.0\n",
    "        else:    \n",
    "            memes = user_data.hashtag.unique()\n",
    "            if len(memes) == n:\n",
    "                entr_d_i[date_i][user_name] = np.log(n)\n",
    "            elif len(memes) == 1:\n",
    "                entr_d_i[date_i][user_name] = 0.0\n",
    "            else:\n",
    "                f_u_list = user_data.groupby(by=\"hashtag\").count().user.values / float(n)\n",
    "                entr_d_i[date_i][user_name] = -1 * sum(f_u_list * np.log(f_u_list))\n",
    "    \n",
    "    i += 1"
   ]
  },
  {
   "cell_type": "code",
   "execution_count": 7,
   "id": "763fa286",
   "metadata": {},
   "outputs": [],
   "source": [
    "#average user entropy\n",
    "userbased_entropy = {}\n",
    "for date_i in entr_d_i:\n",
    "    w1 = list(entr_d_i[date_i].values())\n",
    "    userbased_entropy[date_i] = np.mean(w1)"
   ]
  },
  {
   "cell_type": "code",
   "execution_count": 8,
   "id": "13dc97e3",
   "metadata": {
    "scrolled": false
   },
   "outputs": [],
   "source": [
    "#ranking days\n",
    "r = [(rank,entropy_sys[key],key) for rank, key in enumerate(sorted(entropy_sys, key = entropy_sys.get), 1)]\n",
    "x,y,z = zip(*r)\n",
    "u_y = [userbased_entropy[k] for k in z]"
   ]
  },
  {
   "cell_type": "code",
   "execution_count": 9,
   "id": "5c3d3e3a",
   "metadata": {},
   "outputs": [
    {
     "data": {
      "image/png": "[encoded data removed]",
      "text/plain": [
       "<Figure size 720x432 with 1 Axes>"
      ]
     },
     "metadata": {
      "needs_background": "light"
     },
     "output_type": "display_data"
    }
   ],
   "source": [
    "fig = plt.figure(figsize=(10, 6))\n",
    "ax = fig.add_axes([0,0,1,1])\n",
    "\n",
    "ax.plot(x[50:], y[50:], \"r\", label=\"System entropy\")\n",
    "ax.plot(x[50:], u_y[50:], \".b\", label=\"Average user entropy\")\n",
    "\n",
    "ax.set_ylabel(\"Entropy\")\n",
    "ax.set_xlabel(\"Ranked days\")\n",
    "ax.legend()\n",
    "ax.grid(alpha = 0.2)"
   ]
  },
  {
   "cell_type": "code",
   "execution_count": null,
   "id": "9a247281",
   "metadata": {},
   "outputs": [],
   "source": []
  }
 ],
 "metadata": {
  "kernelspec": {
   "display_name": "Python 3 (ipykernel)",
   "language": "python",
   "name": "python3"
  },
  "language_info": {
   "codemirror_mode": {
    "name": "ipython",
    "version": 3
   },
   "file_extension": ".py",
   "mimetype": "text/x-python",
   "name": "python",
   "nbconvert_exporter": "python",
   "pygments_lexer": "ipython3",
   "version": "3.9.5"
  }
 },
 "nbformat": 4,
 "nbformat_minor": 5
}
